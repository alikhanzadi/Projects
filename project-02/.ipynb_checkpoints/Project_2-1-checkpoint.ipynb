{
 "cells": [
  {
   "cell_type": "markdown",
   "metadata": {},
   "source": [
    "# Project 2:  Lucid Titanic Sleuthing"
   ]
  },
  {
   "cell_type": "markdown",
   "metadata": {},
   "source": [
    "## Part 1: Developing an understanding of the data"
   ]
  },
  {
   "cell_type": "markdown",
   "metadata": {},
   "source": [
    "#### Based on the description of the data you read in the readme describe in your own words this data."
   ]
  },
  {
   "cell_type": "markdown",
   "metadata": {
    "collapsed": true
   },
   "source": [
    "There are two datasets that represents information about passangers and the crew of two ships, Titanic and Lusitania, and the fate of them, whether they survived or not."
   ]
  },
  {
   "cell_type": "markdown",
   "metadata": {},
   "source": [
    "#### Based on our conceptual understanding of the columns in this data set.  What are the reasonable range of the values for the Sex, Age, SibSp, Parch columns."
   ]
  },
  {
   "cell_type": "code",
   "execution_count": 3,
   "metadata": {
    "collapsed": false
   },
   "outputs": [
    {
     "data": {
      "application/javascript": [
       "IPython.notebook.set_autosave_interval(600000)"
      ]
     },
     "metadata": {},
     "output_type": "display_data"
    },
    {
     "name": "stdout",
     "output_type": "stream",
     "text": [
      "Autosaving every 600 seconds\n"
     ]
    }
   ],
   "source": [
    "%autosave 600"
   ]
  },
  {
   "cell_type": "markdown",
   "metadata": {},
   "source": [
    "### Open the data in sublime text is there anything that jumps out to you?"
   ]
  },
  {
   "cell_type": "code",
   "execution_count": null,
   "metadata": {
    "collapsed": true
   },
   "outputs": [],
   "source": []
  },
  {
   "cell_type": "markdown",
   "metadata": {},
   "source": [
    "## Part 2: reading the data in"
   ]
  },
  {
   "cell_type": "code",
   "execution_count": 84,
   "metadata": {
    "collapsed": false
   },
   "outputs": [],
   "source": [
    "Lus_Age_Uniq = Lusitania_df['Age'].unique()\n",
    "List_Bad_Char = [list(str(x)) for x in Lus_Age_Uniq]\n",
    "finallist = []\n",
    "for a in List_Bad_Char:\n",
    "    for b in range(len(a)):\n",
    "        c = a[b]\n",
    "        finallist.append(c)\n",
    "myset = set(finallist)\n",
    "#myset\n",
    "\n"
   ]
  },
  {
   "cell_type": "markdown",
   "metadata": {},
   "source": [
    "#### Now read the data into a Pandas DataFrame"
   ]
  },
  {
   "cell_type": "code",
   "execution_count": 74,
   "metadata": {
    "collapsed": true
   },
   "outputs": [],
   "source": [
    "titanic_data_location = 'assets/titanic.csv'\n",
    "lusitania_data_location = 'assets/lusitania.csv'\n",
    "import pandas as pd\n",
    "import numpy as np\n",
    "Titanic_df = pd.read_csv(titanic_data_location)\n",
    "Lusitania_df = pd.read_csv(lusitania_data_location)"
   ]
  },
  {
   "cell_type": "code",
   "execution_count": 46,
   "metadata": {
    "collapsed": false
   },
   "outputs": [
    {
     "name": "stdout",
     "output_type": "stream",
     "text": [
      "pclass         int64\n",
      "survived       int64\n",
      "name          object\n",
      "sex           object\n",
      "age          float64\n",
      "sibsp          int64\n",
      "parch          int64\n",
      "ticket        object\n",
      "fare         float64\n",
      "cabin         object\n",
      "embarked      object\n",
      "boat          object\n",
      "body         float64\n",
      "home.dest     object\n",
      "dtype: object\n",
      "(1309, 14)\n"
     ]
    }
   ],
   "source": [
    "print (Titanic_df.dtypes)\n",
    "print (Titanic_df.shape)"
   ]
  },
  {
   "cell_type": "code",
   "execution_count": 21,
   "metadata": {
    "collapsed": false
   },
   "outputs": [],
   "source": [
    "Titan_columns_of_interest = ['pclass', 'sruvived', 'sex', 'age', 'parch', 'cabin','boat','home.dest']"
   ]
  },
  {
   "cell_type": "markdown",
   "metadata": {},
   "source": [
    "#### Check that the age column doesn't have any unreasonable values "
   ]
  },
  {
   "cell_type": "code",
   "execution_count": 22,
   "metadata": {
    "collapsed": false
   },
   "outputs": [
    {
     "name": "stdout",
     "output_type": "stream",
     "text": [
      "[ 29.     0.92   2.    30.    25.    48.    63.    39.    53.    71.    47.\n",
      "  18.    24.    26.    80.      nan  50.    32.    36.    37.    42.    19.\n",
      "  35.    28.    45.    40.    58.    22.    41.    44.    59.    60.    33.\n",
      "  17.    11.    14.    49.    76.    46.    27.    64.    55.    70.    38.\n",
      "  51.    31.     4.    54.    23.    43.    52.    16.    32.5   21.    15.\n",
      "  65.    28.5   45.5   56.    13.    61.    34.     6.    57.    62.    67.\n",
      "   1.    12.    20.     0.83   8.     0.67   7.     3.    36.5   18.5    5.\n",
      "  66.     9.     0.75  70.5   22.5    0.33   0.17  40.5   10.    23.5   34.5\n",
      "  20.5   30.5   55.5   38.5   14.5   24.5   60.5   74.     0.42  11.5   26.5 ]\n"
     ]
    }
   ],
   "source": [
    "print (Titanic_df['age'].unique())"
   ]
  },
  {
   "cell_type": "markdown",
   "metadata": {},
   "source": [
    "There are null values in the age column. It appears that for ages under 1 year, the data is year form which is consistant with the rest of the data."
   ]
  },
  {
   "cell_type": "code",
   "execution_count": 10,
   "metadata": {
    "collapsed": false
   },
   "outputs": [
    {
     "name": "stdout",
     "output_type": "stream",
     "text": [
      "['38' '37' '30' '25' '27' '48' nan '24' '19 ?' '57' '50' '56' '41' '19'\n",
      " '33' '29' '18' '20' '21' '26' '17' '58' '47' '54' '35' '43' '59' '53' '44'\n",
      " '51' '40' '49' '42' '32' '31' '34' '22' '45' '36' '29 ?' '52' '23' '60'\n",
      " '28' '16' '46' '15' '39' '63 ?' '55' '64' '53 ?' '09-months' '6' '9' '14'\n",
      " '10' '12' '?' '62' '5' '8' '65' '68' '76' '61' '63' '03-months' '1.5'\n",
      " '2.5' '18-months' '3' '2' '25 ?' '08-months' '4' '15-months' '14-months'\n",
      " 'Infant' '3-6-months ?' '51 or 47' '45 or 51' '22 (?)' '17-months'\n",
      " '13-months' '02-months' '49 ?' '05-months' '11' '59 (64?)' '63 (51?)'\n",
      " '37 (39?)' '32 (22?)' '31 (32?)' '24 (23?)' '27?' '7' '42?' '31 ?'\n",
      " '10-months' '38 (?)' '70' '62 (?)' '06-months' '13' '2_' '11-months'\n",
      " '30 ?' '34?' '1' '39 (47?)' '67' '73' '72' '11-months (3?)' '4.25' '69'\n",
      " '26?' '54?' '21?' '16 ?']\n"
     ]
    }
   ],
   "source": [
    "print (Lusitania_df['Age'].unique())"
   ]
  },
  {
   "cell_type": "markdown",
   "metadata": {},
   "source": [
    "Lusitania's values under the age column are very messy. In addition to null data it has special characters, word 'month' and some with amb"
   ]
  },
  {
   "cell_type": "markdown",
   "metadata": {},
   "source": [
    "#### Check for missing values.  How do you know that a value is missing?"
   ]
  },
  {
   "cell_type": "code",
   "execution_count": 47,
   "metadata": {
    "collapsed": false,
    "scrolled": false
   },
   "outputs": [
    {
     "data": {
      "text/html": [
       "<div>\n",
       "<table border=\"1\" class=\"dataframe\">\n",
       "  <thead>\n",
       "    <tr style=\"text-align: right;\">\n",
       "      <th></th>\n",
       "      <th>pclass</th>\n",
       "      <th>survived</th>\n",
       "      <th>name</th>\n",
       "      <th>sex</th>\n",
       "      <th>age</th>\n",
       "      <th>sibsp</th>\n",
       "      <th>parch</th>\n",
       "      <th>ticket</th>\n",
       "      <th>fare</th>\n",
       "      <th>cabin</th>\n",
       "      <th>embarked</th>\n",
       "      <th>boat</th>\n",
       "      <th>body</th>\n",
       "      <th>home.dest</th>\n",
       "    </tr>\n",
       "  </thead>\n",
       "  <tbody>\n",
       "    <tr>\n",
       "      <th>15</th>\n",
       "      <td>1</td>\n",
       "      <td>0</td>\n",
       "      <td>Baumann, Mr. John D</td>\n",
       "      <td>male</td>\n",
       "      <td>NaN</td>\n",
       "      <td>0</td>\n",
       "      <td>0</td>\n",
       "      <td>PC 17318</td>\n",
       "      <td>25.9250</td>\n",
       "      <td>NaN</td>\n",
       "      <td>S</td>\n",
       "      <td>NaN</td>\n",
       "      <td>NaN</td>\n",
       "      <td>New York, NY</td>\n",
       "    </tr>\n",
       "    <tr>\n",
       "      <th>37</th>\n",
       "      <td>1</td>\n",
       "      <td>1</td>\n",
       "      <td>Bradley, Mr. George (\"George Arthur Brayton\")</td>\n",
       "      <td>male</td>\n",
       "      <td>NaN</td>\n",
       "      <td>0</td>\n",
       "      <td>0</td>\n",
       "      <td>111427</td>\n",
       "      <td>26.5500</td>\n",
       "      <td>NaN</td>\n",
       "      <td>S</td>\n",
       "      <td>9</td>\n",
       "      <td>NaN</td>\n",
       "      <td>Los Angeles, CA</td>\n",
       "    </tr>\n",
       "    <tr>\n",
       "      <th>40</th>\n",
       "      <td>1</td>\n",
       "      <td>0</td>\n",
       "      <td>Brewe, Dr. Arthur Jackson</td>\n",
       "      <td>male</td>\n",
       "      <td>NaN</td>\n",
       "      <td>0</td>\n",
       "      <td>0</td>\n",
       "      <td>112379</td>\n",
       "      <td>39.6000</td>\n",
       "      <td>NaN</td>\n",
       "      <td>C</td>\n",
       "      <td>NaN</td>\n",
       "      <td>NaN</td>\n",
       "      <td>Philadelphia, PA</td>\n",
       "    </tr>\n",
       "    <tr>\n",
       "      <th>46</th>\n",
       "      <td>1</td>\n",
       "      <td>0</td>\n",
       "      <td>Cairns, Mr. Alexander</td>\n",
       "      <td>male</td>\n",
       "      <td>NaN</td>\n",
       "      <td>0</td>\n",
       "      <td>0</td>\n",
       "      <td>113798</td>\n",
       "      <td>31.0000</td>\n",
       "      <td>NaN</td>\n",
       "      <td>S</td>\n",
       "      <td>NaN</td>\n",
       "      <td>NaN</td>\n",
       "      <td>NaN</td>\n",
       "    </tr>\n",
       "    <tr>\n",
       "      <th>59</th>\n",
       "      <td>1</td>\n",
       "      <td>1</td>\n",
       "      <td>Cassebeer, Mrs. Henry Arthur Jr (Eleanor Genev...</td>\n",
       "      <td>female</td>\n",
       "      <td>NaN</td>\n",
       "      <td>0</td>\n",
       "      <td>0</td>\n",
       "      <td>17770</td>\n",
       "      <td>27.7208</td>\n",
       "      <td>NaN</td>\n",
       "      <td>C</td>\n",
       "      <td>5</td>\n",
       "      <td>NaN</td>\n",
       "      <td>New York, NY</td>\n",
       "    </tr>\n",
       "  </tbody>\n",
       "</table>\n",
       "</div>"
      ],
      "text/plain": [
       "    pclass  survived                                               name  \\\n",
       "15       1         0                                Baumann, Mr. John D   \n",
       "37       1         1      Bradley, Mr. George (\"George Arthur Brayton\")   \n",
       "40       1         0                          Brewe, Dr. Arthur Jackson   \n",
       "46       1         0                              Cairns, Mr. Alexander   \n",
       "59       1         1  Cassebeer, Mrs. Henry Arthur Jr (Eleanor Genev...   \n",
       "\n",
       "       sex  age  sibsp  parch    ticket     fare cabin embarked boat  body  \\\n",
       "15    male  NaN      0      0  PC 17318  25.9250   NaN        S  NaN   NaN   \n",
       "37    male  NaN      0      0    111427  26.5500   NaN        S    9   NaN   \n",
       "40    male  NaN      0      0    112379  39.6000   NaN        C  NaN   NaN   \n",
       "46    male  NaN      0      0    113798  31.0000   NaN        S  NaN   NaN   \n",
       "59  female  NaN      0      0     17770  27.7208   NaN        C    5   NaN   \n",
       "\n",
       "           home.dest  \n",
       "15      New York, NY  \n",
       "37   Los Angeles, CA  \n",
       "40  Philadelphia, PA  \n",
       "46               NaN  \n",
       "59      New York, NY  "
      ]
     },
     "execution_count": 47,
     "metadata": {},
     "output_type": "execute_result"
    }
   ],
   "source": [
    "Titanic_age_is_null = pd.isnull(Titanic_df['age'])\n",
    "Titanic_missing_ages = Titanic_df[Titanic_age_is_null==True]\n",
    "Titanic_missing_ages.head()"
   ]
  },
  {
   "cell_type": "markdown",
   "metadata": {},
   "source": [
    "#### Does it makes sense to guess at the value?"
   ]
  },
  {
   "cell_type": "markdown",
   "metadata": {
    "collapsed": false
   },
   "source": [
    "Out of 1308 entries, 263 do not have age information. That is about 20% of the\n",
    "data which could potentially throw off the analysis on age. However, guessing\n",
    "the age would not be advisable unless we insert the mean of the available data\n",
    "for all missing ages.'''"
   ]
  },
  {
   "cell_type": "markdown",
   "metadata": {},
   "source": [
    "## Part 3: data imputation"
   ]
  },
  {
   "cell_type": "markdown",
   "metadata": {},
   "source": [
    "#### Well let’s say that it does... You likely noticed that Age has some missing values. How many are missing?"
   ]
  },
  {
   "cell_type": "code",
   "execution_count": 48,
   "metadata": {
    "collapsed": false
   },
   "outputs": [
    {
     "data": {
      "text/plain": [
       "263"
      ]
     },
     "execution_count": 48,
     "metadata": {},
     "output_type": "execute_result"
    }
   ],
   "source": [
    "len(Titanic_missing_ages)"
   ]
  },
  {
   "cell_type": "markdown",
   "metadata": {},
   "source": [
    "#### For the Age of the passangers ... how would you guess at the missing values using the other data present in the CSV."
   ]
  },
  {
   "cell_type": "code",
   "execution_count": 49,
   "metadata": {
    "collapsed": false
   },
   "outputs": [
    {
     "data": {
      "text/plain": [
       "29.88"
      ]
     },
     "execution_count": 49,
     "metadata": {},
     "output_type": "execute_result"
    }
   ],
   "source": [
    "Titanic_average_age = np.mean(Titanic_df['age'])\n",
    "round(Titanic_average_age, 2)"
   ]
  },
  {
   "cell_type": "code",
   "execution_count": 75,
   "metadata": {
    "collapsed": false
   },
   "outputs": [
    {
     "name": "stdout",
     "output_type": "stream",
     "text": [
      "Empty DataFrame\n",
      "Columns: [pclass, survived, name, sex, age, sibsp, parch, ticket, fare, cabin, embarked, boat, body, home.dest]\n",
      "Index: []\n"
     ]
    },
    {
     "data": {
      "text/plain": [
       "29.88"
      ]
     },
     "execution_count": 75,
     "metadata": {},
     "output_type": "execute_result"
    }
   ],
   "source": [
    "Titanic_df['age'].fillna(Titanic_average_age, inplace=True)\n",
    "Titanic_age_is_null = pd.isnull(Titanic_df['age'])\n",
    "Titanic_missing_ages = Titanic_df[Titanic_age_is_null==True]\n",
    "print(Titanic_missing_ages.head())\n",
    "Titanic_average_age = np.mean(Titanic_df['age'])\n",
    "round(Titanic_average_age, 2)"
   ]
  },
  {
   "cell_type": "markdown",
   "metadata": {},
   "source": [
    "## Part 4: Group Statistics"
   ]
  },
  {
   "cell_type": "markdown",
   "metadata": {
    "collapsed": true
   },
   "source": [
    "#### Are there any groups that were especially adversely affected in the Titanic wreck? (justify your response numerically)"
   ]
  },
  {
   "cell_type": "code",
   "execution_count": 181,
   "metadata": {
    "collapsed": true
   },
   "outputs": [],
   "source": [
    "Age_group = []"
   ]
  },
  {
   "cell_type": "code",
   "execution_count": 97,
   "metadata": {
    "collapsed": false
   },
   "outputs": [
    {
     "data": {
      "text/plain": [
       "RangeIndex(start=0, stop=1309, step=1)"
      ]
     },
     "execution_count": 97,
     "metadata": {},
     "output_type": "execute_result"
    }
   ],
   "source": []
  },
  {
   "cell_type": "code",
   "execution_count": 192,
   "metadata": {
    "collapsed": false
   },
   "outputs": [
    {
     "data": {
      "text/html": [
       "<div>\n",
       "<table border=\"1\" class=\"dataframe\">\n",
       "  <thead>\n",
       "    <tr>\n",
       "      <th></th>\n",
       "      <th colspan=\"3\" halign=\"left\">sum</th>\n",
       "      <th colspan=\"3\" halign=\"left\">len</th>\n",
       "      <th>Female Survival Ratio %</th>\n",
       "      <th>Male Survival Ratio %</th>\n",
       "      <th>Age Group Survival Ratio %</th>\n",
       "    </tr>\n",
       "    <tr>\n",
       "      <th></th>\n",
       "      <th colspan=\"3\" halign=\"left\">survived</th>\n",
       "      <th colspan=\"3\" halign=\"left\">survived</th>\n",
       "      <th></th>\n",
       "      <th></th>\n",
       "      <th></th>\n",
       "    </tr>\n",
       "    <tr>\n",
       "      <th>sex</th>\n",
       "      <th>female</th>\n",
       "      <th>male</th>\n",
       "      <th>All</th>\n",
       "      <th>female</th>\n",
       "      <th>male</th>\n",
       "      <th>All</th>\n",
       "      <th></th>\n",
       "      <th></th>\n",
       "      <th></th>\n",
       "    </tr>\n",
       "    <tr>\n",
       "      <th>age group</th>\n",
       "      <th></th>\n",
       "      <th></th>\n",
       "      <th></th>\n",
       "      <th></th>\n",
       "      <th></th>\n",
       "      <th></th>\n",
       "      <th></th>\n",
       "      <th></th>\n",
       "      <th></th>\n",
       "    </tr>\n",
       "  </thead>\n",
       "  <tbody>\n",
       "    <tr>\n",
       "      <th>adult</th>\n",
       "      <td>236.0</td>\n",
       "      <td>102.0</td>\n",
       "      <td>338.0</td>\n",
       "      <td>309.0</td>\n",
       "      <td>550.0</td>\n",
       "      <td>859.0</td>\n",
       "      <td>76.375405</td>\n",
       "      <td>18.545455</td>\n",
       "      <td>39.348079</td>\n",
       "    </tr>\n",
       "    <tr>\n",
       "      <th>child</th>\n",
       "      <td>21.0</td>\n",
       "      <td>19.0</td>\n",
       "      <td>40.0</td>\n",
       "      <td>30.0</td>\n",
       "      <td>32.0</td>\n",
       "      <td>62.0</td>\n",
       "      <td>70.000000</td>\n",
       "      <td>59.375000</td>\n",
       "      <td>64.516129</td>\n",
       "    </tr>\n",
       "    <tr>\n",
       "      <th>senior</th>\n",
       "      <td>6.0</td>\n",
       "      <td>2.0</td>\n",
       "      <td>8.0</td>\n",
       "      <td>7.0</td>\n",
       "      <td>26.0</td>\n",
       "      <td>33.0</td>\n",
       "      <td>85.714286</td>\n",
       "      <td>7.692308</td>\n",
       "      <td>24.242424</td>\n",
       "    </tr>\n",
       "    <tr>\n",
       "      <th>unkown</th>\n",
       "      <td>47.0</td>\n",
       "      <td>26.0</td>\n",
       "      <td>73.0</td>\n",
       "      <td>78.0</td>\n",
       "      <td>185.0</td>\n",
       "      <td>263.0</td>\n",
       "      <td>60.256410</td>\n",
       "      <td>14.054054</td>\n",
       "      <td>27.756654</td>\n",
       "    </tr>\n",
       "    <tr>\n",
       "      <th>young</th>\n",
       "      <td>29.0</td>\n",
       "      <td>12.0</td>\n",
       "      <td>41.0</td>\n",
       "      <td>42.0</td>\n",
       "      <td>50.0</td>\n",
       "      <td>92.0</td>\n",
       "      <td>69.047619</td>\n",
       "      <td>24.000000</td>\n",
       "      <td>44.565217</td>\n",
       "    </tr>\n",
       "    <tr>\n",
       "      <th>All</th>\n",
       "      <td>339.0</td>\n",
       "      <td>161.0</td>\n",
       "      <td>500.0</td>\n",
       "      <td>466.0</td>\n",
       "      <td>843.0</td>\n",
       "      <td>1309.0</td>\n",
       "      <td>72.746781</td>\n",
       "      <td>19.098458</td>\n",
       "      <td>38.197097</td>\n",
       "    </tr>\n",
       "  </tbody>\n",
       "</table>\n",
       "</div>"
      ],
      "text/plain": [
       "               sum                    len                 \\\n",
       "          survived               survived                  \n",
       "sex         female   male    All   female   male     All   \n",
       "age group                                                  \n",
       "adult        236.0  102.0  338.0    309.0  550.0   859.0   \n",
       "child         21.0   19.0   40.0     30.0   32.0    62.0   \n",
       "senior         6.0    2.0    8.0      7.0   26.0    33.0   \n",
       "unkown        47.0   26.0   73.0     78.0  185.0   263.0   \n",
       "young         29.0   12.0   41.0     42.0   50.0    92.0   \n",
       "All          339.0  161.0  500.0    466.0  843.0  1309.0   \n",
       "\n",
       "          Female Survival Ratio % Male Survival Ratio %  \\\n",
       "                                                          \n",
       "sex                                                       \n",
       "age group                                                 \n",
       "adult                   76.375405             18.545455   \n",
       "child                   70.000000             59.375000   \n",
       "senior                  85.714286              7.692308   \n",
       "unkown                  60.256410             14.054054   \n",
       "young                   69.047619             24.000000   \n",
       "All                     72.746781             19.098458   \n",
       "\n",
       "          Age Group Survival Ratio %  \n",
       "                                      \n",
       "sex                                   \n",
       "age group                             \n",
       "adult                      39.348079  \n",
       "child                      64.516129  \n",
       "senior                     24.242424  \n",
       "unkown                     27.756654  \n",
       "young                      44.565217  \n",
       "All                        38.197097  "
      ]
     },
     "execution_count": 192,
     "metadata": {},
     "output_type": "execute_result"
    }
   ],
   "source": [
    "Age_group = []\n",
    "for x in Titanic_df['age']:\n",
    "    if x == Titanic_average_age:\n",
    "        Age_group.append('unkown')\n",
    "    else:\n",
    "        if x <= 6:\n",
    "            Age_group.append('child')\n",
    "        if x > 6 and x <=17:\n",
    "            Age_group.append('young')    \n",
    "        if x > 17 and x <=60:\n",
    "            Age_group.append('adult')    \n",
    "        if x > 60:\n",
    "            Age_group.append('senior')  \n",
    "Titanic_df['age group'] = Age_group\n",
    "Tit_total_passangers = Titanic_df.index\n",
    "Tit_total_females = Titanic_df.loc[Titanic_df['sex'] == 'female']\n",
    "Tit_pivot_age_sex_effect = pd.pivot_table(Titanic_df, values=['survived'],columns=['sex'],\\\n",
    "                                          index=['age group'],aggfunc=[sum,len],margins=True)\n",
    "Tit_pivot_age_sex_effect['Female Survival Ratio %'] = ((Tit_pivot_age_sex_effect['sum'])\\\n",
    "                                                     ['survived'])['female']*100/((Tit_pivot_age_sex_effect['len'])\\\n",
    "                                                                                  ['survived'])['female']\n",
    "Tit_pivot_age_sex_effect['Male Survival Ratio %'] = ((Tit_pivot_age_sex_effect['sum'])\\\n",
    "                                                     ['survived'])['male']*100/((Tit_pivot_age_sex_effect['len'])\\\n",
    "                                                                                  ['survived'])['male']\n",
    "Tit_pivot_age_sex_effect['Age Group Survival Ratio %'] = ((Tit_pivot_age_sex_effect['sum'])\\\n",
    "                                                     ['survived'])['All']*100/((Tit_pivot_age_sex_effect['len'])\\\n",
    "                                                                                  ['survived'])['All']\n",
    "Tit_pivot_age_sex_effect\n",
    "# Tit_pivot_age_sex_effect['Total']=[]*len(Tit_pivot_age_sex_effect)"
   ]
  },
  {
   "cell_type": "code",
   "execution_count": 193,
   "metadata": {
    "collapsed": false
   },
   "outputs": [
    {
     "data": {
      "text/html": [
       "<div>\n",
       "<table border=\"1\" class=\"dataframe\">\n",
       "  <thead>\n",
       "    <tr>\n",
       "      <th></th>\n",
       "      <th>sum</th>\n",
       "      <th>len</th>\n",
       "      <th>Class Survival Ratio %</th>\n",
       "    </tr>\n",
       "    <tr>\n",
       "      <th></th>\n",
       "      <th>survived</th>\n",
       "      <th>survived</th>\n",
       "      <th></th>\n",
       "    </tr>\n",
       "    <tr>\n",
       "      <th>pclass</th>\n",
       "      <th></th>\n",
       "      <th></th>\n",
       "      <th></th>\n",
       "    </tr>\n",
       "  </thead>\n",
       "  <tbody>\n",
       "    <tr>\n",
       "      <th>1</th>\n",
       "      <td>200.0</td>\n",
       "      <td>323.0</td>\n",
       "      <td>61.919505</td>\n",
       "    </tr>\n",
       "    <tr>\n",
       "      <th>2</th>\n",
       "      <td>119.0</td>\n",
       "      <td>277.0</td>\n",
       "      <td>42.960289</td>\n",
       "    </tr>\n",
       "    <tr>\n",
       "      <th>3</th>\n",
       "      <td>181.0</td>\n",
       "      <td>709.0</td>\n",
       "      <td>25.528914</td>\n",
       "    </tr>\n",
       "    <tr>\n",
       "      <th>All</th>\n",
       "      <td>500.0</td>\n",
       "      <td>1309.0</td>\n",
       "      <td>38.197097</td>\n",
       "    </tr>\n",
       "  </tbody>\n",
       "</table>\n",
       "</div>"
      ],
      "text/plain": [
       "            sum      len Class Survival Ratio %\n",
       "       survived survived                       \n",
       "pclass                                         \n",
       "1         200.0    323.0              61.919505\n",
       "2         119.0    277.0              42.960289\n",
       "3         181.0    709.0              25.528914\n",
       "All       500.0   1309.0              38.197097"
      ]
     },
     "execution_count": 193,
     "metadata": {},
     "output_type": "execute_result"
    }
   ],
   "source": [
    "Tit_pivot_class_effect = pd.pivot_table(Titanic_df, values=['survived'],index=['pclass'],\\\n",
    "                                          aggfunc=[sum,len],margins=True)\n",
    "Tit_pivot_class_effect['Class Survival Ratio %'] = (Tit_pivot_class_effect['sum'])\\\n",
    "                                                     ['survived']*100/(Tit_pivot_class_effect['len'])\\\n",
    "                                                                                  ['survived']\n",
    "Tit_pivot_class_effect"
   ]
  },
  {
   "cell_type": "code",
   "execution_count": 194,
   "metadata": {
    "collapsed": false
   },
   "outputs": [
    {
     "data": {
      "text/html": [
       "<div>\n",
       "<table border=\"1\" class=\"dataframe\">\n",
       "  <thead>\n",
       "    <tr>\n",
       "      <th></th>\n",
       "      <th>sum</th>\n",
       "      <th>len</th>\n",
       "      <th>Departure Port Survival Ratio %</th>\n",
       "    </tr>\n",
       "    <tr>\n",
       "      <th></th>\n",
       "      <th>survived</th>\n",
       "      <th>survived</th>\n",
       "      <th></th>\n",
       "    </tr>\n",
       "    <tr>\n",
       "      <th>embarked</th>\n",
       "      <th></th>\n",
       "      <th></th>\n",
       "      <th></th>\n",
       "    </tr>\n",
       "  </thead>\n",
       "  <tbody>\n",
       "    <tr>\n",
       "      <th>C</th>\n",
       "      <td>150.0</td>\n",
       "      <td>270.0</td>\n",
       "      <td>55.555556</td>\n",
       "    </tr>\n",
       "    <tr>\n",
       "      <th>Q</th>\n",
       "      <td>44.0</td>\n",
       "      <td>123.0</td>\n",
       "      <td>35.772358</td>\n",
       "    </tr>\n",
       "    <tr>\n",
       "      <th>S</th>\n",
       "      <td>304.0</td>\n",
       "      <td>914.0</td>\n",
       "      <td>33.260394</td>\n",
       "    </tr>\n",
       "    <tr>\n",
       "      <th>All</th>\n",
       "      <td>498.0</td>\n",
       "      <td>1307.0</td>\n",
       "      <td>38.102525</td>\n",
       "    </tr>\n",
       "  </tbody>\n",
       "</table>\n",
       "</div>"
      ],
      "text/plain": [
       "              sum      len Departure Port Survival Ratio %\n",
       "         survived survived                                \n",
       "embarked                                                  \n",
       "C           150.0    270.0                       55.555556\n",
       "Q            44.0    123.0                       35.772358\n",
       "S           304.0    914.0                       33.260394\n",
       "All         498.0   1307.0                       38.102525"
      ]
     },
     "execution_count": 194,
     "metadata": {},
     "output_type": "execute_result"
    }
   ],
   "source": [
    "Tit_pivot_departureport_effect = pd.pivot_table(Titanic_df, values=['survived'],index=['embarked'],\\\n",
    "                                          aggfunc=[sum,len],margins=True)\n",
    "Tit_pivot_departureport_effect['Departure Port Survival Ratio %'] = (Tit_pivot_departureport_effect['sum'])\\\n",
    "                                                     ['survived']*100/(Tit_pivot_departureport_effect['len'])\\\n",
    "                                                                                  ['survived']\n",
    "Tit_pivot_departureport_effect"
   ]
  },
  {
   "cell_type": "markdown",
   "metadata": {},
   "source": [
    "are people from port c more wealthy??"
   ]
  },
  {
   "cell_type": "code",
   "execution_count": null,
   "metadata": {
    "collapsed": true
   },
   "outputs": [],
   "source": []
  },
  {
   "cell_type": "code",
   "execution_count": 180,
   "metadata": {
    "collapsed": false
   },
   "outputs": [
    {
     "data": {
      "text/plain": [
       "33.295479281345571"
      ]
     },
     "execution_count": 180,
     "metadata": {},
     "output_type": "execute_result"
    }
   ],
   "source": [
    "np.mean(Titanic_df.fare)"
   ]
  },
  {
   "cell_type": "markdown",
   "metadata": {},
   "source": [
    "#### Are there any groups that outperformed the survival of the latter group? (justify your response numerically)\n"
   ]
  },
  {
   "cell_type": "code",
   "execution_count": null,
   "metadata": {
    "collapsed": true
   },
   "outputs": [],
   "source": []
  },
  {
   "cell_type": "markdown",
   "metadata": {
    "collapsed": true
   },
   "source": [
    "## Part 5:  Comparative Statistics:  Lusitania"
   ]
  },
  {
   "cell_type": "markdown",
   "metadata": {
    "collapsed": true
   },
   "source": [
    "#### Are there any groups that were especially adversely affected in the Titanic wreck? (justify your response numerically)"
   ]
  },
  {
   "cell_type": "code",
   "execution_count": null,
   "metadata": {
    "collapsed": true
   },
   "outputs": [],
   "source": []
  },
  {
   "cell_type": "markdown",
   "metadata": {
    "collapsed": true
   },
   "source": [
    "#### Are there any groups that outperformed the survival of the latter group? (justify your response numerically)\n",
    "\n"
   ]
  },
  {
   "cell_type": "code",
   "execution_count": null,
   "metadata": {
    "collapsed": true
   },
   "outputs": [],
   "source": []
  },
  {
   "cell_type": "markdown",
   "metadata": {},
   "source": [
    "#### What does the group-wise survival rate imply about circumstances during these two accidents?"
   ]
  },
  {
   "cell_type": "code",
   "execution_count": null,
   "metadata": {
    "collapsed": true
   },
   "outputs": [],
   "source": []
  },
  {
   "cell_type": "code",
   "execution_count": null,
   "metadata": {
    "collapsed": true
   },
   "outputs": [],
   "source": []
  },
  {
   "cell_type": "code",
   "execution_count": null,
   "metadata": {
    "collapsed": true
   },
   "outputs": [],
   "source": []
  },
  {
   "cell_type": "code",
   "execution_count": null,
   "metadata": {
    "collapsed": true
   },
   "outputs": [],
   "source": []
  },
  {
   "cell_type": "code",
   "execution_count": null,
   "metadata": {
    "collapsed": true
   },
   "outputs": [],
   "source": []
  },
  {
   "cell_type": "code",
   "execution_count": 22,
   "metadata": {
    "collapsed": false
   },
   "outputs": [
    {
     "name": "stdout",
     "output_type": "stream",
     "text": [
      "['ali']\n"
     ]
    }
   ],
   "source": [
    "a = \"ali\"\n",
    "b = a.split()\n",
    "print b"
   ]
  },
  {
   "cell_type": "code",
   "execution_count": 31,
   "metadata": {
    "collapsed": false
   },
   "outputs": [
    {
     "data": {
      "text/plain": [
       "['p', 'l', 'a', 's', 't', 'i', 'c']"
      ]
     },
     "execution_count": 31,
     "metadata": {},
     "output_type": "execute_result"
    }
   ],
   "source": [
    "sample = \"john,plastic,joe\"\n",
    "split_list = sample.split(\",\")\n",
    "list(split_list[1])"
   ]
  },
  {
   "cell_type": "code",
   "execution_count": 39,
   "metadata": {
    "collapsed": false
   },
   "outputs": [
    {
     "data": {
      "text/plain": [
       "['a', 'b', 'c', 'd', 'e', 'f', 'g']"
      ]
     },
     "execution_count": 39,
     "metadata": {},
     "output_type": "execute_result"
    }
   ],
   "source": [
    "alphabet = \"a b c d e f g\"\n",
    "data = alphabet.split() #split string into a list\n",
    "data"
   ]
  },
  {
   "cell_type": "code",
   "execution_count": 91,
   "metadata": {
    "collapsed": false
   },
   "outputs": [
    {
     "data": {
      "application/javascript": [
       "IPython.notebook.set_autosave_interval(600000)"
      ]
     },
     "metadata": {},
     "output_type": "display_data"
    },
    {
     "name": "stdout",
     "output_type": "stream",
     "text": [
      "Autosaving every 600 seconds\n"
     ]
    }
   ],
   "source": [
    "%autosave 600"
   ]
  },
  {
   "cell_type": "code",
   "execution_count": null,
   "metadata": {
    "collapsed": true
   },
   "outputs": [],
   "source": []
  }
 ],
 "metadata": {
  "kernelspec": {
   "display_name": "Python 2",
   "language": "python",
   "name": "python2"
  },
  "language_info": {
   "codemirror_mode": {
    "name": "ipython",
    "version": 2
   },
   "file_extension": ".py",
   "mimetype": "text/x-python",
   "name": "python",
   "nbconvert_exporter": "python",
   "pygments_lexer": "ipython2",
   "version": "2.7.12"
  }
 },
 "nbformat": 4,
 "nbformat_minor": 0
}
