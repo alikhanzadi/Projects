{
 "cells": [
  {
   "cell_type": "code",
   "execution_count": 1,
   "metadata": {
    "collapsed": true
   },
   "outputs": [],
   "source": [
    "% matplotlib inline\n",
    "import pandas as pd\n",
    "import numpy as np\n",
    "import datetime\n",
    "\n",
    "import matplotlib.pyplot as plt\n",
    "import seaborn as sns\n",
    "\n",
    "from sklearn.model_selection import train_test_split\n",
    "from sklearn.preprocessing import StandardScaler\n",
    "from sklearn.feature_selection import SelectKBest, chi2, SelectFpr\n",
    "from sklearn.linear_model import LogisticRegression\n",
    "from sklearn.neighbors import KNeighborsClassifier\n",
    "from sklearn.model_selection import GridSearchCV\n",
    "from sklearn.svm import SVC, LinearSVC\n",
    "from sklearn.metrics import mean_absolute_error, mean_squared_error, r2_score\n",
    "from sklearn.model_selection import train_test_split\n",
    "from sklearn.linear_model import Lasso, Ridge, SGDRegressor, LinearRegression\n"
   ]
  },
  {
   "cell_type": "code",
   "execution_count": 3,
   "metadata": {
    "collapsed": false
   },
   "outputs": [],
   "source": [
    "data1 = pd.read_csv(\"madelon_pt_1.csv\")\n",
    "data2 = pd.read_csv(\"madelon_pt_2.csv\")\n",
    "data3 = pd.read_csv(\"madelon_pt_3.csv\")\n",
    "data = pd.concat([data1, data2, data3])"
   ]
  },
  {
   "cell_type": "code",
   "execution_count": 4,
   "metadata": {
    "collapsed": true
   },
   "outputs": [],
   "source": [
    "y_data = data['label']"
   ]
  },
  {
   "cell_type": "code",
   "execution_count": 5,
   "metadata": {
    "collapsed": false
   },
   "outputs": [],
   "source": [
    "X_data = data.drop('label', axis=1)"
   ]
  },
  {
   "cell_type": "code",
   "execution_count": 6,
   "metadata": {
    "collapsed": false
   },
   "outputs": [
    {
     "data": {
      "text/plain": [
       "(2000, 501)"
      ]
     },
     "execution_count": 6,
     "metadata": {},
     "output_type": "execute_result"
    }
   ],
   "source": [
    "X_data.shape"
   ]
  },
  {
   "cell_type": "code",
   "execution_count": 7,
   "metadata": {
    "collapsed": true
   },
   "outputs": [],
   "source": [
    "a = train_test_split(X_data, y_data, random_state=10)"
   ]
  },
  {
   "cell_type": "code",
   "execution_count": 8,
   "metadata": {
    "collapsed": false
   },
   "outputs": [
    {
     "data": {
      "text/plain": [
       "450   -1\n",
       "165   -1\n",
       "325    1\n",
       "577   -1\n",
       "495   -1\n",
       "98     1\n",
       "15     1\n",
       "260    1\n",
       "286   -1\n",
       "626    1\n",
       "564    1\n",
       "195    1\n",
       "259   -1\n",
       "529    1\n",
       "382   -1\n",
       "667    1\n",
       "336    1\n",
       "383   -1\n",
       "239    1\n",
       "658    1\n",
       "109    1\n",
       "555    1\n",
       "385    1\n",
       "35     1\n",
       "543   -1\n",
       "243   -1\n",
       "592   -1\n",
       "458    1\n",
       "638   -1\n",
       "458   -1\n",
       "      ..\n",
       "524    1\n",
       "169   -1\n",
       "574   -1\n",
       "446   -1\n",
       "687    1\n",
       "668    1\n",
       "54    -1\n",
       "395    1\n",
       "239   -1\n",
       "356    1\n",
       "152   -1\n",
       "371   -1\n",
       "44     1\n",
       "502   -1\n",
       "40     1\n",
       "490   -1\n",
       "256   -1\n",
       "397    1\n",
       "332   -1\n",
       "505    1\n",
       "549    1\n",
       "120   -1\n",
       "33    -1\n",
       "480    1\n",
       "447    1\n",
       "693   -1\n",
       "644   -1\n",
       "527   -1\n",
       "449   -1\n",
       "589   -1\n",
       "Name: label, dtype: int64"
      ]
     },
     "execution_count": 8,
     "metadata": {},
     "output_type": "execute_result"
    }
   ],
   "source": [
    "a[2]"
   ]
  },
  {
   "cell_type": "code",
   "execution_count": 9,
   "metadata": {
    "collapsed": false
   },
   "outputs": [],
   "source": [
    "def split_data(X_df, y_df, random_state=None):\n",
    "    X_train, X_test, y_train, y_test = train_test_split(X_df, y_df, random_state=random_state)\n",
    "    return {\n",
    "            'X_train' : X_train,\n",
    "            'X_test' : X_test,\n",
    "            'y_train' : y_train,\n",
    "            'y_test' : y_test,\n",
    "            'random_state' : random_state\n",
    "        }"
   ]
  },
  {
   "cell_type": "code",
   "execution_count": 10,
   "metadata": {
    "collapsed": false
   },
   "outputs": [],
   "source": [
    "def general_transformer(transformer, dd, random_state=None):\n",
    "     \n",
    "    local_dd = dict(dd)\n",
    "    \n",
    "    if transformer == 'StandardScaler':\n",
    "        transformer.fit(local_dd['X_train'])\n",
    "        dd['Scaler'] = transformer\n",
    "    else:\n",
    "        transformer.fit(local_dd['X_train'], local_dd['y_train'])\n",
    "        local_dd['transformer'] = transformer\n",
    "        \n",
    "    \n",
    "    local_dd['X_train'] = transformer.transform(local_dd['X_train'])\n",
    "    local_dd['X_test'] = transformer.transform(local_dd['X_test'])\n",
    "    \n",
    "    return local_dd    \n",
    "        \n",
    "            "
   ]
  },
  {
   "cell_type": "code",
   "execution_count": 11,
   "metadata": {
    "collapsed": true
   },
   "outputs": [],
   "source": [
    "def general_model(model, dd, random_state=None):\n",
    "\n",
    "    local_dd = dict(dd)\n",
    "    \n",
    "    model.fit(local_dd['X_train'], local_dd['y_train'])\n",
    "    \n",
    "    local_dd['train_score'] = model.score(local_dd['X_train'], local_dd['y_train'])\n",
    "    local_dd['test_score'] = model.score(local_dd['X_test'], local_dd['y_test'])\n",
    "    local_dd['model'] = model\n",
    "    \n",
    "    return local_dd    \n"
   ]
  },
  {
   "cell_type": "code",
   "execution_count": 12,
   "metadata": {
    "collapsed": false
   },
   "outputs": [],
   "source": [
    "def full_stack(X_df, y_v, scaler, transformer, model, fs_params, gs_params, random_state=None):\n",
    "    dd1 = split_data(X_df, y_v, random_state=random_state)\n",
    "    dd2 = general_transformer(scaler, dd1, random_state=random_state)\n",
    "    \n",
    "    l_dd4 = []\n",
    "    for ks in fs_params:\n",
    "        dd3 = general_transformer(transformer(k=ks), dd2, random_state=random_state)\n",
    "        gs = GridSearchCV(model, param_grid=gs_params)\n",
    "        l_dd4.append(general_model(gs, dd3))\n",
    "    \n",
    "    skb_gr = skb_gridsearch_results(fs_params, l_dd4)\n",
    "  \n",
    "    return {\n",
    "        \"train_score\" : skb_gr[\"train_score\"],\n",
    "        \"test_score\" : skb_gr[\"test_score\"],\n",
    "        \"best_k\" : skb_gr[\"best_k\"],\n",
    "        \"fdd\" : skb_gr[\"fdd\"]\n",
    "        }\n",
    "    "
   ]
  },
  {
   "cell_type": "code",
   "execution_count": 13,
   "metadata": {
    "collapsed": false
   },
   "outputs": [],
   "source": [
    "def skb_gridsearch_results(k_range, l_dd):\n",
    "    k_range_min = min(k_range)\n",
    "    max_test_score = 0\n",
    "    for i in k_range:\n",
    "        tst_s = l_dd[i-k_range_min][\"test_score\"]\n",
    "        if max_test_score < tst_s:\n",
    "            max_test_score = tst_s\n",
    "            max_k = i\n",
    "    l_dd[max_k-k_range_min][\"train_score\"], max_test_score, max_k\n",
    "    \n",
    "    return {\n",
    "        \"train_score\" : l_dd[max_k-k_range_min][\"test_score\"],\n",
    "        \"test_score\" : max_test_score,\n",
    "        \"best_k\" : max_k,\n",
    "        \"fdd\" : l_dd[max_k-k_range_min]\n",
    "    }"
   ]
  },
  {
   "cell_type": "code",
   "execution_count": 14,
   "metadata": {
    "collapsed": true
   },
   "outputs": [],
   "source": [
    "#X_data, y_data"
   ]
  },
  {
   "cell_type": "code",
   "execution_count": 15,
   "metadata": {
    "collapsed": false
   },
   "outputs": [],
   "source": [
    "split_dd = split_data(X_data, y_data, random_state=10)"
   ]
  },
  {
   "cell_type": "code",
   "execution_count": 16,
   "metadata": {
    "collapsed": false
   },
   "outputs": [
    {
     "data": {
      "text/plain": [
       "pandas.core.frame.DataFrame"
      ]
     },
     "execution_count": 16,
     "metadata": {},
     "output_type": "execute_result"
    }
   ],
   "source": [
    "type(split_dd[\"X_train\"])"
   ]
  },
  {
   "cell_type": "code",
   "execution_count": 17,
   "metadata": {
    "collapsed": false
   },
   "outputs": [],
   "source": [
    "scaled_dd = general_transformer(StandardScaler(), split_dd)"
   ]
  },
  {
   "cell_type": "code",
   "execution_count": 18,
   "metadata": {
    "collapsed": false
   },
   "outputs": [],
   "source": [
    "feated_dd = general_transformer(SelectKBest(k=10), scaled_dd)"
   ]
  },
  {
   "cell_type": "code",
   "execution_count": 19,
   "metadata": {
    "collapsed": false
   },
   "outputs": [
    {
     "data": {
      "text/plain": [
       "SelectKBest(k=10, score_func=<function f_classif at 0x000000000B9833C8>)"
      ]
     },
     "execution_count": 19,
     "metadata": {},
     "output_type": "execute_result"
    }
   ],
   "source": [
    "feated_dd[\"transformer\"]"
   ]
  },
  {
   "cell_type": "code",
   "execution_count": 20,
   "metadata": {
    "collapsed": false
   },
   "outputs": [
    {
     "data": {
      "text/plain": [
       "(0.61399999999999999, 0.59399999999999997)"
      ]
     },
     "execution_count": 20,
     "metadata": {},
     "output_type": "execute_result"
    }
   ],
   "source": [
    "out1 = general_model(LogisticRegression(), feated_dd)\n",
    "out1['train_score'], out1['test_score']"
   ]
  },
  {
   "cell_type": "code",
   "execution_count": 21,
   "metadata": {
    "collapsed": false
   },
   "outputs": [
    {
     "data": {
      "text/plain": [
       "{'X_test': array([[ 0.87868003, -1.35299894,  2.34549604, ..., -1.84011875,\n",
       "         -1.92843073,  1.8127922 ],\n",
       "        [-1.01127223, -1.19551653,  0.39648044, ..., -0.18672098,\n",
       "         -0.19069912,  0.44534192],\n",
       "        [-1.54792534,  1.5379283 , -1.25152888, ..., -1.17259791,\n",
       "         -1.20625655, -0.74782549],\n",
       "        ..., \n",
       "        [ 0.13203222,  2.24659918, -1.13865153, ..., -0.01213861,\n",
       "         -0.03272352, -1.32429964],\n",
       "        [-0.3579554 , -0.71182053,  0.9608672 , ..., -0.37157291,\n",
       "         -0.37124266,  0.08336978],\n",
       "        [ 1.64866057,  0.70552123,  1.32959988, ..., -0.61804214,\n",
       "         -0.61949003, -0.73441912]]),\n",
       " 'X_train': array([[-0.00796424,  1.74040569, -1.04834965, ..., -1.46014535,\n",
       "         -1.34166421, -0.98914025],\n",
       "        [-1.61792357, -0.25062202, -1.19132763, ..., -0.01213861,\n",
       "          0.01241237,  0.51237379],\n",
       "        [ 0.92534551, -0.94804416,  0.82541438, ..., -0.65912034,\n",
       "         -0.64205798,  1.06203518],\n",
       "        ..., \n",
       "        [-2.01458022, -0.59933309,  0.14815027, ..., -0.52561618,\n",
       "         -0.52921826, -0.06410035],\n",
       "        [-1.1512687 ,  2.25784792, -1.92879299, ...,  0.33702614,\n",
       "          0.3960674 , -1.31089326],\n",
       "        [-0.14796071,  0.671775  ,  0.20082637, ...,  0.26513928,\n",
       "          0.28322768, -1.49858252]]),\n",
       " 'model': LogisticRegression(C=1.0, class_weight=None, dual=False, fit_intercept=True,\n",
       "           intercept_scaling=1, max_iter=100, multi_class='ovr', n_jobs=1,\n",
       "           penalty='l2', random_state=None, solver='liblinear', tol=0.0001,\n",
       "           verbose=0, warm_start=False),\n",
       " 'random_state': 10,\n",
       " 'test_score': 0.59399999999999997,\n",
       " 'train_score': 0.61399999999999999,\n",
       " 'transformer': SelectKBest(k=10, score_func=<function f_classif at 0x000000000B9833C8>),\n",
       " 'y_test': 115    1\n",
       " 379    1\n",
       " 49    -1\n",
       " 145   -1\n",
       " 309    1\n",
       " 440   -1\n",
       " 579   -1\n",
       " 414   -1\n",
       " 36    -1\n",
       " 452    1\n",
       " 316    1\n",
       " 416   -1\n",
       " 435   -1\n",
       " 695   -1\n",
       " 446    1\n",
       " 69     1\n",
       " 154   -1\n",
       " 202   -1\n",
       " 520   -1\n",
       " 3      1\n",
       " 631    1\n",
       " 115    1\n",
       " 169   -1\n",
       " 617   -1\n",
       " 402   -1\n",
       " 20     1\n",
       " 476    1\n",
       " 64    -1\n",
       " 332   -1\n",
       " 268    1\n",
       "       ..\n",
       " 303    1\n",
       " 16    -1\n",
       " 550    1\n",
       " 595    1\n",
       " 62     1\n",
       " 5     -1\n",
       " 3      1\n",
       " 609   -1\n",
       " 530   -1\n",
       " 241   -1\n",
       " 471    1\n",
       " 429   -1\n",
       " 685   -1\n",
       " 201    1\n",
       " 61     1\n",
       " 342    1\n",
       " 466   -1\n",
       " 44     1\n",
       " 53    -1\n",
       " 470    1\n",
       " 124    1\n",
       " 273    1\n",
       " 521   -1\n",
       " 380   -1\n",
       " 312   -1\n",
       " 511    1\n",
       " 385   -1\n",
       " 539   -1\n",
       " 85    -1\n",
       " 521   -1\n",
       " Name: label, dtype: int64,\n",
       " 'y_train': 450   -1\n",
       " 165   -1\n",
       " 325    1\n",
       " 577   -1\n",
       " 495   -1\n",
       " 98     1\n",
       " 15     1\n",
       " 260    1\n",
       " 286   -1\n",
       " 626    1\n",
       " 564    1\n",
       " 195    1\n",
       " 259   -1\n",
       " 529    1\n",
       " 382   -1\n",
       " 667    1\n",
       " 336    1\n",
       " 383   -1\n",
       " 239    1\n",
       " 658    1\n",
       " 109    1\n",
       " 555    1\n",
       " 385    1\n",
       " 35     1\n",
       " 543   -1\n",
       " 243   -1\n",
       " 592   -1\n",
       " 458    1\n",
       " 638   -1\n",
       " 458   -1\n",
       "       ..\n",
       " 524    1\n",
       " 169   -1\n",
       " 574   -1\n",
       " 446   -1\n",
       " 687    1\n",
       " 668    1\n",
       " 54    -1\n",
       " 395    1\n",
       " 239   -1\n",
       " 356    1\n",
       " 152   -1\n",
       " 371   -1\n",
       " 44     1\n",
       " 502   -1\n",
       " 40     1\n",
       " 490   -1\n",
       " 256   -1\n",
       " 397    1\n",
       " 332   -1\n",
       " 505    1\n",
       " 549    1\n",
       " 120   -1\n",
       " 33    -1\n",
       " 480    1\n",
       " 447    1\n",
       " 693   -1\n",
       " 644   -1\n",
       " 527   -1\n",
       " 449   -1\n",
       " 589   -1\n",
       " Name: label, dtype: int64}"
      ]
     },
     "execution_count": 21,
     "metadata": {},
     "output_type": "execute_result"
    }
   ],
   "source": [
    "out1"
   ]
  },
  {
   "cell_type": "code",
   "execution_count": 22,
   "metadata": {
    "collapsed": false
   },
   "outputs": [
    {
     "data": {
      "text/plain": [
       "(0.61599999999999999, 0.60599999999999998)"
      ]
     },
     "execution_count": 22,
     "metadata": {},
     "output_type": "execute_result"
    }
   ],
   "source": [
    "out2 = general_model(LogisticRegression(penalty='l1'), feated_dd)\n",
    "out2['train_score'], out2['test_score']"
   ]
  },
  {
   "cell_type": "code",
   "execution_count": 23,
   "metadata": {
    "collapsed": false
   },
   "outputs": [
    {
     "data": {
      "text/plain": [
       "(0.89933333333333332, 0.878)"
      ]
     },
     "execution_count": 23,
     "metadata": {},
     "output_type": "execute_result"
    }
   ],
   "source": [
    "out20 = general_model(KNeighborsClassifier(n_neighbors=7), feated_dd)\n",
    "out20['train_score'], out20['test_score']"
   ]
  },
  {
   "cell_type": "code",
   "execution_count": null,
   "metadata": {
    "collapsed": false,
    "scrolled": true
   },
   "outputs": [],
   "source": [
    "fs_kn_params = range(4, 25)    \n",
    "gs_kn_params = {\n",
    "    'n_neighbors' : range(3, 20, 2)\n",
    "}\n",
    "out21 = []\n",
    "for ks in fs_kn_params:\n",
    "    feated_dd = general_transformer(SelectKBest(k=ks), scaled_dd)\n",
    "    gs_kn = GridSearchCV(KNeighborsClassifier(), param_grid=gs_kn_params)\n",
    "    out21.append(general_model(gs_kn, feated_dd))\n"
   ]
  },
  {
   "cell_type": "code",
   "execution_count": null,
   "metadata": {
    "collapsed": false
   },
   "outputs": [],
   "source": [
    "skb_gridsearch_results(fs_kn_params, out21)"
   ]
  },
  {
   "cell_type": "code",
   "execution_count": null,
   "metadata": {
    "collapsed": false
   },
   "outputs": [],
   "source": [
    "fs_lr_params = range(4, 25)    \n",
    "gs_lr_params = {\n",
    "    'penalty' : [\"l1\", \"l2\"],\n",
    "    'C' : [10**(i-3) for i in range(7)]    \n",
    "}\n",
    "out22 = []\n",
    "for ks in fs_lr_params:\n",
    "    feated_dd = general_transformer(SelectKBest(k=ks), scaled_dd)\n",
    "    gs_lr = GridSearchCV(LogisticRegression(), param_grid=gs_lr_params)\n",
    "    out22.append(general_model(gs_lr, feated_dd))"
   ]
  },
  {
   "cell_type": "code",
   "execution_count": null,
   "metadata": {
    "collapsed": false
   },
   "outputs": [],
   "source": [
    "skb_gridsearch_results(fs_lr_params, out22)"
   ]
  },
  {
   "cell_type": "code",
   "execution_count": null,
   "metadata": {
    "collapsed": false
   },
   "outputs": [],
   "source": [
    "fs_svc_params = range(4, 25)\n",
    "gs_svc_params = {\n",
    "    'C' : [10**(i-3) for i in range(7)]    \n",
    "}\n",
    "out23 = []\n",
    "for ks in fs_svc_params:\n",
    "    feated_dd = general_transformer(SelectKBest(k=ks), scaled_dd)\n",
    "    gs_svc = GridSearchCV(SVC(), param_grid=gs_svc_params)\n",
    "    out23.append(general_model(gs_svc, feated_dd))"
   ]
  },
  {
   "cell_type": "code",
   "execution_count": null,
   "metadata": {
    "collapsed": false
   },
   "outputs": [],
   "source": [
    "skb_gridsearch_results(fs_svc_params, out23)"
   ]
  },
  {
   "cell_type": "code",
   "execution_count": null,
   "metadata": {
    "collapsed": true
   },
   "outputs": [],
   "source": [
    "fs_lsvc_params = range(4, 25)\n",
    "gs_lsvc_params = {\n",
    "    'C' : [10**(i-3) for i in range(7)]    \n",
    "}\n",
    "out24 = []\n",
    "for ks in fs_lsvc_params:\n",
    "    feated_dd = general_transformer(SelectKBest(k=ks), scaled_dd)\n",
    "    gs_lsvc = GridSearchCV(LinearSVC(), param_grid=gs_lsvc_params)\n",
    "    out24.append(general_model(gs_lsvc, feated_dd))"
   ]
  },
  {
   "cell_type": "code",
   "execution_count": null,
   "metadata": {
    "collapsed": false
   },
   "outputs": [],
   "source": [
    "skb_gridsearch_results(fs_lsvc_params, out24)"
   ]
  },
  {
   "cell_type": "code",
   "execution_count": null,
   "metadata": {
    "collapsed": false
   },
   "outputs": [],
   "source": [
    "fs_lr_params = range(4, 25)    \n",
    "gs_lr_params = {\n",
    "    'penalty' : [\"l1\", \"l2\"],\n",
    "    'C' : [10**(i-3) for i in range(7)]    \n",
    "}    \n",
    "    \n",
    "out50 = full_stack(X_data, y_data, StandardScaler(), SelectKBest, LogisticRegression(), fs_lr_params, gs_lr_params, random_state=None)\n"
   ]
  },
  {
   "cell_type": "code",
   "execution_count": null,
   "metadata": {
    "collapsed": false
   },
   "outputs": [],
   "source": [
    "out50"
   ]
  },
  {
   "cell_type": "code",
   "execution_count": null,
   "metadata": {
    "collapsed": true
   },
   "outputs": [],
   "source": []
  }
 ],
 "metadata": {
  "anaconda-cloud": {},
  "kernelspec": {
   "display_name": "Python [conda root]",
   "language": "python",
   "name": "conda-root-py"
  },
  "language_info": {
   "codemirror_mode": {
    "name": "ipython",
    "version": 2
   },
   "file_extension": ".py",
   "mimetype": "text/x-python",
   "name": "python",
   "nbconvert_exporter": "python",
   "pygments_lexer": "ipython2",
   "version": "2.7.12"
  }
 },
 "nbformat": 4,
 "nbformat_minor": 1
}
