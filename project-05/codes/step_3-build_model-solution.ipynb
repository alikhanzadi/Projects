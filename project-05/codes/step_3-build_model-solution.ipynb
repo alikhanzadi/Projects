{
 "cells": [
  {
   "cell_type": "code",
   "execution_count": 1,
   "metadata": {
    "collapsed": true
   },
   "outputs": [],
   "source": [
    "from lib.project_5_solution import load_data_from_database, \\\n",
    "                                    make_data_dict, general_model, general_transformer"
   ]
  },
  {
   "cell_type": "markdown",
   "metadata": {},
   "source": [
    "# Step 3 - Build Model"
   ]
  },
  {
   "cell_type": "markdown",
   "metadata": {},
   "source": [
    "**NOTE: EACH OF THESE SHOULD BE WRITTEN SOLELY WITH REGARD TO STEP 3 - Build Model**\n",
    "\n",
    "### Domain and Data\n",
    "\n",
    "**TODO:** Write a simple statement about the domain of your problem and the dataset upon which you will be working. \n",
    "\n",
    "### Problem Statement\n",
    "\n",
    "**TODO:** Write a simple problem statement with regard to building your model. As this is the final step, you may want to be a bit more \"global\" here.\n",
    "\n",
    "### Solution Statement\n",
    "\n",
    "**TODO:** Write a simple solution statement with regard to building your model.\n",
    "\n",
    "### Metric\n",
    "\n",
    "**TODO**: Write a statement about the metric you will be using. \n",
    "\n",
    "### Benchmark\n",
    "\n",
    "**TODO**: This should refer to Step 1."
   ]
  },
  {
   "cell_type": "markdown",
   "metadata": {},
   "source": [
    "## Implementation\n",
    "\n",
    "Implement the following code pipeline using the functions you write in `lib/project_5.py`."
   ]
  },
  {
   "cell_type": "markdown",
   "metadata": {},
   "source": [
    "<img src=\"assets/build_model.png\" width=\"600px\">"
   ]
  },
  {
   "cell_type": "code",
   "execution_count": 2,
   "metadata": {
    "collapsed": true
   },
   "outputs": [],
   "source": [
    "from lib.project_5_solution import load_data_from_database, make_data_dict, general_model, general_transformer\n",
    "from math import pow\n",
    "from numpy import arange\n",
    "from sklearn.preprocessing import StandardScaler\n",
    "from sklearn.feature_selection import SelectKBest\n",
    "from sklearn.linear_model import LogisticRegression\n",
    "from sklearn.externals import joblib\n",
    "from sklearn.model_selection import GridSearchCV\n",
    "from sklearn.neighbors import KNeighborsClassifier"
   ]
  },
  {
   "cell_type": "code",
   "execution_count": 3,
   "metadata": {
    "collapsed": false
   },
   "outputs": [],
   "source": [
    "madelon_df = load_data_from_database()"
   ]
  },
  {
   "cell_type": "code",
   "execution_count": 5,
   "metadata": {
    "collapsed": false
   },
   "outputs": [],
   "source": [
    "gs_params = {\n",
    "    'C' : [pow(10, x) for x in arange(-2,1,.2)]\n",
    "}"
   ]
  },
  {
   "cell_type": "code",
   "execution_count": 6,
   "metadata": {
    "collapsed": false
   },
   "outputs": [],
   "source": [
    "gs_params = {\n",
    "    'C' : [pow(10, x) for x in arange(-2,1,.2)]\n",
    "}\n",
    "this_data_dictionary = make_data_dict(madelon_df)\n",
    "this_data_dictionary = general_transformer(StandardScaler(),\n",
    "                                           this_data_dictionary)\n",
    "this_data_dictionary = general_transformer(SelectKBest(k=20),\n",
    "                                           this_data_dictionary)\n",
    "this_gs_model = GridSearchCV(LogisticRegression(),\n",
    "                             param_grid=gs_params) \n",
    "this_data_dictionary = general_model(this_gs_model, this_data_dictionary)"
   ]
  },
  {
   "cell_type": "code",
   "execution_count": 7,
   "metadata": {
    "collapsed": false
   },
   "outputs": [
    {
     "data": {
      "text/plain": [
       "(0.61933333333333329, 0.57999999999999996)"
      ]
     },
     "execution_count": 7,
     "metadata": {},
     "output_type": "execute_result"
    }
   ],
   "source": [
    "this_data_dictionary['train_score'], this_data_dictionary['test_score']"
   ]
  },
  {
   "cell_type": "code",
   "execution_count": 8,
   "metadata": {
    "collapsed": false
   },
   "outputs": [
    {
     "data": {
      "text/plain": [
       "[StandardScaler(copy=True, with_mean=True, with_std=True),\n",
       " SelectKBest(k=20, score_func=<function f_classif at 0x7fece63849b0>),\n",
       " GridSearchCV(cv=None, error_score='raise',\n",
       "        estimator=LogisticRegression(C=1.0, class_weight=None, dual=False, fit_intercept=True,\n",
       "           intercept_scaling=1, max_iter=100, multi_class='ovr', n_jobs=1,\n",
       "           penalty='l2', random_state=None, solver='liblinear', tol=0.0001,\n",
       "           verbose=0, warm_start=False),\n",
       "        fit_params={}, iid=True, n_jobs=1,\n",
       "        param_grid={'C': [0.01, 0.015848931924611134, 0.025118864315095794, 0.03981071705534971, 0.0630957344480193, 0.09999999999999995, 0.15848931924611126, 0.25118864315095785, 0.3981071705534969, 0.6309573444801927, 0.999999999999999, 1.584893192461111, 2.511886431509577, 3.981071705534969, 6.309573444801924]},\n",
       "        pre_dispatch='2*n_jobs', refit=True, return_train_score=True,\n",
       "        scoring=None, verbose=0)]"
      ]
     },
     "execution_count": 8,
     "metadata": {},
     "output_type": "execute_result"
    }
   ],
   "source": [
    "this_data_dictionary['processes']"
   ]
  },
  {
   "cell_type": "code",
   "execution_count": 9,
   "metadata": {
    "collapsed": false
   },
   "outputs": [],
   "source": [
    "gs_params = {\n",
    "    'n_neighbors' : [5,7,9,11,13,15,17,19,21]\n",
    "}\n",
    "this_data_dictionary = make_data_dict(madelon_df)\n",
    "this_data_dictionary = general_transformer(StandardScaler(), this_data_dictionary)\n",
    "this_data_dictionary = general_transformer(SelectKBest(k=20), this_data_dictionary)\n",
    "this_gs_model = GridSearchCV(KNeighborsClassifier(), param_grid=gs_params) \n",
    "this_data_dictionary = general_model(this_gs_model, this_data_dictionary)"
   ]
  },
  {
   "cell_type": "code",
   "execution_count": 12,
   "metadata": {
    "collapsed": false
   },
   "outputs": [],
   "source": [
    "tuned_gs_model = this_data_dictionary['processes'][2]"
   ]
  },
  {
   "cell_type": "code",
   "execution_count": 21,
   "metadata": {
    "collapsed": false
   },
   "outputs": [
    {
     "data": {
      "text/plain": [
       "0.72199999999999998"
      ]
     },
     "execution_count": 21,
     "metadata": {},
     "output_type": "execute_result"
    }
   ],
   "source": [
    "tuned_gs_model.best_estimator_.score(this_data_dictionary['X_test'],\n",
    "                                     this_data_dictionary['y_test'])"
   ]
  },
  {
   "cell_type": "code",
   "execution_count": 20,
   "metadata": {
    "collapsed": false
   },
   "outputs": [
    {
     "data": {
      "text/plain": [
       "0.72199999999999998"
      ]
     },
     "execution_count": 20,
     "metadata": {},
     "output_type": "execute_result"
    }
   ],
   "source": [
    "tuned_gs_model.score(this_data_dictionary['X_test'],\n",
    "                     this_data_dictionary['y_test'])"
   ]
  },
  {
   "cell_type": "code",
   "execution_count": 16,
   "metadata": {
    "collapsed": false
   },
   "outputs": [
    {
     "data": {
      "text/plain": [
       "KNeighborsClassifier(algorithm='auto', leaf_size=30, metric='minkowski',\n",
       "           metric_params=None, n_jobs=1, n_neighbors=13, p=2,\n",
       "           weights='uniform')"
      ]
     },
     "execution_count": 16,
     "metadata": {},
     "output_type": "execute_result"
    }
   ],
   "source": [
    "this_data_dictionary['processes'][2].best_estimator_"
   ]
  },
  {
   "cell_type": "code",
   "execution_count": 17,
   "metadata": {
    "collapsed": true
   },
   "outputs": [
    {
     "data": {
      "text/plain": [
       "array([ 1,  1, -1, -1,  1, -1,  1, -1,  1,  1, -1, -1,  1, -1, -1,  1, -1,\n",
       "       -1, -1, -1,  1, -1,  1,  1,  1, -1,  1,  1, -1, -1, -1, -1, -1, -1,\n",
       "       -1, -1, -1, -1, -1, -1,  1,  1, -1,  1,  1,  1, -1, -1, -1,  1, -1,\n",
       "        1, -1,  1,  1, -1, -1,  1,  1, -1,  1,  1,  1, -1,  1,  1,  1,  1,\n",
       "        1,  1, -1, -1, -1, -1,  1, -1,  1, -1,  1, -1, -1, -1,  1, -1,  1,\n",
       "       -1, -1, -1, -1,  1,  1, -1,  1,  1, -1, -1,  1,  1,  1, -1,  1,  1,\n",
       "        1, -1, -1,  1, -1, -1,  1,  1, -1,  1,  1, -1,  1,  1,  1, -1, -1,\n",
       "        1, -1, -1,  1, -1, -1,  1, -1, -1, -1, -1, -1,  1, -1, -1, -1,  1,\n",
       "       -1,  1, -1, -1,  1,  1, -1, -1, -1, -1,  1,  1,  1, -1, -1, -1,  1,\n",
       "       -1, -1, -1, -1, -1,  1, -1,  1, -1, -1, -1,  1,  1,  1,  1,  1, -1,\n",
       "       -1, -1,  1,  1,  1, -1,  1,  1,  1, -1,  1, -1, -1, -1, -1,  1,  1,\n",
       "       -1,  1, -1, -1, -1,  1, -1,  1, -1, -1, -1, -1, -1,  1, -1, -1,  1,\n",
       "       -1, -1, -1,  1, -1, -1, -1, -1,  1,  1, -1, -1, -1,  1,  1, -1,  1,\n",
       "       -1,  1,  1, -1,  1, -1, -1,  1, -1,  1,  1,  1, -1, -1,  1,  1, -1,\n",
       "       -1, -1,  1, -1, -1, -1,  1,  1,  1,  1, -1,  1,  1,  1, -1, -1,  1,\n",
       "       -1, -1,  1,  1,  1, -1,  1,  1, -1,  1,  1,  1,  1, -1, -1,  1,  1,\n",
       "       -1,  1, -1, -1,  1,  1, -1, -1,  1, -1, -1, -1, -1,  1,  1, -1,  1,\n",
       "       -1,  1,  1,  1,  1, -1, -1, -1,  1,  1,  1, -1, -1, -1,  1,  1, -1,\n",
       "        1, -1,  1, -1,  1,  1,  1,  1,  1,  1,  1,  1, -1, -1,  1, -1, -1,\n",
       "       -1,  1,  1, -1,  1,  1,  1,  1, -1,  1,  1, -1,  1,  1, -1, -1, -1,\n",
       "        1,  1,  1,  1, -1,  1,  1, -1,  1,  1,  1,  1,  1, -1,  1,  1, -1,\n",
       "       -1, -1,  1,  1, -1,  1,  1, -1, -1, -1,  1,  1, -1,  1, -1, -1, -1,\n",
       "        1,  1, -1, -1, -1,  1,  1,  1,  1,  1, -1, -1,  1, -1, -1,  1, -1,\n",
       "        1, -1,  1, -1, -1,  1, -1,  1,  1, -1, -1, -1,  1,  1, -1, -1,  1,\n",
       "        1, -1,  1, -1,  1,  1, -1, -1, -1, -1, -1,  1,  1, -1,  1,  1,  1,\n",
       "        1, -1, -1, -1,  1, -1,  1, -1,  1, -1, -1, -1,  1, -1, -1, -1, -1,\n",
       "        1,  1,  1,  1, -1,  1,  1,  1, -1,  1,  1, -1, -1,  1,  1,  1,  1,\n",
       "        1, -1, -1, -1,  1,  1, -1,  1,  1, -1, -1, -1, -1, -1, -1, -1, -1,\n",
       "       -1, -1, -1, -1,  1, -1,  1, -1,  1, -1, -1, -1, -1,  1, -1, -1, -1,\n",
       "       -1, -1,  1,  1, -1, -1,  1])"
      ]
     },
     "execution_count": 17,
     "metadata": {},
     "output_type": "execute_result"
    }
   ],
   "source": [
    "tuned_gs_model.best_estimator_.predict(this_data_dictionary['X_test'])"
   ]
  },
  {
   "cell_type": "code",
   "execution_count": 19,
   "metadata": {
    "collapsed": false
   },
   "outputs": [
    {
     "data": {
      "text/plain": [
       "(0.79066666666666663, 0.72199999999999998)"
      ]
     },
     "execution_count": 19,
     "metadata": {},
     "output_type": "execute_result"
    }
   ],
   "source": [
    "this_data_dictionary['train_score'], this_data_dictionary['test_score']"
   ]
  },
  {
   "cell_type": "code",
   "execution_count": 18,
   "metadata": {
    "collapsed": false
   },
   "outputs": [
    {
     "data": {
      "text/html": [
       "<div>\n",
       "<table border=\"1\" class=\"dataframe\">\n",
       "  <thead>\n",
       "    <tr style=\"text-align: right;\">\n",
       "      <th></th>\n",
       "      <th>mean_fit_time</th>\n",
       "      <th>mean_score_time</th>\n",
       "      <th>mean_test_score</th>\n",
       "      <th>mean_train_score</th>\n",
       "      <th>param_n_neighbors</th>\n",
       "      <th>params</th>\n",
       "      <th>rank_test_score</th>\n",
       "      <th>split0_test_score</th>\n",
       "      <th>split0_train_score</th>\n",
       "      <th>split1_test_score</th>\n",
       "      <th>split1_train_score</th>\n",
       "      <th>split2_test_score</th>\n",
       "      <th>split2_train_score</th>\n",
       "      <th>std_fit_time</th>\n",
       "      <th>std_score_time</th>\n",
       "      <th>std_test_score</th>\n",
       "      <th>std_train_score</th>\n",
       "    </tr>\n",
       "  </thead>\n",
       "  <tbody>\n",
       "    <tr>\n",
       "      <th>0</th>\n",
       "      <td>0.004362</td>\n",
       "      <td>0.022979</td>\n",
       "      <td>0.729333</td>\n",
       "      <td>0.840670</td>\n",
       "      <td>5</td>\n",
       "      <td>{u'n_neighbors': 5}</td>\n",
       "      <td>3</td>\n",
       "      <td>0.730539</td>\n",
       "      <td>0.849850</td>\n",
       "      <td>0.726</td>\n",
       "      <td>0.832</td>\n",
       "      <td>0.731463</td>\n",
       "      <td>0.840160</td>\n",
       "      <td>0.003651</td>\n",
       "      <td>0.000181</td>\n",
       "      <td>0.002387</td>\n",
       "      <td>0.007296</td>\n",
       "    </tr>\n",
       "    <tr>\n",
       "      <th>1</th>\n",
       "      <td>0.001874</td>\n",
       "      <td>0.021362</td>\n",
       "      <td>0.729333</td>\n",
       "      <td>0.814004</td>\n",
       "      <td>7</td>\n",
       "      <td>{u'n_neighbors': 7}</td>\n",
       "      <td>3</td>\n",
       "      <td>0.732535</td>\n",
       "      <td>0.823824</td>\n",
       "      <td>0.720</td>\n",
       "      <td>0.805</td>\n",
       "      <td>0.735471</td>\n",
       "      <td>0.813187</td>\n",
       "      <td>0.000101</td>\n",
       "      <td>0.000748</td>\n",
       "      <td>0.006708</td>\n",
       "      <td>0.007706</td>\n",
       "    </tr>\n",
       "    <tr>\n",
       "      <th>2</th>\n",
       "      <td>0.002415</td>\n",
       "      <td>0.026240</td>\n",
       "      <td>0.722667</td>\n",
       "      <td>0.795674</td>\n",
       "      <td>9</td>\n",
       "      <td>{u'n_neighbors': 9}</td>\n",
       "      <td>8</td>\n",
       "      <td>0.732535</td>\n",
       "      <td>0.806807</td>\n",
       "      <td>0.718</td>\n",
       "      <td>0.796</td>\n",
       "      <td>0.717435</td>\n",
       "      <td>0.784216</td>\n",
       "      <td>0.000897</td>\n",
       "      <td>0.004789</td>\n",
       "      <td>0.006992</td>\n",
       "      <td>0.009226</td>\n",
       "    </tr>\n",
       "    <tr>\n",
       "      <th>3</th>\n",
       "      <td>0.002267</td>\n",
       "      <td>0.023934</td>\n",
       "      <td>0.724667</td>\n",
       "      <td>0.779997</td>\n",
       "      <td>11</td>\n",
       "      <td>{u'n_neighbors': 11}</td>\n",
       "      <td>6</td>\n",
       "      <td>0.738523</td>\n",
       "      <td>0.775776</td>\n",
       "      <td>0.732</td>\n",
       "      <td>0.779</td>\n",
       "      <td>0.703407</td>\n",
       "      <td>0.785215</td>\n",
       "      <td>0.000287</td>\n",
       "      <td>0.003069</td>\n",
       "      <td>0.015245</td>\n",
       "      <td>0.003917</td>\n",
       "    </tr>\n",
       "    <tr>\n",
       "      <th>4</th>\n",
       "      <td>0.002080</td>\n",
       "      <td>0.022828</td>\n",
       "      <td>0.737333</td>\n",
       "      <td>0.772669</td>\n",
       "      <td>13</td>\n",
       "      <td>{u'n_neighbors': 13}</td>\n",
       "      <td>1</td>\n",
       "      <td>0.748503</td>\n",
       "      <td>0.775776</td>\n",
       "      <td>0.742</td>\n",
       "      <td>0.773</td>\n",
       "      <td>0.721443</td>\n",
       "      <td>0.769231</td>\n",
       "      <td>0.000414</td>\n",
       "      <td>0.001423</td>\n",
       "      <td>0.011530</td>\n",
       "      <td>0.002682</td>\n",
       "    </tr>\n",
       "    <tr>\n",
       "      <th>5</th>\n",
       "      <td>0.001774</td>\n",
       "      <td>0.022075</td>\n",
       "      <td>0.732667</td>\n",
       "      <td>0.773334</td>\n",
       "      <td>15</td>\n",
       "      <td>{u'n_neighbors': 15}</td>\n",
       "      <td>2</td>\n",
       "      <td>0.742515</td>\n",
       "      <td>0.775776</td>\n",
       "      <td>0.736</td>\n",
       "      <td>0.769</td>\n",
       "      <td>0.719439</td>\n",
       "      <td>0.775225</td>\n",
       "      <td>0.000070</td>\n",
       "      <td>0.001012</td>\n",
       "      <td>0.009711</td>\n",
       "      <td>0.003073</td>\n",
       "    </tr>\n",
       "    <tr>\n",
       "      <th>6</th>\n",
       "      <td>0.002288</td>\n",
       "      <td>0.024106</td>\n",
       "      <td>0.728667</td>\n",
       "      <td>0.771996</td>\n",
       "      <td>17</td>\n",
       "      <td>{u'n_neighbors': 17}</td>\n",
       "      <td>5</td>\n",
       "      <td>0.728543</td>\n",
       "      <td>0.771772</td>\n",
       "      <td>0.728</td>\n",
       "      <td>0.759</td>\n",
       "      <td>0.729459</td>\n",
       "      <td>0.785215</td>\n",
       "      <td>0.000397</td>\n",
       "      <td>0.001214</td>\n",
       "      <td>0.000602</td>\n",
       "      <td>0.010703</td>\n",
       "    </tr>\n",
       "    <tr>\n",
       "      <th>7</th>\n",
       "      <td>0.002339</td>\n",
       "      <td>0.024087</td>\n",
       "      <td>0.724000</td>\n",
       "      <td>0.768661</td>\n",
       "      <td>19</td>\n",
       "      <td>{u'n_neighbors': 19}</td>\n",
       "      <td>7</td>\n",
       "      <td>0.720559</td>\n",
       "      <td>0.767768</td>\n",
       "      <td>0.722</td>\n",
       "      <td>0.752</td>\n",
       "      <td>0.729459</td>\n",
       "      <td>0.786214</td>\n",
       "      <td>0.000571</td>\n",
       "      <td>0.000198</td>\n",
       "      <td>0.003899</td>\n",
       "      <td>0.013982</td>\n",
       "    </tr>\n",
       "    <tr>\n",
       "      <th>8</th>\n",
       "      <td>0.002190</td>\n",
       "      <td>0.029452</td>\n",
       "      <td>0.713333</td>\n",
       "      <td>0.763997</td>\n",
       "      <td>21</td>\n",
       "      <td>{u'n_neighbors': 21}</td>\n",
       "      <td>9</td>\n",
       "      <td>0.720559</td>\n",
       "      <td>0.764765</td>\n",
       "      <td>0.718</td>\n",
       "      <td>0.754</td>\n",
       "      <td>0.701403</td>\n",
       "      <td>0.773227</td>\n",
       "      <td>0.000291</td>\n",
       "      <td>0.006594</td>\n",
       "      <td>0.008488</td>\n",
       "      <td>0.007868</td>\n",
       "    </tr>\n",
       "  </tbody>\n",
       "</table>\n",
       "</div>"
      ],
      "text/plain": [
       "   mean_fit_time  mean_score_time  mean_test_score  mean_train_score  \\\n",
       "0       0.004362         0.022979         0.729333          0.840670   \n",
       "1       0.001874         0.021362         0.729333          0.814004   \n",
       "2       0.002415         0.026240         0.722667          0.795674   \n",
       "3       0.002267         0.023934         0.724667          0.779997   \n",
       "4       0.002080         0.022828         0.737333          0.772669   \n",
       "5       0.001774         0.022075         0.732667          0.773334   \n",
       "6       0.002288         0.024106         0.728667          0.771996   \n",
       "7       0.002339         0.024087         0.724000          0.768661   \n",
       "8       0.002190         0.029452         0.713333          0.763997   \n",
       "\n",
       "  param_n_neighbors                params  rank_test_score  split0_test_score  \\\n",
       "0                 5   {u'n_neighbors': 5}                3           0.730539   \n",
       "1                 7   {u'n_neighbors': 7}                3           0.732535   \n",
       "2                 9   {u'n_neighbors': 9}                8           0.732535   \n",
       "3                11  {u'n_neighbors': 11}                6           0.738523   \n",
       "4                13  {u'n_neighbors': 13}                1           0.748503   \n",
       "5                15  {u'n_neighbors': 15}                2           0.742515   \n",
       "6                17  {u'n_neighbors': 17}                5           0.728543   \n",
       "7                19  {u'n_neighbors': 19}                7           0.720559   \n",
       "8                21  {u'n_neighbors': 21}                9           0.720559   \n",
       "\n",
       "   split0_train_score  split1_test_score  split1_train_score  \\\n",
       "0            0.849850              0.726               0.832   \n",
       "1            0.823824              0.720               0.805   \n",
       "2            0.806807              0.718               0.796   \n",
       "3            0.775776              0.732               0.779   \n",
       "4            0.775776              0.742               0.773   \n",
       "5            0.775776              0.736               0.769   \n",
       "6            0.771772              0.728               0.759   \n",
       "7            0.767768              0.722               0.752   \n",
       "8            0.764765              0.718               0.754   \n",
       "\n",
       "   split2_test_score  split2_train_score  std_fit_time  std_score_time  \\\n",
       "0           0.731463            0.840160      0.003651        0.000181   \n",
       "1           0.735471            0.813187      0.000101        0.000748   \n",
       "2           0.717435            0.784216      0.000897        0.004789   \n",
       "3           0.703407            0.785215      0.000287        0.003069   \n",
       "4           0.721443            0.769231      0.000414        0.001423   \n",
       "5           0.719439            0.775225      0.000070        0.001012   \n",
       "6           0.729459            0.785215      0.000397        0.001214   \n",
       "7           0.729459            0.786214      0.000571        0.000198   \n",
       "8           0.701403            0.773227      0.000291        0.006594   \n",
       "\n",
       "   std_test_score  std_train_score  \n",
       "0        0.002387         0.007296  \n",
       "1        0.006708         0.007706  \n",
       "2        0.006992         0.009226  \n",
       "3        0.015245         0.003917  \n",
       "4        0.011530         0.002682  \n",
       "5        0.009711         0.003073  \n",
       "6        0.000602         0.010703  \n",
       "7        0.003899         0.013982  \n",
       "8        0.008488         0.007868  "
      ]
     },
     "execution_count": 18,
     "metadata": {},
     "output_type": "execute_result"
    }
   ],
   "source": [
    "import pandas as pd\n",
    "pd.DataFrame(tuned_gs_model.cv_results_)"
   ]
  },
  {
   "cell_type": "code",
   "execution_count": 22,
   "metadata": {
    "collapsed": false
   },
   "outputs": [],
   "source": [
    "from sklearn.pipeline import make_pipeline\n",
    "knn_pipeline = make_pipeline(StandardScaler(),\n",
    "                             SelectKBest(),\n",
    "                             KNeighborsClassifier())"
   ]
  },
  {
   "cell_type": "code",
   "execution_count": 23,
   "metadata": {
    "collapsed": false
   },
   "outputs": [
    {
     "data": {
      "text/plain": [
       "[('standardscaler', StandardScaler(copy=True, with_mean=True, with_std=True)),\n",
       " ('selectkbest',\n",
       "  SelectKBest(k=10, score_func=<function f_classif at 0x7fece63849b0>)),\n",
       " ('kneighborsclassifier',\n",
       "  KNeighborsClassifier(algorithm='auto', leaf_size=30, metric='minkowski',\n",
       "             metric_params=None, n_jobs=1, n_neighbors=5, p=2,\n",
       "             weights='uniform'))]"
      ]
     },
     "execution_count": 23,
     "metadata": {},
     "output_type": "execute_result"
    }
   ],
   "source": [
    "knn_pipeline.steps"
   ]
  },
  {
   "cell_type": "code",
   "execution_count": 24,
   "metadata": {
    "collapsed": false
   },
   "outputs": [
    {
     "name": "stdout",
     "output_type": "stream",
     "text": [
      "random state: 42\n",
      "train score: 0.929333333333\n",
      "test score: 0.852\n",
      "Number of K Best for Best Fit: 10\n",
      "Number of Neighbors for Best Fit: 3\n",
      "Selected Features: 48, 64, 105, 128, 241, 336, 338, 378, 442, 475\n"
     ]
    }
   ],
   "source": [
    "random_state = 42\n",
    "gs_params = {\n",
    "    'selectkbest__k' : [30, 25, 24, 23, 22, 21, 20, 18, 16, 12, 10, 9, 8, 7 , 6, 5],\n",
    "    'kneighborsclassifier__n_neighbors' : [i for i in range(3, 26) if i % 2 == 1]\n",
    "}\n",
    "\n",
    "this_data_dictionary = make_data_dict(madelon_df, random_state=random_state)\n",
    "knn_pipe_gs = GridSearchCV(knn_pipeline, param_grid=gs_params)\n",
    "knn_pipe_gs.fit(this_data_dictionary['X_train'],\n",
    "                this_data_dictionary['y_train'])\n",
    "\n",
    "this_data_dictionary['train_score'] = knn_pipe_gs.score(this_data_dictionary['X_train'],\n",
    "                                                        this_data_dictionary['y_train'])\n",
    "\n",
    "this_data_dictionary['test_score'] = knn_pipe_gs.score(this_data_dictionary['X_test'],\n",
    "                                                       this_data_dictionary['y_test'])\n",
    "kbest = knn_pipe_gs.best_estimator_.steps[1][1]\n",
    "index_array = arange(len(kbest.get_support()))\n",
    "\n",
    "print(\"random state: {}\".format(random_state))\n",
    "print(\"train score: {}\".format(this_data_dictionary['train_score']))\n",
    "print(\"test score: {}\".format(this_data_dictionary['test_score']))\n",
    "print(\"Number of K Best for Best Fit: {}\".format(knn_pipe_gs.best_estimator_.steps[1][1].k))\n",
    "print(\"Number of Neighbors for Best Fit: {}\".format(knn_pipe_gs.best_estimator_.steps[2][1].n_neighbors))\n",
    "selected_indices = ', '.join([str(i) for i in index_array[kbest.get_support()]])\n",
    "print(\"Selected Features: {}\".format(selected_indices))"
   ]
  },
  {
   "cell_type": "code",
   "execution_count": 25,
   "metadata": {
    "collapsed": false
   },
   "outputs": [
    {
     "name": "stdout",
     "output_type": "stream",
     "text": [
      "random state: 25\n",
      "train score: 0.918\n",
      "test score: 0.848\n",
      "Number of K Best for Best Fit: 8\n",
      "Number of Neighbors for Best Fit: 3\n",
      "Selected Features: 64, 105, 128, 241, 336, 338, 442, 475\n"
     ]
    }
   ],
   "source": [
    "random_state = 25\n",
    "gs_params = {\n",
    "    'selectkbest__k' : [30, 25, 24, 23, 22, 21, 20, 18, 16, 12, 10, 9, 8, 7 , 6, 5],\n",
    "    'kneighborsclassifier__n_neighbors' : [i for i in range(3, 26) if i % 2 == 1]\n",
    "}\n",
    "\n",
    "this_data_dictionary = make_data_dict(madelon_df, random_state=random_state)\n",
    "knn_pipe_gs = GridSearchCV(knn_pipeline, param_grid=gs_params)\n",
    "knn_pipe_gs.fit(this_data_dictionary['X_train'],\n",
    "                this_data_dictionary['y_train'])\n",
    "\n",
    "this_data_dictionary['train_score'] = knn_pipe_gs.score(this_data_dictionary['X_train'],\n",
    "                                                        this_data_dictionary['y_train'])\n",
    "\n",
    "this_data_dictionary['test_score'] = knn_pipe_gs.score(this_data_dictionary['X_test'],\n",
    "                                                       this_data_dictionary['y_test'])\n",
    "kbest = knn_pipe_gs.best_estimator_.steps[1][1]\n",
    "index_array = arange(len(kbest.get_support()))\n",
    "\n",
    "print(\"random state: {}\".format(random_state))\n",
    "print(\"train score: {}\".format(this_data_dictionary['train_score']))\n",
    "print(\"test score: {}\".format(this_data_dictionary['test_score']))\n",
    "print(\"Number of K Best for Best Fit: {}\".format(knn_pipe_gs.best_estimator_.steps[1][1].k))\n",
    "print(\"Number of Neighbors for Best Fit: {}\".format(knn_pipe_gs.best_estimator_.steps[2][1].n_neighbors))\n",
    "selected_indices = ', '.join([str(i) for i in index_array[kbest.get_support()]])\n",
    "print(\"Selected Features: {}\".format(selected_indices))"
   ]
  },
  {
   "cell_type": "code",
   "execution_count": 26,
   "metadata": {
    "collapsed": false
   },
   "outputs": [
    {
     "name": "stdout",
     "output_type": "stream",
     "text": [
      "random state: 16\n",
      "train score: 0.921333333333\n",
      "test score: 0.864\n",
      "Number of K Best for Best Fit: 12\n",
      "Number of Neighbors for Best Fit: 5\n",
      "Selected Features: 48, 64, 105, 128, 241, 336, 338, 378, 442, 453, 472, 475\n"
     ]
    }
   ],
   "source": [
    "random_state = 16\n",
    "gs_params = {\n",
    "    'selectkbest__k' : [30, 25, 24, 23, 22, 21, 20, 18, 16, 12, 10, 9, 8, 7 , 6, 5],\n",
    "    'kneighborsclassifier__n_neighbors' : [i for i in range(3, 26) if i % 2 == 1]\n",
    "}\n",
    "\n",
    "this_data_dictionary = make_data_dict(madelon_df, random_state=random_state)\n",
    "knn_pipe_gs = GridSearchCV(knn_pipeline, param_grid=gs_params)\n",
    "knn_pipe_gs.fit(this_data_dictionary['X_train'],\n",
    "                this_data_dictionary['y_train'])\n",
    "\n",
    "this_data_dictionary['train_score'] = knn_pipe_gs.score(this_data_dictionary['X_train'],\n",
    "                                                        this_data_dictionary['y_train'])\n",
    "\n",
    "this_data_dictionary['test_score'] = knn_pipe_gs.score(this_data_dictionary['X_test'],\n",
    "                                                       this_data_dictionary['y_test'])\n",
    "kbest = knn_pipe_gs.best_estimator_.steps[1][1]\n",
    "index_array = arange(len(kbest.get_support()))\n",
    "\n",
    "print(\"random state: {}\".format(random_state))\n",
    "print(\"train score: {}\".format(this_data_dictionary['train_score']))\n",
    "print(\"test score: {}\".format(this_data_dictionary['test_score']))\n",
    "print(\"Number of K Best for Best Fit: {}\".format(knn_pipe_gs.best_estimator_.steps[1][1].k))\n",
    "print(\"Number of Neighbors for Best Fit: {}\".format(knn_pipe_gs.best_estimator_.steps[2][1].n_neighbors))\n",
    "selected_indices = ', '.join([str(i) for i in index_array[kbest.get_support()]])\n",
    "print(\"Selected Features: {}\".format(selected_indices))"
   ]
  },
  {
   "cell_type": "code",
   "execution_count": 27,
   "metadata": {
    "collapsed": false
   },
   "outputs": [
    {
     "name": "stdout",
     "output_type": "stream",
     "text": [
      "random state: 9\n",
      "train score: 0.908666666667\n",
      "test score: 0.856\n",
      "Number of K Best for Best Fit: 10\n",
      "Number of Neighbors for Best Fit: 5\n",
      "Selected Features: 48, 64, 105, 128, 241, 336, 338, 378, 442, 475\n"
     ]
    }
   ],
   "source": [
    "random_state = 9\n",
    "gs_params = {\n",
    "    'selectkbest__k' : [30, 25, 24, 23, 22, 21, 20, 18, 16, 12, 10, 9, 8, 7 , 6, 5],\n",
    "    'kneighborsclassifier__n_neighbors' : [i for i in range(3, 26) if i % 2 == 1]\n",
    "}\n",
    "\n",
    "this_data_dictionary = make_data_dict(madelon_df, random_state=random_state)\n",
    "knn_pipe_gs = GridSearchCV(knn_pipeline, param_grid=gs_params)\n",
    "knn_pipe_gs.fit(this_data_dictionary['X_train'],\n",
    "                this_data_dictionary['y_train'])\n",
    "\n",
    "this_data_dictionary['train_score'] = knn_pipe_gs.score(this_data_dictionary['X_train'],\n",
    "                                                        this_data_dictionary['y_train'])\n",
    "\n",
    "this_data_dictionary['test_score'] = knn_pipe_gs.score(this_data_dictionary['X_test'],\n",
    "                                                       this_data_dictionary['y_test'])\n",
    "kbest = knn_pipe_gs.best_estimator_.steps[1][1]\n",
    "index_array = arange(len(kbest.get_support()))\n",
    "\n",
    "print(\"random state: {}\".format(random_state))\n",
    "print(\"train score: {}\".format(this_data_dictionary['train_score']))\n",
    "print(\"test score: {}\".format(this_data_dictionary['test_score']))\n",
    "print(\"Number of K Best for Best Fit: {}\".format(knn_pipe_gs.best_estimator_.steps[1][1].k))\n",
    "print(\"Number of Neighbors for Best Fit: {}\".format(knn_pipe_gs.best_estimator_.steps[2][1].n_neighbors))\n",
    "selected_indices = ', '.join([str(i) for i in index_array[kbest.get_support()]])\n",
    "print(\"Selected Features: {}\".format(selected_indices))"
   ]
  },
  {
   "cell_type": "code",
   "execution_count": null,
   "metadata": {
    "collapsed": true
   },
   "outputs": [],
   "source": []
  }
 ],
 "metadata": {
  "kernelspec": {
   "display_name": "Python 2",
   "language": "python",
   "name": "python2"
  },
  "language_info": {
   "codemirror_mode": {
    "name": "ipython",
    "version": 2
   },
   "file_extension": ".py",
   "mimetype": "text/x-python",
   "name": "python",
   "nbconvert_exporter": "python",
   "pygments_lexer": "ipython2",
   "version": "2.7.11"
  },
  "widgets": {
   "state": {},
   "version": "1.1.2"
  }
 },
 "nbformat": 4,
 "nbformat_minor": 1
}
