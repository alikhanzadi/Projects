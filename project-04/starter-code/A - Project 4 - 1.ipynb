{
 "cells": [
  {
   "cell_type": "markdown",
   "metadata": {
    "focus": false,
    "id": "04563b69-f7b6-466f-9d65-fc62c9ddee6a"
   },
   "source": [
    "## Predicting salaries using Logistic Regression"
   ]
  },
  {
   "cell_type": "markdown",
   "metadata": {
    "focus": false,
    "id": "243e949e-2742-40af-872e-fec475fd306c"
   },
   "source": [
    "#### Load in the the data of scraped salaries"
   ]
  },
  {
   "cell_type": "code",
   "execution_count": 13,
   "metadata": {
    "collapsed": false
   },
   "outputs": [],
   "source": [
    "## YOUR CODE HERE\n",
    "import pandas as pd\n",
    "import numpy as np\n",
    "\n",
    "import matplotlib.pyplot as plt\n",
    "import matplotlib.mlab as mlab\n",
    "import seaborn as sns"
   ]
  },
  {
   "cell_type": "code",
   "execution_count": 14,
   "metadata": {
    "collapsed": false,
    "focus": false,
    "id": "588f9845-6143-4bcc-bfd1-85d45b79303d"
   },
   "outputs": [
    {
     "data": {
      "text/html": [
       "<div>\n",
       "<table border=\"1\" class=\"dataframe\">\n",
       "  <thead>\n",
       "    <tr style=\"text-align: right;\">\n",
       "      <th></th>\n",
       "      <th>city</th>\n",
       "      <th>company</th>\n",
       "      <th>salary</th>\n",
       "      <th>summary</th>\n",
       "      <th>title</th>\n",
       "      <th>parsed_salary</th>\n",
       "    </tr>\n",
       "  </thead>\n",
       "  <tbody>\n",
       "    <tr>\n",
       "      <th>0</th>\n",
       "      <td>Denver</td>\n",
       "      <td>Department Of The Interior</td>\n",
       "      <td>$76,341 - $99,243 a year</td>\n",
       "      <td>Would you like to join the more than 10,000 sc...</td>\n",
       "      <td>Statistician, GS-1350-12 (DEU-PERM-DS)</td>\n",
       "      <td>87792.0</td>\n",
       "    </tr>\n",
       "    <tr>\n",
       "      <th>1</th>\n",
       "      <td>Denver</td>\n",
       "      <td>Department Of The Interior</td>\n",
       "      <td>$71,012 - $99,243 a year</td>\n",
       "      <td>Investigate potential uses of geospatial data ...</td>\n",
       "      <td>Interdisciplinary Cartographer/Geographer - GS...</td>\n",
       "      <td>85127.5</td>\n",
       "    </tr>\n",
       "    <tr>\n",
       "      <th>2</th>\n",
       "      <td>Denver</td>\n",
       "      <td>Mental Health Center of Denver</td>\n",
       "      <td>$70,000 - $80,000 a year</td>\n",
       "      <td>Advise the Data Developer with regard to creat...</td>\n",
       "      <td>Financial Data Scientist</td>\n",
       "      <td>75000.0</td>\n",
       "    </tr>\n",
       "    <tr>\n",
       "      <th>3</th>\n",
       "      <td>Denver</td>\n",
       "      <td>Denver Public Schools</td>\n",
       "      <td>$62,712 - $75,255 a year</td>\n",
       "      <td>Portal managers on student outcome data report...</td>\n",
       "      <td>SENIOR RESEARCH ANALYST</td>\n",
       "      <td>68983.5</td>\n",
       "    </tr>\n",
       "    <tr>\n",
       "      <th>4</th>\n",
       "      <td>Denver</td>\n",
       "      <td>University of Colorado</td>\n",
       "      <td>$25,000 - $29,000 a year</td>\n",
       "      <td>Experience entering and manipulating data in a...</td>\n",
       "      <td>Animal Care I</td>\n",
       "      <td>27000.0</td>\n",
       "    </tr>\n",
       "    <tr>\n",
       "      <th>5</th>\n",
       "      <td>Denver</td>\n",
       "      <td>Denver Health</td>\n",
       "      <td>$93,645 a year</td>\n",
       "      <td>Functions largely independently but reports to...</td>\n",
       "      <td>Assistant Research Scientist - RADARS</td>\n",
       "      <td>93645.0</td>\n",
       "    </tr>\n",
       "    <tr>\n",
       "      <th>6</th>\n",
       "      <td>Denver</td>\n",
       "      <td>Denver Health</td>\n",
       "      <td>$66,654 a year</td>\n",
       "      <td>Assist research director, assistant research d...</td>\n",
       "      <td>Statistical Research Specialist</td>\n",
       "      <td>66654.0</td>\n",
       "    </tr>\n",
       "    <tr>\n",
       "      <th>7</th>\n",
       "      <td>Denver</td>\n",
       "      <td>Denver Health</td>\n",
       "      <td>$66,654 a year</td>\n",
       "      <td>Assist research director, assistant research d...</td>\n",
       "      <td>Statistical Research Scientist - RADARS</td>\n",
       "      <td>66654.0</td>\n",
       "    </tr>\n",
       "    <tr>\n",
       "      <th>8</th>\n",
       "      <td>Denver</td>\n",
       "      <td>University of Colorado</td>\n",
       "      <td>$65,000 - $90,000 a year</td>\n",
       "      <td>And effective working relationships with physi...</td>\n",
       "      <td>Regulatory &amp; Compliance Manager</td>\n",
       "      <td>77500.0</td>\n",
       "    </tr>\n",
       "    <tr>\n",
       "      <th>9</th>\n",
       "      <td>Denver</td>\n",
       "      <td>Computer Enterprises, Inc.</td>\n",
       "      <td>$130,000 a year</td>\n",
       "      <td>We are looking for a Software Engineer/Data Sc...</td>\n",
       "      <td>Software Engineer/Data Scientist</td>\n",
       "      <td>130000.0</td>\n",
       "    </tr>\n",
       "    <tr>\n",
       "      <th>10</th>\n",
       "      <td>Denver</td>\n",
       "      <td>Potatoes USA</td>\n",
       "      <td>$85,000 a year</td>\n",
       "      <td>Extensive knowledge and experience analyzing s...</td>\n",
       "      <td>Global Marketing Manager - Ingredient and Scho...</td>\n",
       "      <td>85000.0</td>\n",
       "    </tr>\n",
       "    <tr>\n",
       "      <th>11</th>\n",
       "      <td>Denver</td>\n",
       "      <td>Department Of The Interior</td>\n",
       "      <td>$43,037 - $68,430 a year</td>\n",
       "      <td>Preparing graphs and data profiles; Conduct li...</td>\n",
       "      <td>Geologist GS-1350-07/09 (DEU - TERM - JG)</td>\n",
       "      <td>55733.5</td>\n",
       "    </tr>\n",
       "    <tr>\n",
       "      <th>12</th>\n",
       "      <td>Denver</td>\n",
       "      <td>University of Colorado</td>\n",
       "      <td>$42,000 - $45,000 a year</td>\n",
       "      <td>Data as appropriate; Primarily to clinical car...</td>\n",
       "      <td>Professional Research Assistant - Data Manager</td>\n",
       "      <td>43500.0</td>\n",
       "    </tr>\n",
       "    <tr>\n",
       "      <th>13</th>\n",
       "      <td>Denver</td>\n",
       "      <td>University of Colorado</td>\n",
       "      <td>$42,000 - $46,500 a year</td>\n",
       "      <td>Ensures accurate data entry of tissue bank pat...</td>\n",
       "      <td>Professional Research Assistant - Tissue Bank ...</td>\n",
       "      <td>44250.0</td>\n",
       "    </tr>\n",
       "    <tr>\n",
       "      <th>14</th>\n",
       "      <td>Denver</td>\n",
       "      <td>DigitalGlobe</td>\n",
       "      <td>$105,000 a year</td>\n",
       "      <td>DigitalGlobe's Geospatial Big Data (GBD) initi...</td>\n",
       "      <td>Platform Developer/Geospatial Big Data (Python)</td>\n",
       "      <td>105000.0</td>\n",
       "    </tr>\n",
       "    <tr>\n",
       "      <th>15</th>\n",
       "      <td>Denver</td>\n",
       "      <td>University of Colorado</td>\n",
       "      <td>$45,000 - $50,000 a year</td>\n",
       "      <td>Investigator, Study Sponsor, FDA, Data and Saf...</td>\n",
       "      <td>Professional Research Assistant - Clinical Res...</td>\n",
       "      <td>47500.0</td>\n",
       "    </tr>\n",
       "    <tr>\n",
       "      <th>16</th>\n",
       "      <td>Denver</td>\n",
       "      <td>Fahrenheit IT</td>\n",
       "      <td>$170,000 a year</td>\n",
       "      <td>Doing all this with an exceptional group of so...</td>\n",
       "      <td>DevOps Engineer</td>\n",
       "      <td>170000.0</td>\n",
       "    </tr>\n",
       "    <tr>\n",
       "      <th>17</th>\n",
       "      <td>Austin</td>\n",
       "      <td>TechTank Staffing &amp; Consulting Solutions</td>\n",
       "      <td>$140,000 a year</td>\n",
       "      <td>What are we looking for in this Data Scientist...</td>\n",
       "      <td>Data Scientist Programmer/Specialist</td>\n",
       "      <td>140000.0</td>\n",
       "    </tr>\n",
       "    <tr>\n",
       "      <th>18</th>\n",
       "      <td>Austin</td>\n",
       "      <td>All-In Analytics</td>\n",
       "      <td>$140,000 - $160,000 a year</td>\n",
       "      <td>Senior Deep Learning Data Scientist. Forecasti...</td>\n",
       "      <td>Senior Deep Learning Data Scientist</td>\n",
       "      <td>150000.0</td>\n",
       "    </tr>\n",
       "    <tr>\n",
       "      <th>19</th>\n",
       "      <td>Austin</td>\n",
       "      <td>Emoters Robotics</td>\n",
       "      <td>$70,000 - $100,000 a year</td>\n",
       "      <td>At Emoters, we’re developing tiny, autonomous ...</td>\n",
       "      <td>Robotics software engineer (involves machine l...</td>\n",
       "      <td>85000.0</td>\n",
       "    </tr>\n",
       "    <tr>\n",
       "      <th>20</th>\n",
       "      <td>Austin</td>\n",
       "      <td>Myriad Development</td>\n",
       "      <td>$35,000 a year</td>\n",
       "      <td>Myriad Development is an Austin, TX based lead...</td>\n",
       "      <td>Research Analyst/Customer Serv</td>\n",
       "      <td>35000.0</td>\n",
       "    </tr>\n",
       "    <tr>\n",
       "      <th>21</th>\n",
       "      <td>Austin</td>\n",
       "      <td>Roland &amp; Associates</td>\n",
       "      <td>$160,000 a year</td>\n",
       "      <td>Data Scientist.Job Type :. They are currently ...</td>\n",
       "      <td>Data Scientist</td>\n",
       "      <td>160000.0</td>\n",
       "    </tr>\n",
       "    <tr>\n",
       "      <th>22</th>\n",
       "      <td>Austin</td>\n",
       "      <td>JE Compliance</td>\n",
       "      <td>$37,000 - $45,000 a year</td>\n",
       "      <td>The ability to interact with many different ty...</td>\n",
       "      <td>International Environmental Specialist</td>\n",
       "      <td>41000.0</td>\n",
       "    </tr>\n",
       "    <tr>\n",
       "      <th>23</th>\n",
       "      <td>Austin</td>\n",
       "      <td>Providence Partners</td>\n",
       "      <td>$65,000 a year</td>\n",
       "      <td>Company Located in South Austin, we are the le...</td>\n",
       "      <td>Research Analyst (excel, analysis, client-facing)</td>\n",
       "      <td>65000.0</td>\n",
       "    </tr>\n",
       "    <tr>\n",
       "      <th>24</th>\n",
       "      <td>Seattle</td>\n",
       "      <td>Pullskill Technologies</td>\n",
       "      <td>$120,000 a year</td>\n",
       "      <td>Lead Data Scientist Recruiter*. Data Scientist...</td>\n",
       "      <td>Data Scientist (Software Engineering)</td>\n",
       "      <td>120000.0</td>\n",
       "    </tr>\n",
       "    <tr>\n",
       "      <th>25</th>\n",
       "      <td>Seattle</td>\n",
       "      <td>Harvey Nash USA</td>\n",
       "      <td>$135,000 a year</td>\n",
       "      <td>They are looking for a Type B data scientist:....</td>\n",
       "      <td>Data Science Engineer</td>\n",
       "      <td>135000.0</td>\n",
       "    </tr>\n",
       "    <tr>\n",
       "      <th>26</th>\n",
       "      <td>Seattle</td>\n",
       "      <td>Seattle Pacific University</td>\n",
       "      <td>$80,000 - $85,000 a year</td>\n",
       "      <td>Manages data warehousing, data analytic soluti...</td>\n",
       "      <td>BI/Data Architect</td>\n",
       "      <td>82500.0</td>\n",
       "    </tr>\n",
       "    <tr>\n",
       "      <th>27</th>\n",
       "      <td>Seattle</td>\n",
       "      <td>Rakuten, Inc.</td>\n",
       "      <td>$140,000 a year</td>\n",
       "      <td>Additionally, this position provides an opport...</td>\n",
       "      <td>Software Development Engineer (Machine Learning)</td>\n",
       "      <td>140000.0</td>\n",
       "    </tr>\n",
       "    <tr>\n",
       "      <th>28</th>\n",
       "      <td>Seattle</td>\n",
       "      <td>All-In Analytics</td>\n",
       "      <td>$150,000 - $230,000 a year</td>\n",
       "      <td>Digital Data Scientist. Big Data Mining and An...</td>\n",
       "      <td>Digital Data Scientist</td>\n",
       "      <td>190000.0</td>\n",
       "    </tr>\n",
       "    <tr>\n",
       "      <th>29</th>\n",
       "      <td>Seattle</td>\n",
       "      <td>All-In Analytics</td>\n",
       "      <td>$110,000 - $130,000 a year</td>\n",
       "      <td>Data Scientist, Compensation Analytics. Must b...</td>\n",
       "      <td>Sr. Data Scientist, Compensation Analytics</td>\n",
       "      <td>120000.0</td>\n",
       "    </tr>\n",
       "    <tr>\n",
       "      <th>...</th>\n",
       "      <td>...</td>\n",
       "      <td>...</td>\n",
       "      <td>...</td>\n",
       "      <td>...</td>\n",
       "      <td>...</td>\n",
       "      <td>...</td>\n",
       "    </tr>\n",
       "    <tr>\n",
       "      <th>383</th>\n",
       "      <td>San+Francisco</td>\n",
       "      <td>University of California Berkeley</td>\n",
       "      <td>$67,500 - $81,600 a year</td>\n",
       "      <td>Ensures accuracy and completeness of data in m...</td>\n",
       "      <td>Database Administrator, GSE</td>\n",
       "      <td>74550.0</td>\n",
       "    </tr>\n",
       "    <tr>\n",
       "      <th>384</th>\n",
       "      <td>San+Francisco</td>\n",
       "      <td>Workbridge Associates</td>\n",
       "      <td>$165,000 - $195,000 a year</td>\n",
       "      <td>The role will be working on technology that pr...</td>\n",
       "      <td>Staff Engineer, Machine Learning (Scala)</td>\n",
       "      <td>180000.0</td>\n",
       "    </tr>\n",
       "    <tr>\n",
       "      <th>385</th>\n",
       "      <td>San+Francisco</td>\n",
       "      <td>Jobspring Partners</td>\n",
       "      <td>$180,000 - $275,000 a year</td>\n",
       "      <td>This is an opportunity to lead a team of talen...</td>\n",
       "      <td>Vice President Engineering (Big Data/ Machine ...</td>\n",
       "      <td>227500.0</td>\n",
       "    </tr>\n",
       "    <tr>\n",
       "      <th>386</th>\n",
       "      <td>San+Francisco</td>\n",
       "      <td>LT</td>\n",
       "      <td>$125,000 a year</td>\n",
       "      <td>We have four QA engineers with three more open...</td>\n",
       "      <td>QA Engineer</td>\n",
       "      <td>125000.0</td>\n",
       "    </tr>\n",
       "    <tr>\n",
       "      <th>387</th>\n",
       "      <td>San+Francisco</td>\n",
       "      <td>NJF Search</td>\n",
       "      <td>$140,000 a year</td>\n",
       "      <td>My client is a prop trading firm in SF seeks a...</td>\n",
       "      <td>Equity Research Analyst - US Energy Stocks</td>\n",
       "      <td>140000.0</td>\n",
       "    </tr>\n",
       "    <tr>\n",
       "      <th>388</th>\n",
       "      <td>San+Francisco</td>\n",
       "      <td>Lighthouse Recruiting</td>\n",
       "      <td>$75,000 - $95,000 a year</td>\n",
       "      <td>Join our Medical Laboratory Scientists Groups:...</td>\n",
       "      <td>Billing Specialist</td>\n",
       "      <td>85000.0</td>\n",
       "    </tr>\n",
       "    <tr>\n",
       "      <th>389</th>\n",
       "      <td>San+Francisco</td>\n",
       "      <td>Global Placement Firm</td>\n",
       "      <td>$130 - $140 a day</td>\n",
       "      <td>This role is suited for a self-directed Senior...</td>\n",
       "      <td>Senior Web Research Scientist</td>\n",
       "      <td>NaN</td>\n",
       "    </tr>\n",
       "    <tr>\n",
       "      <th>390</th>\n",
       "      <td>San+Francisco</td>\n",
       "      <td>LT</td>\n",
       "      <td>$200,000 a year</td>\n",
       "      <td>We have four QA engineers with three more open...</td>\n",
       "      <td>Java Developer</td>\n",
       "      <td>200000.0</td>\n",
       "    </tr>\n",
       "    <tr>\n",
       "      <th>391</th>\n",
       "      <td>San+Francisco</td>\n",
       "      <td>Workbridge Associates</td>\n",
       "      <td>$150,000 - $200,000 a year</td>\n",
       "      <td>Drive creation of best practices and new stand...</td>\n",
       "      <td>Director of Data Science (Mapping)</td>\n",
       "      <td>175000.0</td>\n",
       "    </tr>\n",
       "    <tr>\n",
       "      <th>392</th>\n",
       "      <td>San+Francisco</td>\n",
       "      <td>LT</td>\n",
       "      <td>$180,000 a year</td>\n",
       "      <td>We have two QA engineers with three more open ...</td>\n",
       "      <td>Erlang Engineer</td>\n",
       "      <td>180000.0</td>\n",
       "    </tr>\n",
       "    <tr>\n",
       "      <th>393</th>\n",
       "      <td>San+Francisco</td>\n",
       "      <td>HSF Consulting</td>\n",
       "      <td>$180,000 a year</td>\n",
       "      <td>Monitor data munging processes- data validatio...</td>\n",
       "      <td>Data Operations Manager</td>\n",
       "      <td>180000.0</td>\n",
       "    </tr>\n",
       "    <tr>\n",
       "      <th>394</th>\n",
       "      <td>Atlanta</td>\n",
       "      <td>firstPRO</td>\n",
       "      <td>$100,000 a year</td>\n",
       "      <td>Data scientist, SQL, data anlysis, R:. Fast gr...</td>\n",
       "      <td>Data Scientist / SQL</td>\n",
       "      <td>100000.0</td>\n",
       "    </tr>\n",
       "    <tr>\n",
       "      <th>395</th>\n",
       "      <td>Atlanta</td>\n",
       "      <td>Ga. Dept. of Admin. Services</td>\n",
       "      <td>$36,000 - $46,000 a year</td>\n",
       "      <td>Statistical Data Analyst. Strong data research...</td>\n",
       "      <td>Statistical Data Analyst</td>\n",
       "      <td>41000.0</td>\n",
       "    </tr>\n",
       "    <tr>\n",
       "      <th>396</th>\n",
       "      <td>Atlanta</td>\n",
       "      <td>Centers for Disease Control and Prevention</td>\n",
       "      <td>$61,956 - $96,538 a year</td>\n",
       "      <td>As a Health Scientist your will:. In addition ...</td>\n",
       "      <td>Health Scientist</td>\n",
       "      <td>79247.0</td>\n",
       "    </tr>\n",
       "    <tr>\n",
       "      <th>397</th>\n",
       "      <td>Atlanta</td>\n",
       "      <td>Centers for Disease Control and Prevention</td>\n",
       "      <td>$122,744 - $159,572 a year</td>\n",
       "      <td>As a Supervisory Health Scientist, you will. Q...</td>\n",
       "      <td>Supervisory Health Scientist</td>\n",
       "      <td>141158.0</td>\n",
       "    </tr>\n",
       "    <tr>\n",
       "      <th>398</th>\n",
       "      <td>Atlanta</td>\n",
       "      <td>Emory University</td>\n",
       "      <td>$33,400 a year</td>\n",
       "      <td>Compiles data and records results of studies f...</td>\n",
       "      <td>Research Specialist</td>\n",
       "      <td>33400.0</td>\n",
       "    </tr>\n",
       "    <tr>\n",
       "      <th>399</th>\n",
       "      <td>Atlanta</td>\n",
       "      <td>Centers for Disease Control and Prevention</td>\n",
       "      <td>$74,260 - $114,802 a year</td>\n",
       "      <td>As an Interdisciplinary Health Scientist/ Beha...</td>\n",
       "      <td>Interdisciplinary Health Scientist/ Behavioral...</td>\n",
       "      <td>94531.0</td>\n",
       "    </tr>\n",
       "    <tr>\n",
       "      <th>400</th>\n",
       "      <td>Atlanta</td>\n",
       "      <td>Wismettac Asian Foods, Inc.</td>\n",
       "      <td>$50,794 a year</td>\n",
       "      <td>Wismettac Asian Foods, Inc., (formerly Nishimo...</td>\n",
       "      <td>Market Research Analyst</td>\n",
       "      <td>50794.0</td>\n",
       "    </tr>\n",
       "    <tr>\n",
       "      <th>401</th>\n",
       "      <td>Atlanta</td>\n",
       "      <td>Emory University</td>\n",
       "      <td>$56,200 a year</td>\n",
       "      <td>Using an advanced knowledge of research method...</td>\n",
       "      <td>Asc Dir, Research Projects</td>\n",
       "      <td>56200.0</td>\n",
       "    </tr>\n",
       "    <tr>\n",
       "      <th>402</th>\n",
       "      <td>Atlanta</td>\n",
       "      <td>Emory University</td>\n",
       "      <td>$52,300 a year</td>\n",
       "      <td>Responsible for post-award processing of grant...</td>\n",
       "      <td>Research Financial Analyst (Dept/Sch)</td>\n",
       "      <td>52300.0</td>\n",
       "    </tr>\n",
       "    <tr>\n",
       "      <th>403</th>\n",
       "      <td>Atlanta</td>\n",
       "      <td>Velossent</td>\n",
       "      <td>$160,000 a year</td>\n",
       "      <td>Experience with leading teams comprised of Dat...</td>\n",
       "      <td>Director of Data</td>\n",
       "      <td>160000.0</td>\n",
       "    </tr>\n",
       "    <tr>\n",
       "      <th>404</th>\n",
       "      <td>Atlanta</td>\n",
       "      <td>Selby Jennings</td>\n",
       "      <td>$175,000 - $250,000 a year</td>\n",
       "      <td>While statistical modeling is a primary aspect...</td>\n",
       "      <td>Statistical Credit Risk Modeler | Top Performi...</td>\n",
       "      <td>212500.0</td>\n",
       "    </tr>\n",
       "    <tr>\n",
       "      <th>405</th>\n",
       "      <td>Atlanta</td>\n",
       "      <td>firstPRO</td>\n",
       "      <td>$120,000 a year</td>\n",
       "      <td>Growing and highly stable company has an immed...</td>\n",
       "      <td>C++ Developer / Machine Learning</td>\n",
       "      <td>120000.0</td>\n",
       "    </tr>\n",
       "    <tr>\n",
       "      <th>406</th>\n",
       "      <td>Atlanta</td>\n",
       "      <td>CSTE</td>\n",
       "      <td>$54,182 a year</td>\n",
       "      <td>Skills with developing and presenting epidemio...</td>\n",
       "      <td>Associate Research Analyst</td>\n",
       "      <td>54182.0</td>\n",
       "    </tr>\n",
       "    <tr>\n",
       "      <th>407</th>\n",
       "      <td>Atlanta</td>\n",
       "      <td>Smith Hanley Associates</td>\n",
       "      <td>$65,000 - $110,000 a year</td>\n",
       "      <td>An individual with previous modeling experienc...</td>\n",
       "      <td>Research Statistician - Payment Cards</td>\n",
       "      <td>87500.0</td>\n",
       "    </tr>\n",
       "    <tr>\n",
       "      <th>408</th>\n",
       "      <td>Atlanta</td>\n",
       "      <td>JVI</td>\n",
       "      <td>$55,000 a year</td>\n",
       "      <td>Real Estate Research Analyst - Title Research ...</td>\n",
       "      <td>Real Estate / Title Research Analyst</td>\n",
       "      <td>55000.0</td>\n",
       "    </tr>\n",
       "    <tr>\n",
       "      <th>409</th>\n",
       "      <td>Atlanta</td>\n",
       "      <td>Synergy Search Group</td>\n",
       "      <td>$80,000 a year</td>\n",
       "      <td>Duties will include data conversion from multi...</td>\n",
       "      <td>Audit Snr (Banking) - Data Analysis 60K-80K</td>\n",
       "      <td>80000.0</td>\n",
       "    </tr>\n",
       "    <tr>\n",
       "      <th>410</th>\n",
       "      <td>Atlanta</td>\n",
       "      <td>Smith Hanley Associates</td>\n",
       "      <td>$75,000 - $100,000 a year</td>\n",
       "      <td>-Business based experience doing data mining a...</td>\n",
       "      <td>Marketing Statistician</td>\n",
       "      <td>87500.0</td>\n",
       "    </tr>\n",
       "    <tr>\n",
       "      <th>411</th>\n",
       "      <td>Atlanta</td>\n",
       "      <td>Principle Solutions Group</td>\n",
       "      <td>$80,000 a year</td>\n",
       "      <td>Working knowledge of data center management co...</td>\n",
       "      <td>DevOps Engineer</td>\n",
       "      <td>80000.0</td>\n",
       "    </tr>\n",
       "    <tr>\n",
       "      <th>412</th>\n",
       "      <td>Atlanta</td>\n",
       "      <td>Amana Academy Charter School</td>\n",
       "      <td>$30,000 - $39,999 a year</td>\n",
       "      <td>Accounts Receivables - data entry. Invoice dat...</td>\n",
       "      <td>School Business Manager and Human Resources (HR)</td>\n",
       "      <td>34999.5</td>\n",
       "    </tr>\n",
       "  </tbody>\n",
       "</table>\n",
       "<p>413 rows × 6 columns</p>\n",
       "</div>"
      ],
      "text/plain": [
       "              city                                     company  \\\n",
       "0           Denver                  Department Of The Interior   \n",
       "1           Denver                  Department Of The Interior   \n",
       "2           Denver              Mental Health Center of Denver   \n",
       "3           Denver                       Denver Public Schools   \n",
       "4           Denver                      University of Colorado   \n",
       "5           Denver                               Denver Health   \n",
       "6           Denver                               Denver Health   \n",
       "7           Denver                               Denver Health   \n",
       "8           Denver                      University of Colorado   \n",
       "9           Denver                  Computer Enterprises, Inc.   \n",
       "10          Denver                                Potatoes USA   \n",
       "11          Denver                  Department Of The Interior   \n",
       "12          Denver                      University of Colorado   \n",
       "13          Denver                      University of Colorado   \n",
       "14          Denver                                DigitalGlobe   \n",
       "15          Denver                      University of Colorado   \n",
       "16          Denver                               Fahrenheit IT   \n",
       "17          Austin    TechTank Staffing & Consulting Solutions   \n",
       "18          Austin                            All-In Analytics   \n",
       "19          Austin                            Emoters Robotics   \n",
       "20          Austin                          Myriad Development   \n",
       "21          Austin                         Roland & Associates   \n",
       "22          Austin                               JE Compliance   \n",
       "23          Austin                         Providence Partners   \n",
       "24         Seattle                      Pullskill Technologies   \n",
       "25         Seattle                             Harvey Nash USA   \n",
       "26         Seattle                  Seattle Pacific University   \n",
       "27         Seattle                               Rakuten, Inc.   \n",
       "28         Seattle                            All-In Analytics   \n",
       "29         Seattle                            All-In Analytics   \n",
       "..             ...                                         ...   \n",
       "383  San+Francisco           University of California Berkeley   \n",
       "384  San+Francisco                       Workbridge Associates   \n",
       "385  San+Francisco                          Jobspring Partners   \n",
       "386  San+Francisco                                          LT   \n",
       "387  San+Francisco                                  NJF Search   \n",
       "388  San+Francisco                       Lighthouse Recruiting   \n",
       "389  San+Francisco                       Global Placement Firm   \n",
       "390  San+Francisco                                          LT   \n",
       "391  San+Francisco                       Workbridge Associates   \n",
       "392  San+Francisco                                          LT   \n",
       "393  San+Francisco                              HSF Consulting   \n",
       "394        Atlanta                                    firstPRO   \n",
       "395        Atlanta                Ga. Dept. of Admin. Services   \n",
       "396        Atlanta  Centers for Disease Control and Prevention   \n",
       "397        Atlanta  Centers for Disease Control and Prevention   \n",
       "398        Atlanta                            Emory University   \n",
       "399        Atlanta  Centers for Disease Control and Prevention   \n",
       "400        Atlanta                 Wismettac Asian Foods, Inc.   \n",
       "401        Atlanta                            Emory University   \n",
       "402        Atlanta                            Emory University   \n",
       "403        Atlanta                                   Velossent   \n",
       "404        Atlanta                              Selby Jennings   \n",
       "405        Atlanta                                    firstPRO   \n",
       "406        Atlanta                                        CSTE   \n",
       "407        Atlanta                     Smith Hanley Associates   \n",
       "408        Atlanta                                         JVI   \n",
       "409        Atlanta                        Synergy Search Group   \n",
       "410        Atlanta                     Smith Hanley Associates   \n",
       "411        Atlanta                   Principle Solutions Group   \n",
       "412        Atlanta                Amana Academy Charter School   \n",
       "\n",
       "                         salary  \\\n",
       "0      $76,341 - $99,243 a year   \n",
       "1      $71,012 - $99,243 a year   \n",
       "2      $70,000 - $80,000 a year   \n",
       "3      $62,712 - $75,255 a year   \n",
       "4      $25,000 - $29,000 a year   \n",
       "5                $93,645 a year   \n",
       "6                $66,654 a year   \n",
       "7                $66,654 a year   \n",
       "8      $65,000 - $90,000 a year   \n",
       "9               $130,000 a year   \n",
       "10               $85,000 a year   \n",
       "11     $43,037 - $68,430 a year   \n",
       "12     $42,000 - $45,000 a year   \n",
       "13     $42,000 - $46,500 a year   \n",
       "14              $105,000 a year   \n",
       "15     $45,000 - $50,000 a year   \n",
       "16              $170,000 a year   \n",
       "17              $140,000 a year   \n",
       "18   $140,000 - $160,000 a year   \n",
       "19    $70,000 - $100,000 a year   \n",
       "20               $35,000 a year   \n",
       "21              $160,000 a year   \n",
       "22     $37,000 - $45,000 a year   \n",
       "23               $65,000 a year   \n",
       "24              $120,000 a year   \n",
       "25              $135,000 a year   \n",
       "26     $80,000 - $85,000 a year   \n",
       "27              $140,000 a year   \n",
       "28   $150,000 - $230,000 a year   \n",
       "29   $110,000 - $130,000 a year   \n",
       "..                          ...   \n",
       "383    $67,500 - $81,600 a year   \n",
       "384  $165,000 - $195,000 a year   \n",
       "385  $180,000 - $275,000 a year   \n",
       "386             $125,000 a year   \n",
       "387             $140,000 a year   \n",
       "388    $75,000 - $95,000 a year   \n",
       "389           $130 - $140 a day   \n",
       "390             $200,000 a year   \n",
       "391  $150,000 - $200,000 a year   \n",
       "392             $180,000 a year   \n",
       "393             $180,000 a year   \n",
       "394             $100,000 a year   \n",
       "395    $36,000 - $46,000 a year   \n",
       "396    $61,956 - $96,538 a year   \n",
       "397  $122,744 - $159,572 a year   \n",
       "398              $33,400 a year   \n",
       "399   $74,260 - $114,802 a year   \n",
       "400              $50,794 a year   \n",
       "401              $56,200 a year   \n",
       "402              $52,300 a year   \n",
       "403             $160,000 a year   \n",
       "404  $175,000 - $250,000 a year   \n",
       "405             $120,000 a year   \n",
       "406              $54,182 a year   \n",
       "407   $65,000 - $110,000 a year   \n",
       "408              $55,000 a year   \n",
       "409              $80,000 a year   \n",
       "410   $75,000 - $100,000 a year   \n",
       "411              $80,000 a year   \n",
       "412    $30,000 - $39,999 a year   \n",
       "\n",
       "                                               summary  \\\n",
       "0    Would you like to join the more than 10,000 sc...   \n",
       "1    Investigate potential uses of geospatial data ...   \n",
       "2    Advise the Data Developer with regard to creat...   \n",
       "3    Portal managers on student outcome data report...   \n",
       "4    Experience entering and manipulating data in a...   \n",
       "5    Functions largely independently but reports to...   \n",
       "6    Assist research director, assistant research d...   \n",
       "7    Assist research director, assistant research d...   \n",
       "8    And effective working relationships with physi...   \n",
       "9    We are looking for a Software Engineer/Data Sc...   \n",
       "10   Extensive knowledge and experience analyzing s...   \n",
       "11   Preparing graphs and data profiles; Conduct li...   \n",
       "12   Data as appropriate; Primarily to clinical car...   \n",
       "13   Ensures accurate data entry of tissue bank pat...   \n",
       "14   DigitalGlobe's Geospatial Big Data (GBD) initi...   \n",
       "15   Investigator, Study Sponsor, FDA, Data and Saf...   \n",
       "16   Doing all this with an exceptional group of so...   \n",
       "17   What are we looking for in this Data Scientist...   \n",
       "18   Senior Deep Learning Data Scientist. Forecasti...   \n",
       "19   At Emoters, we’re developing tiny, autonomous ...   \n",
       "20   Myriad Development is an Austin, TX based lead...   \n",
       "21   Data Scientist.Job Type :. They are currently ...   \n",
       "22   The ability to interact with many different ty...   \n",
       "23   Company Located in South Austin, we are the le...   \n",
       "24   Lead Data Scientist Recruiter*. Data Scientist...   \n",
       "25   They are looking for a Type B data scientist:....   \n",
       "26   Manages data warehousing, data analytic soluti...   \n",
       "27   Additionally, this position provides an opport...   \n",
       "28   Digital Data Scientist. Big Data Mining and An...   \n",
       "29   Data Scientist, Compensation Analytics. Must b...   \n",
       "..                                                 ...   \n",
       "383  Ensures accuracy and completeness of data in m...   \n",
       "384  The role will be working on technology that pr...   \n",
       "385  This is an opportunity to lead a team of talen...   \n",
       "386  We have four QA engineers with three more open...   \n",
       "387  My client is a prop trading firm in SF seeks a...   \n",
       "388  Join our Medical Laboratory Scientists Groups:...   \n",
       "389  This role is suited for a self-directed Senior...   \n",
       "390  We have four QA engineers with three more open...   \n",
       "391  Drive creation of best practices and new stand...   \n",
       "392  We have two QA engineers with three more open ...   \n",
       "393  Monitor data munging processes- data validatio...   \n",
       "394  Data scientist, SQL, data anlysis, R:. Fast gr...   \n",
       "395  Statistical Data Analyst. Strong data research...   \n",
       "396  As a Health Scientist your will:. In addition ...   \n",
       "397  As a Supervisory Health Scientist, you will. Q...   \n",
       "398  Compiles data and records results of studies f...   \n",
       "399  As an Interdisciplinary Health Scientist/ Beha...   \n",
       "400  Wismettac Asian Foods, Inc., (formerly Nishimo...   \n",
       "401  Using an advanced knowledge of research method...   \n",
       "402  Responsible for post-award processing of grant...   \n",
       "403  Experience with leading teams comprised of Dat...   \n",
       "404  While statistical modeling is a primary aspect...   \n",
       "405  Growing and highly stable company has an immed...   \n",
       "406  Skills with developing and presenting epidemio...   \n",
       "407  An individual with previous modeling experienc...   \n",
       "408  Real Estate Research Analyst - Title Research ...   \n",
       "409  Duties will include data conversion from multi...   \n",
       "410  -Business based experience doing data mining a...   \n",
       "411  Working knowledge of data center management co...   \n",
       "412  Accounts Receivables - data entry. Invoice dat...   \n",
       "\n",
       "                                                 title  parsed_salary  \n",
       "0               Statistician, GS-1350-12 (DEU-PERM-DS)        87792.0  \n",
       "1    Interdisciplinary Cartographer/Geographer - GS...        85127.5  \n",
       "2                             Financial Data Scientist        75000.0  \n",
       "3                              SENIOR RESEARCH ANALYST        68983.5  \n",
       "4                                        Animal Care I        27000.0  \n",
       "5                Assistant Research Scientist - RADARS        93645.0  \n",
       "6                      Statistical Research Specialist        66654.0  \n",
       "7              Statistical Research Scientist - RADARS        66654.0  \n",
       "8                      Regulatory & Compliance Manager        77500.0  \n",
       "9                     Software Engineer/Data Scientist       130000.0  \n",
       "10   Global Marketing Manager - Ingredient and Scho...        85000.0  \n",
       "11           Geologist GS-1350-07/09 (DEU - TERM - JG)        55733.5  \n",
       "12      Professional Research Assistant - Data Manager        43500.0  \n",
       "13   Professional Research Assistant - Tissue Bank ...        44250.0  \n",
       "14     Platform Developer/Geospatial Big Data (Python)       105000.0  \n",
       "15   Professional Research Assistant - Clinical Res...        47500.0  \n",
       "16                                     DevOps Engineer       170000.0  \n",
       "17                Data Scientist Programmer/Specialist       140000.0  \n",
       "18                 Senior Deep Learning Data Scientist       150000.0  \n",
       "19   Robotics software engineer (involves machine l...        85000.0  \n",
       "20                      Research Analyst/Customer Serv        35000.0  \n",
       "21                                      Data Scientist       160000.0  \n",
       "22              International Environmental Specialist        41000.0  \n",
       "23   Research Analyst (excel, analysis, client-facing)        65000.0  \n",
       "24               Data Scientist (Software Engineering)       120000.0  \n",
       "25                               Data Science Engineer       135000.0  \n",
       "26                                   BI/Data Architect        82500.0  \n",
       "27    Software Development Engineer (Machine Learning)       140000.0  \n",
       "28                              Digital Data Scientist       190000.0  \n",
       "29          Sr. Data Scientist, Compensation Analytics       120000.0  \n",
       "..                                                 ...            ...  \n",
       "383                        Database Administrator, GSE        74550.0  \n",
       "384           Staff Engineer, Machine Learning (Scala)       180000.0  \n",
       "385  Vice President Engineering (Big Data/ Machine ...       227500.0  \n",
       "386                                        QA Engineer       125000.0  \n",
       "387         Equity Research Analyst - US Energy Stocks       140000.0  \n",
       "388                                 Billing Specialist        85000.0  \n",
       "389                      Senior Web Research Scientist            NaN  \n",
       "390                                     Java Developer       200000.0  \n",
       "391                 Director of Data Science (Mapping)       175000.0  \n",
       "392                                    Erlang Engineer       180000.0  \n",
       "393                            Data Operations Manager       180000.0  \n",
       "394                               Data Scientist / SQL       100000.0  \n",
       "395                           Statistical Data Analyst        41000.0  \n",
       "396                                   Health Scientist        79247.0  \n",
       "397                       Supervisory Health Scientist       141158.0  \n",
       "398                                Research Specialist        33400.0  \n",
       "399  Interdisciplinary Health Scientist/ Behavioral...        94531.0  \n",
       "400                            Market Research Analyst        50794.0  \n",
       "401                         Asc Dir, Research Projects        56200.0  \n",
       "402              Research Financial Analyst (Dept/Sch)        52300.0  \n",
       "403                                   Director of Data       160000.0  \n",
       "404  Statistical Credit Risk Modeler | Top Performi...       212500.0  \n",
       "405                   C++ Developer / Machine Learning       120000.0  \n",
       "406                         Associate Research Analyst        54182.0  \n",
       "407              Research Statistician - Payment Cards        87500.0  \n",
       "408               Real Estate / Title Research Analyst        55000.0  \n",
       "409        Audit Snr (Banking) - Data Analysis 60K-80K        80000.0  \n",
       "410                             Marketing Statistician        87500.0  \n",
       "411                                    DevOps Engineer        80000.0  \n",
       "412   School Business Manager and Human Resources (HR)        34999.5  \n",
       "\n",
       "[413 rows x 6 columns]"
      ]
     },
     "execution_count": 14,
     "metadata": {},
     "output_type": "execute_result"
    }
   ],
   "source": [
    "data = pd.read_csv('../assets/indeed-scraped-job-postings.csv')\n",
    "data"
   ]
  },
  {
   "cell_type": "code",
   "execution_count": 15,
   "metadata": {
    "collapsed": false
   },
   "outputs": [
    {
     "name": "stdout",
     "output_type": "stream",
     "text": [
      "<class 'pandas.core.frame.DataFrame'>\n",
      "RangeIndex: 413 entries, 0 to 412\n",
      "Data columns (total 6 columns):\n",
      "city             413 non-null object\n",
      "company          413 non-null object\n",
      "salary           413 non-null object\n",
      "summary          413 non-null object\n",
      "title            413 non-null object\n",
      "parsed_salary    406 non-null float64\n",
      "dtypes: float64(1), object(5)\n",
      "memory usage: 19.4+ KB\n"
     ]
    }
   ],
   "source": [
    "data.info()"
   ]
  },
  {
   "cell_type": "code",
   "execution_count": 16,
   "metadata": {
    "collapsed": false
   },
   "outputs": [
    {
     "data": {
      "text/plain": [
       "array([ 41, 123, 124, 189, 310, 367, 389], dtype=int64)"
      ]
     },
     "execution_count": 16,
     "metadata": {},
     "output_type": "execute_result"
    }
   ],
   "source": [
    "parsed_salary_null = pd.isnull(data['parsed_salary'])\n",
    "data_science_salary_data_missing = data[parsed_salary_null == True]\n",
    "Salary_data_missing_rows = data_science_salary_data_missing.index.values\n",
    "Salary_data_missing_rows"
   ]
  },
  {
   "cell_type": "code",
   "execution_count": 17,
   "metadata": {
    "collapsed": false
   },
   "outputs": [
    {
     "data": {
      "text/html": [
       "<div>\n",
       "<table border=\"1\" class=\"dataframe\">\n",
       "  <thead>\n",
       "    <tr style=\"text-align: right;\">\n",
       "      <th></th>\n",
       "      <th>city</th>\n",
       "      <th>company</th>\n",
       "      <th>salary</th>\n",
       "      <th>summary</th>\n",
       "      <th>title</th>\n",
       "      <th>parsed_salary</th>\n",
       "    </tr>\n",
       "  </thead>\n",
       "  <tbody>\n",
       "    <tr>\n",
       "      <th>0</th>\n",
       "      <td>Denver</td>\n",
       "      <td>Department Of The Interior</td>\n",
       "      <td>$76,341 - $99,243 a year</td>\n",
       "      <td>Would you like to join the more than 10,000 sc...</td>\n",
       "      <td>Statistician, GS-1350-12 (DEU-PERM-DS)</td>\n",
       "      <td>87792.0</td>\n",
       "    </tr>\n",
       "    <tr>\n",
       "      <th>1</th>\n",
       "      <td>Denver</td>\n",
       "      <td>Department Of The Interior</td>\n",
       "      <td>$71,012 - $99,243 a year</td>\n",
       "      <td>Investigate potential uses of geospatial data ...</td>\n",
       "      <td>Interdisciplinary Cartographer/Geographer - GS...</td>\n",
       "      <td>85127.5</td>\n",
       "    </tr>\n",
       "    <tr>\n",
       "      <th>2</th>\n",
       "      <td>Denver</td>\n",
       "      <td>Mental Health Center of Denver</td>\n",
       "      <td>$70,000 - $80,000 a year</td>\n",
       "      <td>Advise the Data Developer with regard to creat...</td>\n",
       "      <td>Financial Data Scientist</td>\n",
       "      <td>75000.0</td>\n",
       "    </tr>\n",
       "    <tr>\n",
       "      <th>3</th>\n",
       "      <td>Denver</td>\n",
       "      <td>Denver Public Schools</td>\n",
       "      <td>$62,712 - $75,255 a year</td>\n",
       "      <td>Portal managers on student outcome data report...</td>\n",
       "      <td>SENIOR RESEARCH ANALYST</td>\n",
       "      <td>68983.5</td>\n",
       "    </tr>\n",
       "    <tr>\n",
       "      <th>4</th>\n",
       "      <td>Denver</td>\n",
       "      <td>University of Colorado</td>\n",
       "      <td>$25,000 - $29,000 a year</td>\n",
       "      <td>Experience entering and manipulating data in a...</td>\n",
       "      <td>Animal Care I</td>\n",
       "      <td>27000.0</td>\n",
       "    </tr>\n",
       "  </tbody>\n",
       "</table>\n",
       "</div>"
      ],
      "text/plain": [
       "     city                         company                    salary  \\\n",
       "0  Denver      Department Of The Interior  $76,341 - $99,243 a year   \n",
       "1  Denver      Department Of The Interior  $71,012 - $99,243 a year   \n",
       "2  Denver  Mental Health Center of Denver  $70,000 - $80,000 a year   \n",
       "3  Denver           Denver Public Schools  $62,712 - $75,255 a year   \n",
       "4  Denver          University of Colorado  $25,000 - $29,000 a year   \n",
       "\n",
       "                                             summary  \\\n",
       "0  Would you like to join the more than 10,000 sc...   \n",
       "1  Investigate potential uses of geospatial data ...   \n",
       "2  Advise the Data Developer with regard to creat...   \n",
       "3  Portal managers on student outcome data report...   \n",
       "4  Experience entering and manipulating data in a...   \n",
       "\n",
       "                                               title  parsed_salary  \n",
       "0             Statistician, GS-1350-12 (DEU-PERM-DS)        87792.0  \n",
       "1  Interdisciplinary Cartographer/Geographer - GS...        85127.5  \n",
       "2                           Financial Data Scientist        75000.0  \n",
       "3                            SENIOR RESEARCH ANALYST        68983.5  \n",
       "4                                      Animal Care I        27000.0  "
      ]
     },
     "execution_count": 17,
     "metadata": {},
     "output_type": "execute_result"
    }
   ],
   "source": [
    "Parsed_salary_missing_data = [(100/8)*2000,(120/8)*2000,\n",
    "                              (120/8)*2000,(775/8)*2000,\n",
    "                              (150/8)*2000,(82.5/8)*2000,(135/8)*2000]\n",
    "Missing_salary = zip(Salary_data_missing_rows, Parsed_salary_missing_data)\n",
    "for i,j in Missing_salary:\n",
    "    data.at[i,'parsed_salary'] = j\n",
    "data.head()"
   ]
  },
  {
   "cell_type": "code",
   "execution_count": 18,
   "metadata": {
    "collapsed": false
   },
   "outputs": [
    {
     "data": {
      "text/plain": [
       "106819.07869249395"
      ]
     },
     "execution_count": 18,
     "metadata": {},
     "output_type": "execute_result"
    }
   ],
   "source": [
    "parsed_salary_mean = data.parsed_salary.mean()\n",
    "parsed_salary_mean"
   ]
  },
  {
   "cell_type": "code",
   "execution_count": 107,
   "metadata": {
    "collapsed": false
   },
   "outputs": [
    {
     "data": {
      "text/plain": [
       "100000.0"
      ]
     },
     "execution_count": 107,
     "metadata": {},
     "output_type": "execute_result"
    }
   ],
   "source": [
    "parsed_salary_median = data.parsed_salary.median()\n",
    "parsed_salary_median"
   ]
  },
  {
   "cell_type": "code",
   "execution_count": 108,
   "metadata": {
    "collapsed": false
   },
   "outputs": [
    {
     "data": {
      "text/html": [
       "<div>\n",
       "<table border=\"1\" class=\"dataframe\">\n",
       "  <thead>\n",
       "    <tr style=\"text-align: right;\">\n",
       "      <th></th>\n",
       "      <th>parsed_salary</th>\n",
       "    </tr>\n",
       "  </thead>\n",
       "  <tbody>\n",
       "    <tr>\n",
       "      <th>count</th>\n",
       "      <td>413.000000</td>\n",
       "    </tr>\n",
       "    <tr>\n",
       "      <th>mean</th>\n",
       "      <td>106819.078692</td>\n",
       "    </tr>\n",
       "    <tr>\n",
       "      <th>std</th>\n",
       "      <td>49610.232837</td>\n",
       "    </tr>\n",
       "    <tr>\n",
       "      <th>min</th>\n",
       "      <td>10000.000000</td>\n",
       "    </tr>\n",
       "    <tr>\n",
       "      <th>25%</th>\n",
       "      <td>67632.000000</td>\n",
       "    </tr>\n",
       "    <tr>\n",
       "      <th>50%</th>\n",
       "      <td>100000.000000</td>\n",
       "    </tr>\n",
       "    <tr>\n",
       "      <th>75%</th>\n",
       "      <td>141158.000000</td>\n",
       "    </tr>\n",
       "    <tr>\n",
       "      <th>max</th>\n",
       "      <td>300000.000000</td>\n",
       "    </tr>\n",
       "  </tbody>\n",
       "</table>\n",
       "</div>"
      ],
      "text/plain": [
       "       parsed_salary\n",
       "count     413.000000\n",
       "mean   106819.078692\n",
       "std     49610.232837\n",
       "min     10000.000000\n",
       "25%     67632.000000\n",
       "50%    100000.000000\n",
       "75%    141158.000000\n",
       "max    300000.000000"
      ]
     },
     "execution_count": 108,
     "metadata": {},
     "output_type": "execute_result"
    }
   ],
   "source": [
    "data.describe()"
   ]
  },
  {
   "cell_type": "code",
   "execution_count": 109,
   "metadata": {
    "collapsed": false
   },
   "outputs": [
    {
     "data": {
      "image/png": "[encoded data removed]",
      "text/plain": [
       "<matplotlib.figure.Figure at 0x1189bff50>"
      ]
     },
     "metadata": {},
     "output_type": "display_data"
    }
   ],
   "source": [
    "column_parsed_salary = data.parsed_salary\n",
    "column_parsed_salary_mean = column_parsed_salary.mean()\n",
    "column_parsed_salary_std = np.std(column_parsed_salary)\n",
    "bin_num = 30\n",
    "\n",
    "\n",
    "n, bins, patches = plt.hist(column_parsed_salary, \n",
    "                            bin_num, normed=1, facecolor='purple', alpha=0.5)\n",
    "y = mlab.normpdf(bins, column_parsed_salary_mean,\n",
    "                 column_parsed_salary_std)\n",
    "plt.plot(bins, y)\n",
    "plt.show()"
   ]
  },
  {
   "cell_type": "markdown",
   "metadata": {
    "focus": false,
    "id": "c7631f51-07f2-4c79-a093-3e9bc7849a48"
   },
   "source": [
    "#### We want to predict a binary variable - whether the salary was low or high. Compute the median salary and create a new binary variable that is true when the salary is high (above the median)\n",
    "\n",
    "We could also perform Linear Regression (or any regression) to predict the salary value here. Instead, we are going to convert this into a _binary_ classification problem, by predicting two classes, HIGH vs LOW salary.\n",
    "\n",
    "While performing regression may be better, performing classification may help remove some of the noise of the extreme salaries. We don't have to choice the `median` as the splitting point - we could also split on the 75th percentile or any other reasonable breaking point.\n",
    "\n",
    "In fact, the ideal scenario may be to predict many levels of salaries, "
   ]
  },
  {
   "cell_type": "code",
   "execution_count": 110,
   "metadata": {
    "collapsed": false,
    "focus": false,
    "id": "c20d2498-151c-44c3-a453-3a333c79a0ac",
    "scrolled": false
   },
   "outputs": [],
   "source": [
    "## YOUR CODE HERE\n",
    "data['salary_class'] = range(len(data))\n",
    "for i, j in enumerate(data.parsed_salary):\n",
    "    if j >= parsed_salary_mean:\n",
    "        data['salary_class'].ix[i] = 1\n",
    "    else:\n",
    "        data['salary_class'].ix[i] = 0"
   ]
  },
  {
   "cell_type": "code",
   "execution_count": 111,
   "metadata": {
    "collapsed": false
   },
   "outputs": [
    {
     "data": {
      "text/html": [
       "<div>\n",
       "<table border=\"1\" class=\"dataframe\">\n",
       "  <thead>\n",
       "    <tr style=\"text-align: right;\">\n",
       "      <th></th>\n",
       "      <th>city</th>\n",
       "      <th>company</th>\n",
       "      <th>salary</th>\n",
       "      <th>summary</th>\n",
       "      <th>title</th>\n",
       "      <th>parsed_salary</th>\n",
       "      <th>salary_class</th>\n",
       "    </tr>\n",
       "  </thead>\n",
       "  <tbody>\n",
       "    <tr>\n",
       "      <th>0</th>\n",
       "      <td>Denver</td>\n",
       "      <td>Department Of The Interior</td>\n",
       "      <td>$76,341 - $99,243 a year</td>\n",
       "      <td>Would you like to join the more than 10,000 sc...</td>\n",
       "      <td>Statistician, GS-1350-12 (DEU-PERM-DS)</td>\n",
       "      <td>87792.0</td>\n",
       "      <td>0</td>\n",
       "    </tr>\n",
       "    <tr>\n",
       "      <th>1</th>\n",
       "      <td>Denver</td>\n",
       "      <td>Department Of The Interior</td>\n",
       "      <td>$71,012 - $99,243 a year</td>\n",
       "      <td>Investigate potential uses of geospatial data ...</td>\n",
       "      <td>Interdisciplinary Cartographer/Geographer - GS...</td>\n",
       "      <td>85127.5</td>\n",
       "      <td>0</td>\n",
       "    </tr>\n",
       "    <tr>\n",
       "      <th>2</th>\n",
       "      <td>Denver</td>\n",
       "      <td>Mental Health Center of Denver</td>\n",
       "      <td>$70,000 - $80,000 a year</td>\n",
       "      <td>Advise the Data Developer with regard to creat...</td>\n",
       "      <td>Financial Data Scientist</td>\n",
       "      <td>75000.0</td>\n",
       "      <td>0</td>\n",
       "    </tr>\n",
       "    <tr>\n",
       "      <th>3</th>\n",
       "      <td>Denver</td>\n",
       "      <td>Denver Public Schools</td>\n",
       "      <td>$62,712 - $75,255 a year</td>\n",
       "      <td>Portal managers on student outcome data report...</td>\n",
       "      <td>SENIOR RESEARCH ANALYST</td>\n",
       "      <td>68983.5</td>\n",
       "      <td>0</td>\n",
       "    </tr>\n",
       "    <tr>\n",
       "      <th>4</th>\n",
       "      <td>Denver</td>\n",
       "      <td>University of Colorado</td>\n",
       "      <td>$25,000 - $29,000 a year</td>\n",
       "      <td>Experience entering and manipulating data in a...</td>\n",
       "      <td>Animal Care I</td>\n",
       "      <td>27000.0</td>\n",
       "      <td>0</td>\n",
       "    </tr>\n",
       "  </tbody>\n",
       "</table>\n",
       "</div>"
      ],
      "text/plain": [
       "     city                         company                    salary  \\\n",
       "0  Denver      Department Of The Interior  $76,341 - $99,243 a year   \n",
       "1  Denver      Department Of The Interior  $71,012 - $99,243 a year   \n",
       "2  Denver  Mental Health Center of Denver  $70,000 - $80,000 a year   \n",
       "3  Denver           Denver Public Schools  $62,712 - $75,255 a year   \n",
       "4  Denver          University of Colorado  $25,000 - $29,000 a year   \n",
       "\n",
       "                                             summary  \\\n",
       "0  Would you like to join the more than 10,000 sc...   \n",
       "1  Investigate potential uses of geospatial data ...   \n",
       "2  Advise the Data Developer with regard to creat...   \n",
       "3  Portal managers on student outcome data report...   \n",
       "4  Experience entering and manipulating data in a...   \n",
       "\n",
       "                                               title  parsed_salary  \\\n",
       "0             Statistician, GS-1350-12 (DEU-PERM-DS)        87792.0   \n",
       "1  Interdisciplinary Cartographer/Geographer - GS...        85127.5   \n",
       "2                           Financial Data Scientist        75000.0   \n",
       "3                            SENIOR RESEARCH ANALYST        68983.5   \n",
       "4                                      Animal Care I        27000.0   \n",
       "\n",
       "   salary_class  \n",
       "0             0  \n",
       "1             0  \n",
       "2             0  \n",
       "3             0  \n",
       "4             0  "
      ]
     },
     "execution_count": 111,
     "metadata": {},
     "output_type": "execute_result"
    }
   ],
   "source": [
    "data.head(5)"
   ]
  },
  {
   "cell_type": "markdown",
   "metadata": {
    "focus": false,
    "id": "a7afb2c0-d41e-4779-8216-91cd8dd4473f"
   },
   "source": [
    "#### Thought experiment: What is the baseline accuracy for this model?"
   ]
  },
  {
   "cell_type": "code",
   "execution_count": 112,
   "metadata": {
    "collapsed": false,
    "focus": false,
    "id": "87a17d3d-b7f4-4747-9f75-f9af1d18a174"
   },
   "outputs": [
    {
     "data": {
      "text/plain": [
       "0.5351089588377724"
      ]
     },
     "execution_count": 112,
     "metadata": {},
     "output_type": "execute_result"
    }
   ],
   "source": [
    "## YOUR CODE HERE\n",
    "baseline_accuracy = 1.0 - 1.0*data['salary_class'].mean()\n",
    "baseline_accuracy"
   ]
  },
  {
   "cell_type": "markdown",
   "metadata": {
    "focus": false,
    "id": "4fb29de2-5b98-474c-a4ad-5170b72b9aea"
   },
   "source": [
    "#### Create a Logistic Regression model to predict High/Low salary using statsmodel. Start by ONLY using the location as a feature. Display the coefficients and write a short summary of what they mean."
   ]
  },
  {
   "cell_type": "code",
   "execution_count": 113,
   "metadata": {
    "collapsed": false,
    "focus": false,
    "id": "ddbc6159-6854-4ca7-857f-bfecdaf6d9c2"
   },
   "outputs": [
    {
     "data": {
      "text/plain": [
       "New+York         103\n",
       "San+Francisco     49\n",
       "Boston            47\n",
       "Chicago           36\n",
       "Palo+Alto         27\n",
       "Los+Angeles       24\n",
       "Seattle           20\n",
       "Atlanta           19\n",
       "Denver            17\n",
       "Dallas            12\n",
       "Philadelphia      11\n",
       "San+Diego         10\n",
       "Pittsburgh         9\n",
       "Houston            9\n",
       "Austin             7\n",
       "Phoenix            6\n",
       "Miami              6\n",
       "Portland           1\n",
       "Name: city, dtype: int64"
      ]
     },
     "execution_count": 113,
     "metadata": {},
     "output_type": "execute_result"
    }
   ],
   "source": [
    "## YOUR CODE HERE\n",
    "cities = data.city.unique()\n",
    "data.city.value_counts()"
   ]
  },
  {
   "cell_type": "code",
   "execution_count": 114,
   "metadata": {
    "collapsed": false
   },
   "outputs": [],
   "source": [
    "from sklearn import datasets\n",
    "from sklearn.feature_selection import RFE\n",
    "from sklearn.linear_model import LogisticRegression\n",
    "import statsmodels.api as sm"
   ]
  },
  {
   "cell_type": "code",
   "execution_count": 115,
   "metadata": {
    "collapsed": false
   },
   "outputs": [],
   "source": [
    "dummy_city = pd.get_dummies(data.city, prefix = 'city')\n",
    "data = data.join(dummy_city)"
   ]
  },
  {
   "cell_type": "code",
   "execution_count": 116,
   "metadata": {
    "collapsed": false
   },
   "outputs": [
    {
     "data": {
      "text/plain": [
       "Index([u'city_Atlanta', u'city_Austin', u'city_Boston', u'city_Chicago',\n",
       "       u'city_Dallas', u'city_Denver', u'city_Houston', u'city_Los+Angeles',\n",
       "       u'city_Miami', u'city_New+York', u'city_Palo+Alto',\n",
       "       u'city_Philadelphia', u'city_Phoenix', u'city_Pittsburgh',\n",
       "       u'city_Portland', u'city_San+Diego', u'city_San+Francisco',\n",
       "       u'city_Seattle'],\n",
       "      dtype='object')"
      ]
     },
     "execution_count": 116,
     "metadata": {},
     "output_type": "execute_result"
    }
   ],
   "source": [
    "feature_columns = data.columns[7:]\n",
    "feature_columns"
   ]
  },
  {
   "cell_type": "code",
   "execution_count": 117,
   "metadata": {
    "collapsed": false,
    "scrolled": true
   },
   "outputs": [],
   "source": [
    "city_columns = data.columns.values.tolist()\n",
    "city_columns = city_columns[7:]\n",
    "city_dummy_only = data[feature_columns]\n",
    "X = data[feature_columns]\n",
    "Y = np.asarray(data.salary_class)"
   ]
  },
  {
   "cell_type": "code",
   "execution_count": 118,
   "metadata": {
    "collapsed": false
   },
   "outputs": [
    {
     "name": "stdout",
     "output_type": "stream",
     "text": [
      "Warning: Maximum number of iterations has been exceeded.\n",
      "         Current function value: 0.592991\n",
      "         Iterations: 35\n",
      "                           Logit Regression Results                           \n",
      "==============================================================================\n",
      "Dep. Variable:                      y   No. Observations:                  413\n",
      "Model:                          Logit   Df Residuals:                      395\n",
      "Method:                           MLE   Df Model:                           17\n",
      "Date:                Sat, 14 Jan 2017   Pseudo R-squ.:                  0.1414\n",
      "Time:                        21:08:39   Log-Likelihood:                -244.91\n",
      "converged:                      False   LL-Null:                       -285.25\n",
      "                                        LLR p-value:                 2.891e-10\n",
      "======================================================================================\n",
      "                         coef    std err          z      P>|z|      [95.0% Conf. Int.]\n",
      "--------------------------------------------------------------------------------------\n",
      "city_Atlanta          -1.3218      0.563     -2.349      0.019        -2.425    -0.219\n",
      "city_Austin           -0.2877      0.764     -0.377      0.706        -1.785     1.209\n",
      "city_Boston            0.4769      0.300      1.589      0.112        -0.111     1.065\n",
      "city_Chicago           0.1112      0.334      0.333      0.739        -0.543     0.766\n",
      "city_Dallas           -0.6931      0.612     -1.132      0.258        -1.893     0.507\n",
      "city_Denver           -2.0149      0.753     -2.677      0.007        -3.490    -0.539\n",
      "city_Houston         -24.1523   5.85e+04     -0.000      1.000     -1.15e+05  1.15e+05\n",
      "city_Los+Angeles      -0.1671      0.410     -0.408      0.683        -0.970     0.636\n",
      "city_Miami            -1.6094      1.095     -1.469      0.142        -3.756     0.538\n",
      "city_New+York         -0.3732      0.201     -1.861      0.063        -0.766     0.020\n",
      "city_Palo+Alto         0.8650      0.421      2.052      0.040         0.039     1.691\n",
      "city_Philadelphia      0.5596      0.627      0.893      0.372        -0.669     1.788\n",
      "city_Phoenix         -25.4092   1.34e+05     -0.000      1.000     -2.63e+05  2.63e+05\n",
      "city_Pittsburgh      -24.1523   5.85e+04     -0.000      1.000     -1.15e+05  1.15e+05\n",
      "city_Portland        -16.7883   4421.073     -0.004      0.997     -8681.932  8648.355\n",
      "city_San+Diego        -0.4055      0.645     -0.628      0.530        -1.671     0.860\n",
      "city_San+Francisco     1.1260      0.332      3.390      0.001         0.475     1.777\n",
      "city_Seattle                0      0.447          0      1.000        -0.877     0.877\n",
      "======================================================================================\n"
     ]
    },
    {
     "name": "stderr",
     "output_type": "stream",
     "text": [
      "/Users/alikhanzadi/anaconda/lib/python2.7/site-packages/statsmodels/base/model.py:466: ConvergenceWarning: Maximum Likelihood optimization failed to converge. Check mle_retvals\n",
      "  \"Check mle_retvals\", ConvergenceWarning)\n"
     ]
    }
   ],
   "source": [
    "logit_model = sm.Logit(Y,X)\n",
    "result = logit_model.fit()\n",
    "print result.summary()"
   ]
  },
  {
   "cell_type": "markdown",
   "metadata": {
    "focus": false,
    "id": "0ef04f32-419c-4bf2-baf7-48201f03df89"
   },
   "source": [
    "#### Create a few new variables in your dataframe to represent interesting features of a job title.\n",
    "- For example, create a feature that represents whether 'Senior' is in the title \n",
    "- or whether 'Manager' is in the title. \n",
    "- Then build a new Logistic Regression model with these features. Do they add any value? \n"
   ]
  },
  {
   "cell_type": "code",
   "execution_count": null,
   "metadata": {
    "collapsed": false,
    "focus": false,
    "id": "068dc1cf-7fd7-4f27-a1f1-7f0a5a221d29"
   },
   "outputs": [],
   "source": [
    "## YOUR CODE HERE"
   ]
  },
  {
   "cell_type": "markdown",
   "metadata": {
    "focus": false,
    "id": "9c9274ef-c9f5-4d56-b286-ecc8709eff9f"
   },
   "source": [
    "#### Rebuild this model with scikit-learn.\n",
    "- You can either create the dummy features manually or use the `dmatrix` function from `patsy`\n",
    "- Remember to scale the feature variables as well!\n"
   ]
  },
  {
   "cell_type": "code",
   "execution_count": null,
   "metadata": {
    "collapsed": false,
    "focus": false,
    "id": "b76f65cd-cd3a-4e91-af55-12880be7b057"
   },
   "outputs": [],
   "source": [
    "## YOUR CODE HERE"
   ]
  },
  {
   "cell_type": "markdown",
   "metadata": {
    "focus": false,
    "id": "9367beff-72ba-4768-a0ba-a50b335de61d"
   },
   "source": [
    "#### Use cross-validation in scikit-learn to evaluate the model above. \n",
    "- Evaluate the accuracy, AUC, precision and recall of the model. \n",
    "- Discuss the differences and explain when you want a high-recall or a high-precision model in this scenario."
   ]
  },
  {
   "cell_type": "code",
   "execution_count": null,
   "metadata": {
    "collapsed": false,
    "focus": false,
    "id": "269b9e7c-60b5-4a06-8255-881d7395bc1b"
   },
   "outputs": [],
   "source": [
    "## YOUR CODE HERE"
   ]
  },
  {
   "cell_type": "markdown",
   "metadata": {
    "focus": false,
    "id": "8c22664b-92e4-4fc2-b7ac-fbac865845d3"
   },
   "source": [
    "#### Compare L1 and L2 regularization for this logistic regression model. What effect does this have on the coefficients learned?"
   ]
  },
  {
   "cell_type": "code",
   "execution_count": null,
   "metadata": {
    "collapsed": false,
    "focus": false,
    "id": "172fd952-5012-4630-81f4-1206da6eb820"
   },
   "outputs": [],
   "source": [
    "## YOUR CODE HERE"
   ]
  },
  {
   "cell_type": "code",
   "execution_count": null,
   "metadata": {
    "collapsed": false,
    "focus": false,
    "id": "56cc8854-d722-411d-a6c7-e86310710f67"
   },
   "outputs": [],
   "source": [
    "## YOUR CODE HERE"
   ]
  },
  {
   "cell_type": "markdown",
   "metadata": {
    "focus": false,
    "id": "fead9b5b-7316-405d-87fd-e144dff0cbeb"
   },
   "source": [
    "#### Continue to incorporate other text features from the title or summary that you believe will predict the salary and examine their coefficients"
   ]
  },
  {
   "cell_type": "markdown",
   "metadata": {
    "focus": false,
    "id": "12d5edeb-a272-43a0-9977-d951f12fedfb"
   },
   "source": [
    "#### Take ~100 scraped entries with salaries. Convert them to use with your model and predict the salary - which entries have the highest predicted salaries?"
   ]
  },
  {
   "cell_type": "markdown",
   "metadata": {
    "focus": false,
    "id": "3be94357-e551-4094-b784-2df039216d33"
   },
   "source": [
    "### BONUS "
   ]
  },
  {
   "cell_type": "markdown",
   "metadata": {
    "focus": false,
    "id": "db045898-1d2d-4af2-8e79-437c4c7546b4"
   },
   "source": [
    "#### Bonus: Use Count Vectorizer from scikit-learn to create features from the text summaries. \n",
    "- Examine using count or binary features in the model\n",
    "- Re-evaluate the logistic regression model using these. Does this improve the model performance? \n",
    "- What text features are the most valuable? "
   ]
  },
  {
   "cell_type": "code",
   "execution_count": null,
   "metadata": {
    "collapsed": false,
    "focus": false,
    "id": "4239e458-28bd-4675-8db3-c1d9c02b9854"
   },
   "outputs": [],
   "source": [
    "## YOUR CODE HERE"
   ]
  },
  {
   "cell_type": "code",
   "execution_count": null,
   "metadata": {
    "collapsed": false,
    "focus": false,
    "id": "fec80936-37bc-4922-89bd-b5d615566c9c"
   },
   "outputs": [],
   "source": [
    "## YOUR CODE HERE"
   ]
  },
  {
   "cell_type": "markdown",
   "metadata": {
    "focus": false,
    "id": "d42b9fd8-39d5-416a-b40b-7410e6396c11"
   },
   "source": [
    "#### Re-test L1 and L2 regularization. You can use LogisticRegressionCV to find the optimal reguarlization parameters. \n",
    "- Re-test what text features are most valuable.  \n",
    "- How do L1 and L2 change the coefficients?"
   ]
  },
  {
   "cell_type": "code",
   "execution_count": null,
   "metadata": {
    "collapsed": false,
    "focus": false,
    "id": "7570e237-c8cc-4e26-b569-7aee10627e79"
   },
   "outputs": [],
   "source": [
    "## YOUR CODE HERE"
   ]
  },
  {
   "cell_type": "code",
   "execution_count": null,
   "metadata": {
    "collapsed": true,
    "focus": false,
    "id": "e3a0c83d-e3b8-4bed-b864-7e795b34a3d4"
   },
   "outputs": [],
   "source": []
  },
  {
   "cell_type": "code",
   "execution_count": null,
   "metadata": {
    "collapsed": false
   },
   "outputs": [],
   "source": []
  },
  {
   "cell_type": "code",
   "execution_count": 19,
   "metadata": {
    "collapsed": false
   },
   "outputs": [],
   "source": [
    "data_scientist = ['statistical', 'statistician', 'machine learning', 'scientist', 'science', 'big data', 'research', 'researcher',\n",
    "'deep learning', 'nlp', 'natural language processing', 'predictive ',\n",
    "'hadoop', 'modeling', 'modeler', 'time series', 'postdoctoral', 'phd']\n"
   ]
  },
  {
   "cell_type": "code",
   "execution_count": 20,
   "metadata": {
    "collapsed": true
   },
   "outputs": [],
   "source": [
    "data_analyst = ['analyst', 'analysis', 'business intelligence',\n",
    "                'analytics', 'intelligence', 'data administrator', 'sql']"
   ]
  },
  {
   "cell_type": "code",
   "execution_count": 21,
   "metadata": {
    "collapsed": true
   },
   "outputs": [],
   "source": [
    "engineer = ['developer', 'C++', 'java', 'software', 'engineer', 'python', 'devops', \n",
    "'product development', '.js', 'front end', 'applications', 'application']"
   ]
  },
  {
   "cell_type": "code",
   "execution_count": 22,
   "metadata": {
    "collapsed": true
   },
   "outputs": [],
   "source": [
    "solution_architect = ['architect', 'system', 'network', 'solution']"
   ]
  },
  {
   "cell_type": "code",
   "execution_count": 23,
   "metadata": {
    "collapsed": true
   },
   "outputs": [],
   "source": [
    "field = [data_scientist, data_analyst, engineer, solution_architect]"
   ]
  },
  {
   "cell_type": "code",
   "execution_count": 24,
   "metadata": {
    "collapsed": true
   },
   "outputs": [],
   "source": [
    "finance_ind = ['finance', 'financial', 'credit', 'risk', 'bank', 'banking', 'business',\n",
    "'investment', 'hedge fund', 'income', 'equity', 'budget', 'fraud', 'credit'] "
   ]
  },
  {
   "cell_type": "code",
   "execution_count": 25,
   "metadata": {
    "collapsed": true
   },
   "outputs": [],
   "source": [
    "life_sciences_ind = ['health', 'healthcare', 'enviromental', 'lab', 'life science', 'life sciences', 'chemist',\n",
    "'medical', 'clinical', 'fitness', 'food', 'biotech', 'disease', 'pharma',\n",
    "'epidemiologist', 'toxicologist', 'toxicology', 'laboratory', 'quality assureance',\n",
    "'lab', 'biologics', 'behavioral', 'psychologist', 'bioinformatics', 'quality']"
   ]
  },
  {
   "cell_type": "code",
   "execution_count": 26,
   "metadata": {
    "collapsed": true
   },
   "outputs": [],
   "source": [
    "makreting_ind = ['digital', 'marketing', 'market', 'seo']"
   ]
  },
  {
   "cell_type": "code",
   "execution_count": 27,
   "metadata": {
    "collapsed": true
   },
   "outputs": [],
   "source": [
    "mid_level = ['sr.', 'sr ', 'senior', 'associate', 'specialist', 'professional',\n",
    "'lead', 'principal', 'advanced', 'staff', 'chief', 'iii', ' iv ', 'mid-level']"
   ]
  },
  {
   "cell_type": "code",
   "execution_count": 28,
   "metadata": {
    "collapsed": true
   },
   "outputs": [],
   "source": [
    "top_level = ['manager', 'director', 'dir,' 'executive', 'vp', 'head']"
   ]
  },
  {
   "cell_type": "code",
   "execution_count": 29,
   "metadata": {
    "collapsed": true
   },
   "outputs": [],
   "source": [
    "entry_level = ['junior', 'jr.', 'jr ', 'assitant', 'enetry level', 'technician', 'ii']"
   ]
  },
  {
   "cell_type": "code",
   "execution_count": 30,
   "metadata": {
    "collapsed": true
   },
   "outputs": [],
   "source": [
    "# 'IT', 'RA ', ''"
   ]
  },
  {
   "cell_type": "code",
   "execution_count": 31,
   "metadata": {
    "collapsed": false
   },
   "outputs": [
    {
     "data": {
      "text/html": [
       "<div>\n",
       "<table border=\"1\" class=\"dataframe\">\n",
       "  <thead>\n",
       "    <tr style=\"text-align: right;\">\n",
       "      <th></th>\n",
       "      <th>city</th>\n",
       "      <th>company</th>\n",
       "      <th>salary</th>\n",
       "      <th>summary</th>\n",
       "      <th>title</th>\n",
       "      <th>parsed_salary</th>\n",
       "      <th>title_lowercase</th>\n",
       "      <th>title_keywords</th>\n",
       "    </tr>\n",
       "  </thead>\n",
       "  <tbody>\n",
       "    <tr>\n",
       "      <th>0</th>\n",
       "      <td>Denver</td>\n",
       "      <td>Department Of The Interior</td>\n",
       "      <td>$76,341 - $99,243 a year</td>\n",
       "      <td>Would you like to join the more than 10,000 sc...</td>\n",
       "      <td>Statistician, GS-1350-12 (DEU-PERM-DS)</td>\n",
       "      <td>87792.0</td>\n",
       "      <td>statistician, gs-1350-12 (deu-perm-ds)</td>\n",
       "      <td>0</td>\n",
       "    </tr>\n",
       "  </tbody>\n",
       "</table>\n",
       "</div>"
      ],
      "text/plain": [
       "     city                     company                    salary  \\\n",
       "0  Denver  Department Of The Interior  $76,341 - $99,243 a year   \n",
       "\n",
       "                                             summary  \\\n",
       "0  Would you like to join the more than 10,000 sc...   \n",
       "\n",
       "                                    title  parsed_salary  \\\n",
       "0  Statistician, GS-1350-12 (DEU-PERM-DS)        87792.0   \n",
       "\n",
       "                          title_lowercase  title_keywords  \n",
       "0  statistician, gs-1350-12 (deu-perm-ds)               0  "
      ]
     },
     "execution_count": 31,
     "metadata": {},
     "output_type": "execute_result"
    }
   ],
   "source": [
    "data['title_lowercase'] = data['title']\n",
    "data['title_lowercase'] = data.title_lowercase.str.lower()\n",
    "data['title_keywords'] = 0\n",
    "data.head(1)"
   ]
  },
  {
   "cell_type": "code",
   "execution_count": 130,
   "metadata": {
    "collapsed": true
   },
   "outputs": [],
   "source": [
    "a= 0"
   ]
  },
  {
   "cell_type": "code",
   "execution_count": 33,
   "metadata": {
    "collapsed": false
   },
   "outputs": [
    {
     "ename": "KeyboardInterrupt",
     "evalue": "",
     "output_type": "error",
     "traceback": [
      "\u001b[0;31m---------------------------------------------------------------------------\u001b[0m",
      "\u001b[0;31mKeyboardInterrupt\u001b[0m                         Traceback (most recent call last)",
      "\u001b[0;32m<ipython-input-33-df3a092541e2>\u001b[0m in \u001b[0;36m<module>\u001b[0;34m()\u001b[0m\n\u001b[1;32m      5\u001b[0m     \u001b[1;32mwhile\u001b[0m \u001b[0mkw\u001b[0m \u001b[1;33m==\u001b[0m \u001b[1;34m''\u001b[0m\u001b[1;33m:\u001b[0m\u001b[1;33m\u001b[0m\u001b[0m\n\u001b[1;32m      6\u001b[0m         \u001b[1;32mfor\u001b[0m \u001b[0mi\u001b[0m\u001b[1;33m,\u001b[0m \u001b[0mfield\u001b[0m \u001b[1;32min\u001b[0m \u001b[0menumerate\u001b[0m\u001b[1;33m(\u001b[0m\u001b[0mfield\u001b[0m\u001b[1;33m)\u001b[0m\u001b[1;33m:\u001b[0m\u001b[1;33m\u001b[0m\u001b[0m\n\u001b[0;32m----> 7\u001b[0;31m             \u001b[1;32mfor\u001b[0m \u001b[0mkeyword\u001b[0m \u001b[1;32min\u001b[0m \u001b[0mfield\u001b[0m\u001b[1;33m:\u001b[0m\u001b[1;33m\u001b[0m\u001b[0m\n\u001b[0m\u001b[1;32m      8\u001b[0m                 \u001b[1;32mif\u001b[0m \u001b[0mkeyword\u001b[0m \u001b[1;32min\u001b[0m \u001b[0mstr\u001b[0m\u001b[1;33m(\u001b[0m\u001b[0mtitle\u001b[0m\u001b[1;33m)\u001b[0m\u001b[1;33m:\u001b[0m\u001b[1;33m\u001b[0m\u001b[0m\n\u001b[1;32m      9\u001b[0m                     \u001b[0mkw\u001b[0m \u001b[1;33m=\u001b[0m \u001b[0mdata_scinece_fields\u001b[0m\u001b[1;33m[\u001b[0m\u001b[0mi\u001b[0m\u001b[1;33m]\u001b[0m\u001b[1;33m\u001b[0m\u001b[0m\n",
      "\u001b[0;31mKeyboardInterrupt\u001b[0m: "
     ]
    }
   ],
   "source": [
    "data_scinece_fields = ['data_scientist', 'data_analyst', 'engineer', 'solution_architect']\n",
    "\n",
    "for title in data.title_lowercase:\n",
    "    kw = ''\n",
    "    while kw == '':\n",
    "        for i, field in enumerate(field):\n",
    "            for keyword in field:\n",
    "                if keyword in str(title):              \n",
    "                    kw = data_scinece_fields[i]\n",
    "                    #                 print field, keyword, kw\n",
    "print kw                    \n",
    "\n",
    "                \n",
    "                \n",
    "                #         if keyword in ddd[xsw]:\n",
    "    #             kw = yuiop[xsw]\n",
    "    #             xsw += 1\n",
    "    #             print kw\n"
   ]
  },
  {
   "cell_type": "code",
   "execution_count": null,
   "metadata": {
    "collapsed": false
   },
   "outputs": [],
   "source": [
    "b = 0\n",
    "xsw = 0\n",
    "kw = 0\n",
    "yuiop = ['data_scientist', 'data_analyst', 'engineer', 'solution_architect']\n",
    "fff = [['statistician', 'statistical', 'researcher'],['business intelligence', 'intelligence'], ['software'],['network','solution']]\n",
    "for field in fff:\n",
    "    for keyword in field:\n",
    "        print keyword\n",
    "        if keyword in data.title_lowercase[i]:\n",
    "            kw = yuiop[xsw]\n",
    "            xsw += 1\n",
    "        if kw != 0:\n",
    "            break\n",
    "        break\n",
    "    \n",
    "    print b"
   ]
  },
  {
   "cell_type": "code",
   "execution_count": 100,
   "metadata": {
    "collapsed": false
   },
   "outputs": [
    {
     "name": "stdout",
     "output_type": "stream",
     "text": [
      "4\n",
      "baghali\n"
     ]
    }
   ],
   "source": [
    "kw = ''\n",
    "a= 0\n",
    "data_scinece_fields = ['data_scientist', 'data_analyst', 'engineer', 'solution_architect']\n",
    "ddd = [['statistician, gs-1350-12 (deu-perm-ds)'],['interdisciplinary cartographer/geographer - gs-1370/0150-12...'],\n",
    "      ['financial data scientist'],['senior research analyst']]\n",
    "fff = [['statistician', 'statistical', 'scientist', 'researcher'],['business intelligence', 'intelligence'], ['software'],['network','solution']]\n",
    "    \n",
    "for title in data.title_lowercase:\n",
    "    while kw == '':\n",
    "        for field in field:\n",
    "            for keyword in field:\n",
    "                if keyword in str(title):              \n",
    "                    kw = data_scinece_fields[a]\n",
    "                    a += 1\n",
    "                    print 4\n",
    "#                 print field, keyword, kw\n",
    "print kw                    \n",
    "\n",
    "                \n",
    "                \n",
    "                #         if keyword in ddd[xsw]:\n",
    "    #             kw = yuiop[xsw]\n",
    "    #             xsw += 1\n",
    "    #             print kw\n"
   ]
  },
  {
   "cell_type": "code",
   "execution_count": null,
   "metadata": {
    "collapsed": true
   },
   "outputs": [],
   "source": []
  },
  {
   "cell_type": "code",
   "execution_count": null,
   "metadata": {
    "collapsed": true
   },
   "outputs": [],
   "source": []
  },
  {
   "cell_type": "code",
   "execution_count": 100,
   "metadata": {
    "collapsed": false
   },
   "outputs": [
    {
     "name": "stdout",
     "output_type": "stream",
     "text": [
      "4\n",
      "baghali\n"
     ]
    }
   ],
   "source": [
    "i = 0\n",
    "kw = ''\n",
    "abc =  ''\n",
    "a= 0\n",
    "yuiop = ['data_scientist', 'data_analyst', 'engineer', 'solution_architect']\n",
    "ddd = [['statistician, gs-1350-12 (deu-perm-ds)'],['interdisciplinary cartographer/geographer - gs-1370/0150-12...'],\n",
    "      ['financial data scientist'],['senior research analyst']]\n",
    "fff = [['statistician', 'statistical', 'scientist', 'researcher'],['business intelligence', 'intelligence'], ['software'],['network','solution']]\n",
    "    \n",
    "for title in ddd:\n",
    "    while kw == '':\n",
    "        for field in fff:\n",
    "            for keyword in field:\n",
    "                if keyword in str(title):              \n",
    "                    kw = 'baghali'\n",
    "                    a = 10\n",
    "                    print 4\n",
    "#                 print field, keyword, kw\n",
    "print kw                    \n",
    "\n",
    "                \n",
    "                \n",
    "                #         if keyword in ddd[xsw]:\n",
    "    #             kw = yuiop[xsw]\n",
    "    #             xsw += 1\n",
    "    #             print kw\n"
   ]
  },
  {
   "cell_type": "code",
   "execution_count": null,
   "metadata": {
    "collapsed": false
   },
   "outputs": [],
   "source": [
    "a = ''\n",
    "while a == '':\n",
    "    print 1\n",
    "    a = 'hi'\n",
    "    print 2"
   ]
  },
  {
   "cell_type": "code",
   "execution_count": null,
   "metadata": {
    "collapsed": false
   },
   "outputs": [],
   "source": [
    "data.title_lowercase[3]"
   ]
  },
  {
   "cell_type": "code",
   "execution_count": 96,
   "metadata": {
    "collapsed": false
   },
   "outputs": [
    {
     "name": "stdout",
     "output_type": "stream",
     "text": [
      "1\n",
      "2\n"
     ]
    }
   ],
   "source": [
    "kw = ''\n",
    "if kw=='':\n",
    "    print 1\n",
    "    kw = 2\n",
    "    print 2"
   ]
  },
  {
   "cell_type": "code",
   "execution_count": null,
   "metadata": {
    "collapsed": false
   },
   "outputs": [],
   "source": [
    "'statistician' in 'statistician, gs-1350-12 (deu-perm-ds)'"
   ]
  },
  {
   "cell_type": "code",
   "execution_count": null,
   "metadata": {
    "collapsed": false
   },
   "outputs": [],
   "source": [
    "b"
   ]
  },
  {
   "cell_type": "code",
   "execution_count": null,
   "metadata": {
    "collapsed": true
   },
   "outputs": [],
   "source": []
  },
  {
   "cell_type": "code",
   "execution_count": null,
   "metadata": {
    "collapsed": true
   },
   "outputs": [],
   "source": []
  },
  {
   "cell_type": "code",
   "execution_count": null,
   "metadata": {
    "collapsed": true
   },
   "outputs": [],
   "source": []
  },
  {
   "cell_type": "code",
   "execution_count": null,
   "metadata": {
    "collapsed": true
   },
   "outputs": [],
   "source": []
  },
  {
   "cell_type": "code",
   "execution_count": null,
   "metadata": {
    "collapsed": true
   },
   "outputs": [],
   "source": []
  },
  {
   "cell_type": "code",
   "execution_count": null,
   "metadata": {
    "collapsed": true
   },
   "outputs": [],
   "source": []
  },
  {
   "cell_type": "code",
   "execution_count": null,
   "metadata": {
    "collapsed": true
   },
   "outputs": [],
   "source": []
  },
  {
   "cell_type": "code",
   "execution_count": null,
   "metadata": {
    "collapsed": true
   },
   "outputs": [],
   "source": []
  },
  {
   "cell_type": "code",
   "execution_count": null,
   "metadata": {
    "collapsed": true
   },
   "outputs": [],
   "source": []
  },
  {
   "cell_type": "code",
   "execution_count": null,
   "metadata": {
    "collapsed": true
   },
   "outputs": [],
   "source": []
  },
  {
   "cell_type": "code",
   "execution_count": null,
   "metadata": {
    "collapsed": true
   },
   "outputs": [],
   "source": []
  },
  {
   "cell_type": "code",
   "execution_count": null,
   "metadata": {
    "collapsed": true
   },
   "outputs": [],
   "source": []
  },
  {
   "cell_type": "code",
   "execution_count": null,
   "metadata": {
    "collapsed": true
   },
   "outputs": [],
   "source": []
  },
  {
   "cell_type": "code",
   "execution_count": null,
   "metadata": {
    "collapsed": true
   },
   "outputs": [],
   "source": []
  },
  {
   "cell_type": "code",
   "execution_count": null,
   "metadata": {
    "collapsed": true
   },
   "outputs": [],
   "source": []
  },
  {
   "cell_type": "code",
   "execution_count": null,
   "metadata": {
    "collapsed": false
   },
   "outputs": [],
   "source": [
    "y = []\n",
    "h = data.title_keywords\n",
    "for j in h:\n",
    "    for m in j:\n",
    "        y.append(m)\n",
    "pd.Series(y).unique()"
   ]
  },
  {
   "cell_type": "code",
   "execution_count": null,
   "metadata": {
    "collapsed": true
   },
   "outputs": [],
   "source": [
    "# data.title_keywords = 0\n",
    "# data.head()"
   ]
  },
  {
   "cell_type": "code",
   "execution_count": null,
   "metadata": {
    "collapsed": false,
    "scrolled": true
   },
   "outputs": [],
   "source": [
    "for i, a in enumerate(data.title_lowercase):\n",
    "    b = []\n",
    "    print type(b)\n",
    "\n",
    "    for x in data_scientist:\n",
    "        print a\n",
    "        print x\n",
    "        if x in a:\n",
    "            pd.Series(b).append('data scientist')\n",
    "        for y in data_analyst:\n",
    "            if y in a:\n",
    "                b.append('data analyst')\n",
    "        for y in engineer:\n",
    "            if y in a:\n",
    "                b.append('engineer')\n",
    "        for y in solution_architect:\n",
    "            if y in a:\n",
    "                b.append('solution architect')\n",
    "                b = pd.Series(b).unique()\n",
    "data['title_keywords'][i] = b\n",
    "data"
   ]
  },
  {
   "cell_type": "code",
   "execution_count": null,
   "metadata": {
    "collapsed": false
   },
   "outputs": [],
   "source": [
    "data"
   ]
  },
  {
   "cell_type": "code",
   "execution_count": null,
   "metadata": {
    "collapsed": true
   },
   "outputs": [],
   "source": []
  },
  {
   "cell_type": "code",
   "execution_count": null,
   "metadata": {
    "collapsed": false
   },
   "outputs": [],
   "source": [
    "# for i, a in enumerate(data.title_lowercase):\n",
    "#     b = []\n",
    "#     for x in data_scientist:\n",
    "#         if x in a:\n",
    "#             b.append('data scientist')\n",
    "#             break\n",
    "#         elif y in data_analyst:\n",
    "#             if y in a:\n",
    "#                 b.append('data analyst')\n",
    "#                 break\n",
    "#             elif y in engineer:\n",
    "#                 if y in a:\n",
    "#                     b.append('engineer')\n",
    "#                     break\n",
    "#                 elif y in solution_architect:\n",
    "#                         if y in a:\n",
    "#                             b.append('solution architect')\n",
    "# b = pd.Series(b).unique()\n",
    "# data['title_keywords'][i] = b\n",
    "# data"
   ]
  },
  {
   "cell_type": "code",
   "execution_count": null,
   "metadata": {
    "collapsed": false
   },
   "outputs": [],
   "source": [
    "pd.Series(data.title_keywords).unique()\n",
    "gh.append(x) for x in data.title_keywords"
   ]
  },
  {
   "cell_type": "code",
   "execution_count": null,
   "metadata": {
    "collapsed": true
   },
   "outputs": [],
   "source": []
  },
  {
   "cell_type": "code",
   "execution_count": null,
   "metadata": {
    "collapsed": false
   },
   "outputs": [],
   "source": [
    "# data['title_keywords'] = 0\n",
    "# data['title_keywords']=np.where(data['title_lowercase'] =='manager', 'manager', data['title_keywords'])\n",
    "# data['title_keywords']=np.where(data['title_lowercase'] =='scientist', 'scientist', data['title_keywords'])\n",
    "# # data['title_keywords']=np.where(data['title_lowercase'] =='statistical', 'statistical', data['title_keywords'])\n",
    "# # data['title_keywords']=np.where(data['title_lowercase'] =='statistician', 'statistician', data['title_keywords'])\n",
    "# # data['title_keywords']=np.where(data['title_lowercase'] =='machine learning', 'machine learning', data['title_keywords'])\n",
    "# # data['title_keywords']=np.where(data['title_lowercase'] =='analyst', 'analyst', data['title_keywords'])\n",
    "# # data['title_keywords']=np.where(data['title_lowercase'] =='manager', 'manager', data['title_keywords'])\n",
    "# # data['title_keywords']=np.where(data['title_lowercase'] =='manager', 'manager', data['title_keywords'])\n",
    "# # data['title_keywords']=np.where(data['title_lowercase'] =='manager', 'manager', data['title_keywords'])"
   ]
  },
  {
   "cell_type": "code",
   "execution_count": null,
   "metadata": {
    "collapsed": false
   },
   "outputs": [],
   "source": [
    "for i, a in enumerate(data.title_lowercase):\n",
    "    b = []\n",
    "    for x in data_scientist:\n",
    "        if x in a:\n",
    "            b.append('data scientist')\n",
    "            break\n",
    "        else:\n",
    "            for y in data_analyst:\n",
    "                if y in a:\n",
    "                    b.append('data analyst')\n",
    "                    break\n",
    "            else:\n",
    "                for y in engineer:\n",
    "                    if y in a:\n",
    "                        b.append('engineer')\n",
    "                        break\n",
    "                else:\n",
    "                    for y in solution_architect:\n",
    "                        if y in a:\n",
    "                            b.append('solution architect')\n",
    "                            b = pd.Series(b).unique()\n",
    "    data['title_keywords'][i] = b\n",
    "data.head()"
   ]
  },
  {
   "cell_type": "code",
   "execution_count": null,
   "metadata": {
    "collapsed": false
   },
   "outputs": [],
   "source": [
    "c = pd.Series(data['title_keywords'][5])\n",
    "# c.unique()c\n",
    "c.unique()"
   ]
  },
  {
   "cell_type": "code",
   "execution_count": null,
   "metadata": {
    "collapsed": false
   },
   "outputs": [],
   "source": []
  }
 ],
 "metadata": {
  "anaconda-cloud": {},
  "kernelspec": {
   "display_name": "Python [default]",
   "language": "python",
   "name": "python2"
  },
  "language_info": {
   "codemirror_mode": {
    "name": "ipython",
    "version": 2
   },
   "file_extension": ".py",
   "mimetype": "text/x-python",
   "name": "python",
   "nbconvert_exporter": "python",
   "pygments_lexer": "ipython2",
   "version": "2.7.12"
  }
 },
 "nbformat": 4,
 "nbformat_minor": 0
}
