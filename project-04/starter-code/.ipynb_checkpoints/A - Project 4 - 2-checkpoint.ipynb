{
 "cells": [
  {
   "cell_type": "markdown",
   "metadata": {
    "focus": false,
    "id": "04563b69-f7b6-466f-9d65-fc62c9ddee6a"
   },
   "source": [
    "# Predicting salaries using Logistic Regression"
   ]
  },
  {
   "cell_type": "markdown",
   "metadata": {
    "focus": false,
    "id": "243e949e-2742-40af-872e-fec475fd306c"
   },
   "source": [
    "## Load in the the data of scraped salaries"
   ]
  },
  {
   "cell_type": "code",
   "execution_count": 1,
   "metadata": {
    "collapsed": false
   },
   "outputs": [],
   "source": [
    "## YOUR CODE HERE\n",
    "import pandas as pd\n",
    "import numpy as np\n",
    "\n",
    "import matplotlib.pyplot as plt\n",
    "import matplotlib.mlab as mlab\n",
    "import seaborn as sns"
   ]
  },
  {
   "cell_type": "code",
   "execution_count": 2,
   "metadata": {
    "collapsed": false,
    "focus": false,
    "id": "588f9845-6143-4bcc-bfd1-85d45b79303d"
   },
   "outputs": [
    {
     "data": {
      "text/html": [
       "<div>\n",
       "<table border=\"1\" class=\"dataframe\">\n",
       "  <thead>\n",
       "    <tr style=\"text-align: right;\">\n",
       "      <th></th>\n",
       "      <th>city</th>\n",
       "      <th>company</th>\n",
       "      <th>salary</th>\n",
       "      <th>summary</th>\n",
       "      <th>title</th>\n",
       "      <th>parsed_salary</th>\n",
       "    </tr>\n",
       "  </thead>\n",
       "  <tbody>\n",
       "    <tr>\n",
       "      <th>0</th>\n",
       "      <td>Denver</td>\n",
       "      <td>Department Of The Interior</td>\n",
       "      <td>$76,341 - $99,243 a year</td>\n",
       "      <td>Would you like to join the more than 10,000 sc...</td>\n",
       "      <td>Statistician, GS-1350-12 (DEU-PERM-DS)</td>\n",
       "      <td>87792.0</td>\n",
       "    </tr>\n",
       "    <tr>\n",
       "      <th>1</th>\n",
       "      <td>Denver</td>\n",
       "      <td>Department Of The Interior</td>\n",
       "      <td>$71,012 - $99,243 a year</td>\n",
       "      <td>Investigate potential uses of geospatial data ...</td>\n",
       "      <td>Interdisciplinary Cartographer/Geographer - GS...</td>\n",
       "      <td>85127.5</td>\n",
       "    </tr>\n",
       "    <tr>\n",
       "      <th>2</th>\n",
       "      <td>Denver</td>\n",
       "      <td>Mental Health Center of Denver</td>\n",
       "      <td>$70,000 - $80,000 a year</td>\n",
       "      <td>Advise the Data Developer with regard to creat...</td>\n",
       "      <td>Financial Data Scientist</td>\n",
       "      <td>75000.0</td>\n",
       "    </tr>\n",
       "    <tr>\n",
       "      <th>3</th>\n",
       "      <td>Denver</td>\n",
       "      <td>Denver Public Schools</td>\n",
       "      <td>$62,712 - $75,255 a year</td>\n",
       "      <td>Portal managers on student outcome data report...</td>\n",
       "      <td>SENIOR RESEARCH ANALYST</td>\n",
       "      <td>68983.5</td>\n",
       "    </tr>\n",
       "    <tr>\n",
       "      <th>4</th>\n",
       "      <td>Denver</td>\n",
       "      <td>University of Colorado</td>\n",
       "      <td>$25,000 - $29,000 a year</td>\n",
       "      <td>Experience entering and manipulating data in a...</td>\n",
       "      <td>Animal Care I</td>\n",
       "      <td>27000.0</td>\n",
       "    </tr>\n",
       "    <tr>\n",
       "      <th>5</th>\n",
       "      <td>Denver</td>\n",
       "      <td>Denver Health</td>\n",
       "      <td>$93,645 a year</td>\n",
       "      <td>Functions largely independently but reports to...</td>\n",
       "      <td>Assistant Research Scientist - RADARS</td>\n",
       "      <td>93645.0</td>\n",
       "    </tr>\n",
       "    <tr>\n",
       "      <th>6</th>\n",
       "      <td>Denver</td>\n",
       "      <td>Denver Health</td>\n",
       "      <td>$66,654 a year</td>\n",
       "      <td>Assist research director, assistant research d...</td>\n",
       "      <td>Statistical Research Specialist</td>\n",
       "      <td>66654.0</td>\n",
       "    </tr>\n",
       "    <tr>\n",
       "      <th>7</th>\n",
       "      <td>Denver</td>\n",
       "      <td>Denver Health</td>\n",
       "      <td>$66,654 a year</td>\n",
       "      <td>Assist research director, assistant research d...</td>\n",
       "      <td>Statistical Research Scientist - RADARS</td>\n",
       "      <td>66654.0</td>\n",
       "    </tr>\n",
       "    <tr>\n",
       "      <th>8</th>\n",
       "      <td>Denver</td>\n",
       "      <td>University of Colorado</td>\n",
       "      <td>$65,000 - $90,000 a year</td>\n",
       "      <td>And effective working relationships with physi...</td>\n",
       "      <td>Regulatory &amp; Compliance Manager</td>\n",
       "      <td>77500.0</td>\n",
       "    </tr>\n",
       "    <tr>\n",
       "      <th>9</th>\n",
       "      <td>Denver</td>\n",
       "      <td>Computer Enterprises, Inc.</td>\n",
       "      <td>$130,000 a year</td>\n",
       "      <td>We are looking for a Software Engineer/Data Sc...</td>\n",
       "      <td>Software Engineer/Data Scientist</td>\n",
       "      <td>130000.0</td>\n",
       "    </tr>\n",
       "    <tr>\n",
       "      <th>10</th>\n",
       "      <td>Denver</td>\n",
       "      <td>Potatoes USA</td>\n",
       "      <td>$85,000 a year</td>\n",
       "      <td>Extensive knowledge and experience analyzing s...</td>\n",
       "      <td>Global Marketing Manager - Ingredient and Scho...</td>\n",
       "      <td>85000.0</td>\n",
       "    </tr>\n",
       "    <tr>\n",
       "      <th>11</th>\n",
       "      <td>Denver</td>\n",
       "      <td>Department Of The Interior</td>\n",
       "      <td>$43,037 - $68,430 a year</td>\n",
       "      <td>Preparing graphs and data profiles; Conduct li...</td>\n",
       "      <td>Geologist GS-1350-07/09 (DEU - TERM - JG)</td>\n",
       "      <td>55733.5</td>\n",
       "    </tr>\n",
       "    <tr>\n",
       "      <th>12</th>\n",
       "      <td>Denver</td>\n",
       "      <td>University of Colorado</td>\n",
       "      <td>$42,000 - $45,000 a year</td>\n",
       "      <td>Data as appropriate; Primarily to clinical car...</td>\n",
       "      <td>Professional Research Assistant - Data Manager</td>\n",
       "      <td>43500.0</td>\n",
       "    </tr>\n",
       "    <tr>\n",
       "      <th>13</th>\n",
       "      <td>Denver</td>\n",
       "      <td>University of Colorado</td>\n",
       "      <td>$42,000 - $46,500 a year</td>\n",
       "      <td>Ensures accurate data entry of tissue bank pat...</td>\n",
       "      <td>Professional Research Assistant - Tissue Bank ...</td>\n",
       "      <td>44250.0</td>\n",
       "    </tr>\n",
       "    <tr>\n",
       "      <th>14</th>\n",
       "      <td>Denver</td>\n",
       "      <td>DigitalGlobe</td>\n",
       "      <td>$105,000 a year</td>\n",
       "      <td>DigitalGlobe's Geospatial Big Data (GBD) initi...</td>\n",
       "      <td>Platform Developer/Geospatial Big Data (Python)</td>\n",
       "      <td>105000.0</td>\n",
       "    </tr>\n",
       "    <tr>\n",
       "      <th>15</th>\n",
       "      <td>Denver</td>\n",
       "      <td>University of Colorado</td>\n",
       "      <td>$45,000 - $50,000 a year</td>\n",
       "      <td>Investigator, Study Sponsor, FDA, Data and Saf...</td>\n",
       "      <td>Professional Research Assistant - Clinical Res...</td>\n",
       "      <td>47500.0</td>\n",
       "    </tr>\n",
       "    <tr>\n",
       "      <th>16</th>\n",
       "      <td>Denver</td>\n",
       "      <td>Fahrenheit IT</td>\n",
       "      <td>$170,000 a year</td>\n",
       "      <td>Doing all this with an exceptional group of so...</td>\n",
       "      <td>DevOps Engineer</td>\n",
       "      <td>170000.0</td>\n",
       "    </tr>\n",
       "    <tr>\n",
       "      <th>17</th>\n",
       "      <td>Austin</td>\n",
       "      <td>TechTank Staffing &amp; Consulting Solutions</td>\n",
       "      <td>$140,000 a year</td>\n",
       "      <td>What are we looking for in this Data Scientist...</td>\n",
       "      <td>Data Scientist Programmer/Specialist</td>\n",
       "      <td>140000.0</td>\n",
       "    </tr>\n",
       "    <tr>\n",
       "      <th>18</th>\n",
       "      <td>Austin</td>\n",
       "      <td>All-In Analytics</td>\n",
       "      <td>$140,000 - $160,000 a year</td>\n",
       "      <td>Senior Deep Learning Data Scientist. Forecasti...</td>\n",
       "      <td>Senior Deep Learning Data Scientist</td>\n",
       "      <td>150000.0</td>\n",
       "    </tr>\n",
       "    <tr>\n",
       "      <th>19</th>\n",
       "      <td>Austin</td>\n",
       "      <td>Emoters Robotics</td>\n",
       "      <td>$70,000 - $100,000 a year</td>\n",
       "      <td>At Emoters, we’re developing tiny, autonomous ...</td>\n",
       "      <td>Robotics software engineer (involves machine l...</td>\n",
       "      <td>85000.0</td>\n",
       "    </tr>\n",
       "    <tr>\n",
       "      <th>20</th>\n",
       "      <td>Austin</td>\n",
       "      <td>Myriad Development</td>\n",
       "      <td>$35,000 a year</td>\n",
       "      <td>Myriad Development is an Austin, TX based lead...</td>\n",
       "      <td>Research Analyst/Customer Serv</td>\n",
       "      <td>35000.0</td>\n",
       "    </tr>\n",
       "    <tr>\n",
       "      <th>21</th>\n",
       "      <td>Austin</td>\n",
       "      <td>Roland &amp; Associates</td>\n",
       "      <td>$160,000 a year</td>\n",
       "      <td>Data Scientist.Job Type :. They are currently ...</td>\n",
       "      <td>Data Scientist</td>\n",
       "      <td>160000.0</td>\n",
       "    </tr>\n",
       "    <tr>\n",
       "      <th>22</th>\n",
       "      <td>Austin</td>\n",
       "      <td>JE Compliance</td>\n",
       "      <td>$37,000 - $45,000 a year</td>\n",
       "      <td>The ability to interact with many different ty...</td>\n",
       "      <td>International Environmental Specialist</td>\n",
       "      <td>41000.0</td>\n",
       "    </tr>\n",
       "    <tr>\n",
       "      <th>23</th>\n",
       "      <td>Austin</td>\n",
       "      <td>Providence Partners</td>\n",
       "      <td>$65,000 a year</td>\n",
       "      <td>Company Located in South Austin, we are the le...</td>\n",
       "      <td>Research Analyst (excel, analysis, client-facing)</td>\n",
       "      <td>65000.0</td>\n",
       "    </tr>\n",
       "    <tr>\n",
       "      <th>24</th>\n",
       "      <td>Seattle</td>\n",
       "      <td>Pullskill Technologies</td>\n",
       "      <td>$120,000 a year</td>\n",
       "      <td>Lead Data Scientist Recruiter*. Data Scientist...</td>\n",
       "      <td>Data Scientist (Software Engineering)</td>\n",
       "      <td>120000.0</td>\n",
       "    </tr>\n",
       "    <tr>\n",
       "      <th>25</th>\n",
       "      <td>Seattle</td>\n",
       "      <td>Harvey Nash USA</td>\n",
       "      <td>$135,000 a year</td>\n",
       "      <td>They are looking for a Type B data scientist:....</td>\n",
       "      <td>Data Science Engineer</td>\n",
       "      <td>135000.0</td>\n",
       "    </tr>\n",
       "    <tr>\n",
       "      <th>26</th>\n",
       "      <td>Seattle</td>\n",
       "      <td>Seattle Pacific University</td>\n",
       "      <td>$80,000 - $85,000 a year</td>\n",
       "      <td>Manages data warehousing, data analytic soluti...</td>\n",
       "      <td>BI/Data Architect</td>\n",
       "      <td>82500.0</td>\n",
       "    </tr>\n",
       "    <tr>\n",
       "      <th>27</th>\n",
       "      <td>Seattle</td>\n",
       "      <td>Rakuten, Inc.</td>\n",
       "      <td>$140,000 a year</td>\n",
       "      <td>Additionally, this position provides an opport...</td>\n",
       "      <td>Software Development Engineer (Machine Learning)</td>\n",
       "      <td>140000.0</td>\n",
       "    </tr>\n",
       "    <tr>\n",
       "      <th>28</th>\n",
       "      <td>Seattle</td>\n",
       "      <td>All-In Analytics</td>\n",
       "      <td>$150,000 - $230,000 a year</td>\n",
       "      <td>Digital Data Scientist. Big Data Mining and An...</td>\n",
       "      <td>Digital Data Scientist</td>\n",
       "      <td>190000.0</td>\n",
       "    </tr>\n",
       "    <tr>\n",
       "      <th>29</th>\n",
       "      <td>Seattle</td>\n",
       "      <td>All-In Analytics</td>\n",
       "      <td>$110,000 - $130,000 a year</td>\n",
       "      <td>Data Scientist, Compensation Analytics. Must b...</td>\n",
       "      <td>Sr. Data Scientist, Compensation Analytics</td>\n",
       "      <td>120000.0</td>\n",
       "    </tr>\n",
       "    <tr>\n",
       "      <th>...</th>\n",
       "      <td>...</td>\n",
       "      <td>...</td>\n",
       "      <td>...</td>\n",
       "      <td>...</td>\n",
       "      <td>...</td>\n",
       "      <td>...</td>\n",
       "    </tr>\n",
       "    <tr>\n",
       "      <th>383</th>\n",
       "      <td>San+Francisco</td>\n",
       "      <td>University of California Berkeley</td>\n",
       "      <td>$67,500 - $81,600 a year</td>\n",
       "      <td>Ensures accuracy and completeness of data in m...</td>\n",
       "      <td>Database Administrator, GSE</td>\n",
       "      <td>74550.0</td>\n",
       "    </tr>\n",
       "    <tr>\n",
       "      <th>384</th>\n",
       "      <td>San+Francisco</td>\n",
       "      <td>Workbridge Associates</td>\n",
       "      <td>$165,000 - $195,000 a year</td>\n",
       "      <td>The role will be working on technology that pr...</td>\n",
       "      <td>Staff Engineer, Machine Learning (Scala)</td>\n",
       "      <td>180000.0</td>\n",
       "    </tr>\n",
       "    <tr>\n",
       "      <th>385</th>\n",
       "      <td>San+Francisco</td>\n",
       "      <td>Jobspring Partners</td>\n",
       "      <td>$180,000 - $275,000 a year</td>\n",
       "      <td>This is an opportunity to lead a team of talen...</td>\n",
       "      <td>Vice President Engineering (Big Data/ Machine ...</td>\n",
       "      <td>227500.0</td>\n",
       "    </tr>\n",
       "    <tr>\n",
       "      <th>386</th>\n",
       "      <td>San+Francisco</td>\n",
       "      <td>LT</td>\n",
       "      <td>$125,000 a year</td>\n",
       "      <td>We have four QA engineers with three more open...</td>\n",
       "      <td>QA Engineer</td>\n",
       "      <td>125000.0</td>\n",
       "    </tr>\n",
       "    <tr>\n",
       "      <th>387</th>\n",
       "      <td>San+Francisco</td>\n",
       "      <td>NJF Search</td>\n",
       "      <td>$140,000 a year</td>\n",
       "      <td>My client is a prop trading firm in SF seeks a...</td>\n",
       "      <td>Equity Research Analyst - US Energy Stocks</td>\n",
       "      <td>140000.0</td>\n",
       "    </tr>\n",
       "    <tr>\n",
       "      <th>388</th>\n",
       "      <td>San+Francisco</td>\n",
       "      <td>Lighthouse Recruiting</td>\n",
       "      <td>$75,000 - $95,000 a year</td>\n",
       "      <td>Join our Medical Laboratory Scientists Groups:...</td>\n",
       "      <td>Billing Specialist</td>\n",
       "      <td>85000.0</td>\n",
       "    </tr>\n",
       "    <tr>\n",
       "      <th>389</th>\n",
       "      <td>San+Francisco</td>\n",
       "      <td>Global Placement Firm</td>\n",
       "      <td>$130 - $140 a day</td>\n",
       "      <td>This role is suited for a self-directed Senior...</td>\n",
       "      <td>Senior Web Research Scientist</td>\n",
       "      <td>NaN</td>\n",
       "    </tr>\n",
       "    <tr>\n",
       "      <th>390</th>\n",
       "      <td>San+Francisco</td>\n",
       "      <td>LT</td>\n",
       "      <td>$200,000 a year</td>\n",
       "      <td>We have four QA engineers with three more open...</td>\n",
       "      <td>Java Developer</td>\n",
       "      <td>200000.0</td>\n",
       "    </tr>\n",
       "    <tr>\n",
       "      <th>391</th>\n",
       "      <td>San+Francisco</td>\n",
       "      <td>Workbridge Associates</td>\n",
       "      <td>$150,000 - $200,000 a year</td>\n",
       "      <td>Drive creation of best practices and new stand...</td>\n",
       "      <td>Director of Data Science (Mapping)</td>\n",
       "      <td>175000.0</td>\n",
       "    </tr>\n",
       "    <tr>\n",
       "      <th>392</th>\n",
       "      <td>San+Francisco</td>\n",
       "      <td>LT</td>\n",
       "      <td>$180,000 a year</td>\n",
       "      <td>We have two QA engineers with three more open ...</td>\n",
       "      <td>Erlang Engineer</td>\n",
       "      <td>180000.0</td>\n",
       "    </tr>\n",
       "    <tr>\n",
       "      <th>393</th>\n",
       "      <td>San+Francisco</td>\n",
       "      <td>HSF Consulting</td>\n",
       "      <td>$180,000 a year</td>\n",
       "      <td>Monitor data munging processes- data validatio...</td>\n",
       "      <td>Data Operations Manager</td>\n",
       "      <td>180000.0</td>\n",
       "    </tr>\n",
       "    <tr>\n",
       "      <th>394</th>\n",
       "      <td>Atlanta</td>\n",
       "      <td>firstPRO</td>\n",
       "      <td>$100,000 a year</td>\n",
       "      <td>Data scientist, SQL, data anlysis, R:. Fast gr...</td>\n",
       "      <td>Data Scientist / SQL</td>\n",
       "      <td>100000.0</td>\n",
       "    </tr>\n",
       "    <tr>\n",
       "      <th>395</th>\n",
       "      <td>Atlanta</td>\n",
       "      <td>Ga. Dept. of Admin. Services</td>\n",
       "      <td>$36,000 - $46,000 a year</td>\n",
       "      <td>Statistical Data Analyst. Strong data research...</td>\n",
       "      <td>Statistical Data Analyst</td>\n",
       "      <td>41000.0</td>\n",
       "    </tr>\n",
       "    <tr>\n",
       "      <th>396</th>\n",
       "      <td>Atlanta</td>\n",
       "      <td>Centers for Disease Control and Prevention</td>\n",
       "      <td>$61,956 - $96,538 a year</td>\n",
       "      <td>As a Health Scientist your will:. In addition ...</td>\n",
       "      <td>Health Scientist</td>\n",
       "      <td>79247.0</td>\n",
       "    </tr>\n",
       "    <tr>\n",
       "      <th>397</th>\n",
       "      <td>Atlanta</td>\n",
       "      <td>Centers for Disease Control and Prevention</td>\n",
       "      <td>$122,744 - $159,572 a year</td>\n",
       "      <td>As a Supervisory Health Scientist, you will. Q...</td>\n",
       "      <td>Supervisory Health Scientist</td>\n",
       "      <td>141158.0</td>\n",
       "    </tr>\n",
       "    <tr>\n",
       "      <th>398</th>\n",
       "      <td>Atlanta</td>\n",
       "      <td>Emory University</td>\n",
       "      <td>$33,400 a year</td>\n",
       "      <td>Compiles data and records results of studies f...</td>\n",
       "      <td>Research Specialist</td>\n",
       "      <td>33400.0</td>\n",
       "    </tr>\n",
       "    <tr>\n",
       "      <th>399</th>\n",
       "      <td>Atlanta</td>\n",
       "      <td>Centers for Disease Control and Prevention</td>\n",
       "      <td>$74,260 - $114,802 a year</td>\n",
       "      <td>As an Interdisciplinary Health Scientist/ Beha...</td>\n",
       "      <td>Interdisciplinary Health Scientist/ Behavioral...</td>\n",
       "      <td>94531.0</td>\n",
       "    </tr>\n",
       "    <tr>\n",
       "      <th>400</th>\n",
       "      <td>Atlanta</td>\n",
       "      <td>Wismettac Asian Foods, Inc.</td>\n",
       "      <td>$50,794 a year</td>\n",
       "      <td>Wismettac Asian Foods, Inc., (formerly Nishimo...</td>\n",
       "      <td>Market Research Analyst</td>\n",
       "      <td>50794.0</td>\n",
       "    </tr>\n",
       "    <tr>\n",
       "      <th>401</th>\n",
       "      <td>Atlanta</td>\n",
       "      <td>Emory University</td>\n",
       "      <td>$56,200 a year</td>\n",
       "      <td>Using an advanced knowledge of research method...</td>\n",
       "      <td>Asc Dir, Research Projects</td>\n",
       "      <td>56200.0</td>\n",
       "    </tr>\n",
       "    <tr>\n",
       "      <th>402</th>\n",
       "      <td>Atlanta</td>\n",
       "      <td>Emory University</td>\n",
       "      <td>$52,300 a year</td>\n",
       "      <td>Responsible for post-award processing of grant...</td>\n",
       "      <td>Research Financial Analyst (Dept/Sch)</td>\n",
       "      <td>52300.0</td>\n",
       "    </tr>\n",
       "    <tr>\n",
       "      <th>403</th>\n",
       "      <td>Atlanta</td>\n",
       "      <td>Velossent</td>\n",
       "      <td>$160,000 a year</td>\n",
       "      <td>Experience with leading teams comprised of Dat...</td>\n",
       "      <td>Director of Data</td>\n",
       "      <td>160000.0</td>\n",
       "    </tr>\n",
       "    <tr>\n",
       "      <th>404</th>\n",
       "      <td>Atlanta</td>\n",
       "      <td>Selby Jennings</td>\n",
       "      <td>$175,000 - $250,000 a year</td>\n",
       "      <td>While statistical modeling is a primary aspect...</td>\n",
       "      <td>Statistical Credit Risk Modeler | Top Performi...</td>\n",
       "      <td>212500.0</td>\n",
       "    </tr>\n",
       "    <tr>\n",
       "      <th>405</th>\n",
       "      <td>Atlanta</td>\n",
       "      <td>firstPRO</td>\n",
       "      <td>$120,000 a year</td>\n",
       "      <td>Growing and highly stable company has an immed...</td>\n",
       "      <td>C++ Developer / Machine Learning</td>\n",
       "      <td>120000.0</td>\n",
       "    </tr>\n",
       "    <tr>\n",
       "      <th>406</th>\n",
       "      <td>Atlanta</td>\n",
       "      <td>CSTE</td>\n",
       "      <td>$54,182 a year</td>\n",
       "      <td>Skills with developing and presenting epidemio...</td>\n",
       "      <td>Associate Research Analyst</td>\n",
       "      <td>54182.0</td>\n",
       "    </tr>\n",
       "    <tr>\n",
       "      <th>407</th>\n",
       "      <td>Atlanta</td>\n",
       "      <td>Smith Hanley Associates</td>\n",
       "      <td>$65,000 - $110,000 a year</td>\n",
       "      <td>An individual with previous modeling experienc...</td>\n",
       "      <td>Research Statistician - Payment Cards</td>\n",
       "      <td>87500.0</td>\n",
       "    </tr>\n",
       "    <tr>\n",
       "      <th>408</th>\n",
       "      <td>Atlanta</td>\n",
       "      <td>JVI</td>\n",
       "      <td>$55,000 a year</td>\n",
       "      <td>Real Estate Research Analyst - Title Research ...</td>\n",
       "      <td>Real Estate / Title Research Analyst</td>\n",
       "      <td>55000.0</td>\n",
       "    </tr>\n",
       "    <tr>\n",
       "      <th>409</th>\n",
       "      <td>Atlanta</td>\n",
       "      <td>Synergy Search Group</td>\n",
       "      <td>$80,000 a year</td>\n",
       "      <td>Duties will include data conversion from multi...</td>\n",
       "      <td>Audit Snr (Banking) - Data Analysis 60K-80K</td>\n",
       "      <td>80000.0</td>\n",
       "    </tr>\n",
       "    <tr>\n",
       "      <th>410</th>\n",
       "      <td>Atlanta</td>\n",
       "      <td>Smith Hanley Associates</td>\n",
       "      <td>$75,000 - $100,000 a year</td>\n",
       "      <td>-Business based experience doing data mining a...</td>\n",
       "      <td>Marketing Statistician</td>\n",
       "      <td>87500.0</td>\n",
       "    </tr>\n",
       "    <tr>\n",
       "      <th>411</th>\n",
       "      <td>Atlanta</td>\n",
       "      <td>Principle Solutions Group</td>\n",
       "      <td>$80,000 a year</td>\n",
       "      <td>Working knowledge of data center management co...</td>\n",
       "      <td>DevOps Engineer</td>\n",
       "      <td>80000.0</td>\n",
       "    </tr>\n",
       "    <tr>\n",
       "      <th>412</th>\n",
       "      <td>Atlanta</td>\n",
       "      <td>Amana Academy Charter School</td>\n",
       "      <td>$30,000 - $39,999 a year</td>\n",
       "      <td>Accounts Receivables - data entry. Invoice dat...</td>\n",
       "      <td>School Business Manager and Human Resources (HR)</td>\n",
       "      <td>34999.5</td>\n",
       "    </tr>\n",
       "  </tbody>\n",
       "</table>\n",
       "<p>413 rows × 6 columns</p>\n",
       "</div>"
      ],
      "text/plain": [
       "              city                                     company  \\\n",
       "0           Denver                  Department Of The Interior   \n",
       "1           Denver                  Department Of The Interior   \n",
       "2           Denver              Mental Health Center of Denver   \n",
       "3           Denver                       Denver Public Schools   \n",
       "4           Denver                      University of Colorado   \n",
       "5           Denver                               Denver Health   \n",
       "6           Denver                               Denver Health   \n",
       "7           Denver                               Denver Health   \n",
       "8           Denver                      University of Colorado   \n",
       "9           Denver                  Computer Enterprises, Inc.   \n",
       "10          Denver                                Potatoes USA   \n",
       "11          Denver                  Department Of The Interior   \n",
       "12          Denver                      University of Colorado   \n",
       "13          Denver                      University of Colorado   \n",
       "14          Denver                                DigitalGlobe   \n",
       "15          Denver                      University of Colorado   \n",
       "16          Denver                               Fahrenheit IT   \n",
       "17          Austin    TechTank Staffing & Consulting Solutions   \n",
       "18          Austin                            All-In Analytics   \n",
       "19          Austin                            Emoters Robotics   \n",
       "20          Austin                          Myriad Development   \n",
       "21          Austin                         Roland & Associates   \n",
       "22          Austin                               JE Compliance   \n",
       "23          Austin                         Providence Partners   \n",
       "24         Seattle                      Pullskill Technologies   \n",
       "25         Seattle                             Harvey Nash USA   \n",
       "26         Seattle                  Seattle Pacific University   \n",
       "27         Seattle                               Rakuten, Inc.   \n",
       "28         Seattle                            All-In Analytics   \n",
       "29         Seattle                            All-In Analytics   \n",
       "..             ...                                         ...   \n",
       "383  San+Francisco           University of California Berkeley   \n",
       "384  San+Francisco                       Workbridge Associates   \n",
       "385  San+Francisco                          Jobspring Partners   \n",
       "386  San+Francisco                                          LT   \n",
       "387  San+Francisco                                  NJF Search   \n",
       "388  San+Francisco                       Lighthouse Recruiting   \n",
       "389  San+Francisco                       Global Placement Firm   \n",
       "390  San+Francisco                                          LT   \n",
       "391  San+Francisco                       Workbridge Associates   \n",
       "392  San+Francisco                                          LT   \n",
       "393  San+Francisco                              HSF Consulting   \n",
       "394        Atlanta                                    firstPRO   \n",
       "395        Atlanta                Ga. Dept. of Admin. Services   \n",
       "396        Atlanta  Centers for Disease Control and Prevention   \n",
       "397        Atlanta  Centers for Disease Control and Prevention   \n",
       "398        Atlanta                            Emory University   \n",
       "399        Atlanta  Centers for Disease Control and Prevention   \n",
       "400        Atlanta                 Wismettac Asian Foods, Inc.   \n",
       "401        Atlanta                            Emory University   \n",
       "402        Atlanta                            Emory University   \n",
       "403        Atlanta                                   Velossent   \n",
       "404        Atlanta                              Selby Jennings   \n",
       "405        Atlanta                                    firstPRO   \n",
       "406        Atlanta                                        CSTE   \n",
       "407        Atlanta                     Smith Hanley Associates   \n",
       "408        Atlanta                                         JVI   \n",
       "409        Atlanta                        Synergy Search Group   \n",
       "410        Atlanta                     Smith Hanley Associates   \n",
       "411        Atlanta                   Principle Solutions Group   \n",
       "412        Atlanta                Amana Academy Charter School   \n",
       "\n",
       "                         salary  \\\n",
       "0      $76,341 - $99,243 a year   \n",
       "1      $71,012 - $99,243 a year   \n",
       "2      $70,000 - $80,000 a year   \n",
       "3      $62,712 - $75,255 a year   \n",
       "4      $25,000 - $29,000 a year   \n",
       "5                $93,645 a year   \n",
       "6                $66,654 a year   \n",
       "7                $66,654 a year   \n",
       "8      $65,000 - $90,000 a year   \n",
       "9               $130,000 a year   \n",
       "10               $85,000 a year   \n",
       "11     $43,037 - $68,430 a year   \n",
       "12     $42,000 - $45,000 a year   \n",
       "13     $42,000 - $46,500 a year   \n",
       "14              $105,000 a year   \n",
       "15     $45,000 - $50,000 a year   \n",
       "16              $170,000 a year   \n",
       "17              $140,000 a year   \n",
       "18   $140,000 - $160,000 a year   \n",
       "19    $70,000 - $100,000 a year   \n",
       "20               $35,000 a year   \n",
       "21              $160,000 a year   \n",
       "22     $37,000 - $45,000 a year   \n",
       "23               $65,000 a year   \n",
       "24              $120,000 a year   \n",
       "25              $135,000 a year   \n",
       "26     $80,000 - $85,000 a year   \n",
       "27              $140,000 a year   \n",
       "28   $150,000 - $230,000 a year   \n",
       "29   $110,000 - $130,000 a year   \n",
       "..                          ...   \n",
       "383    $67,500 - $81,600 a year   \n",
       "384  $165,000 - $195,000 a year   \n",
       "385  $180,000 - $275,000 a year   \n",
       "386             $125,000 a year   \n",
       "387             $140,000 a year   \n",
       "388    $75,000 - $95,000 a year   \n",
       "389           $130 - $140 a day   \n",
       "390             $200,000 a year   \n",
       "391  $150,000 - $200,000 a year   \n",
       "392             $180,000 a year   \n",
       "393             $180,000 a year   \n",
       "394             $100,000 a year   \n",
       "395    $36,000 - $46,000 a year   \n",
       "396    $61,956 - $96,538 a year   \n",
       "397  $122,744 - $159,572 a year   \n",
       "398              $33,400 a year   \n",
       "399   $74,260 - $114,802 a year   \n",
       "400              $50,794 a year   \n",
       "401              $56,200 a year   \n",
       "402              $52,300 a year   \n",
       "403             $160,000 a year   \n",
       "404  $175,000 - $250,000 a year   \n",
       "405             $120,000 a year   \n",
       "406              $54,182 a year   \n",
       "407   $65,000 - $110,000 a year   \n",
       "408              $55,000 a year   \n",
       "409              $80,000 a year   \n",
       "410   $75,000 - $100,000 a year   \n",
       "411              $80,000 a year   \n",
       "412    $30,000 - $39,999 a year   \n",
       "\n",
       "                                               summary  \\\n",
       "0    Would you like to join the more than 10,000 sc...   \n",
       "1    Investigate potential uses of geospatial data ...   \n",
       "2    Advise the Data Developer with regard to creat...   \n",
       "3    Portal managers on student outcome data report...   \n",
       "4    Experience entering and manipulating data in a...   \n",
       "5    Functions largely independently but reports to...   \n",
       "6    Assist research director, assistant research d...   \n",
       "7    Assist research director, assistant research d...   \n",
       "8    And effective working relationships with physi...   \n",
       "9    We are looking for a Software Engineer/Data Sc...   \n",
       "10   Extensive knowledge and experience analyzing s...   \n",
       "11   Preparing graphs and data profiles; Conduct li...   \n",
       "12   Data as appropriate; Primarily to clinical car...   \n",
       "13   Ensures accurate data entry of tissue bank pat...   \n",
       "14   DigitalGlobe's Geospatial Big Data (GBD) initi...   \n",
       "15   Investigator, Study Sponsor, FDA, Data and Saf...   \n",
       "16   Doing all this with an exceptional group of so...   \n",
       "17   What are we looking for in this Data Scientist...   \n",
       "18   Senior Deep Learning Data Scientist. Forecasti...   \n",
       "19   At Emoters, we’re developing tiny, autonomous ...   \n",
       "20   Myriad Development is an Austin, TX based lead...   \n",
       "21   Data Scientist.Job Type :. They are currently ...   \n",
       "22   The ability to interact with many different ty...   \n",
       "23   Company Located in South Austin, we are the le...   \n",
       "24   Lead Data Scientist Recruiter*. Data Scientist...   \n",
       "25   They are looking for a Type B data scientist:....   \n",
       "26   Manages data warehousing, data analytic soluti...   \n",
       "27   Additionally, this position provides an opport...   \n",
       "28   Digital Data Scientist. Big Data Mining and An...   \n",
       "29   Data Scientist, Compensation Analytics. Must b...   \n",
       "..                                                 ...   \n",
       "383  Ensures accuracy and completeness of data in m...   \n",
       "384  The role will be working on technology that pr...   \n",
       "385  This is an opportunity to lead a team of talen...   \n",
       "386  We have four QA engineers with three more open...   \n",
       "387  My client is a prop trading firm in SF seeks a...   \n",
       "388  Join our Medical Laboratory Scientists Groups:...   \n",
       "389  This role is suited for a self-directed Senior...   \n",
       "390  We have four QA engineers with three more open...   \n",
       "391  Drive creation of best practices and new stand...   \n",
       "392  We have two QA engineers with three more open ...   \n",
       "393  Monitor data munging processes- data validatio...   \n",
       "394  Data scientist, SQL, data anlysis, R:. Fast gr...   \n",
       "395  Statistical Data Analyst. Strong data research...   \n",
       "396  As a Health Scientist your will:. In addition ...   \n",
       "397  As a Supervisory Health Scientist, you will. Q...   \n",
       "398  Compiles data and records results of studies f...   \n",
       "399  As an Interdisciplinary Health Scientist/ Beha...   \n",
       "400  Wismettac Asian Foods, Inc., (formerly Nishimo...   \n",
       "401  Using an advanced knowledge of research method...   \n",
       "402  Responsible for post-award processing of grant...   \n",
       "403  Experience with leading teams comprised of Dat...   \n",
       "404  While statistical modeling is a primary aspect...   \n",
       "405  Growing and highly stable company has an immed...   \n",
       "406  Skills with developing and presenting epidemio...   \n",
       "407  An individual with previous modeling experienc...   \n",
       "408  Real Estate Research Analyst - Title Research ...   \n",
       "409  Duties will include data conversion from multi...   \n",
       "410  -Business based experience doing data mining a...   \n",
       "411  Working knowledge of data center management co...   \n",
       "412  Accounts Receivables - data entry. Invoice dat...   \n",
       "\n",
       "                                                 title  parsed_salary  \n",
       "0               Statistician, GS-1350-12 (DEU-PERM-DS)        87792.0  \n",
       "1    Interdisciplinary Cartographer/Geographer - GS...        85127.5  \n",
       "2                             Financial Data Scientist        75000.0  \n",
       "3                              SENIOR RESEARCH ANALYST        68983.5  \n",
       "4                                        Animal Care I        27000.0  \n",
       "5                Assistant Research Scientist - RADARS        93645.0  \n",
       "6                      Statistical Research Specialist        66654.0  \n",
       "7              Statistical Research Scientist - RADARS        66654.0  \n",
       "8                      Regulatory & Compliance Manager        77500.0  \n",
       "9                     Software Engineer/Data Scientist       130000.0  \n",
       "10   Global Marketing Manager - Ingredient and Scho...        85000.0  \n",
       "11           Geologist GS-1350-07/09 (DEU - TERM - JG)        55733.5  \n",
       "12      Professional Research Assistant - Data Manager        43500.0  \n",
       "13   Professional Research Assistant - Tissue Bank ...        44250.0  \n",
       "14     Platform Developer/Geospatial Big Data (Python)       105000.0  \n",
       "15   Professional Research Assistant - Clinical Res...        47500.0  \n",
       "16                                     DevOps Engineer       170000.0  \n",
       "17                Data Scientist Programmer/Specialist       140000.0  \n",
       "18                 Senior Deep Learning Data Scientist       150000.0  \n",
       "19   Robotics software engineer (involves machine l...        85000.0  \n",
       "20                      Research Analyst/Customer Serv        35000.0  \n",
       "21                                      Data Scientist       160000.0  \n",
       "22              International Environmental Specialist        41000.0  \n",
       "23   Research Analyst (excel, analysis, client-facing)        65000.0  \n",
       "24               Data Scientist (Software Engineering)       120000.0  \n",
       "25                               Data Science Engineer       135000.0  \n",
       "26                                   BI/Data Architect        82500.0  \n",
       "27    Software Development Engineer (Machine Learning)       140000.0  \n",
       "28                              Digital Data Scientist       190000.0  \n",
       "29          Sr. Data Scientist, Compensation Analytics       120000.0  \n",
       "..                                                 ...            ...  \n",
       "383                        Database Administrator, GSE        74550.0  \n",
       "384           Staff Engineer, Machine Learning (Scala)       180000.0  \n",
       "385  Vice President Engineering (Big Data/ Machine ...       227500.0  \n",
       "386                                        QA Engineer       125000.0  \n",
       "387         Equity Research Analyst - US Energy Stocks       140000.0  \n",
       "388                                 Billing Specialist        85000.0  \n",
       "389                      Senior Web Research Scientist            NaN  \n",
       "390                                     Java Developer       200000.0  \n",
       "391                 Director of Data Science (Mapping)       175000.0  \n",
       "392                                    Erlang Engineer       180000.0  \n",
       "393                            Data Operations Manager       180000.0  \n",
       "394                               Data Scientist / SQL       100000.0  \n",
       "395                           Statistical Data Analyst        41000.0  \n",
       "396                                   Health Scientist        79247.0  \n",
       "397                       Supervisory Health Scientist       141158.0  \n",
       "398                                Research Specialist        33400.0  \n",
       "399  Interdisciplinary Health Scientist/ Behavioral...        94531.0  \n",
       "400                            Market Research Analyst        50794.0  \n",
       "401                         Asc Dir, Research Projects        56200.0  \n",
       "402              Research Financial Analyst (Dept/Sch)        52300.0  \n",
       "403                                   Director of Data       160000.0  \n",
       "404  Statistical Credit Risk Modeler | Top Performi...       212500.0  \n",
       "405                   C++ Developer / Machine Learning       120000.0  \n",
       "406                         Associate Research Analyst        54182.0  \n",
       "407              Research Statistician - Payment Cards        87500.0  \n",
       "408               Real Estate / Title Research Analyst        55000.0  \n",
       "409        Audit Snr (Banking) - Data Analysis 60K-80K        80000.0  \n",
       "410                             Marketing Statistician        87500.0  \n",
       "411                                    DevOps Engineer        80000.0  \n",
       "412   School Business Manager and Human Resources (HR)        34999.5  \n",
       "\n",
       "[413 rows x 6 columns]"
      ]
     },
     "execution_count": 2,
     "metadata": {},
     "output_type": "execute_result"
    }
   ],
   "source": [
    "data = pd.read_csv('../assets/indeed-scraped-job-postings.csv')\n",
    "data"
   ]
  },
  {
   "cell_type": "code",
   "execution_count": 3,
   "metadata": {
    "collapsed": false
   },
   "outputs": [
    {
     "name": "stdout",
     "output_type": "stream",
     "text": [
      "<class 'pandas.core.frame.DataFrame'>\n",
      "RangeIndex: 413 entries, 0 to 412\n",
      "Data columns (total 6 columns):\n",
      "city             413 non-null object\n",
      "company          413 non-null object\n",
      "salary           413 non-null object\n",
      "summary          413 non-null object\n",
      "title            413 non-null object\n",
      "parsed_salary    406 non-null float64\n",
      "dtypes: float64(1), object(5)\n",
      "memory usage: 19.4+ KB\n"
     ]
    }
   ],
   "source": [
    "data.info()"
   ]
  },
  {
   "cell_type": "code",
   "execution_count": 4,
   "metadata": {
    "collapsed": false
   },
   "outputs": [
    {
     "data": {
      "text/plain": [
       "array([ 41, 123, 124, 189, 310, 367, 389], dtype=int64)"
      ]
     },
     "execution_count": 4,
     "metadata": {},
     "output_type": "execute_result"
    }
   ],
   "source": [
    "parsed_salary_null = pd.isnull(data['parsed_salary'])\n",
    "data_science_salary_data_missing = data[parsed_salary_null == True]\n",
    "Salary_data_missing_rows = data_science_salary_data_missing.index.values\n",
    "Salary_data_missing_rows"
   ]
  },
  {
   "cell_type": "code",
   "execution_count": 5,
   "metadata": {
    "collapsed": false
   },
   "outputs": [
    {
     "data": {
      "text/html": [
       "<div>\n",
       "<table border=\"1\" class=\"dataframe\">\n",
       "  <thead>\n",
       "    <tr style=\"text-align: right;\">\n",
       "      <th></th>\n",
       "      <th>city</th>\n",
       "      <th>company</th>\n",
       "      <th>salary</th>\n",
       "      <th>summary</th>\n",
       "      <th>title</th>\n",
       "      <th>parsed_salary</th>\n",
       "    </tr>\n",
       "  </thead>\n",
       "  <tbody>\n",
       "    <tr>\n",
       "      <th>0</th>\n",
       "      <td>Denver</td>\n",
       "      <td>Department Of The Interior</td>\n",
       "      <td>$76,341 - $99,243 a year</td>\n",
       "      <td>Would you like to join the more than 10,000 sc...</td>\n",
       "      <td>Statistician, GS-1350-12 (DEU-PERM-DS)</td>\n",
       "      <td>87792.0</td>\n",
       "    </tr>\n",
       "    <tr>\n",
       "      <th>1</th>\n",
       "      <td>Denver</td>\n",
       "      <td>Department Of The Interior</td>\n",
       "      <td>$71,012 - $99,243 a year</td>\n",
       "      <td>Investigate potential uses of geospatial data ...</td>\n",
       "      <td>Interdisciplinary Cartographer/Geographer - GS...</td>\n",
       "      <td>85127.5</td>\n",
       "    </tr>\n",
       "    <tr>\n",
       "      <th>2</th>\n",
       "      <td>Denver</td>\n",
       "      <td>Mental Health Center of Denver</td>\n",
       "      <td>$70,000 - $80,000 a year</td>\n",
       "      <td>Advise the Data Developer with regard to creat...</td>\n",
       "      <td>Financial Data Scientist</td>\n",
       "      <td>75000.0</td>\n",
       "    </tr>\n",
       "    <tr>\n",
       "      <th>3</th>\n",
       "      <td>Denver</td>\n",
       "      <td>Denver Public Schools</td>\n",
       "      <td>$62,712 - $75,255 a year</td>\n",
       "      <td>Portal managers on student outcome data report...</td>\n",
       "      <td>SENIOR RESEARCH ANALYST</td>\n",
       "      <td>68983.5</td>\n",
       "    </tr>\n",
       "    <tr>\n",
       "      <th>4</th>\n",
       "      <td>Denver</td>\n",
       "      <td>University of Colorado</td>\n",
       "      <td>$25,000 - $29,000 a year</td>\n",
       "      <td>Experience entering and manipulating data in a...</td>\n",
       "      <td>Animal Care I</td>\n",
       "      <td>27000.0</td>\n",
       "    </tr>\n",
       "  </tbody>\n",
       "</table>\n",
       "</div>"
      ],
      "text/plain": [
       "     city                         company                    salary  \\\n",
       "0  Denver      Department Of The Interior  $76,341 - $99,243 a year   \n",
       "1  Denver      Department Of The Interior  $71,012 - $99,243 a year   \n",
       "2  Denver  Mental Health Center of Denver  $70,000 - $80,000 a year   \n",
       "3  Denver           Denver Public Schools  $62,712 - $75,255 a year   \n",
       "4  Denver          University of Colorado  $25,000 - $29,000 a year   \n",
       "\n",
       "                                             summary  \\\n",
       "0  Would you like to join the more than 10,000 sc...   \n",
       "1  Investigate potential uses of geospatial data ...   \n",
       "2  Advise the Data Developer with regard to creat...   \n",
       "3  Portal managers on student outcome data report...   \n",
       "4  Experience entering and manipulating data in a...   \n",
       "\n",
       "                                               title  parsed_salary  \n",
       "0             Statistician, GS-1350-12 (DEU-PERM-DS)        87792.0  \n",
       "1  Interdisciplinary Cartographer/Geographer - GS...        85127.5  \n",
       "2                           Financial Data Scientist        75000.0  \n",
       "3                            SENIOR RESEARCH ANALYST        68983.5  \n",
       "4                                      Animal Care I        27000.0  "
      ]
     },
     "execution_count": 5,
     "metadata": {},
     "output_type": "execute_result"
    }
   ],
   "source": [
    "Parsed_salary_missing_data = [(100/8)*2000,(120/8)*2000,\n",
    "                              (120/8)*2000,(775/8)*2000,\n",
    "                              (150/8)*2000,(82.5/8)*2000,(135/8)*2000]\n",
    "Missing_salary = zip(Salary_data_missing_rows, Parsed_salary_missing_data)\n",
    "for i,j in Missing_salary:\n",
    "    data.at[i,'parsed_salary'] = j\n",
    "data.head()"
   ]
  },
  {
   "cell_type": "code",
   "execution_count": 6,
   "metadata": {
    "collapsed": false
   },
   "outputs": [
    {
     "data": {
      "text/plain": [
       "106819.07869249395"
      ]
     },
     "execution_count": 6,
     "metadata": {},
     "output_type": "execute_result"
    }
   ],
   "source": [
    "parsed_salary_mean = data.parsed_salary.mean()\n",
    "parsed_salary_mean"
   ]
  },
  {
   "cell_type": "code",
   "execution_count": 7,
   "metadata": {
    "collapsed": false
   },
   "outputs": [
    {
     "data": {
      "text/plain": [
       "100000.0"
      ]
     },
     "execution_count": 7,
     "metadata": {},
     "output_type": "execute_result"
    }
   ],
   "source": [
    "parsed_salary_median = data.parsed_salary.median()\n",
    "parsed_salary_median"
   ]
  },
  {
   "cell_type": "code",
   "execution_count": 8,
   "metadata": {
    "collapsed": false
   },
   "outputs": [
    {
     "data": {
      "text/html": [
       "<div>\n",
       "<table border=\"1\" class=\"dataframe\">\n",
       "  <thead>\n",
       "    <tr style=\"text-align: right;\">\n",
       "      <th></th>\n",
       "      <th>parsed_salary</th>\n",
       "    </tr>\n",
       "  </thead>\n",
       "  <tbody>\n",
       "    <tr>\n",
       "      <th>count</th>\n",
       "      <td>413.000000</td>\n",
       "    </tr>\n",
       "    <tr>\n",
       "      <th>mean</th>\n",
       "      <td>106819.078692</td>\n",
       "    </tr>\n",
       "    <tr>\n",
       "      <th>std</th>\n",
       "      <td>49610.232837</td>\n",
       "    </tr>\n",
       "    <tr>\n",
       "      <th>min</th>\n",
       "      <td>10000.000000</td>\n",
       "    </tr>\n",
       "    <tr>\n",
       "      <th>25%</th>\n",
       "      <td>67632.000000</td>\n",
       "    </tr>\n",
       "    <tr>\n",
       "      <th>50%</th>\n",
       "      <td>100000.000000</td>\n",
       "    </tr>\n",
       "    <tr>\n",
       "      <th>75%</th>\n",
       "      <td>141158.000000</td>\n",
       "    </tr>\n",
       "    <tr>\n",
       "      <th>max</th>\n",
       "      <td>300000.000000</td>\n",
       "    </tr>\n",
       "  </tbody>\n",
       "</table>\n",
       "</div>"
      ],
      "text/plain": [
       "       parsed_salary\n",
       "count     413.000000\n",
       "mean   106819.078692\n",
       "std     49610.232837\n",
       "min     10000.000000\n",
       "25%     67632.000000\n",
       "50%    100000.000000\n",
       "75%    141158.000000\n",
       "max    300000.000000"
      ]
     },
     "execution_count": 8,
     "metadata": {},
     "output_type": "execute_result"
    }
   ],
   "source": [
    "data.describe()"
   ]
  },
  {
   "cell_type": "code",
   "execution_count": 9,
   "metadata": {
    "collapsed": false
   },
   "outputs": [
    {
     "data": {
      "image/png": "[encoded data removed]",
      "text/plain": [
       "<matplotlib.figure.Figure at 0xc1ffc88>"
      ]
     },
     "metadata": {},
     "output_type": "display_data"
    }
   ],
   "source": [
    "column_parsed_salary = data.parsed_salary\n",
    "column_parsed_salary_mean = column_parsed_salary.mean()\n",
    "column_parsed_salary_std = np.std(column_parsed_salary)\n",
    "bin_num = 30\n",
    "\n",
    "\n",
    "n, bins, patches = plt.hist(column_parsed_salary, \n",
    "                            bin_num, normed=1, facecolor='purple', alpha=0.5)\n",
    "y = mlab.normpdf(bins, column_parsed_salary_mean,\n",
    "                 column_parsed_salary_std)\n",
    "plt.plot(bins, y)\n",
    "plt.show()"
   ]
  },
  {
   "cell_type": "markdown",
   "metadata": {
    "focus": false,
    "id": "c7631f51-07f2-4c79-a093-3e9bc7849a48"
   },
   "source": [
    "### We want to predict a binary variable - whether the salary was low or high. Compute the median salary and create a new binary variable that is true when the salary is high (above the median)\n",
    "\n",
    "We could also perform Linear Regression (or any regression) to predict the salary value here. Instead, we are going to convert this into a _binary_ classification problem, by predicting two classes, HIGH vs LOW salary.\n",
    "\n",
    "While performing regression may be better, performing classification may help remove some of the noise of the extreme salaries. We don't have to choice the `median` as the splitting point - we could also split on the 75th percentile or any other reasonable breaking point.\n",
    "\n",
    "In fact, the ideal scenario may be to predict many levels of salaries, "
   ]
  },
  {
   "cell_type": "code",
   "execution_count": 10,
   "metadata": {
    "collapsed": false,
    "focus": false,
    "id": "c20d2498-151c-44c3-a453-3a333c79a0ac",
    "scrolled": false
   },
   "outputs": [
    {
     "name": "stderr",
     "output_type": "stream",
     "text": [
      "C:\\Users\\ali\\Anaconda2\\lib\\site-packages\\pandas\\core\\indexing.py:132: SettingWithCopyWarning: \n",
      "A value is trying to be set on a copy of a slice from a DataFrame\n",
      "\n",
      "See the caveats in the documentation: http://pandas.pydata.org/pandas-docs/stable/indexing.html#indexing-view-versus-copy\n",
      "  self._setitem_with_indexer(indexer, value)\n"
     ]
    }
   ],
   "source": [
    "## YOUR CODE HERE\n",
    "data['salary_class'] = range(len(data))\n",
    "for i, j in enumerate(data.parsed_salary):\n",
    "    if j >= parsed_salary_mean:\n",
    "        data['salary_class'].ix[i] = 1\n",
    "    else:\n",
    "        data['salary_class'].ix[i] = 0"
   ]
  },
  {
   "cell_type": "code",
   "execution_count": 11,
   "metadata": {
    "collapsed": false
   },
   "outputs": [
    {
     "data": {
      "text/html": [
       "<div>\n",
       "<table border=\"1\" class=\"dataframe\">\n",
       "  <thead>\n",
       "    <tr style=\"text-align: right;\">\n",
       "      <th></th>\n",
       "      <th>city</th>\n",
       "      <th>company</th>\n",
       "      <th>salary</th>\n",
       "      <th>summary</th>\n",
       "      <th>title</th>\n",
       "      <th>parsed_salary</th>\n",
       "      <th>salary_class</th>\n",
       "    </tr>\n",
       "  </thead>\n",
       "  <tbody>\n",
       "    <tr>\n",
       "      <th>0</th>\n",
       "      <td>Denver</td>\n",
       "      <td>Department Of The Interior</td>\n",
       "      <td>$76,341 - $99,243 a year</td>\n",
       "      <td>Would you like to join the more than 10,000 sc...</td>\n",
       "      <td>Statistician, GS-1350-12 (DEU-PERM-DS)</td>\n",
       "      <td>87792.0</td>\n",
       "      <td>0</td>\n",
       "    </tr>\n",
       "    <tr>\n",
       "      <th>1</th>\n",
       "      <td>Denver</td>\n",
       "      <td>Department Of The Interior</td>\n",
       "      <td>$71,012 - $99,243 a year</td>\n",
       "      <td>Investigate potential uses of geospatial data ...</td>\n",
       "      <td>Interdisciplinary Cartographer/Geographer - GS...</td>\n",
       "      <td>85127.5</td>\n",
       "      <td>0</td>\n",
       "    </tr>\n",
       "    <tr>\n",
       "      <th>2</th>\n",
       "      <td>Denver</td>\n",
       "      <td>Mental Health Center of Denver</td>\n",
       "      <td>$70,000 - $80,000 a year</td>\n",
       "      <td>Advise the Data Developer with regard to creat...</td>\n",
       "      <td>Financial Data Scientist</td>\n",
       "      <td>75000.0</td>\n",
       "      <td>0</td>\n",
       "    </tr>\n",
       "    <tr>\n",
       "      <th>3</th>\n",
       "      <td>Denver</td>\n",
       "      <td>Denver Public Schools</td>\n",
       "      <td>$62,712 - $75,255 a year</td>\n",
       "      <td>Portal managers on student outcome data report...</td>\n",
       "      <td>SENIOR RESEARCH ANALYST</td>\n",
       "      <td>68983.5</td>\n",
       "      <td>0</td>\n",
       "    </tr>\n",
       "    <tr>\n",
       "      <th>4</th>\n",
       "      <td>Denver</td>\n",
       "      <td>University of Colorado</td>\n",
       "      <td>$25,000 - $29,000 a year</td>\n",
       "      <td>Experience entering and manipulating data in a...</td>\n",
       "      <td>Animal Care I</td>\n",
       "      <td>27000.0</td>\n",
       "      <td>0</td>\n",
       "    </tr>\n",
       "  </tbody>\n",
       "</table>\n",
       "</div>"
      ],
      "text/plain": [
       "     city                         company                    salary  \\\n",
       "0  Denver      Department Of The Interior  $76,341 - $99,243 a year   \n",
       "1  Denver      Department Of The Interior  $71,012 - $99,243 a year   \n",
       "2  Denver  Mental Health Center of Denver  $70,000 - $80,000 a year   \n",
       "3  Denver           Denver Public Schools  $62,712 - $75,255 a year   \n",
       "4  Denver          University of Colorado  $25,000 - $29,000 a year   \n",
       "\n",
       "                                             summary  \\\n",
       "0  Would you like to join the more than 10,000 sc...   \n",
       "1  Investigate potential uses of geospatial data ...   \n",
       "2  Advise the Data Developer with regard to creat...   \n",
       "3  Portal managers on student outcome data report...   \n",
       "4  Experience entering and manipulating data in a...   \n",
       "\n",
       "                                               title  parsed_salary  \\\n",
       "0             Statistician, GS-1350-12 (DEU-PERM-DS)        87792.0   \n",
       "1  Interdisciplinary Cartographer/Geographer - GS...        85127.5   \n",
       "2                           Financial Data Scientist        75000.0   \n",
       "3                            SENIOR RESEARCH ANALYST        68983.5   \n",
       "4                                      Animal Care I        27000.0   \n",
       "\n",
       "   salary_class  \n",
       "0             0  \n",
       "1             0  \n",
       "2             0  \n",
       "3             0  \n",
       "4             0  "
      ]
     },
     "execution_count": 11,
     "metadata": {},
     "output_type": "execute_result"
    }
   ],
   "source": [
    "data.head(5)"
   ]
  },
  {
   "cell_type": "markdown",
   "metadata": {
    "focus": false,
    "id": "a7afb2c0-d41e-4779-8216-91cd8dd4473f"
   },
   "source": [
    "#### Thought experiment: What is the baseline accuracy for this model?"
   ]
  },
  {
   "cell_type": "code",
   "execution_count": 12,
   "metadata": {
    "collapsed": false,
    "focus": false,
    "id": "87a17d3d-b7f4-4747-9f75-f9af1d18a174"
   },
   "outputs": [
    {
     "data": {
      "text/plain": [
       "0.5351089588377724"
      ]
     },
     "execution_count": 12,
     "metadata": {},
     "output_type": "execute_result"
    }
   ],
   "source": [
    "## YOUR CODE HERE\n",
    "baseline_accuracy = 1.0 - 1.0*data['salary_class'].mean()\n",
    "baseline_accuracy"
   ]
  },
  {
   "cell_type": "markdown",
   "metadata": {
    "focus": false,
    "id": "4fb29de2-5b98-474c-a4ad-5170b72b9aea"
   },
   "source": [
    "## Create a Logistic Regression model to predict High/Low salary using statsmodel. Start by ONLY using the location as a feature. Display the coefficients and write a short summary of what they mean."
   ]
  },
  {
   "cell_type": "code",
   "execution_count": 13,
   "metadata": {
    "collapsed": false,
    "focus": false,
    "id": "ddbc6159-6854-4ca7-857f-bfecdaf6d9c2"
   },
   "outputs": [
    {
     "data": {
      "text/plain": [
       "New+York         103\n",
       "San+Francisco     49\n",
       "Boston            47\n",
       "Chicago           36\n",
       "Palo+Alto         27\n",
       "Los+Angeles       24\n",
       "Seattle           20\n",
       "Atlanta           19\n",
       "Denver            17\n",
       "Dallas            12\n",
       "Philadelphia      11\n",
       "San+Diego         10\n",
       "Pittsburgh         9\n",
       "Houston            9\n",
       "Austin             7\n",
       "Phoenix            6\n",
       "Miami              6\n",
       "Portland           1\n",
       "Name: city, dtype: int64"
      ]
     },
     "execution_count": 13,
     "metadata": {},
     "output_type": "execute_result"
    }
   ],
   "source": [
    "## YOUR CODE HERE\n",
    "cities = data.city.unique()\n",
    "data.city.value_counts()"
   ]
  },
  {
   "cell_type": "code",
   "execution_count": 14,
   "metadata": {
    "collapsed": false
   },
   "outputs": [],
   "source": [
    "from sklearn import datasets\n",
    "from sklearn.feature_selection import RFE\n",
    "from sklearn.linear_model import LogisticRegression\n",
    "from sklearn import linear_model\n",
    "import statsmodels.api as sm"
   ]
  },
  {
   "cell_type": "code",
   "execution_count": 15,
   "metadata": {
    "collapsed": false
   },
   "outputs": [],
   "source": [
    "dummy_city = pd.get_dummies(data.city, prefix = 'city')\n",
    "data = data.join(dummy_city)"
   ]
  },
  {
   "cell_type": "code",
   "execution_count": 16,
   "metadata": {
    "collapsed": false
   },
   "outputs": [
    {
     "data": {
      "text/plain": [
       "Index([u'city_Atlanta', u'city_Austin', u'city_Boston', u'city_Chicago',\n",
       "       u'city_Dallas', u'city_Denver', u'city_Houston', u'city_Los+Angeles',\n",
       "       u'city_Miami', u'city_New+York', u'city_Palo+Alto',\n",
       "       u'city_Philadelphia', u'city_Phoenix', u'city_Pittsburgh',\n",
       "       u'city_Portland', u'city_San+Diego', u'city_San+Francisco',\n",
       "       u'city_Seattle'],\n",
       "      dtype='object')"
      ]
     },
     "execution_count": 16,
     "metadata": {},
     "output_type": "execute_result"
    }
   ],
   "source": [
    "feature_columns = data.columns[7:]\n",
    "feature_columns"
   ]
  },
  {
   "cell_type": "code",
   "execution_count": 17,
   "metadata": {
    "collapsed": false,
    "scrolled": true
   },
   "outputs": [],
   "source": [
    "city_columns = data.columns.values.tolist()\n",
    "city_columns = city_columns[7:]\n",
    "city_dummy_only = data[feature_columns]\n",
    "X = data[feature_columns]\n",
    "Y = np.asarray(data.salary_class)"
   ]
  },
  {
   "cell_type": "code",
   "execution_count": 18,
   "metadata": {
    "collapsed": false
   },
   "outputs": [
    {
     "name": "stdout",
     "output_type": "stream",
     "text": [
      "Warning: Maximum number of iterations has been exceeded.\n",
      "         Current function value: 0.592991\n",
      "         Iterations: 35\n"
     ]
    },
    {
     "name": "stderr",
     "output_type": "stream",
     "text": [
      "C:\\Users\\ali\\Anaconda2\\lib\\site-packages\\statsmodels\\base\\model.py:466: ConvergenceWarning: Maximum Likelihood optimization failed to converge. Check mle_retvals\n",
      "  \"Check mle_retvals\", ConvergenceWarning)\n"
     ]
    },
    {
     "data": {
      "text/html": [
       "<table class=\"simpletable\">\n",
       "<caption>Logit Regression Results</caption>\n",
       "<tr>\n",
       "  <th>Dep. Variable:</th>         <td>y</td>        <th>  No. Observations:  </th>  <td>   413</td>  \n",
       "</tr>\n",
       "<tr>\n",
       "  <th>Model:</th>               <td>Logit</td>      <th>  Df Residuals:      </th>  <td>   395</td>  \n",
       "</tr>\n",
       "<tr>\n",
       "  <th>Method:</th>               <td>MLE</td>       <th>  Df Model:          </th>  <td>    17</td>  \n",
       "</tr>\n",
       "<tr>\n",
       "  <th>Date:</th>          <td>Thu, 19 Jan 2017</td> <th>  Pseudo R-squ.:     </th>  <td>0.1414</td>  \n",
       "</tr>\n",
       "<tr>\n",
       "  <th>Time:</th>              <td>00:00:14</td>     <th>  Log-Likelihood:    </th> <td> -244.91</td> \n",
       "</tr>\n",
       "<tr>\n",
       "  <th>converged:</th>           <td>False</td>      <th>  LL-Null:           </th> <td> -285.25</td> \n",
       "</tr>\n",
       "<tr>\n",
       "  <th> </th>                      <td> </td>        <th>  LLR p-value:       </th> <td>2.891e-10</td>\n",
       "</tr>\n",
       "</table>\n",
       "<table class=\"simpletable\">\n",
       "<tr>\n",
       "           <td></td>             <th>coef</th>     <th>std err</th>      <th>z</th>      <th>P>|z|</th> <th>[95.0% Conf. Int.]</th> \n",
       "</tr>\n",
       "<tr>\n",
       "  <th>city_Atlanta</th>       <td>   -1.3218</td> <td>    0.563</td> <td>   -2.349</td> <td> 0.019</td> <td>   -2.425    -0.219</td>\n",
       "</tr>\n",
       "<tr>\n",
       "  <th>city_Austin</th>        <td>   -0.2877</td> <td>    0.764</td> <td>   -0.377</td> <td> 0.706</td> <td>   -1.785     1.209</td>\n",
       "</tr>\n",
       "<tr>\n",
       "  <th>city_Boston</th>        <td>    0.4769</td> <td>    0.300</td> <td>    1.589</td> <td> 0.112</td> <td>   -0.111     1.065</td>\n",
       "</tr>\n",
       "<tr>\n",
       "  <th>city_Chicago</th>       <td>    0.1112</td> <td>    0.334</td> <td>    0.333</td> <td> 0.739</td> <td>   -0.543     0.766</td>\n",
       "</tr>\n",
       "<tr>\n",
       "  <th>city_Dallas</th>        <td>   -0.6931</td> <td>    0.612</td> <td>   -1.132</td> <td> 0.258</td> <td>   -1.893     0.507</td>\n",
       "</tr>\n",
       "<tr>\n",
       "  <th>city_Denver</th>        <td>   -2.0149</td> <td>    0.753</td> <td>   -2.677</td> <td> 0.007</td> <td>   -3.490    -0.539</td>\n",
       "</tr>\n",
       "<tr>\n",
       "  <th>city_Houston</th>       <td>  -24.1523</td> <td> 5.85e+04</td> <td>   -0.000</td> <td> 1.000</td> <td>-1.15e+05  1.15e+05</td>\n",
       "</tr>\n",
       "<tr>\n",
       "  <th>city_Los+Angeles</th>   <td>   -0.1671</td> <td>    0.410</td> <td>   -0.408</td> <td> 0.683</td> <td>   -0.970     0.636</td>\n",
       "</tr>\n",
       "<tr>\n",
       "  <th>city_Miami</th>         <td>   -1.6094</td> <td>    1.095</td> <td>   -1.469</td> <td> 0.142</td> <td>   -3.756     0.538</td>\n",
       "</tr>\n",
       "<tr>\n",
       "  <th>city_New+York</th>      <td>   -0.3732</td> <td>    0.201</td> <td>   -1.861</td> <td> 0.063</td> <td>   -0.766     0.020</td>\n",
       "</tr>\n",
       "<tr>\n",
       "  <th>city_Palo+Alto</th>     <td>    0.8650</td> <td>    0.421</td> <td>    2.052</td> <td> 0.040</td> <td>    0.039     1.691</td>\n",
       "</tr>\n",
       "<tr>\n",
       "  <th>city_Philadelphia</th>  <td>    0.5596</td> <td>    0.627</td> <td>    0.893</td> <td> 0.372</td> <td>   -0.669     1.788</td>\n",
       "</tr>\n",
       "<tr>\n",
       "  <th>city_Phoenix</th>       <td>  -25.4092</td> <td> 1.34e+05</td> <td>   -0.000</td> <td> 1.000</td> <td>-2.63e+05  2.63e+05</td>\n",
       "</tr>\n",
       "<tr>\n",
       "  <th>city_Pittsburgh</th>    <td>  -24.1523</td> <td> 5.85e+04</td> <td>   -0.000</td> <td> 1.000</td> <td>-1.15e+05  1.15e+05</td>\n",
       "</tr>\n",
       "<tr>\n",
       "  <th>city_Portland</th>      <td>  -16.7883</td> <td> 4421.073</td> <td>   -0.004</td> <td> 0.997</td> <td>-8681.932  8648.355</td>\n",
       "</tr>\n",
       "<tr>\n",
       "  <th>city_San+Diego</th>     <td>   -0.4055</td> <td>    0.645</td> <td>   -0.628</td> <td> 0.530</td> <td>   -1.671     0.860</td>\n",
       "</tr>\n",
       "<tr>\n",
       "  <th>city_San+Francisco</th> <td>    1.1260</td> <td>    0.332</td> <td>    3.390</td> <td> 0.001</td> <td>    0.475     1.777</td>\n",
       "</tr>\n",
       "<tr>\n",
       "  <th>city_Seattle</th>       <td>         0</td> <td>    0.447</td> <td>        0</td> <td> 1.000</td> <td>   -0.877     0.877</td>\n",
       "</tr>\n",
       "</table>"
      ],
      "text/plain": [
       "<class 'statsmodels.iolib.summary.Summary'>\n",
       "\"\"\"\n",
       "                           Logit Regression Results                           \n",
       "==============================================================================\n",
       "Dep. Variable:                      y   No. Observations:                  413\n",
       "Model:                          Logit   Df Residuals:                      395\n",
       "Method:                           MLE   Df Model:                           17\n",
       "Date:                Thu, 19 Jan 2017   Pseudo R-squ.:                  0.1414\n",
       "Time:                        00:00:14   Log-Likelihood:                -244.91\n",
       "converged:                      False   LL-Null:                       -285.25\n",
       "                                        LLR p-value:                 2.891e-10\n",
       "======================================================================================\n",
       "                         coef    std err          z      P>|z|      [95.0% Conf. Int.]\n",
       "--------------------------------------------------------------------------------------\n",
       "city_Atlanta          -1.3218      0.563     -2.349      0.019        -2.425    -0.219\n",
       "city_Austin           -0.2877      0.764     -0.377      0.706        -1.785     1.209\n",
       "city_Boston            0.4769      0.300      1.589      0.112        -0.111     1.065\n",
       "city_Chicago           0.1112      0.334      0.333      0.739        -0.543     0.766\n",
       "city_Dallas           -0.6931      0.612     -1.132      0.258        -1.893     0.507\n",
       "city_Denver           -2.0149      0.753     -2.677      0.007        -3.490    -0.539\n",
       "city_Houston         -24.1523   5.85e+04     -0.000      1.000     -1.15e+05  1.15e+05\n",
       "city_Los+Angeles      -0.1671      0.410     -0.408      0.683        -0.970     0.636\n",
       "city_Miami            -1.6094      1.095     -1.469      0.142        -3.756     0.538\n",
       "city_New+York         -0.3732      0.201     -1.861      0.063        -0.766     0.020\n",
       "city_Palo+Alto         0.8650      0.421      2.052      0.040         0.039     1.691\n",
       "city_Philadelphia      0.5596      0.627      0.893      0.372        -0.669     1.788\n",
       "city_Phoenix         -25.4092   1.34e+05     -0.000      1.000     -2.63e+05  2.63e+05\n",
       "city_Pittsburgh      -24.1523   5.85e+04     -0.000      1.000     -1.15e+05  1.15e+05\n",
       "city_Portland        -16.7883   4421.073     -0.004      0.997     -8681.932  8648.355\n",
       "city_San+Diego        -0.4055      0.645     -0.628      0.530        -1.671     0.860\n",
       "city_San+Francisco     1.1260      0.332      3.390      0.001         0.475     1.777\n",
       "city_Seattle                0      0.447          0      1.000        -0.877     0.877\n",
       "======================================================================================\n",
       "\"\"\""
      ]
     },
     "execution_count": 18,
     "metadata": {},
     "output_type": "execute_result"
    }
   ],
   "source": [
    "logit_model = sm.Logit(Y,X)\n",
    "result = logit_model.fit()\n",
    "result.summary()"
   ]
  },
  {
   "cell_type": "code",
   "execution_count": 19,
   "metadata": {
    "collapsed": false
   },
   "outputs": [
    {
     "data": {
      "text/plain": [
       "LogisticRegression(C=1.0, class_weight=None, dual=False, fit_intercept=True,\n",
       "          intercept_scaling=1, max_iter=100, multi_class='ovr', n_jobs=1,\n",
       "          penalty='l2', random_state=None, solver='liblinear', tol=0.0001,\n",
       "          verbose=0, warm_start=False)"
      ]
     },
     "execution_count": 19,
     "metadata": {},
     "output_type": "execute_result"
    }
   ],
   "source": [
    "clf = linear_model.LogisticRegression()\n",
    "clf.fit(X, Y)"
   ]
  },
  {
   "cell_type": "code",
   "execution_count": 20,
   "metadata": {
    "collapsed": false
   },
   "outputs": [
    {
     "data": {
      "text/plain": [
       "0.66101694915254239"
      ]
     },
     "execution_count": 20,
     "metadata": {},
     "output_type": "execute_result"
    }
   ],
   "source": [
    "clf.score(X,Y)"
   ]
  },
  {
   "cell_type": "markdown",
   "metadata": {
    "focus": false,
    "id": "0ef04f32-419c-4bf2-baf7-48201f03df89"
   },
   "source": [
    "## Create a few new variables in your dataframe to represent interesting features of a job title.\n",
    "- For example, create a feature that represents whether 'Senior' is in the title \n",
    "- or whether 'Manager' is in the title. \n",
    "- Then build a new Logistic Regression model with these features. Do they add any value? \n"
   ]
  },
  {
   "cell_type": "code",
   "execution_count": 21,
   "metadata": {
    "collapsed": false,
    "focus": false,
    "id": "068dc1cf-7fd7-4f27-a1f1-7f0a5a221d29"
   },
   "outputs": [],
   "source": [
    "## YOUR CODE HERE"
   ]
  },
  {
   "cell_type": "markdown",
   "metadata": {},
   "source": [
    "### Field"
   ]
  },
  {
   "cell_type": "code",
   "execution_count": 22,
   "metadata": {
    "collapsed": false
   },
   "outputs": [],
   "source": [
    "data_scientist = ['statistical', 'statistician', 'machine learning', 'scientist', 'science', \n",
    "                  'big data', 'research', 'researcher', 'deep learning', 'nlp', 'natural language processing',\n",
    "                  'predictive ', 'predictive', 'learning', 'hadoop', 'modeling', 'modeler', \n",
    "                  'time series', 'postdoctoral', 'phd']"
   ]
  },
  {
   "cell_type": "code",
   "execution_count": 23,
   "metadata": {
    "collapsed": true
   },
   "outputs": [],
   "source": [
    "data_analyst = ['analyst', 'analysis', 'business intelligence', 'analytics',\n",
    "                'intelligence', 'data administrator', 'sql']"
   ]
  },
  {
   "cell_type": "code",
   "execution_count": 24,
   "metadata": {
    "collapsed": true
   },
   "outputs": [],
   "source": [
    "engineer = ['developer', 'C++', 'java', 'software', 'engineer', 'python', 'devops', \n",
    "            'product development', '.js', 'front end', 'applications', 'application']"
   ]
  },
  {
   "cell_type": "code",
   "execution_count": 25,
   "metadata": {
    "collapsed": true
   },
   "outputs": [],
   "source": [
    "solution_architect = ['architect', 'system', 'network', 'solution']"
   ]
  },
  {
   "cell_type": "markdown",
   "metadata": {
    "collapsed": true
   },
   "source": [
    "### Industry"
   ]
  },
  {
   "cell_type": "code",
   "execution_count": 26,
   "metadata": {
    "collapsed": true
   },
   "outputs": [],
   "source": [
    "advance_analytics = ['machine learning', 'scientist','nlp', 'natural language processing', 'predictive',\n",
    "                     'predictive ', 'deep learning', 'machine learning', 'learning', 'big data', 'research',\n",
    "                     'science', 'hadoop', 'modeling', 'modeler', 'time series', 'postdoctoral', 'phd']"
   ]
  },
  {
   "cell_type": "code",
   "execution_count": 27,
   "metadata": {
    "collapsed": false
   },
   "outputs": [],
   "source": [
    "analytics =['statisticial',  'statistician,', 'statistician',\n",
    "            'analyst', 'analysis', 'analytics', 'sql']"
   ]
  },
  {
   "cell_type": "code",
   "execution_count": 28,
   "metadata": {
    "collapsed": true
   },
   "outputs": [],
   "source": [
    "tech = ['software', 'developer', 'devops', 'deep learning', 'sql', 'engineer', 'architect'] "
   ]
  },
  {
   "cell_type": "code",
   "execution_count": 29,
   "metadata": {
    "collapsed": true
   },
   "outputs": [],
   "source": [
    "finance_ind = ['finance', 'financial', 'credit', 'risk', 'bank', 'banking', 'business',\n",
    "                'investment', 'hedge fund', 'income', 'equity', 'budget', 'fraud', 'credit'] "
   ]
  },
  {
   "cell_type": "code",
   "execution_count": 30,
   "metadata": {
    "collapsed": true
   },
   "outputs": [],
   "source": [
    "life_sciences_ind = ['health', 'healthcare', 'enviromental', 'lab', 'life science', 'life sciences', 'chemist',\n",
    "                    'medical', 'clinical', 'fitness', 'food', 'biotech', 'disease', 'pharma',\n",
    "                    'epidemiologist', 'toxicologist', 'toxicology', 'laboratory', 'quality assureance',\n",
    "                    'lab', 'biologics', 'behavioral', 'psychologist', 'bioinformatics', 'quality', 'compliance']"
   ]
  },
  {
   "cell_type": "code",
   "execution_count": 31,
   "metadata": {
    "collapsed": true
   },
   "outputs": [],
   "source": [
    "makreting_ind = ['digital', 'marketing', 'market', 'seo']"
   ]
  },
  {
   "cell_type": "markdown",
   "metadata": {
    "collapsed": true
   },
   "source": [
    "### Levels:"
   ]
  },
  {
   "cell_type": "code",
   "execution_count": 32,
   "metadata": {
    "collapsed": true
   },
   "outputs": [],
   "source": [
    "mid_level = ['sr.', 'sr ', 'senior', 'associate', 'specialist', 'professional',\n",
    "            'lead', 'principal', 'advanced', 'staff', 'chief', 'iii', ' iv ', 'mid-level']"
   ]
  },
  {
   "cell_type": "code",
   "execution_count": 33,
   "metadata": {
    "collapsed": true
   },
   "outputs": [],
   "source": [
    "top_level = ['manager', 'director', 'dir,' 'executive', 'vp', 'head']"
   ]
  },
  {
   "cell_type": "code",
   "execution_count": 34,
   "metadata": {
    "collapsed": true
   },
   "outputs": [],
   "source": [
    "entry_level = ['junior', 'jr.', 'jr ', 'assitant', 'enetry level', 'technician', 'ii']"
   ]
  },
  {
   "cell_type": "markdown",
   "metadata": {},
   "source": [
    "### Creating dataframe with dummy variables:\n",
    "##### Level:"
   ]
  },
  {
   "cell_type": "code",
   "execution_count": 35,
   "metadata": {
    "collapsed": false
   },
   "outputs": [
    {
     "data": {
      "text/html": [
       "<div>\n",
       "<table border=\"1\" class=\"dataframe\">\n",
       "  <thead>\n",
       "    <tr style=\"text-align: right;\">\n",
       "      <th></th>\n",
       "      <th>city</th>\n",
       "      <th>company</th>\n",
       "      <th>salary</th>\n",
       "      <th>summary</th>\n",
       "      <th>title</th>\n",
       "      <th>parsed_salary</th>\n",
       "      <th>salary_class</th>\n",
       "      <th>city_Atlanta</th>\n",
       "      <th>city_Austin</th>\n",
       "      <th>city_Boston</th>\n",
       "      <th>...</th>\n",
       "      <th>city_Palo+Alto</th>\n",
       "      <th>city_Philadelphia</th>\n",
       "      <th>city_Phoenix</th>\n",
       "      <th>city_Pittsburgh</th>\n",
       "      <th>city_Portland</th>\n",
       "      <th>city_San+Diego</th>\n",
       "      <th>city_San+Francisco</th>\n",
       "      <th>city_Seattle</th>\n",
       "      <th>title_lowercase</th>\n",
       "      <th>title_keywords</th>\n",
       "    </tr>\n",
       "  </thead>\n",
       "  <tbody>\n",
       "    <tr>\n",
       "      <th>0</th>\n",
       "      <td>Denver</td>\n",
       "      <td>Department Of The Interior</td>\n",
       "      <td>$76,341 - $99,243 a year</td>\n",
       "      <td>Would you like to join the more than 10,000 sc...</td>\n",
       "      <td>Statistician, GS-1350-12 (DEU-PERM-DS)</td>\n",
       "      <td>87792.0</td>\n",
       "      <td>0</td>\n",
       "      <td>0.0</td>\n",
       "      <td>0.0</td>\n",
       "      <td>0.0</td>\n",
       "      <td>...</td>\n",
       "      <td>0.0</td>\n",
       "      <td>0.0</td>\n",
       "      <td>0.0</td>\n",
       "      <td>0.0</td>\n",
       "      <td>0.0</td>\n",
       "      <td>0.0</td>\n",
       "      <td>0.0</td>\n",
       "      <td>0.0</td>\n",
       "      <td>statistician, gs-1350-12 (deu-perm-ds)</td>\n",
       "      <td>0</td>\n",
       "    </tr>\n",
       "  </tbody>\n",
       "</table>\n",
       "<p>1 rows × 27 columns</p>\n",
       "</div>"
      ],
      "text/plain": [
       "     city                     company                    salary  \\\n",
       "0  Denver  Department Of The Interior  $76,341 - $99,243 a year   \n",
       "\n",
       "                                             summary  \\\n",
       "0  Would you like to join the more than 10,000 sc...   \n",
       "\n",
       "                                    title  parsed_salary  salary_class  \\\n",
       "0  Statistician, GS-1350-12 (DEU-PERM-DS)        87792.0             0   \n",
       "\n",
       "   city_Atlanta  city_Austin  city_Boston       ...        city_Palo+Alto  \\\n",
       "0           0.0          0.0          0.0       ...                   0.0   \n",
       "\n",
       "   city_Philadelphia  city_Phoenix  city_Pittsburgh  city_Portland  \\\n",
       "0                0.0           0.0              0.0            0.0   \n",
       "\n",
       "   city_San+Diego  city_San+Francisco  city_Seattle  \\\n",
       "0             0.0                 0.0           0.0   \n",
       "\n",
       "                          title_lowercase  title_keywords  \n",
       "0  statistician, gs-1350-12 (deu-perm-ds)               0  \n",
       "\n",
       "[1 rows x 27 columns]"
      ]
     },
     "execution_count": 35,
     "metadata": {},
     "output_type": "execute_result"
    }
   ],
   "source": [
    "data['title_lowercase'] = data['title']\n",
    "data['title_lowercase'] = data.title_lowercase.str.lower()\n",
    "data['title_keywords'] = 0\n",
    "data.head(1)"
   ]
  },
  {
   "cell_type": "code",
   "execution_count": 36,
   "metadata": {
    "collapsed": true
   },
   "outputs": [],
   "source": [
    "data['level'] = 0"
   ]
  },
  {
   "cell_type": "code",
   "execution_count": 37,
   "metadata": {
    "collapsed": false
   },
   "outputs": [
    {
     "name": "stderr",
     "output_type": "stream",
     "text": [
      "C:\\Users\\ali\\Anaconda2\\lib\\site-packages\\ipykernel\\__main__.py:14: SettingWithCopyWarning: \n",
      "A value is trying to be set on a copy of a slice from a DataFrame\n",
      "\n",
      "See the caveats in the documentation: http://pandas.pydata.org/pandas-docs/stable/indexing.html#indexing-view-versus-copy\n",
      "C:\\Users\\ali\\Anaconda2\\lib\\site-packages\\ipykernel\\__main__.py:8: SettingWithCopyWarning: \n",
      "A value is trying to be set on a copy of a slice from a DataFrame\n",
      "\n",
      "See the caveats in the documentation: http://pandas.pydata.org/pandas-docs/stable/indexing.html#indexing-view-versus-copy\n",
      "C:\\Users\\ali\\Anaconda2\\lib\\site-packages\\ipykernel\\__main__.py:11: SettingWithCopyWarning: \n",
      "A value is trying to be set on a copy of a slice from a DataFrame\n",
      "\n",
      "See the caveats in the documentation: http://pandas.pydata.org/pandas-docs/stable/indexing.html#indexing-view-versus-copy\n",
      "C:\\Users\\ali\\Anaconda2\\lib\\site-packages\\ipykernel\\__main__.py:5: SettingWithCopyWarning: \n",
      "A value is trying to be set on a copy of a slice from a DataFrame\n",
      "\n",
      "See the caveats in the documentation: http://pandas.pydata.org/pandas-docs/stable/indexing.html#indexing-view-versus-copy\n"
     ]
    }
   ],
   "source": [
    "for i, title in enumerate(data.title_lowercase):\n",
    "    a = title.split()\n",
    "    for b in a:\n",
    "        if b in entry_level:\n",
    "            data.level[i] = 'entry level'\n",
    "            break\n",
    "        if b in mid_level:\n",
    "            data.level[i] = 'mid level'\n",
    "            break\n",
    "        if b in top_level:\n",
    "            data.level[i] = 'to level'\n",
    "            break \n",
    "        else:\n",
    "            data.level[i] = 'unknown'"
   ]
  },
  {
   "cell_type": "code",
   "execution_count": 38,
   "metadata": {
    "collapsed": false
   },
   "outputs": [
    {
     "data": {
      "text/plain": [
       "unknown        255\n",
       "mid level      112\n",
       "to level        30\n",
       "entry level     16\n",
       "Name: level, dtype: int64"
      ]
     },
     "execution_count": 38,
     "metadata": {},
     "output_type": "execute_result"
    }
   ],
   "source": [
    "data.level.value_counts()"
   ]
  },
  {
   "cell_type": "markdown",
   "metadata": {},
   "source": [
    "#### Field"
   ]
  },
  {
   "cell_type": "code",
   "execution_count": 39,
   "metadata": {
    "collapsed": false
   },
   "outputs": [
    {
     "name": "stderr",
     "output_type": "stream",
     "text": [
      "C:\\Users\\ali\\Anaconda2\\lib\\site-packages\\ipykernel\\__main__.py:19: SettingWithCopyWarning: \n",
      "A value is trying to be set on a copy of a slice from a DataFrame\n",
      "\n",
      "See the caveats in the documentation: http://pandas.pydata.org/pandas-docs/stable/indexing.html#indexing-view-versus-copy\n",
      "C:\\Users\\ali\\Anaconda2\\lib\\site-packages\\ipykernel\\__main__.py:16: SettingWithCopyWarning: \n",
      "A value is trying to be set on a copy of a slice from a DataFrame\n",
      "\n",
      "See the caveats in the documentation: http://pandas.pydata.org/pandas-docs/stable/indexing.html#indexing-view-versus-copy\n",
      "C:\\Users\\ali\\Anaconda2\\lib\\site-packages\\ipykernel\\__main__.py:5: SettingWithCopyWarning: \n",
      "A value is trying to be set on a copy of a slice from a DataFrame\n",
      "\n",
      "See the caveats in the documentation: http://pandas.pydata.org/pandas-docs/stable/indexing.html#indexing-view-versus-copy\n",
      "C:\\Users\\ali\\Anaconda2\\lib\\site-packages\\ipykernel\\__main__.py:11: SettingWithCopyWarning: \n",
      "A value is trying to be set on a copy of a slice from a DataFrame\n",
      "\n",
      "See the caveats in the documentation: http://pandas.pydata.org/pandas-docs/stable/indexing.html#indexing-view-versus-copy\n",
      "C:\\Users\\ali\\Anaconda2\\lib\\site-packages\\ipykernel\\__main__.py:14: SettingWithCopyWarning: \n",
      "A value is trying to be set on a copy of a slice from a DataFrame\n",
      "\n",
      "See the caveats in the documentation: http://pandas.pydata.org/pandas-docs/stable/indexing.html#indexing-view-versus-copy\n",
      "C:\\Users\\ali\\Anaconda2\\lib\\site-packages\\ipykernel\\__main__.py:8: SettingWithCopyWarning: \n",
      "A value is trying to be set on a copy of a slice from a DataFrame\n",
      "\n",
      "See the caveats in the documentation: http://pandas.pydata.org/pandas-docs/stable/indexing.html#indexing-view-versus-copy\n"
     ]
    }
   ],
   "source": [
    "for i, title in enumerate(data.title_lowercase):\n",
    "    a = title.split()\n",
    "    for b in a:\n",
    "        if b in data_scientist:\n",
    "            data.title_keywords[i] = 'data scientist'\n",
    "            break\n",
    "        if b in data_analyst:\n",
    "            data.title_keywords[i] = 'data analyst'\n",
    "            break\n",
    "        if b in engineer:\n",
    "            data.title_keywords[i] = 'engineer'\n",
    "            break \n",
    "        if b in solution_architect:\n",
    "            data.title_keywords[i] = 'solution architect'\n",
    "        if 'data scientist' in title or 'Data Science' in title:\n",
    "            data.title_keywords[i] = 'data scientist'\n",
    "            break\n",
    "        else:\n",
    "            data.title_keywords[i] = 'other'"
   ]
  },
  {
   "cell_type": "code",
   "execution_count": 40,
   "metadata": {
    "collapsed": false
   },
   "outputs": [
    {
     "data": {
      "text/plain": [
       "data scientist    261\n",
       "other              67\n",
       "engineer           49\n",
       "data analyst       36\n",
       "Name: title_keywords, dtype: int64"
      ]
     },
     "execution_count": 40,
     "metadata": {},
     "output_type": "execute_result"
    }
   ],
   "source": [
    "data.title_keywords.value_counts()"
   ]
  },
  {
   "cell_type": "markdown",
   "metadata": {},
   "source": [
    "#### Industry"
   ]
  },
  {
   "cell_type": "code",
   "execution_count": 41,
   "metadata": {
    "collapsed": true
   },
   "outputs": [],
   "source": [
    "data['industry'] = 0"
   ]
  },
  {
   "cell_type": "code",
   "execution_count": 42,
   "metadata": {
    "collapsed": false
   },
   "outputs": [
    {
     "name": "stderr",
     "output_type": "stream",
     "text": [
      "C:\\Users\\ali\\Anaconda2\\lib\\site-packages\\ipykernel\\__main__.py:12: SettingWithCopyWarning: \n",
      "A value is trying to be set on a copy of a slice from a DataFrame\n",
      "\n",
      "See the caveats in the documentation: http://pandas.pydata.org/pandas-docs/stable/indexing.html#indexing-view-versus-copy\n",
      "C:\\Users\\ali\\Anaconda2\\lib\\site-packages\\ipykernel\\__main__.py:27: SettingWithCopyWarning: \n",
      "A value is trying to be set on a copy of a slice from a DataFrame\n",
      "\n",
      "See the caveats in the documentation: http://pandas.pydata.org/pandas-docs/stable/indexing.html#indexing-view-versus-copy\n",
      "C:\\Users\\ali\\Anaconda2\\lib\\site-packages\\ipykernel\\__main__.py:18: SettingWithCopyWarning: \n",
      "A value is trying to be set on a copy of a slice from a DataFrame\n",
      "\n",
      "See the caveats in the documentation: http://pandas.pydata.org/pandas-docs/stable/indexing.html#indexing-view-versus-copy\n",
      "C:\\Users\\ali\\Anaconda2\\lib\\site-packages\\ipykernel\\__main__.py:6: SettingWithCopyWarning: \n",
      "A value is trying to be set on a copy of a slice from a DataFrame\n",
      "\n",
      "See the caveats in the documentation: http://pandas.pydata.org/pandas-docs/stable/indexing.html#indexing-view-versus-copy\n",
      "C:\\Users\\ali\\Anaconda2\\lib\\site-packages\\ipykernel\\__main__.py:15: SettingWithCopyWarning: \n",
      "A value is trying to be set on a copy of a slice from a DataFrame\n",
      "\n",
      "See the caveats in the documentation: http://pandas.pydata.org/pandas-docs/stable/indexing.html#indexing-view-versus-copy\n",
      "C:\\Users\\ali\\Anaconda2\\lib\\site-packages\\ipykernel\\__main__.py:9: SettingWithCopyWarning: \n",
      "A value is trying to be set on a copy of a slice from a DataFrame\n",
      "\n",
      "See the caveats in the documentation: http://pandas.pydata.org/pandas-docs/stable/indexing.html#indexing-view-versus-copy\n",
      "C:\\Users\\ali\\Anaconda2\\lib\\site-packages\\ipykernel\\__main__.py:21: SettingWithCopyWarning: \n",
      "A value is trying to be set on a copy of a slice from a DataFrame\n",
      "\n",
      "See the caveats in the documentation: http://pandas.pydata.org/pandas-docs/stable/indexing.html#indexing-view-versus-copy\n",
      "C:\\Users\\ali\\Anaconda2\\lib\\site-packages\\ipykernel\\__main__.py:24: SettingWithCopyWarning: \n",
      "A value is trying to be set on a copy of a slice from a DataFrame\n",
      "\n",
      "See the caveats in the documentation: http://pandas.pydata.org/pandas-docs/stable/indexing.html#indexing-view-versus-copy\n"
     ]
    }
   ],
   "source": [
    "for i, title in enumerate(data.title_lowercase):\n",
    "    a = title.split()\n",
    "    \n",
    "    for b in a:        \n",
    "        if b in advance_analytics:\n",
    "            data.industry[i] = 'advance analytics'\n",
    "            break        \n",
    "        if b in tech:\n",
    "            data.industry[i] = 'tech'\n",
    "            break        \n",
    "        if b in analytics:\n",
    "            data.industry[i] = 'analytics'\n",
    "            break        \n",
    "        if b in life_sciences_ind:\n",
    "            data.industry[i] = 'life sciences'\n",
    "            break\n",
    "        if b in finance_ind:\n",
    "            data.industry[i] = 'finance'\n",
    "            break\n",
    "        if b in makreting_ind:\n",
    "            data.industry[i] = 'marketing'\n",
    "            break \n",
    "        if 'data scientist' in title or 'Data Science' in title:\n",
    "            data.industry[i] = 'analytics'\n",
    "            break\n",
    "        else:\n",
    "            data.industry[i] = 'other'"
   ]
  },
  {
   "cell_type": "code",
   "execution_count": 43,
   "metadata": {
    "collapsed": false,
    "scrolled": true
   },
   "outputs": [
    {
     "data": {
      "text/plain": [
       "analytics            152\n",
       "advance analytics    101\n",
       "tech                  50\n",
       "other                 46\n",
       "life sciences         32\n",
       "finance               22\n",
       "marketing             10\n",
       "Name: industry, dtype: int64"
      ]
     },
     "execution_count": 43,
     "metadata": {},
     "output_type": "execute_result"
    }
   ],
   "source": [
    "data.industry.value_counts()"
   ]
  },
  {
   "cell_type": "markdown",
   "metadata": {},
   "source": [
    "### Dataframe with added Features"
   ]
  },
  {
   "cell_type": "code",
   "execution_count": 44,
   "metadata": {
    "collapsed": false
   },
   "outputs": [
    {
     "data": {
      "text/plain": [
       "Index([u'city', u'company', u'salary', u'summary', u'title', u'parsed_salary',\n",
       "       u'salary_class', u'city_Atlanta', u'city_Austin', u'city_Boston',\n",
       "       u'city_Chicago', u'city_Dallas', u'city_Denver', u'city_Houston',\n",
       "       u'city_Los+Angeles', u'city_Miami', u'city_New+York', u'city_Palo+Alto',\n",
       "       u'city_Philadelphia', u'city_Phoenix', u'city_Pittsburgh',\n",
       "       u'city_Portland', u'city_San+Diego', u'city_San+Francisco',\n",
       "       u'city_Seattle', u'title_lowercase', u'title_keywords', u'level',\n",
       "       u'industry'],\n",
       "      dtype='object')"
      ]
     },
     "execution_count": 44,
     "metadata": {},
     "output_type": "execute_result"
    }
   ],
   "source": [
    "data_science_salary_data = data\n",
    "data_science_salary_data.columns"
   ]
  },
  {
   "cell_type": "code",
   "execution_count": 45,
   "metadata": {
    "collapsed": false,
    "scrolled": false
   },
   "outputs": [],
   "source": [
    "d1 = pd.get_dummies(data_science_salary_data.title_keywords, prefix = 'title')\n",
    "d2 = pd.get_dummies(data_science_salary_data.level, prefix = 'level')\n",
    "d3 = pd.get_dummies(data_science_salary_data.industry, prefix = 'industry')\n",
    "D = [d1,d2,d3]\n",
    "data_science_salary_data = data_science_salary_data.join(D)"
   ]
  },
  {
   "cell_type": "code",
   "execution_count": 46,
   "metadata": {
    "collapsed": false
   },
   "outputs": [
    {
     "data": {
      "text/plain": [
       "Index([u'parsed_salary', u'salary_class', u'city_Atlanta', u'city_Austin',\n",
       "       u'city_Boston', u'city_Chicago', u'city_Dallas', u'city_Denver',\n",
       "       u'city_Houston', u'city_Los+Angeles', u'city_Miami', u'city_New+York',\n",
       "       u'city_Palo+Alto', u'city_Philadelphia', u'city_Phoenix',\n",
       "       u'city_Pittsburgh', u'city_Portland', u'city_San+Diego',\n",
       "       u'city_San+Francisco', u'city_Seattle', u'title_data analyst',\n",
       "       u'title_data scientist', u'title_engineer', u'title_other',\n",
       "       u'level_entry level', u'level_mid level', u'level_to level',\n",
       "       u'level_unknown', u'industry_advance analytics', u'industry_analytics',\n",
       "       u'industry_finance', u'industry_life sciences', u'industry_marketing',\n",
       "       u'industry_other', u'industry_tech'],\n",
       "      dtype='object')"
      ]
     },
     "execution_count": 46,
     "metadata": {},
     "output_type": "execute_result"
    }
   ],
   "source": [
    "data_science_salary_data = data_science_salary_data.drop(\n",
    "    ['city', 'company', 'salary', 'summary', 'title', 'title_lowercase', \n",
    "    'title_keywords', 'level', 'industry'], axis=1)\n",
    "data_science_salary_data.columns"
   ]
  },
  {
   "cell_type": "code",
   "execution_count": 47,
   "metadata": {
    "collapsed": false,
    "scrolled": true
   },
   "outputs": [
    {
     "name": "stdout",
     "output_type": "stream",
     "text": [
      "(413, 35)\n"
     ]
    },
    {
     "data": {
      "text/html": [
       "<div>\n",
       "<table border=\"1\" class=\"dataframe\">\n",
       "  <thead>\n",
       "    <tr style=\"text-align: right;\">\n",
       "      <th></th>\n",
       "      <th>parsed_salary</th>\n",
       "      <th>salary_class</th>\n",
       "      <th>city_Atlanta</th>\n",
       "      <th>city_Austin</th>\n",
       "      <th>city_Boston</th>\n",
       "      <th>city_Chicago</th>\n",
       "      <th>city_Dallas</th>\n",
       "      <th>city_Denver</th>\n",
       "      <th>city_Houston</th>\n",
       "      <th>city_Los+Angeles</th>\n",
       "      <th>...</th>\n",
       "      <th>level_mid level</th>\n",
       "      <th>level_to level</th>\n",
       "      <th>level_unknown</th>\n",
       "      <th>industry_advance analytics</th>\n",
       "      <th>industry_analytics</th>\n",
       "      <th>industry_finance</th>\n",
       "      <th>industry_life sciences</th>\n",
       "      <th>industry_marketing</th>\n",
       "      <th>industry_other</th>\n",
       "      <th>industry_tech</th>\n",
       "    </tr>\n",
       "  </thead>\n",
       "  <tbody>\n",
       "    <tr>\n",
       "      <th>0</th>\n",
       "      <td>87792.0</td>\n",
       "      <td>0</td>\n",
       "      <td>0.0</td>\n",
       "      <td>0.0</td>\n",
       "      <td>0.0</td>\n",
       "      <td>0.0</td>\n",
       "      <td>0.0</td>\n",
       "      <td>1.0</td>\n",
       "      <td>0.0</td>\n",
       "      <td>0.0</td>\n",
       "      <td>...</td>\n",
       "      <td>0.0</td>\n",
       "      <td>0.0</td>\n",
       "      <td>1.0</td>\n",
       "      <td>0.0</td>\n",
       "      <td>1.0</td>\n",
       "      <td>0.0</td>\n",
       "      <td>0.0</td>\n",
       "      <td>0.0</td>\n",
       "      <td>0.0</td>\n",
       "      <td>0.0</td>\n",
       "    </tr>\n",
       "    <tr>\n",
       "      <th>1</th>\n",
       "      <td>85127.5</td>\n",
       "      <td>0</td>\n",
       "      <td>0.0</td>\n",
       "      <td>0.0</td>\n",
       "      <td>0.0</td>\n",
       "      <td>0.0</td>\n",
       "      <td>0.0</td>\n",
       "      <td>1.0</td>\n",
       "      <td>0.0</td>\n",
       "      <td>0.0</td>\n",
       "      <td>...</td>\n",
       "      <td>0.0</td>\n",
       "      <td>0.0</td>\n",
       "      <td>1.0</td>\n",
       "      <td>0.0</td>\n",
       "      <td>0.0</td>\n",
       "      <td>0.0</td>\n",
       "      <td>0.0</td>\n",
       "      <td>0.0</td>\n",
       "      <td>1.0</td>\n",
       "      <td>0.0</td>\n",
       "    </tr>\n",
       "    <tr>\n",
       "      <th>2</th>\n",
       "      <td>75000.0</td>\n",
       "      <td>0</td>\n",
       "      <td>0.0</td>\n",
       "      <td>0.0</td>\n",
       "      <td>0.0</td>\n",
       "      <td>0.0</td>\n",
       "      <td>0.0</td>\n",
       "      <td>1.0</td>\n",
       "      <td>0.0</td>\n",
       "      <td>0.0</td>\n",
       "      <td>...</td>\n",
       "      <td>0.0</td>\n",
       "      <td>0.0</td>\n",
       "      <td>1.0</td>\n",
       "      <td>0.0</td>\n",
       "      <td>0.0</td>\n",
       "      <td>1.0</td>\n",
       "      <td>0.0</td>\n",
       "      <td>0.0</td>\n",
       "      <td>0.0</td>\n",
       "      <td>0.0</td>\n",
       "    </tr>\n",
       "    <tr>\n",
       "      <th>3</th>\n",
       "      <td>68983.5</td>\n",
       "      <td>0</td>\n",
       "      <td>0.0</td>\n",
       "      <td>0.0</td>\n",
       "      <td>0.0</td>\n",
       "      <td>0.0</td>\n",
       "      <td>0.0</td>\n",
       "      <td>1.0</td>\n",
       "      <td>0.0</td>\n",
       "      <td>0.0</td>\n",
       "      <td>...</td>\n",
       "      <td>1.0</td>\n",
       "      <td>0.0</td>\n",
       "      <td>0.0</td>\n",
       "      <td>1.0</td>\n",
       "      <td>0.0</td>\n",
       "      <td>0.0</td>\n",
       "      <td>0.0</td>\n",
       "      <td>0.0</td>\n",
       "      <td>0.0</td>\n",
       "      <td>0.0</td>\n",
       "    </tr>\n",
       "    <tr>\n",
       "      <th>4</th>\n",
       "      <td>27000.0</td>\n",
       "      <td>0</td>\n",
       "      <td>0.0</td>\n",
       "      <td>0.0</td>\n",
       "      <td>0.0</td>\n",
       "      <td>0.0</td>\n",
       "      <td>0.0</td>\n",
       "      <td>1.0</td>\n",
       "      <td>0.0</td>\n",
       "      <td>0.0</td>\n",
       "      <td>...</td>\n",
       "      <td>0.0</td>\n",
       "      <td>0.0</td>\n",
       "      <td>1.0</td>\n",
       "      <td>0.0</td>\n",
       "      <td>0.0</td>\n",
       "      <td>0.0</td>\n",
       "      <td>0.0</td>\n",
       "      <td>0.0</td>\n",
       "      <td>1.0</td>\n",
       "      <td>0.0</td>\n",
       "    </tr>\n",
       "  </tbody>\n",
       "</table>\n",
       "<p>5 rows × 35 columns</p>\n",
       "</div>"
      ],
      "text/plain": [
       "   parsed_salary  salary_class  city_Atlanta  city_Austin  city_Boston  \\\n",
       "0        87792.0             0           0.0          0.0          0.0   \n",
       "1        85127.5             0           0.0          0.0          0.0   \n",
       "2        75000.0             0           0.0          0.0          0.0   \n",
       "3        68983.5             0           0.0          0.0          0.0   \n",
       "4        27000.0             0           0.0          0.0          0.0   \n",
       "\n",
       "   city_Chicago  city_Dallas  city_Denver  city_Houston  city_Los+Angeles  \\\n",
       "0           0.0          0.0          1.0           0.0               0.0   \n",
       "1           0.0          0.0          1.0           0.0               0.0   \n",
       "2           0.0          0.0          1.0           0.0               0.0   \n",
       "3           0.0          0.0          1.0           0.0               0.0   \n",
       "4           0.0          0.0          1.0           0.0               0.0   \n",
       "\n",
       "       ...        level_mid level  level_to level  level_unknown  \\\n",
       "0      ...                    0.0             0.0            1.0   \n",
       "1      ...                    0.0             0.0            1.0   \n",
       "2      ...                    0.0             0.0            1.0   \n",
       "3      ...                    1.0             0.0            0.0   \n",
       "4      ...                    0.0             0.0            1.0   \n",
       "\n",
       "   industry_advance analytics  industry_analytics  industry_finance  \\\n",
       "0                         0.0                 1.0               0.0   \n",
       "1                         0.0                 0.0               0.0   \n",
       "2                         0.0                 0.0               1.0   \n",
       "3                         1.0                 0.0               0.0   \n",
       "4                         0.0                 0.0               0.0   \n",
       "\n",
       "   industry_life sciences  industry_marketing  industry_other  industry_tech  \n",
       "0                     0.0                 0.0             0.0            0.0  \n",
       "1                     0.0                 0.0             1.0            0.0  \n",
       "2                     0.0                 0.0             0.0            0.0  \n",
       "3                     0.0                 0.0             0.0            0.0  \n",
       "4                     0.0                 0.0             1.0            0.0  \n",
       "\n",
       "[5 rows x 35 columns]"
      ]
     },
     "execution_count": 47,
     "metadata": {},
     "output_type": "execute_result"
    }
   ],
   "source": [
    "print data_science_salary_data.shape\n",
    "data_science_salary_data.head()"
   ]
  },
  {
   "cell_type": "code",
   "execution_count": 48,
   "metadata": {
    "collapsed": false
   },
   "outputs": [
    {
     "data": {
      "text/plain": [
       "Index([u'city_Atlanta', u'city_Austin', u'city_Boston', u'city_Chicago',\n",
       "       u'city_Dallas', u'city_Denver', u'city_Houston', u'city_Los+Angeles',\n",
       "       u'city_Miami', u'city_New+York', u'city_Palo+Alto',\n",
       "       u'city_Philadelphia', u'city_Phoenix', u'city_Pittsburgh',\n",
       "       u'city_Portland', u'city_San+Diego', u'city_San+Francisco',\n",
       "       u'city_Seattle', u'title_data analyst', u'title_data scientist',\n",
       "       u'title_engineer', u'title_other', u'level_entry level',\n",
       "       u'level_mid level', u'level_to level', u'level_unknown',\n",
       "       u'industry_advance analytics', u'industry_analytics',\n",
       "       u'industry_finance', u'industry_life sciences', u'industry_marketing',\n",
       "       u'industry_other', u'industry_tech'],\n",
       "      dtype='object')"
      ]
     },
     "execution_count": 48,
     "metadata": {},
     "output_type": "execute_result"
    }
   ],
   "source": [
    "feature_columns = data_science_salary_data.columns[2:]\n",
    "feature_columns"
   ]
  },
  {
   "cell_type": "code",
   "execution_count": 49,
   "metadata": {
    "collapsed": false,
    "scrolled": true
   },
   "outputs": [],
   "source": [
    "# X = np.asarray(data_science_salary_data[feature_columns])\n",
    "# Y = np.asarray(data_science_salary_data.salary_class)\n",
    "X = data_science_salary_data[feature_columns]\n",
    "y = data_science_salary_data.salary_class"
   ]
  },
  {
   "cell_type": "code",
   "execution_count": 50,
   "metadata": {
    "collapsed": false
   },
   "outputs": [
    {
     "name": "stdout",
     "output_type": "stream",
     "text": [
      "Warning: Maximum number of iterations has been exceeded.\n",
      "         Current function value: 0.459633\n",
      "         Iterations: 35\n"
     ]
    },
    {
     "name": "stderr",
     "output_type": "stream",
     "text": [
      "C:\\Users\\ali\\Anaconda2\\lib\\site-packages\\statsmodels\\base\\model.py:466: ConvergenceWarning: Maximum Likelihood optimization failed to converge. Check mle_retvals\n",
      "  \"Check mle_retvals\", ConvergenceWarning)\n"
     ]
    },
    {
     "data": {
      "text/html": [
       "<table class=\"simpletable\">\n",
       "<caption>Logit Regression Results</caption>\n",
       "<tr>\n",
       "  <th>Dep. Variable:</th>         <td>y</td>        <th>  No. Observations:  </th>  <td>   413</td>  \n",
       "</tr>\n",
       "<tr>\n",
       "  <th>Model:</th>               <td>Logit</td>      <th>  Df Residuals:      </th>  <td>   383</td>  \n",
       "</tr>\n",
       "<tr>\n",
       "  <th>Method:</th>               <td>MLE</td>       <th>  Df Model:          </th>  <td>    29</td>  \n",
       "</tr>\n",
       "<tr>\n",
       "  <th>Date:</th>          <td>Thu, 19 Jan 2017</td> <th>  Pseudo R-squ.:     </th>  <td>0.3345</td>  \n",
       "</tr>\n",
       "<tr>\n",
       "  <th>Time:</th>              <td>00:04:07</td>     <th>  Log-Likelihood:    </th> <td> -189.83</td> \n",
       "</tr>\n",
       "<tr>\n",
       "  <th>converged:</th>           <td>False</td>      <th>  LL-Null:           </th> <td> -285.25</td> \n",
       "</tr>\n",
       "<tr>\n",
       "  <th> </th>                      <td> </td>        <th>  LLR p-value:       </th> <td>9.677e-26</td>\n",
       "</tr>\n",
       "</table>\n",
       "<table class=\"simpletable\">\n",
       "<tr>\n",
       "               <td></td>                 <th>coef</th>     <th>std err</th>      <th>z</th>      <th>P>|z|</th> <th>[95.0% Conf. Int.]</th> \n",
       "</tr>\n",
       "<tr>\n",
       "  <th>city_Atlanta</th>               <td>    3.7686</td> <td>  6.6e+06</td> <td> 5.71e-07</td> <td> 1.000</td> <td>-1.29e+07  1.29e+07</td>\n",
       "</tr>\n",
       "<tr>\n",
       "  <th>city_Austin</th>                <td>    4.5673</td> <td> 5.74e+06</td> <td> 7.95e-07</td> <td> 1.000</td> <td>-1.13e+07  1.13e+07</td>\n",
       "</tr>\n",
       "<tr>\n",
       "  <th>city_Boston</th>                <td>    5.1588</td> <td> 6.38e+06</td> <td> 8.08e-07</td> <td> 1.000</td> <td>-1.25e+07  1.25e+07</td>\n",
       "</tr>\n",
       "<tr>\n",
       "  <th>city_Chicago</th>               <td>    4.4077</td> <td> 7.09e+06</td> <td> 6.22e-07</td> <td> 1.000</td> <td>-1.39e+07  1.39e+07</td>\n",
       "</tr>\n",
       "<tr>\n",
       "  <th>city_Dallas</th>                <td>    3.2778</td> <td> 6.53e+06</td> <td> 5.02e-07</td> <td> 1.000</td> <td>-1.28e+07  1.28e+07</td>\n",
       "</tr>\n",
       "<tr>\n",
       "  <th>city_Denver</th>                <td>    3.3736</td> <td> 6.95e+06</td> <td> 4.85e-07</td> <td> 1.000</td> <td>-1.36e+07  1.36e+07</td>\n",
       "</tr>\n",
       "<tr>\n",
       "  <th>city_Houston</th>               <td>  -16.5197</td> <td> 6.96e+06</td> <td>-2.37e-06</td> <td> 1.000</td> <td>-1.36e+07  1.36e+07</td>\n",
       "</tr>\n",
       "<tr>\n",
       "  <th>city_Los+Angeles</th>           <td>    5.4423</td> <td> 6.82e+06</td> <td> 7.98e-07</td> <td> 1.000</td> <td>-1.34e+07  1.34e+07</td>\n",
       "</tr>\n",
       "<tr>\n",
       "  <th>city_Miami</th>                 <td>    3.4759</td> <td> 5.91e+06</td> <td> 5.88e-07</td> <td> 1.000</td> <td>-1.16e+07  1.16e+07</td>\n",
       "</tr>\n",
       "<tr>\n",
       "  <th>city_New+York</th>              <td>    4.7038</td> <td> 7.36e+06</td> <td> 6.39e-07</td> <td> 1.000</td> <td>-1.44e+07  1.44e+07</td>\n",
       "</tr>\n",
       "<tr>\n",
       "  <th>city_Palo+Alto</th>             <td>    5.8854</td> <td> 4.64e+06</td> <td> 1.27e-06</td> <td> 1.000</td> <td>-9.09e+06  9.09e+06</td>\n",
       "</tr>\n",
       "<tr>\n",
       "  <th>city_Philadelphia</th>          <td>    4.8577</td> <td> 6.23e+06</td> <td>  7.8e-07</td> <td> 1.000</td> <td>-1.22e+07  1.22e+07</td>\n",
       "</tr>\n",
       "<tr>\n",
       "  <th>city_Phoenix</th>               <td>  -16.9293</td> <td> 7.09e+06</td> <td>-2.39e-06</td> <td> 1.000</td> <td>-1.39e+07  1.39e+07</td>\n",
       "</tr>\n",
       "<tr>\n",
       "  <th>city_Pittsburgh</th>            <td>  -22.7346</td> <td>  7.1e+06</td> <td> -3.2e-06</td> <td> 1.000</td> <td>-1.39e+07  1.39e+07</td>\n",
       "</tr>\n",
       "<tr>\n",
       "  <th>city_Portland</th>              <td>  -17.0961</td> <td> 6.52e+06</td> <td>-2.62e-06</td> <td> 1.000</td> <td>-1.28e+07  1.28e+07</td>\n",
       "</tr>\n",
       "<tr>\n",
       "  <th>city_San+Diego</th>             <td>    4.6530</td> <td> 6.82e+06</td> <td> 6.83e-07</td> <td> 1.000</td> <td>-1.34e+07  1.34e+07</td>\n",
       "</tr>\n",
       "<tr>\n",
       "  <th>city_San+Francisco</th>         <td>    6.0227</td> <td> 6.23e+06</td> <td> 9.67e-07</td> <td> 1.000</td> <td>-1.22e+07  1.22e+07</td>\n",
       "</tr>\n",
       "<tr>\n",
       "  <th>city_Seattle</th>               <td>    5.7981</td> <td> 6.89e+06</td> <td> 8.42e-07</td> <td> 1.000</td> <td>-1.35e+07  1.35e+07</td>\n",
       "</tr>\n",
       "<tr>\n",
       "  <th>title_data analyst</th>         <td>   -2.5291</td> <td> 7.12e+06</td> <td>-3.55e-07</td> <td> 1.000</td> <td> -1.4e+07   1.4e+07</td>\n",
       "</tr>\n",
       "<tr>\n",
       "  <th>title_data scientist</th>       <td>   -1.6492</td> <td> 7.26e+06</td> <td>-2.27e-07</td> <td> 1.000</td> <td>-1.42e+07  1.42e+07</td>\n",
       "</tr>\n",
       "<tr>\n",
       "  <th>title_engineer</th>             <td>   -0.1163</td> <td>  6.7e+06</td> <td>-1.74e-08</td> <td> 1.000</td> <td>-1.31e+07  1.31e+07</td>\n",
       "</tr>\n",
       "<tr>\n",
       "  <th>title_other</th>                <td>   -3.5923</td> <td> 6.96e+06</td> <td>-5.16e-07</td> <td> 1.000</td> <td>-1.36e+07  1.36e+07</td>\n",
       "</tr>\n",
       "<tr>\n",
       "  <th>level_entry level</th>          <td>   -3.1823</td> <td>      nan</td> <td>      nan</td> <td>   nan</td> <td>      nan       nan</td>\n",
       "</tr>\n",
       "<tr>\n",
       "  <th>level_mid level</th>            <td>   -1.9477</td> <td>      nan</td> <td>      nan</td> <td>   nan</td> <td>      nan       nan</td>\n",
       "</tr>\n",
       "<tr>\n",
       "  <th>level_to level</th>             <td>    0.1198</td> <td>      nan</td> <td>      nan</td> <td>   nan</td> <td>      nan       nan</td>\n",
       "</tr>\n",
       "<tr>\n",
       "  <th>level_unknown</th>              <td>   -2.8766</td> <td>      nan</td> <td>      nan</td> <td>   nan</td> <td>      nan       nan</td>\n",
       "</tr>\n",
       "<tr>\n",
       "  <th>industry_advance analytics</th> <td>   -1.6111</td> <td>  1.2e+07</td> <td>-1.34e-07</td> <td> 1.000</td> <td>-2.36e+07  2.36e+07</td>\n",
       "</tr>\n",
       "<tr>\n",
       "  <th>industry_analytics</th>         <td>    0.2974</td> <td>  1.2e+07</td> <td> 2.47e-08</td> <td> 1.000</td> <td>-2.36e+07  2.36e+07</td>\n",
       "</tr>\n",
       "<tr>\n",
       "  <th>industry_finance</th>           <td>   -0.0300</td> <td>  1.2e+07</td> <td>-2.49e-09</td> <td> 1.000</td> <td>-2.36e+07  2.36e+07</td>\n",
       "</tr>\n",
       "<tr>\n",
       "  <th>industry_life sciences</th>     <td>   -1.7148</td> <td>  1.2e+07</td> <td>-1.42e-07</td> <td> 1.000</td> <td>-2.36e+07  2.36e+07</td>\n",
       "</tr>\n",
       "<tr>\n",
       "  <th>industry_marketing</th>         <td>   -2.4724</td> <td>  1.2e+07</td> <td>-2.05e-07</td> <td> 1.000</td> <td>-2.36e+07  2.36e+07</td>\n",
       "</tr>\n",
       "<tr>\n",
       "  <th>industry_other</th>             <td>   -1.2130</td> <td>  1.2e+07</td> <td>-1.01e-07</td> <td> 1.000</td> <td>-2.36e+07  2.36e+07</td>\n",
       "</tr>\n",
       "<tr>\n",
       "  <th>industry_tech</th>              <td>   -1.1429</td> <td>  1.2e+07</td> <td>-9.49e-08</td> <td> 1.000</td> <td>-2.36e+07  2.36e+07</td>\n",
       "</tr>\n",
       "</table>"
      ],
      "text/plain": [
       "<class 'statsmodels.iolib.summary.Summary'>\n",
       "\"\"\"\n",
       "                           Logit Regression Results                           \n",
       "==============================================================================\n",
       "Dep. Variable:                      y   No. Observations:                  413\n",
       "Model:                          Logit   Df Residuals:                      383\n",
       "Method:                           MLE   Df Model:                           29\n",
       "Date:                Thu, 19 Jan 2017   Pseudo R-squ.:                  0.3345\n",
       "Time:                        00:04:07   Log-Likelihood:                -189.83\n",
       "converged:                      False   LL-Null:                       -285.25\n",
       "                                        LLR p-value:                 9.677e-26\n",
       "==============================================================================================\n",
       "                                 coef    std err          z      P>|z|      [95.0% Conf. Int.]\n",
       "----------------------------------------------------------------------------------------------\n",
       "city_Atlanta                   3.7686    6.6e+06   5.71e-07      1.000     -1.29e+07  1.29e+07\n",
       "city_Austin                    4.5673   5.74e+06   7.95e-07      1.000     -1.13e+07  1.13e+07\n",
       "city_Boston                    5.1588   6.38e+06   8.08e-07      1.000     -1.25e+07  1.25e+07\n",
       "city_Chicago                   4.4077   7.09e+06   6.22e-07      1.000     -1.39e+07  1.39e+07\n",
       "city_Dallas                    3.2778   6.53e+06   5.02e-07      1.000     -1.28e+07  1.28e+07\n",
       "city_Denver                    3.3736   6.95e+06   4.85e-07      1.000     -1.36e+07  1.36e+07\n",
       "city_Houston                 -16.5197   6.96e+06  -2.37e-06      1.000     -1.36e+07  1.36e+07\n",
       "city_Los+Angeles               5.4423   6.82e+06   7.98e-07      1.000     -1.34e+07  1.34e+07\n",
       "city_Miami                     3.4759   5.91e+06   5.88e-07      1.000     -1.16e+07  1.16e+07\n",
       "city_New+York                  4.7038   7.36e+06   6.39e-07      1.000     -1.44e+07  1.44e+07\n",
       "city_Palo+Alto                 5.8854   4.64e+06   1.27e-06      1.000     -9.09e+06  9.09e+06\n",
       "city_Philadelphia              4.8577   6.23e+06    7.8e-07      1.000     -1.22e+07  1.22e+07\n",
       "city_Phoenix                 -16.9293   7.09e+06  -2.39e-06      1.000     -1.39e+07  1.39e+07\n",
       "city_Pittsburgh              -22.7346    7.1e+06   -3.2e-06      1.000     -1.39e+07  1.39e+07\n",
       "city_Portland                -17.0961   6.52e+06  -2.62e-06      1.000     -1.28e+07  1.28e+07\n",
       "city_San+Diego                 4.6530   6.82e+06   6.83e-07      1.000     -1.34e+07  1.34e+07\n",
       "city_San+Francisco             6.0227   6.23e+06   9.67e-07      1.000     -1.22e+07  1.22e+07\n",
       "city_Seattle                   5.7981   6.89e+06   8.42e-07      1.000     -1.35e+07  1.35e+07\n",
       "title_data analyst            -2.5291   7.12e+06  -3.55e-07      1.000      -1.4e+07   1.4e+07\n",
       "title_data scientist          -1.6492   7.26e+06  -2.27e-07      1.000     -1.42e+07  1.42e+07\n",
       "title_engineer                -0.1163    6.7e+06  -1.74e-08      1.000     -1.31e+07  1.31e+07\n",
       "title_other                   -3.5923   6.96e+06  -5.16e-07      1.000     -1.36e+07  1.36e+07\n",
       "level_entry level             -3.1823        nan        nan        nan           nan       nan\n",
       "level_mid level               -1.9477        nan        nan        nan           nan       nan\n",
       "level_to level                 0.1198        nan        nan        nan           nan       nan\n",
       "level_unknown                 -2.8766        nan        nan        nan           nan       nan\n",
       "industry_advance analytics    -1.6111    1.2e+07  -1.34e-07      1.000     -2.36e+07  2.36e+07\n",
       "industry_analytics             0.2974    1.2e+07   2.47e-08      1.000     -2.36e+07  2.36e+07\n",
       "industry_finance              -0.0300    1.2e+07  -2.49e-09      1.000     -2.36e+07  2.36e+07\n",
       "industry_life sciences        -1.7148    1.2e+07  -1.42e-07      1.000     -2.36e+07  2.36e+07\n",
       "industry_marketing            -2.4724    1.2e+07  -2.05e-07      1.000     -2.36e+07  2.36e+07\n",
       "industry_other                -1.2130    1.2e+07  -1.01e-07      1.000     -2.36e+07  2.36e+07\n",
       "industry_tech                 -1.1429    1.2e+07  -9.49e-08      1.000     -2.36e+07  2.36e+07\n",
       "==============================================================================================\n",
       "\"\"\""
      ]
     },
     "execution_count": 50,
     "metadata": {},
     "output_type": "execute_result"
    }
   ],
   "source": [
    "logit_model = sm.Logit(Y,X)\n",
    "result = logit_model.fit()\n",
    "result.summary()"
   ]
  },
  {
   "cell_type": "markdown",
   "metadata": {
    "focus": false,
    "id": "9c9274ef-c9f5-4d56-b286-ecc8709eff9f"
   },
   "source": [
    "#### Rebuild this model with scikit-learn.\n",
    "- You can either create the dummy features manually or use the `dmatrix` function from `patsy`\n",
    "- Remember to scale the feature variables as well!\n"
   ]
  },
  {
   "cell_type": "code",
   "execution_count": 51,
   "metadata": {
    "collapsed": false,
    "scrolled": true
   },
   "outputs": [
    {
     "name": "stderr",
     "output_type": "stream",
     "text": [
      "C:\\Users\\ali\\Anaconda2\\lib\\site-packages\\sklearn\\cross_validation.py:44: DeprecationWarning: This module was deprecated in version 0.18 in favor of the model_selection module into which all the refactored classes and functions are moved. Also note that the interface of the new CV iterators are different from that of this module. This module will be removed in 0.20.\n",
      "  \"This module will be removed in 0.20.\", DeprecationWarning)\n"
     ]
    }
   ],
   "source": [
    "# from sklearn.model_selection import train_test_split\n",
    "from sklearn.linear_model import LinearRegression\n",
    "from sklearn.preprocessing import StandardScaler\n",
    "from sklearn.neighbors import KNeighborsClassifier\n",
    "from sklearn.metrics import accuracy_score\n",
    "from sklearn.metrics import confusion_matrix\n",
    "from sklearn import cross_validation#, model_selection\n",
    "from sklearn.model_selection import cross_val_score\n",
    "from sklearn.model_selection import train_test_split\n"
   ]
  },
  {
   "cell_type": "markdown",
   "metadata": {},
   "source": [
    "### Evaluate - Cross Validation Score / 5 folds"
   ]
  },
  {
   "cell_type": "code",
   "execution_count": 52,
   "metadata": {
    "collapsed": false
   },
   "outputs": [
    {
     "name": "stdout",
     "output_type": "stream",
     "text": [
      "('INTIAL MODEL ACCURACY (NO Cross Validation:', 0.76271186440677963)\n"
     ]
    }
   ],
   "source": [
    "lr = LogisticRegression(penalty = 'l2', C =1)\n",
    "lr.fit(X, y)\n",
    "print ('INTIAL MODEL ACCURACY (NO Cross Validation:', lr.score(X, y))"
   ]
  },
  {
   "cell_type": "code",
   "execution_count": 53,
   "metadata": {
    "collapsed": false
   },
   "outputs": [
    {
     "name": "stdout",
     "output_type": "stream",
     "text": [
      "('CV 5-FOLD Scores: ', array([ 0.76190476,  0.69879518,  0.7195122 ,  0.6097561 ,  0.80487805]))\n",
      "('CV 5-FOLD Mean Accuracy', 0.71896925681821366)\n",
      "('CV 5-FOLD Standard Deviation of Accuracy', <built-in method std of numpy.ndarray object at 0x000000000E6EDC10>)\n"
     ]
    }
   ],
   "source": [
    "scores = cross_val_score(lr, X, y, scoring = 'accuracy', cv =5)\n",
    "print ('CV 5-FOLD Scores: ', scores)\n",
    "print ('CV 5-FOLD Mean Accuracy', scores.mean())\n",
    "print ('CV 5-FOLD Standard Deviation of Accuracy', scores.std)"
   ]
  },
  {
   "cell_type": "markdown",
   "metadata": {},
   "source": [
    "### Classification - Type 1 and type 2 error"
   ]
  },
  {
   "cell_type": "code",
   "execution_count": 54,
   "metadata": {
    "collapsed": false
   },
   "outputs": [
    {
     "name": "stdout",
     "output_type": "stream",
     "text": [
      "Accuracy: 0.7445\n",
      "[[57 19]\n",
      " [16 45]]\n",
      "Confusion Matrix for Type I and Type II Error\n"
     ]
    },
    {
     "data": {
      "image/png": "[encoded data removed]",
      "text/plain": [
       "<matplotlib.figure.Figure at 0xe5d5e48>"
      ]
     },
     "metadata": {},
     "output_type": "display_data"
    }
   ],
   "source": [
    "X_train, X_test, y_train, y_test = train_test_split(X, y, test_size = 0.33, random_state=1)\n",
    "lr.fit(X_train, y_train)\n",
    "\n",
    "y_pred = lr.predict(X_test)\n",
    "from sklearn.metrics import accuracy_score\n",
    "print('Accuracy: %.4f' % accuracy_score(y_test, y_pred))\n",
    "from sklearn.metrics import confusion_matrix\n",
    "confmat = confusion_matrix(y_true=y_test, y_pred=y_pred)\n",
    "print(confmat)\n",
    "\n",
    "import matplotlib.pyplot as plt\n",
    "%matplotlib inline\n",
    "\n",
    "fig, ax = plt.subplots(figsize=(4, 4))\n",
    "ax.matshow(confmat, cmap=plt.cm.Greens, alpha=0.3)\n",
    "for i in range(confmat.shape[0]):\n",
    "    for j in range(confmat.shape[1]):\n",
    "        ax.text(x=j, y=i,\n",
    "            s=confmat[i, j],\n",
    "            va='center', ha='center')\n",
    "plt.xlabel('predicted label')\n",
    "plt.ylabel('true label')\n",
    "print('Confusion Matrix for Type I and Type II Error')\n",
    "plt.show()"
   ]
  },
  {
   "cell_type": "code",
   "execution_count": 55,
   "metadata": {
    "collapsed": false
   },
   "outputs": [
    {
     "name": "stdout",
     "output_type": "stream",
     "text": [
      "Classification Report: \n",
      "             precision    recall  f1-score   support\n",
      "\n",
      "     Benign       0.78      0.75      0.77        76\n",
      "  Malignant       0.70      0.74      0.72        61\n",
      "\n",
      "avg / total       0.75      0.74      0.75       137\n",
      "\n"
     ]
    }
   ],
   "source": [
    "from sklearn.metrics import classification_report\n",
    "target_names = ['Benign', 'Malignant']\n",
    "y_true = y_test\n",
    "print('Classification Report: ')\n",
    "print(classification_report(y_true, y_pred, target_names=target_names))"
   ]
  },
  {
   "cell_type": "markdown",
   "metadata": {
    "collapsed": true
   },
   "source": [
    "### Scale"
   ]
  },
  {
   "cell_type": "code",
   "execution_count": 56,
   "metadata": {
    "collapsed": false
   },
   "outputs": [
    {
     "name": "stdout",
     "output_type": "stream",
     "text": [
      "Scaled/Standardized Improved Test Accuracy: 0.7299\n"
     ]
    },
    {
     "data": {
      "text/plain": [
       "Pipeline(steps=[('scl', StandardScaler(copy=True, with_mean=True, with_std=True)), ('clf', LogisticRegression(C=1.0, class_weight=None, dual=False, fit_intercept=True,\n",
       "          intercept_scaling=1, max_iter=100, multi_class='ovr', n_jobs=1,\n",
       "          penalty='l2', random_state=1, solver='liblinear', tol=0.0001,\n",
       "          verbose=0, warm_start=False))])"
      ]
     },
     "execution_count": 56,
     "metadata": {},
     "output_type": "execute_result"
    }
   ],
   "source": [
    "from sklearn.pipeline import Pipeline\n",
    "from sklearn.preprocessing import StandardScaler\n",
    "from sklearn.linear_model import LogisticRegression\n",
    "\n",
    "pipe_lr = Pipeline([ ('scl', StandardScaler()), ('clf', LogisticRegression(\n",
    "            random_state=1))])\n",
    "pipe_lr.fit(X_train, y_train)\n",
    "\n",
    "print('Scaled/Standardized Improved Test Accuracy: %.4f'\n",
    "      % pipe_lr.score(X_test, y_test))\n",
    "pipe_lr"
   ]
  },
  {
   "cell_type": "markdown",
   "metadata": {},
   "source": [
    "### Grid Search - Tuning the  model"
   ]
  },
  {
   "cell_type": "code",
   "execution_count": 57,
   "metadata": {
    "collapsed": false
   },
   "outputs": [
    {
     "name": "stderr",
     "output_type": "stream",
     "text": [
      "C:\\Users\\ali\\Anaconda2\\lib\\site-packages\\sklearn\\grid_search.py:43: DeprecationWarning: This module was deprecated in version 0.18 in favor of the model_selection module into which all the refactored classes and functions are moved. This module will be removed in 0.20.\n",
      "  DeprecationWarning)\n"
     ]
    },
    {
     "name": "stdout",
     "output_type": "stream",
     "text": [
      "Grid Search Best Score: 0.7319\n",
      "Grid Search Best Parameter for C: \n",
      "{'clf__C': 0.1}\n"
     ]
    }
   ],
   "source": [
    "from sklearn.grid_search import GridSearchCV\n",
    "param_range = [0.0001, 0.001, 0.01, 0.1, 1.0, 10.0, 100.0, 1000.0]\n",
    "param_grid = [{'clf__C': param_range}]\n",
    "\n",
    "gs = GridSearchCV(estimator=pipe_lr, param_grid=param_grid, scoring='accuracy',\n",
    "                 cv=10, n_jobs=-1)\n",
    "\n",
    "gs = gs.fit(X_train, y_train)\n",
    "\n",
    "print('Grid Search Best Score: %.4f' % gs.best_score_)\n",
    "print('Grid Search Best Parameter for C: ')\n",
    "print gs.best_params_"
   ]
  },
  {
   "cell_type": "markdown",
   "metadata": {
    "collapsed": true
   },
   "source": [
    "### PLotting"
   ]
  },
  {
   "cell_type": "code",
   "execution_count": 58,
   "metadata": {
    "collapsed": false
   },
   "outputs": [
    {
     "name": "stderr",
     "output_type": "stream",
     "text": [
      "C:\\Users\\ali\\Anaconda2\\lib\\site-packages\\sklearn\\learning_curve.py:23: DeprecationWarning: This module was deprecated in version 0.18 in favor of the model_selection module into which all the functions are moved. This module will be removed in 0.20\n",
      "  DeprecationWarning)\n"
     ]
    },
    {
     "data": {
      "image/png": "[encoded data removed]",
      "text/plain": [
       "<matplotlib.figure.Figure at 0xe8af908>"
      ]
     },
     "metadata": {},
     "output_type": "display_data"
    },
    {
     "name": "stdout",
     "output_type": "stream",
     "text": [
      "NOTE:  This plot confirms the best choice of C as 0.1 made by the GridSearchCV\n"
     ]
    }
   ],
   "source": [
    "from sklearn.learning_curve import validation_curve\n",
    "import matplotlib.pyplot as plt\n",
    "%matplotlib inline\n",
    "import numpy as np\n",
    "import seaborn\n",
    "\n",
    "param_range = [0.001, 0.01, 0.1, 1.0, 10.0, 100.0]\n",
    "train_scores, test_scores = validation_curve(estimator=pipe_lr, X=X_train, y=y_train, param_name='clf__C', \n",
    "                                             param_range=param_range, cv=10)\n",
    "train_mean = np.mean(train_scores, axis=1)\n",
    "train_std = np.std(train_scores, axis=1)\n",
    "test_mean = np.mean(test_scores, axis=1)\n",
    "test_std = np.std(test_scores, axis=1)\n",
    "\n",
    "plt.plot(param_range, train_mean, color='blue', marker='o', markersize=5, label='training accuracy')\n",
    "\n",
    "plt.fill_between(param_range, train_mean + train_std, train_mean - train_std, alpha=0.15, color='blue')\n",
    "\n",
    "plt.plot(param_range, test_mean, color='green', linestyle='--', marker='s', markersize=5, label='validation accuracy')\n",
    "\n",
    "plt.fill_between(param_range,test_mean + test_std,test_mean - test_std,alpha=0.15, color='green')\n",
    "\n",
    "plt.grid()\n",
    "plt.xscale('log')\n",
    "plt.legend(loc='lower right')\n",
    "plt.xlabel('Parameter C')\n",
    "plt.ylabel('Accuracy')\n",
    "plt.ylim([0.7, 0.85])\n",
    "plt.xlim([10**-3, 100])\n",
    "plt.show()\n",
    "print('NOTE:  This plot confirms the best choice of C as 0.1 made by the GridSearchCV')"
   ]
  },
  {
   "cell_type": "code",
   "execution_count": 60,
   "metadata": {
    "collapsed": false,
    "scrolled": true
   },
   "outputs": [
    {
     "name": "stdout",
     "output_type": "stream",
     "text": [
      "NOTE:  This plot confirms the above-mentionedClassification Report with its excellent results.\n"
     ]
    },
    {
     "data": {
      "image/png": "[encoded data removed]",
      "text/plain": [
       "<matplotlib.figure.Figure at 0xea79d68>"
      ]
     },
     "metadata": {},
     "output_type": "display_data"
    }
   ],
   "source": [
    "import matplotlib.pyplot as plt\n",
    "from sklearn import metrics\n",
    "%matplotlib inline\n",
    "import seaborn\n",
    "prob = lr.predict_proba(X_test)[:,1]\n",
    "fpr, sensitivity, _ = metrics.roc_curve(y_test, prob)\n",
    "plt.plot(fpr,sensitivity,marker='o',linestyle='--',color='r')\n",
    "x=[i*0.01 for i in range(100)]\n",
    "y=[i*0.01 for i in range(100)]\n",
    "plt.plot(x,y)\n",
    "plt.xlabel('(1-Specificity)')\n",
    "plt.ylabel('Sensitivity')\n",
    "plt.title('ROC Curve')\n",
    "print('NOTE:  This plot confirms the above-mentioned\\\n",
    "Classification Report with its excellent results.')"
   ]
  },
  {
   "cell_type": "markdown",
   "metadata": {
    "focus": false,
    "id": "8c22664b-92e4-4fc2-b7ac-fbac865845d3"
   },
   "source": [
    "#### Compare L1 and L2 regularization for this logistic regression model. What effect does this have on the coefficients learned?"
   ]
  },
  {
   "cell_type": "code",
   "execution_count": null,
   "metadata": {
    "collapsed": false,
    "focus": false,
    "id": "172fd952-5012-4630-81f4-1206da6eb820"
   },
   "outputs": [],
   "source": [
    "## YOUR CODE HERE"
   ]
  },
  {
   "cell_type": "code",
   "execution_count": null,
   "metadata": {
    "collapsed": false,
    "focus": false,
    "id": "56cc8854-d722-411d-a6c7-e86310710f67"
   },
   "outputs": [],
   "source": [
    "lrl1 = LogisticRegression(penalty='l1', C=1)\n",
    "lrl1.fit(X_test, y_test)\n",
    "scores = cross_val_score(lrl1, X_test, y_test, scoring='accuracy', cv=10)\n",
    "print (\"Cross Validation 10 Fold Accuracy with L1 regularization Scores:  \", scores)\n",
    "print (\"Cross Validation 10 Fold Accuracy with L1 regularization Means:  \", scores.mean())"
   ]
  },
  {
   "cell_type": "code",
   "execution_count": null,
   "metadata": {
    "collapsed": false
   },
   "outputs": [],
   "source": [
    "lrl2 = LogisticRegression(penalty='l2', C=1)\n",
    "lrl2.fit(X_test, y_test)\n",
    "scores = cross_val_score(lrl2, X_test, y_test, scoring='accuracy', cv=10)\n",
    "print (\"Cross Validation 10 Fold Accuracy with L2 regularization Scores:  \", scores)\n",
    "print (\"Cross Validation 10 Fold Accuracy with L2 regularization Means:  \", scores.mean())"
   ]
  },
  {
   "cell_type": "markdown",
   "metadata": {
    "focus": false,
    "id": "fead9b5b-7316-405d-87fd-e144dff0cbeb"
   },
   "source": [
    "#### Continue to incorporate other text features from the title or summary that you believe will predict the salary and examine their coefficients"
   ]
  },
  {
   "cell_type": "markdown",
   "metadata": {
    "focus": false,
    "id": "12d5edeb-a272-43a0-9977-d951f12fedfb"
   },
   "source": [
    "#### Take ~100 scraped entries with salaries. Convert them to use with your model and predict the salary - which entries have the highest predicted salaries?"
   ]
  },
  {
   "cell_type": "markdown",
   "metadata": {
    "focus": false,
    "id": "3be94357-e551-4094-b784-2df039216d33"
   },
   "source": [
    "### BONUS "
   ]
  },
  {
   "cell_type": "markdown",
   "metadata": {
    "focus": false,
    "id": "db045898-1d2d-4af2-8e79-437c4c7546b4"
   },
   "source": [
    "#### Bonus: Use Count Vectorizer from scikit-learn to create features from the text summaries. \n",
    "- Examine using count or binary features in the model\n",
    "- Re-evaluate the logistic regression model using these. Does this improve the model performance? \n",
    "- What text features are the most valuable? "
   ]
  },
  {
   "cell_type": "code",
   "execution_count": null,
   "metadata": {
    "collapsed": false,
    "focus": false,
    "id": "4239e458-28bd-4675-8db3-c1d9c02b9854"
   },
   "outputs": [],
   "source": [
    "## YOUR CODE HERE"
   ]
  },
  {
   "cell_type": "code",
   "execution_count": null,
   "metadata": {
    "collapsed": false,
    "focus": false,
    "id": "fec80936-37bc-4922-89bd-b5d615566c9c"
   },
   "outputs": [],
   "source": [
    "## YOUR CODE HERE"
   ]
  },
  {
   "cell_type": "markdown",
   "metadata": {
    "focus": false,
    "id": "d42b9fd8-39d5-416a-b40b-7410e6396c11"
   },
   "source": [
    "#### Re-test L1 and L2 regularization. You can use LogisticRegressionCV to find the optimal reguarlization parameters. \n",
    "- Re-test what text features are most valuable.  \n",
    "- How do L1 and L2 change the coefficients?"
   ]
  },
  {
   "cell_type": "code",
   "execution_count": null,
   "metadata": {
    "collapsed": false,
    "focus": false,
    "id": "7570e237-c8cc-4e26-b569-7aee10627e79"
   },
   "outputs": [],
   "source": [
    "## YOUR CODE HERE"
   ]
  }
 ],
 "metadata": {
  "anaconda-cloud": {},
  "kernelspec": {
   "display_name": "Python [default]",
   "language": "python",
   "name": "python2"
  },
  "language_info": {
   "codemirror_mode": {
    "name": "ipython",
    "version": 2
   },
   "file_extension": ".py",
   "mimetype": "text/x-python",
   "name": "python",
   "nbconvert_exporter": "python",
   "pygments_lexer": "ipython2",
   "version": "2.7.12"
  }
 },
 "nbformat": 4,
 "nbformat_minor": 0
}
