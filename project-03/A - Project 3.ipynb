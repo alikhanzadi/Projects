{
 "cells": [
  {
   "cell_type": "code",
   "execution_count": 1,
   "metadata": {
    "collapsed": false
   },
   "outputs": [],
   "source": [
    "% matplotlib inline\n",
    "import datetime\n",
    "import numpy as np\n",
    "import pandas as pd\n",
    "import seaborn as sns"
   ]
  },
  {
   "cell_type": "code",
   "execution_count": 2,
   "metadata": {
    "collapsed": false
   },
   "outputs": [
    {
     "name": "stdout",
     "output_type": "stream",
     "text": [
      "Index([u'Date', u'Store Number', u'City', u'Zip Code', u'County Number',\n",
      "       u'County', u'Category', u'Category Name', u'Vendor Number',\n",
      "       u'Item Number', u'Item Description', u'Bottle Volume (ml)',\n",
      "       u'State Bottle Cost', u'State Bottle Retail', u'Bottles Sold',\n",
      "       u'Sale (Dollars)', u'Volume Sold (Liters)', u'Volume Sold (Gallons)'],\n",
      "      dtype='object')\n",
      "(270955, 18)\n"
     ]
    },
    {
     "data": {
      "text/html": [
       "<div>\n",
       "<table border=\"1\" class=\"dataframe\">\n",
       "  <thead>\n",
       "    <tr style=\"text-align: right;\">\n",
       "      <th></th>\n",
       "      <th>Date</th>\n",
       "      <th>Store Number</th>\n",
       "      <th>City</th>\n",
       "      <th>Zip Code</th>\n",
       "      <th>County Number</th>\n",
       "      <th>County</th>\n",
       "      <th>Category</th>\n",
       "      <th>Category Name</th>\n",
       "      <th>Vendor Number</th>\n",
       "      <th>Item Number</th>\n",
       "      <th>Item Description</th>\n",
       "      <th>Bottle Volume (ml)</th>\n",
       "      <th>State Bottle Cost</th>\n",
       "      <th>State Bottle Retail</th>\n",
       "      <th>Bottles Sold</th>\n",
       "      <th>Sale (Dollars)</th>\n",
       "      <th>Volume Sold (Liters)</th>\n",
       "      <th>Volume Sold (Gallons)</th>\n",
       "    </tr>\n",
       "  </thead>\n",
       "  <tbody>\n",
       "    <tr>\n",
       "      <th>0</th>\n",
       "      <td>11/04/2015</td>\n",
       "      <td>3717</td>\n",
       "      <td>SUMNER</td>\n",
       "      <td>50674</td>\n",
       "      <td>9.0</td>\n",
       "      <td>Bremer</td>\n",
       "      <td>1051100.0</td>\n",
       "      <td>APRICOT BRANDIES</td>\n",
       "      <td>55</td>\n",
       "      <td>54436</td>\n",
       "      <td>Mr. Boston Apricot Brandy</td>\n",
       "      <td>750</td>\n",
       "      <td>$4.50</td>\n",
       "      <td>$6.75</td>\n",
       "      <td>12</td>\n",
       "      <td>$81.00</td>\n",
       "      <td>9.0</td>\n",
       "      <td>2.38</td>\n",
       "    </tr>\n",
       "    <tr>\n",
       "      <th>1</th>\n",
       "      <td>03/02/2016</td>\n",
       "      <td>2614</td>\n",
       "      <td>DAVENPORT</td>\n",
       "      <td>52807</td>\n",
       "      <td>82.0</td>\n",
       "      <td>Scott</td>\n",
       "      <td>1011100.0</td>\n",
       "      <td>BLENDED WHISKIES</td>\n",
       "      <td>395</td>\n",
       "      <td>27605</td>\n",
       "      <td>Tin Cup</td>\n",
       "      <td>750</td>\n",
       "      <td>$13.75</td>\n",
       "      <td>$20.63</td>\n",
       "      <td>2</td>\n",
       "      <td>$41.26</td>\n",
       "      <td>1.5</td>\n",
       "      <td>0.40</td>\n",
       "    </tr>\n",
       "    <tr>\n",
       "      <th>2</th>\n",
       "      <td>02/11/2016</td>\n",
       "      <td>2106</td>\n",
       "      <td>CEDAR FALLS</td>\n",
       "      <td>50613</td>\n",
       "      <td>7.0</td>\n",
       "      <td>Black Hawk</td>\n",
       "      <td>1011200.0</td>\n",
       "      <td>STRAIGHT BOURBON WHISKIES</td>\n",
       "      <td>65</td>\n",
       "      <td>19067</td>\n",
       "      <td>Jim Beam</td>\n",
       "      <td>1000</td>\n",
       "      <td>$12.59</td>\n",
       "      <td>$18.89</td>\n",
       "      <td>24</td>\n",
       "      <td>$453.36</td>\n",
       "      <td>24.0</td>\n",
       "      <td>6.34</td>\n",
       "    </tr>\n",
       "    <tr>\n",
       "      <th>3</th>\n",
       "      <td>02/03/2016</td>\n",
       "      <td>2501</td>\n",
       "      <td>AMES</td>\n",
       "      <td>50010</td>\n",
       "      <td>85.0</td>\n",
       "      <td>Story</td>\n",
       "      <td>1071100.0</td>\n",
       "      <td>AMERICAN COCKTAILS</td>\n",
       "      <td>395</td>\n",
       "      <td>59154</td>\n",
       "      <td>1800 Ultimate Margarita</td>\n",
       "      <td>1750</td>\n",
       "      <td>$9.50</td>\n",
       "      <td>$14.25</td>\n",
       "      <td>6</td>\n",
       "      <td>$85.50</td>\n",
       "      <td>10.5</td>\n",
       "      <td>2.77</td>\n",
       "    </tr>\n",
       "    <tr>\n",
       "      <th>4</th>\n",
       "      <td>08/18/2015</td>\n",
       "      <td>3654</td>\n",
       "      <td>BELMOND</td>\n",
       "      <td>50421</td>\n",
       "      <td>99.0</td>\n",
       "      <td>Wright</td>\n",
       "      <td>1031080.0</td>\n",
       "      <td>VODKA 80 PROOF</td>\n",
       "      <td>297</td>\n",
       "      <td>35918</td>\n",
       "      <td>Five O'clock Vodka</td>\n",
       "      <td>1750</td>\n",
       "      <td>$7.20</td>\n",
       "      <td>$10.80</td>\n",
       "      <td>12</td>\n",
       "      <td>$129.60</td>\n",
       "      <td>21.0</td>\n",
       "      <td>5.55</td>\n",
       "    </tr>\n",
       "  </tbody>\n",
       "</table>\n",
       "</div>"
      ],
      "text/plain": [
       "         Date  Store Number         City Zip Code  County Number      County  \\\n",
       "0  11/04/2015          3717       SUMNER    50674            9.0      Bremer   \n",
       "1  03/02/2016          2614    DAVENPORT    52807           82.0       Scott   \n",
       "2  02/11/2016          2106  CEDAR FALLS    50613            7.0  Black Hawk   \n",
       "3  02/03/2016          2501         AMES    50010           85.0       Story   \n",
       "4  08/18/2015          3654      BELMOND    50421           99.0      Wright   \n",
       "\n",
       "    Category              Category Name  Vendor Number  Item Number  \\\n",
       "0  1051100.0           APRICOT BRANDIES             55        54436   \n",
       "1  1011100.0           BLENDED WHISKIES            395        27605   \n",
       "2  1011200.0  STRAIGHT BOURBON WHISKIES             65        19067   \n",
       "3  1071100.0         AMERICAN COCKTAILS            395        59154   \n",
       "4  1031080.0             VODKA 80 PROOF            297        35918   \n",
       "\n",
       "            Item Description  Bottle Volume (ml) State Bottle Cost  \\\n",
       "0  Mr. Boston Apricot Brandy                 750             $4.50   \n",
       "1                    Tin Cup                 750            $13.75   \n",
       "2                   Jim Beam                1000            $12.59   \n",
       "3    1800 Ultimate Margarita                1750             $9.50   \n",
       "4         Five O'clock Vodka                1750             $7.20   \n",
       "\n",
       "  State Bottle Retail  Bottles Sold Sale (Dollars)  Volume Sold (Liters)  \\\n",
       "0               $6.75            12         $81.00                   9.0   \n",
       "1              $20.63             2         $41.26                   1.5   \n",
       "2              $18.89            24        $453.36                  24.0   \n",
       "3              $14.25             6         $85.50                  10.5   \n",
       "4              $10.80            12        $129.60                  21.0   \n",
       "\n",
       "   Volume Sold (Gallons)  \n",
       "0                   2.38  \n",
       "1                   0.40  \n",
       "2                   6.34  \n",
       "3                   2.77  \n",
       "4                   5.55  "
      ]
     },
     "execution_count": 2,
     "metadata": {},
     "output_type": "execute_result"
    }
   ],
   "source": [
    "data = pd.read_csv(\"Iowa_Liquor_sales_sample_10pct.csv\")\n",
    "print data.columns\n",
    "print data.shape\n",
    "data.head()"
   ]
  },
  {
   "cell_type": "code",
   "execution_count": 3,
   "metadata": {
    "collapsed": false
   },
   "outputs": [
    {
     "name": "stdout",
     "output_type": "stream",
     "text": [
      "<class 'pandas.core.frame.DataFrame'>\n",
      "RangeIndex: 270955 entries, 0 to 270954\n",
      "Data columns (total 18 columns):\n",
      "Date                     270955 non-null object\n",
      "Store Number             270955 non-null int64\n",
      "City                     270955 non-null object\n",
      "Zip Code                 270955 non-null object\n",
      "County Number            269878 non-null float64\n",
      "County                   269878 non-null object\n",
      "Category                 270887 non-null float64\n",
      "Category Name            270323 non-null object\n",
      "Vendor Number            270955 non-null int64\n",
      "Item Number              270955 non-null int64\n",
      "Item Description         270955 non-null object\n",
      "Bottle Volume (ml)       270955 non-null int64\n",
      "State Bottle Cost        270955 non-null object\n",
      "State Bottle Retail      270955 non-null object\n",
      "Bottles Sold             270955 non-null int64\n",
      "Sale (Dollars)           270955 non-null object\n",
      "Volume Sold (Liters)     270955 non-null float64\n",
      "Volume Sold (Gallons)    270955 non-null float64\n",
      "dtypes: float64(4), int64(5), object(9)\n",
      "memory usage: 37.2+ MB\n"
     ]
    }
   ],
   "source": [
    "data.info()"
   ]
  },
  {
   "cell_type": "code",
   "execution_count": 4,
   "metadata": {
    "collapsed": false
   },
   "outputs": [],
   "source": [
    "unwanted_columns = ['City', 'County Number', 'County', 'Item Number', 'Item Description', 'Bottle Volume (ml)', 'Volume Sold (Gallons)']\n",
    "cleaned_data = data.drop(unwanted_columns, axis = 1)"
   ]
  },
  {
   "cell_type": "code",
   "execution_count": 5,
   "metadata": {
    "collapsed": false
   },
   "outputs": [],
   "source": [
    "cols = [\"State Bottle Cost\", \"State Bottle Retail\", \"Sale (Dollars)\"]\n",
    "for col in cols:\n",
    "    cleaned_data[col] = cleaned_data[col].apply(lambda x: float(x[1:]))"
   ]
  },
  {
   "cell_type": "code",
   "execution_count": 6,
   "metadata": {
    "collapsed": false
   },
   "outputs": [],
   "source": [
    "cleaned_data['Date'] = pd.to_datetime(cleaned_data[\"Date\"], format = \"%m/%d/%Y\")"
   ]
  },
  {
   "cell_type": "code",
   "execution_count": 7,
   "metadata": {
    "collapsed": false
   },
   "outputs": [],
   "source": [
    "cleaned_data = cleaned_data.dropna()\n",
    "cleaned_data['Category'] = cleaned_data['Category'].astype(int)"
   ]
  },
  {
   "cell_type": "code",
   "execution_count": 8,
   "metadata": {
    "collapsed": false
   },
   "outputs": [
    {
     "data": {
      "text/html": [
       "<div>\n",
       "<table border=\"1\" class=\"dataframe\">\n",
       "  <thead>\n",
       "    <tr style=\"text-align: right;\">\n",
       "      <th></th>\n",
       "      <th>Date</th>\n",
       "      <th>Store Number</th>\n",
       "      <th>Zip Code</th>\n",
       "      <th>Category</th>\n",
       "      <th>Category Name</th>\n",
       "      <th>Vendor Number</th>\n",
       "      <th>State Bottle Cost</th>\n",
       "      <th>State Bottle Retail</th>\n",
       "      <th>Bottles Sold</th>\n",
       "      <th>Sale (Dollars)</th>\n",
       "      <th>Volume Sold (Liters)</th>\n",
       "    </tr>\n",
       "  </thead>\n",
       "  <tbody>\n",
       "    <tr>\n",
       "      <th>0</th>\n",
       "      <td>2015-11-04</td>\n",
       "      <td>3717</td>\n",
       "      <td>50674</td>\n",
       "      <td>1051100</td>\n",
       "      <td>APRICOT BRANDIES</td>\n",
       "      <td>55</td>\n",
       "      <td>4.50</td>\n",
       "      <td>6.75</td>\n",
       "      <td>12</td>\n",
       "      <td>81.00</td>\n",
       "      <td>9.0</td>\n",
       "    </tr>\n",
       "    <tr>\n",
       "      <th>1</th>\n",
       "      <td>2016-03-02</td>\n",
       "      <td>2614</td>\n",
       "      <td>52807</td>\n",
       "      <td>1011100</td>\n",
       "      <td>BLENDED WHISKIES</td>\n",
       "      <td>395</td>\n",
       "      <td>13.75</td>\n",
       "      <td>20.63</td>\n",
       "      <td>2</td>\n",
       "      <td>41.26</td>\n",
       "      <td>1.5</td>\n",
       "    </tr>\n",
       "    <tr>\n",
       "      <th>2</th>\n",
       "      <td>2016-02-11</td>\n",
       "      <td>2106</td>\n",
       "      <td>50613</td>\n",
       "      <td>1011200</td>\n",
       "      <td>STRAIGHT BOURBON WHISKIES</td>\n",
       "      <td>65</td>\n",
       "      <td>12.59</td>\n",
       "      <td>18.89</td>\n",
       "      <td>24</td>\n",
       "      <td>453.36</td>\n",
       "      <td>24.0</td>\n",
       "    </tr>\n",
       "    <tr>\n",
       "      <th>3</th>\n",
       "      <td>2016-02-03</td>\n",
       "      <td>2501</td>\n",
       "      <td>50010</td>\n",
       "      <td>1071100</td>\n",
       "      <td>AMERICAN COCKTAILS</td>\n",
       "      <td>395</td>\n",
       "      <td>9.50</td>\n",
       "      <td>14.25</td>\n",
       "      <td>6</td>\n",
       "      <td>85.50</td>\n",
       "      <td>10.5</td>\n",
       "    </tr>\n",
       "    <tr>\n",
       "      <th>4</th>\n",
       "      <td>2015-08-18</td>\n",
       "      <td>3654</td>\n",
       "      <td>50421</td>\n",
       "      <td>1031080</td>\n",
       "      <td>VODKA 80 PROOF</td>\n",
       "      <td>297</td>\n",
       "      <td>7.20</td>\n",
       "      <td>10.80</td>\n",
       "      <td>12</td>\n",
       "      <td>129.60</td>\n",
       "      <td>21.0</td>\n",
       "    </tr>\n",
       "  </tbody>\n",
       "</table>\n",
       "</div>"
      ],
      "text/plain": [
       "        Date  Store Number Zip Code  Category              Category Name  \\\n",
       "0 2015-11-04          3717    50674   1051100           APRICOT BRANDIES   \n",
       "1 2016-03-02          2614    52807   1011100           BLENDED WHISKIES   \n",
       "2 2016-02-11          2106    50613   1011200  STRAIGHT BOURBON WHISKIES   \n",
       "3 2016-02-03          2501    50010   1071100         AMERICAN COCKTAILS   \n",
       "4 2015-08-18          3654    50421   1031080             VODKA 80 PROOF   \n",
       "\n",
       "   Vendor Number  State Bottle Cost  State Bottle Retail  Bottles Sold  \\\n",
       "0             55               4.50                 6.75            12   \n",
       "1            395              13.75                20.63             2   \n",
       "2             65              12.59                18.89            24   \n",
       "3            395               9.50                14.25             6   \n",
       "4            297               7.20                10.80            12   \n",
       "\n",
       "   Sale (Dollars)  Volume Sold (Liters)  \n",
       "0           81.00                   9.0  \n",
       "1           41.26                   1.5  \n",
       "2          453.36                  24.0  \n",
       "3           85.50                  10.5  \n",
       "4          129.60                  21.0  "
      ]
     },
     "execution_count": 8,
     "metadata": {},
     "output_type": "execute_result"
    }
   ],
   "source": [
    "cleaned_data.head()"
   ]
  },
  {
   "cell_type": "markdown",
   "metadata": {},
   "source": [
    "## Filtering the Data"
   ]
  },
  {
   "cell_type": "code",
   "execution_count": 9,
   "metadata": {
    "collapsed": false
   },
   "outputs": [
    {
     "data": {
      "text/plain": [
       "(1400, 3)"
      ]
     },
     "execution_count": 9,
     "metadata": {},
     "output_type": "execute_result"
    }
   ],
   "source": [
    "date_filter = cleaned_data.groupby(by=[\"Store Number\"], as_index = False)\n",
    "date_filter = date_filter.agg({'Date':[np.min, np.max]})\n",
    "date_filter.columns = [' '.join(col).strip() for col in date_filter.columns.values]\n",
    "date_filter.shape"
   ]
  },
  {
   "cell_type": "code",
   "execution_count": 10,
   "metadata": {
    "collapsed": false
   },
   "outputs": [
    {
     "data": {
      "text/plain": [
       "1162"
      ]
     },
     "execution_count": 10,
     "metadata": {},
     "output_type": "execute_result"
    }
   ],
   "source": [
    "lower_cutoff = pd.Timestamp(\"20150301\")\n",
    "upper_cutoff = pd.Timestamp(\"20151001\")\n",
    "mask = (date_filter[\"Date amin\"] < lower_cutoff) & (date_filter[\"Date amax\"] > upper_cutoff)\n",
    "open_stores = date_filter[mask][\"Store Number\"]\n",
    "open_stores.count()"
   ]
  },
  {
   "cell_type": "code",
   "execution_count": 11,
   "metadata": {
    "collapsed": false
   },
   "outputs": [
    {
     "data": {
      "text/html": [
       "<div>\n",
       "<table border=\"1\" class=\"dataframe\">\n",
       "  <thead>\n",
       "    <tr style=\"text-align: right;\">\n",
       "      <th></th>\n",
       "      <th>Date</th>\n",
       "      <th>Store Number</th>\n",
       "      <th>Zip Code</th>\n",
       "      <th>Category</th>\n",
       "      <th>Category Name</th>\n",
       "      <th>Vendor Number</th>\n",
       "      <th>State Bottle Cost</th>\n",
       "      <th>State Bottle Retail</th>\n",
       "      <th>Bottles Sold</th>\n",
       "      <th>Sale (Dollars)</th>\n",
       "      <th>Volume Sold (Liters)</th>\n",
       "    </tr>\n",
       "  </thead>\n",
       "  <tbody>\n",
       "    <tr>\n",
       "      <th>0</th>\n",
       "      <td>2015-11-04</td>\n",
       "      <td>3717</td>\n",
       "      <td>50674</td>\n",
       "      <td>1051100</td>\n",
       "      <td>APRICOT BRANDIES</td>\n",
       "      <td>55</td>\n",
       "      <td>4.50</td>\n",
       "      <td>6.75</td>\n",
       "      <td>12</td>\n",
       "      <td>81.00</td>\n",
       "      <td>9.0</td>\n",
       "    </tr>\n",
       "    <tr>\n",
       "      <th>1</th>\n",
       "      <td>2016-03-02</td>\n",
       "      <td>2614</td>\n",
       "      <td>52807</td>\n",
       "      <td>1011100</td>\n",
       "      <td>BLENDED WHISKIES</td>\n",
       "      <td>395</td>\n",
       "      <td>13.75</td>\n",
       "      <td>20.63</td>\n",
       "      <td>2</td>\n",
       "      <td>41.26</td>\n",
       "      <td>1.5</td>\n",
       "    </tr>\n",
       "    <tr>\n",
       "      <th>2</th>\n",
       "      <td>2016-02-11</td>\n",
       "      <td>2106</td>\n",
       "      <td>50613</td>\n",
       "      <td>1011200</td>\n",
       "      <td>STRAIGHT BOURBON WHISKIES</td>\n",
       "      <td>65</td>\n",
       "      <td>12.59</td>\n",
       "      <td>18.89</td>\n",
       "      <td>24</td>\n",
       "      <td>453.36</td>\n",
       "      <td>24.0</td>\n",
       "    </tr>\n",
       "    <tr>\n",
       "      <th>3</th>\n",
       "      <td>2016-02-03</td>\n",
       "      <td>2501</td>\n",
       "      <td>50010</td>\n",
       "      <td>1071100</td>\n",
       "      <td>AMERICAN COCKTAILS</td>\n",
       "      <td>395</td>\n",
       "      <td>9.50</td>\n",
       "      <td>14.25</td>\n",
       "      <td>6</td>\n",
       "      <td>85.50</td>\n",
       "      <td>10.5</td>\n",
       "    </tr>\n",
       "    <tr>\n",
       "      <th>4</th>\n",
       "      <td>2015-08-18</td>\n",
       "      <td>3654</td>\n",
       "      <td>50421</td>\n",
       "      <td>1031080</td>\n",
       "      <td>VODKA 80 PROOF</td>\n",
       "      <td>297</td>\n",
       "      <td>7.20</td>\n",
       "      <td>10.80</td>\n",
       "      <td>12</td>\n",
       "      <td>129.60</td>\n",
       "      <td>21.0</td>\n",
       "    </tr>\n",
       "  </tbody>\n",
       "</table>\n",
       "</div>"
      ],
      "text/plain": [
       "        Date  Store Number Zip Code  Category              Category Name  \\\n",
       "0 2015-11-04          3717    50674   1051100           APRICOT BRANDIES   \n",
       "1 2016-03-02          2614    52807   1011100           BLENDED WHISKIES   \n",
       "2 2016-02-11          2106    50613   1011200  STRAIGHT BOURBON WHISKIES   \n",
       "3 2016-02-03          2501    50010   1071100         AMERICAN COCKTAILS   \n",
       "4 2015-08-18          3654    50421   1031080             VODKA 80 PROOF   \n",
       "\n",
       "   Vendor Number  State Bottle Cost  State Bottle Retail  Bottles Sold  \\\n",
       "0             55               4.50                 6.75            12   \n",
       "1            395              13.75                20.63             2   \n",
       "2             65              12.59                18.89            24   \n",
       "3            395               9.50                14.25             6   \n",
       "4            297               7.20                10.80            12   \n",
       "\n",
       "   Sale (Dollars)  Volume Sold (Liters)  \n",
       "0           81.00                   9.0  \n",
       "1           41.26                   1.5  \n",
       "2          453.36                  24.0  \n",
       "3           85.50                  10.5  \n",
       "4          129.60                  21.0  "
      ]
     },
     "execution_count": 11,
     "metadata": {},
     "output_type": "execute_result"
    }
   ],
   "source": [
    "filtered_data = cleaned_data[cleaned_data[\"Store Number\"].isin(open_stores)]\n",
    "filtered_data.head()"
   ]
  },
  {
   "cell_type": "markdown",
   "metadata": {},
   "source": [
    "## Aditional Data"
   ]
  },
  {
   "cell_type": "code",
   "execution_count": 12,
   "metadata": {
    "collapsed": false
   },
   "outputs": [
    {
     "name": "stderr",
     "output_type": "stream",
     "text": [
      "C:\\Users\\ali\\Anaconda2\\lib\\site-packages\\ipykernel\\__main__.py:1: SettingWithCopyWarning: \n",
      "A value is trying to be set on a copy of a slice from a DataFrame.\n",
      "Try using .loc[row_indexer,col_indexer] = value instead\n",
      "\n",
      "See the caveats in the documentation: http://pandas.pydata.org/pandas-docs/stable/indexing.html#indexing-view-versus-copy\n",
      "  if __name__ == '__main__':\n",
      "C:\\Users\\ali\\Anaconda2\\lib\\site-packages\\ipykernel\\__main__.py:2: SettingWithCopyWarning: \n",
      "A value is trying to be set on a copy of a slice from a DataFrame.\n",
      "Try using .loc[row_indexer,col_indexer] = value instead\n",
      "\n",
      "See the caveats in the documentation: http://pandas.pydata.org/pandas-docs/stable/indexing.html#indexing-view-versus-copy\n",
      "  from ipykernel import kernelapp as app\n"
     ]
    },
    {
     "data": {
      "text/plain": [
       "(256849, 13)"
      ]
     },
     "execution_count": 12,
     "metadata": {},
     "output_type": "execute_result"
    }
   ],
   "source": [
    "filtered_data['Margin'] = (filtered_data['State Bottle Retail'] - filtered_data['State Bottle Cost']) * filtered_data['Bottles Sold']\n",
    "filtered_data['$ per liter'] = filtered_data['Sale (Dollars)'] / filtered_data['Volume Sold (Liters)']\n",
    "filtered_data.shape"
   ]
  },
  {
   "cell_type": "code",
   "execution_count": 13,
   "metadata": {
    "collapsed": false
   },
   "outputs": [
    {
     "data": {
      "text/html": [
       "<div>\n",
       "<table border=\"1\" class=\"dataframe\">\n",
       "  <thead>\n",
       "    <tr style=\"text-align: right;\">\n",
       "      <th></th>\n",
       "      <th>Date</th>\n",
       "      <th>Store Number</th>\n",
       "      <th>Zip Code</th>\n",
       "      <th>Category</th>\n",
       "      <th>Category Name</th>\n",
       "      <th>Vendor Number</th>\n",
       "      <th>State Bottle Cost</th>\n",
       "      <th>State Bottle Retail</th>\n",
       "      <th>Bottles Sold</th>\n",
       "      <th>Sale (Dollars)</th>\n",
       "      <th>Volume Sold (Liters)</th>\n",
       "      <th>Margin</th>\n",
       "      <th>$ per liter</th>\n",
       "    </tr>\n",
       "  </thead>\n",
       "  <tbody>\n",
       "    <tr>\n",
       "      <th>0</th>\n",
       "      <td>2015-11-04</td>\n",
       "      <td>3717</td>\n",
       "      <td>50674</td>\n",
       "      <td>1051100</td>\n",
       "      <td>APRICOT BRANDIES</td>\n",
       "      <td>55</td>\n",
       "      <td>4.50</td>\n",
       "      <td>6.75</td>\n",
       "      <td>12</td>\n",
       "      <td>81.00</td>\n",
       "      <td>9.0</td>\n",
       "      <td>27.00</td>\n",
       "      <td>9.000000</td>\n",
       "    </tr>\n",
       "    <tr>\n",
       "      <th>1</th>\n",
       "      <td>2016-03-02</td>\n",
       "      <td>2614</td>\n",
       "      <td>52807</td>\n",
       "      <td>1011100</td>\n",
       "      <td>BLENDED WHISKIES</td>\n",
       "      <td>395</td>\n",
       "      <td>13.75</td>\n",
       "      <td>20.63</td>\n",
       "      <td>2</td>\n",
       "      <td>41.26</td>\n",
       "      <td>1.5</td>\n",
       "      <td>13.76</td>\n",
       "      <td>27.506667</td>\n",
       "    </tr>\n",
       "    <tr>\n",
       "      <th>2</th>\n",
       "      <td>2016-02-11</td>\n",
       "      <td>2106</td>\n",
       "      <td>50613</td>\n",
       "      <td>1011200</td>\n",
       "      <td>STRAIGHT BOURBON WHISKIES</td>\n",
       "      <td>65</td>\n",
       "      <td>12.59</td>\n",
       "      <td>18.89</td>\n",
       "      <td>24</td>\n",
       "      <td>453.36</td>\n",
       "      <td>24.0</td>\n",
       "      <td>151.20</td>\n",
       "      <td>18.890000</td>\n",
       "    </tr>\n",
       "    <tr>\n",
       "      <th>3</th>\n",
       "      <td>2016-02-03</td>\n",
       "      <td>2501</td>\n",
       "      <td>50010</td>\n",
       "      <td>1071100</td>\n",
       "      <td>AMERICAN COCKTAILS</td>\n",
       "      <td>395</td>\n",
       "      <td>9.50</td>\n",
       "      <td>14.25</td>\n",
       "      <td>6</td>\n",
       "      <td>85.50</td>\n",
       "      <td>10.5</td>\n",
       "      <td>28.50</td>\n",
       "      <td>8.142857</td>\n",
       "    </tr>\n",
       "    <tr>\n",
       "      <th>4</th>\n",
       "      <td>2015-08-18</td>\n",
       "      <td>3654</td>\n",
       "      <td>50421</td>\n",
       "      <td>1031080</td>\n",
       "      <td>VODKA 80 PROOF</td>\n",
       "      <td>297</td>\n",
       "      <td>7.20</td>\n",
       "      <td>10.80</td>\n",
       "      <td>12</td>\n",
       "      <td>129.60</td>\n",
       "      <td>21.0</td>\n",
       "      <td>43.20</td>\n",
       "      <td>6.171429</td>\n",
       "    </tr>\n",
       "  </tbody>\n",
       "</table>\n",
       "</div>"
      ],
      "text/plain": [
       "        Date  Store Number Zip Code  Category              Category Name  \\\n",
       "0 2015-11-04          3717    50674   1051100           APRICOT BRANDIES   \n",
       "1 2016-03-02          2614    52807   1011100           BLENDED WHISKIES   \n",
       "2 2016-02-11          2106    50613   1011200  STRAIGHT BOURBON WHISKIES   \n",
       "3 2016-02-03          2501    50010   1071100         AMERICAN COCKTAILS   \n",
       "4 2015-08-18          3654    50421   1031080             VODKA 80 PROOF   \n",
       "\n",
       "   Vendor Number  State Bottle Cost  State Bottle Retail  Bottles Sold  \\\n",
       "0             55               4.50                 6.75            12   \n",
       "1            395              13.75                20.63             2   \n",
       "2             65              12.59                18.89            24   \n",
       "3            395               9.50                14.25             6   \n",
       "4            297               7.20                10.80            12   \n",
       "\n",
       "   Sale (Dollars)  Volume Sold (Liters)  Margin  $ per liter  \n",
       "0           81.00                   9.0   27.00     9.000000  \n",
       "1           41.26                   1.5   13.76    27.506667  \n",
       "2          453.36                  24.0  151.20    18.890000  \n",
       "3           85.50                  10.5   28.50     8.142857  \n",
       "4          129.60                  21.0   43.20     6.171429  "
      ]
     },
     "execution_count": 13,
     "metadata": {},
     "output_type": "execute_result"
    }
   ],
   "source": [
    "sales = filtered_data\n",
    "sales.head()"
   ]
  },
  {
   "cell_type": "markdown",
   "metadata": {},
   "source": [
    "## 2015 Sales"
   ]
  },
  {
   "cell_type": "code",
   "execution_count": 14,
   "metadata": {
    "collapsed": false
   },
   "outputs": [],
   "source": [
    "# sales.sort_values(by=[\"Store Number\", \"Date\"], inplace=True)\n",
    "# start_date = pd.Timestamp(\"20150101\")\n",
    "# end_date = pd.Timestamp(\"20151231\")\n",
    "# mask = (sales['Date'] >= start_date) & (sales['Date'] <= end_date)\n",
    "# sales_2015 = sales[mask]\n",
    "# agg_functions = sales_2015.agg({\"Sale (Dollars)\": [np.sum, np.mean],\n",
    "#                    \"Volume Sold (Liters)\": [np.sum, np.mean],\n",
    "#                    \"Margin\": np.mean,\n",
    "#                    \"Price per Liter\": np.mean,\n",
    "#                    \"Zip Code\": lambda x: x.iloc[0], # just extract once, should be the same\n",
    "#                    })\n",
    "# sales_2015 = sales_2015.groupby(by=[\"Store Number\"], as_index=False)\n"
   ]
  },
  {
   "cell_type": "code",
   "execution_count": 15,
   "metadata": {
    "collapsed": false
   },
   "outputs": [
    {
     "name": "stderr",
     "output_type": "stream",
     "text": [
      "C:\\Users\\ali\\Anaconda2\\lib\\site-packages\\ipykernel\\__main__.py:1: SettingWithCopyWarning: \n",
      "A value is trying to be set on a copy of a slice from a DataFrame\n",
      "\n",
      "See the caveats in the documentation: http://pandas.pydata.org/pandas-docs/stable/indexing.html#indexing-view-versus-copy\n",
      "  if __name__ == '__main__':\n"
     ]
    }
   ],
   "source": [
    "sales.sort_values(by=[\"Store Number\", \"Date\"], inplace=True)\n",
    "start_date = pd.Timestamp(\"20150101\")\n",
    "end_date = pd.Timestamp(\"20151231\")\n",
    "mask = (sales['Date'] >= start_date) & (sales['Date'] <= end_date)\n",
    "sales_2015 = sales[mask]"
   ]
  },
  {
   "cell_type": "code",
   "execution_count": 16,
   "metadata": {
    "collapsed": false
   },
   "outputs": [
    {
     "data": {
      "text/html": [
       "<div>\n",
       "<table border=\"1\" class=\"dataframe\">\n",
       "  <thead>\n",
       "    <tr style=\"text-align: right;\">\n",
       "      <th></th>\n",
       "      <th>Store Number</th>\n",
       "      <th>$ per liter mean</th>\n",
       "      <th>Margin sum</th>\n",
       "      <th>Margin mean</th>\n",
       "      <th>Sale (Dollars) sum</th>\n",
       "      <th>Sale (Dollars) mean</th>\n",
       "      <th>Volume Sold (Liters) sum</th>\n",
       "      <th>Volume Sold (Liters) mean</th>\n",
       "      <th>Zip Code &lt;lambda&gt;</th>\n",
       "    </tr>\n",
       "  </thead>\n",
       "  <tbody>\n",
       "    <tr>\n",
       "      <th>0</th>\n",
       "      <td>2106</td>\n",
       "      <td>17.844997</td>\n",
       "      <td>48742.20</td>\n",
       "      <td>92.665779</td>\n",
       "      <td>146038.70</td>\n",
       "      <td>277.640114</td>\n",
       "      <td>9719.85</td>\n",
       "      <td>18.478802</td>\n",
       "      <td>50613</td>\n",
       "    </tr>\n",
       "    <tr>\n",
       "      <th>1</th>\n",
       "      <td>2113</td>\n",
       "      <td>18.507700</td>\n",
       "      <td>3109.04</td>\n",
       "      <td>21.149932</td>\n",
       "      <td>9310.22</td>\n",
       "      <td>63.334830</td>\n",
       "      <td>659.85</td>\n",
       "      <td>4.488776</td>\n",
       "      <td>50543</td>\n",
       "    </tr>\n",
       "    <tr>\n",
       "      <th>2</th>\n",
       "      <td>2130</td>\n",
       "      <td>16.817589</td>\n",
       "      <td>37229.32</td>\n",
       "      <td>95.215652</td>\n",
       "      <td>111583.91</td>\n",
       "      <td>285.380844</td>\n",
       "      <td>6879.37</td>\n",
       "      <td>17.594297</td>\n",
       "      <td>50703</td>\n",
       "    </tr>\n",
       "    <tr>\n",
       "      <th>3</th>\n",
       "      <td>2152</td>\n",
       "      <td>13.020765</td>\n",
       "      <td>2587.53</td>\n",
       "      <td>18.351277</td>\n",
       "      <td>7721.08</td>\n",
       "      <td>54.759433</td>\n",
       "      <td>633.37</td>\n",
       "      <td>4.491986</td>\n",
       "      <td>50469</td>\n",
       "    </tr>\n",
       "    <tr>\n",
       "      <th>4</th>\n",
       "      <td>2178</td>\n",
       "      <td>16.053844</td>\n",
       "      <td>8165.70</td>\n",
       "      <td>34.454430</td>\n",
       "      <td>24324.18</td>\n",
       "      <td>102.633671</td>\n",
       "      <td>1917.12</td>\n",
       "      <td>8.089114</td>\n",
       "      <td>52172</td>\n",
       "    </tr>\n",
       "  </tbody>\n",
       "</table>\n",
       "</div>"
      ],
      "text/plain": [
       "   Store Number  $ per liter mean  Margin sum  Margin mean  \\\n",
       "0          2106         17.844997    48742.20    92.665779   \n",
       "1          2113         18.507700     3109.04    21.149932   \n",
       "2          2130         16.817589    37229.32    95.215652   \n",
       "3          2152         13.020765     2587.53    18.351277   \n",
       "4          2178         16.053844     8165.70    34.454430   \n",
       "\n",
       "   Sale (Dollars) sum  Sale (Dollars) mean  Volume Sold (Liters) sum  \\\n",
       "0           146038.70           277.640114                   9719.85   \n",
       "1             9310.22            63.334830                    659.85   \n",
       "2           111583.91           285.380844                   6879.37   \n",
       "3             7721.08            54.759433                    633.37   \n",
       "4            24324.18           102.633671                   1917.12   \n",
       "\n",
       "   Volume Sold (Liters) mean Zip Code <lambda>  \n",
       "0                  18.478802             50613  \n",
       "1                   4.488776             50543  \n",
       "2                  17.594297             50703  \n",
       "3                   4.491986             50469  \n",
       "4                   8.089114             52172  "
      ]
     },
     "execution_count": 16,
     "metadata": {},
     "output_type": "execute_result"
    }
   ],
   "source": [
    "#DO NOT RUN TWICE . RESTART KERNEL.\n",
    "store_sales_2015 = sales_2015.groupby(by=[\"Store Number\"], as_index=False)\n",
    "store_sales_2015 = store_sales_2015.agg({\"Volume Sold (Liters)\": [np.sum, np.mean],\n",
    "                   \"Sale (Dollars)\": [np.sum, np.mean],\n",
    "                   \"Margin\": [np.sum, np.mean],\n",
    "                   \"$ per liter\": np.mean,\n",
    "                   \"Zip Code\": lambda x:x.iloc[0]\n",
    "                   })\n",
    "store_sales_2015.columns = [' '.join(col).strip() for col in store_sales_2015.columns.values]\n",
    "store_sales_2015.head()"
   ]
  },
  {
   "cell_type": "markdown",
   "metadata": {},
   "source": [
    " ## Q1 2015/2016 Sales"
   ]
  },
  {
   "cell_type": "code",
   "execution_count": 17,
   "metadata": {
    "collapsed": false
   },
   "outputs": [
    {
     "data": {
      "text/html": [
       "<div>\n",
       "<table border=\"1\" class=\"dataframe\">\n",
       "  <thead>\n",
       "    <tr style=\"text-align: right;\">\n",
       "      <th></th>\n",
       "      <th>S t o r e   N u m b e r</th>\n",
       "      <th>$   p e r   l i t e r   m e a n</th>\n",
       "      <th>M a r g i n   s u m</th>\n",
       "      <th>M a r g i n   m e a n</th>\n",
       "      <th>S a l e   ( D o l l a r s )   s u m</th>\n",
       "      <th>S a l e   ( D o l l a r s )   m e a n</th>\n",
       "      <th>V o l u m e   S o l d   ( L i t e r s )   s u m</th>\n",
       "      <th>V o l u m e   S o l d   ( L i t e r s )   m e a n</th>\n",
       "      <th>Z i p   C o d e   &lt; l a m b d a &gt;</th>\n",
       "    </tr>\n",
       "  </thead>\n",
       "  <tbody>\n",
       "    <tr>\n",
       "      <th>0</th>\n",
       "      <td>2106</td>\n",
       "      <td>17.846608</td>\n",
       "      <td>13108.37</td>\n",
       "      <td>101.615271</td>\n",
       "      <td>39287.29</td>\n",
       "      <td>304.552636</td>\n",
       "      <td>2526.10</td>\n",
       "      <td>19.582171</td>\n",
       "      <td>50613</td>\n",
       "    </tr>\n",
       "    <tr>\n",
       "      <th>1</th>\n",
       "      <td>2113</td>\n",
       "      <td>19.362130</td>\n",
       "      <td>1041.20</td>\n",
       "      <td>22.634783</td>\n",
       "      <td>3122.63</td>\n",
       "      <td>67.883261</td>\n",
       "      <td>193.48</td>\n",
       "      <td>4.206087</td>\n",
       "      <td>50543</td>\n",
       "    </tr>\n",
       "    <tr>\n",
       "      <th>2</th>\n",
       "      <td>2130</td>\n",
       "      <td>17.565430</td>\n",
       "      <td>8108.68</td>\n",
       "      <td>93.203218</td>\n",
       "      <td>24272.57</td>\n",
       "      <td>278.995057</td>\n",
       "      <td>1447.25</td>\n",
       "      <td>16.635057</td>\n",
       "      <td>50703</td>\n",
       "    </tr>\n",
       "    <tr>\n",
       "      <th>3</th>\n",
       "      <td>2152</td>\n",
       "      <td>13.993430</td>\n",
       "      <td>668.60</td>\n",
       "      <td>20.893750</td>\n",
       "      <td>2003.46</td>\n",
       "      <td>62.608125</td>\n",
       "      <td>151.74</td>\n",
       "      <td>4.741875</td>\n",
       "      <td>50469</td>\n",
       "    </tr>\n",
       "    <tr>\n",
       "      <th>4</th>\n",
       "      <td>2178</td>\n",
       "      <td>16.831544</td>\n",
       "      <td>2110.72</td>\n",
       "      <td>39.824906</td>\n",
       "      <td>6304.59</td>\n",
       "      <td>118.954528</td>\n",
       "      <td>446.21</td>\n",
       "      <td>8.419057</td>\n",
       "      <td>52172</td>\n",
       "    </tr>\n",
       "  </tbody>\n",
       "</table>\n",
       "</div>"
      ],
      "text/plain": [
       "   S t o r e   N u m b e r  $   p e r   l i t e r   m e a n  \\\n",
       "0                     2106                        17.846608   \n",
       "1                     2113                        19.362130   \n",
       "2                     2130                        17.565430   \n",
       "3                     2152                        13.993430   \n",
       "4                     2178                        16.831544   \n",
       "\n",
       "   M a r g i n   s u m  M a r g i n   m e a n  \\\n",
       "0             13108.37             101.615271   \n",
       "1              1041.20              22.634783   \n",
       "2              8108.68              93.203218   \n",
       "3               668.60              20.893750   \n",
       "4              2110.72              39.824906   \n",
       "\n",
       "   S a l e   ( D o l l a r s )   s u m  S a l e   ( D o l l a r s )   m e a n  \\\n",
       "0                             39287.29                             304.552636   \n",
       "1                              3122.63                              67.883261   \n",
       "2                             24272.57                             278.995057   \n",
       "3                              2003.46                              62.608125   \n",
       "4                              6304.59                             118.954528   \n",
       "\n",
       "   V o l u m e   S o l d   ( L i t e r s )   s u m  \\\n",
       "0                                          2526.10   \n",
       "1                                           193.48   \n",
       "2                                          1447.25   \n",
       "3                                           151.74   \n",
       "4                                           446.21   \n",
       "\n",
       "   V o l u m e   S o l d   ( L i t e r s )   m e a n  \\\n",
       "0                                          19.582171   \n",
       "1                                           4.206087   \n",
       "2                                          16.635057   \n",
       "3                                           4.741875   \n",
       "4                                           8.419057   \n",
       "\n",
       "  Z i p   C o d e   < l a m b d a >  \n",
       "0                             50613  \n",
       "1                             50543  \n",
       "2                             50703  \n",
       "3                             50469  \n",
       "4                             52172  "
      ]
     },
     "execution_count": 17,
     "metadata": {},
     "output_type": "execute_result"
    }
   ],
   "source": [
    "start_date = pd.Timestamp(\"20150101\")\n",
    "end_date = pd.Timestamp(\"20150401\")\n",
    "mask = (sales['Date'] >= start_date) & (sales['Date'] <= end_date)\n",
    "Q1_2015_sales = sales[mask]\n",
    "\n",
    "Q1_2015_store_sales = Q1_2015_sales.groupby(by=['Store Number'], as_index=False)\n",
    "Q1_2015_store_sales = Q1_2015_store_sales.agg({\"Volume Sold (Liters)\": [np.sum, np.mean],\n",
    "                   \"Sale (Dollars)\": [np.sum, np.mean],\n",
    "                   \"Margin\": [np.sum, np.mean],\n",
    "                   \"$ per liter\": np.mean,\n",
    "                   \"Zip Code\": lambda x:x.iloc[0]\n",
    "                   })\n",
    "Q1_2015_store_sales.columns = [' '.join(col).strip() for col in store_sales_2015.columns.values]\n",
    "Q1_2015_store_sales.head()"
   ]
  },
  {
   "cell_type": "code",
   "execution_count": 33,
   "metadata": {
    "collapsed": false
   },
   "outputs": [
    {
     "data": {
      "text/plain": [
       "Store Number                   int64\n",
       "$ per liter mean             float64\n",
       "Margin sum                   float64\n",
       "Margin mean                  float64\n",
       "Sale (Dollars) sum           float64\n",
       "Sale (Dollars) mean          float64\n",
       "Volume Sold (Liters) sum     float64\n",
       "Volume Sold (Liters) mean    float64\n",
       "Zip Code <lambda>             object\n",
       "dtype: object"
      ]
     },
     "execution_count": 33,
     "metadata": {},
     "output_type": "execute_result"
    }
   ],
   "source": [
    "start_date = pd.Timestamp(\"20160101\")\n",
    "end_date = pd.Timestamp(\"20160401\")\n",
    "mask = (sales['Date'] >= start_date) & (sales['Date'] <= end_date)\n",
    "Q1_2016_sales = sales[mask]\n",
    "\n",
    "Q1_2016_store_sales = Q1_2016_sales.groupby(by=['Store Number'], as_index=False)\n",
    "Q1_2016_store_sales = Q1_2016_store_sales.agg({\"Volume Sold (Liters)\": [np.sum, np.mean],\n",
    "                   \"Sale (Dollars)\": [np.sum, np.mean],\n",
    "                   \"Margin\": [np.sum, np.mean],\n",
    "                   \"$ per liter\": np.mean,\n",
    "                   \"Zip Code\": lambda x:x.iloc[0]\n",
    "                   })\n",
    "Q1_2016_store_sales.columns = [' '.join(col).strip() for col in Q1_2016_store_sales.columns.values]\n",
    "Q1_2016_store_sales.head()\n",
    "Q1_2016_store_sales.dtypes"
   ]
  },
  {
   "cell_type": "code",
   "execution_count": 34,
   "metadata": {
    "collapsed": false
   },
   "outputs": [
    {
     "data": {
      "text/plain": [
       "array(['Store Number', '$ per liter mean', 'Margin sum', 'Margin mean',\n",
       "       'Sale (Dollars) sum', 'Sale (Dollars) mean',\n",
       "       'Volume Sold (Liters) sum', 'Volume Sold (Liters) mean',\n",
       "       'Zip Code <lambda>'], dtype=object)"
      ]
     },
     "execution_count": 34,
     "metadata": {},
     "output_type": "execute_result"
    }
   ],
   "source": [
    "Q1_2016_store_sales.columns.values"
   ]
  },
  {
   "cell_type": "code",
   "execution_count": 35,
   "metadata": {
    "collapsed": false
   },
   "outputs": [
    {
     "name": "stderr",
     "output_type": "stream",
     "text": [
      "C:\\Users\\ali\\Anaconda2\\lib\\site-packages\\ipykernel\\__main__.py:1: UserWarning: Boolean Series key will be reindexed to match DataFrame index.\n",
      "  if __name__ == '__main__':\n"
     ]
    },
    {
     "data": {
      "text/html": [
       "<div>\n",
       "<table border=\"1\" class=\"dataframe\">\n",
       "  <thead>\n",
       "    <tr style=\"text-align: right;\">\n",
       "      <th></th>\n",
       "      <th>Store Number</th>\n",
       "      <th>$ per liter mean</th>\n",
       "      <th>Margin sum</th>\n",
       "      <th>Margin mean</th>\n",
       "      <th>Sale (Dollars) sum</th>\n",
       "      <th>Sale (Dollars) mean</th>\n",
       "      <th>Volume Sold (Liters) sum</th>\n",
       "      <th>Volume Sold (Liters) mean</th>\n",
       "      <th>Zip Code &lt;lambda&gt;</th>\n",
       "    </tr>\n",
       "  </thead>\n",
       "  <tbody>\n",
       "    <tr>\n",
       "      <th>0</th>\n",
       "      <td>2106</td>\n",
       "      <td>17.969769</td>\n",
       "      <td>10174.68</td>\n",
       "      <td>80.751429</td>\n",
       "      <td>30478.75</td>\n",
       "      <td>241.894841</td>\n",
       "      <td>2116.25</td>\n",
       "      <td>16.795635</td>\n",
       "      <td>50613</td>\n",
       "    </tr>\n",
       "  </tbody>\n",
       "</table>\n",
       "</div>"
      ],
      "text/plain": [
       "   Store Number  $ per liter mean  Margin sum  Margin mean  \\\n",
       "0          2106         17.969769    10174.68    80.751429   \n",
       "\n",
       "   Sale (Dollars) sum  Sale (Dollars) mean  Volume Sold (Liters) sum  \\\n",
       "0            30478.75           241.894841                   2116.25   \n",
       "\n",
       "   Volume Sold (Liters) mean Zip Code <lambda>  \n",
       "0                  16.795635             50613  "
      ]
     },
     "execution_count": 35,
     "metadata": {},
     "output_type": "execute_result"
    }
   ],
   "source": [
    "Q1_2016_store_sales[Q1_2015_store_sales['S t o r e   N u m b e r'] == 2106]"
   ]
  },
  {
   "cell_type": "code",
   "execution_count": null,
   "metadata": {
    "collapsed": false,
    "scrolled": true
   },
   "outputs": [],
   "source": [
    "# Q1_2016_store_sales.sort(['Sale'])"
   ]
  },
  {
   "cell_type": "code",
   "execution_count": null,
   "metadata": {
    "collapsed": false
   },
   "outputs": [],
   "source": [
    "# a = Q1_2016_store_sales['Margin mean']\n",
    "# a"
   ]
  },
  {
   "cell_type": "markdown",
   "metadata": {
    "collapsed": true
   },
   "source": [
    "## Most profitable stores"
   ]
  },
  {
   "cell_type": "code",
   "execution_count": null,
   "metadata": {
    "collapsed": false
   },
   "outputs": [],
   "source": [
    "Q1_2016_store_sales.sort(['Margin sum'],ascending=False)[['Store Number', 'Margin sum', 'Zip Code <lambda>']].head()"
   ]
  },
  {
   "cell_type": "markdown",
   "metadata": {},
   "source": [
    "## Income data by zipcode"
   ]
  },
  {
   "cell_type": "code",
   "execution_count": null,
   "metadata": {
    "collapsed": false
   },
   "outputs": [],
   "source": [
    "# IRS_data = pd.read_csv('14zp16ia.csv')\n",
    "# IRS_Data.head()"
   ]
  },
  {
   "cell_type": "code",
   "execution_count": null,
   "metadata": {
    "collapsed": false
   },
   "outputs": [],
   "source": [
    "# amount_null = pd.isnull(IRS_data['Size of adjusted gross income'])\n",
    "# IRS_Data = IRS_data[amount_null == False]\n",
    "# IRS_Data = IRS_Data.drop(IRS_Data.index[0])\n",
    "# IRS_Data['Amount'] = IRS_Data['Amount'].replace('**',np.nan)\n",
    "# IRS_Data = IRS_Data.dropna()\n",
    "# IRS_Data['Amount'] = IRS_Data['Amount'].astype(float)\n",
    "# # for i, x in enumerate(IRS_Data['Amount']):\n",
    "# #     if '**' in x:\n",
    "# #         IRS_Data = IRS_Data.drop(IRS_Data.ix[0])\n",
    "# # IRS_Data.sort(['Amount'], ascending=False)\n",
    "# for cell in IRS_Data['Size']:\n",
    "#     if cell == '1under1under 25,000'\n",
    "# IRS_Data.head(10)"
   ]
  },
  {
   "cell_type": "code",
   "execution_count": 36,
   "metadata": {
    "collapsed": false
   },
   "outputs": [
    {
     "data": {
      "text/html": [
       "<div>\n",
       "<table border=\"1\" class=\"dataframe\">\n",
       "  <thead>\n",
       "    <tr style=\"text-align: right;\">\n",
       "      <th></th>\n",
       "      <th>Id</th>\n",
       "      <th>Id2</th>\n",
       "      <th>Geography</th>\n",
       "      <th>Estimate; Total:</th>\n",
       "      <th>Under 50K</th>\n",
       "      <th>Over 50K</th>\n",
       "    </tr>\n",
       "  </thead>\n",
       "  <tbody>\n",
       "    <tr>\n",
       "      <th>0</th>\n",
       "      <td>0400000US19</td>\n",
       "      <td>19</td>\n",
       "      <td>Iowa</td>\n",
       "      <td>1236409</td>\n",
       "      <td>579398</td>\n",
       "      <td>657011</td>\n",
       "    </tr>\n",
       "    <tr>\n",
       "      <th>1</th>\n",
       "      <td>8600000US50001</td>\n",
       "      <td>50001</td>\n",
       "      <td>ZCTA5 50001</td>\n",
       "      <td>234</td>\n",
       "      <td>94</td>\n",
       "      <td>140</td>\n",
       "    </tr>\n",
       "    <tr>\n",
       "      <th>2</th>\n",
       "      <td>8600000US50002</td>\n",
       "      <td>50002</td>\n",
       "      <td>ZCTA5 50002</td>\n",
       "      <td>629</td>\n",
       "      <td>322</td>\n",
       "      <td>307</td>\n",
       "    </tr>\n",
       "    <tr>\n",
       "      <th>3</th>\n",
       "      <td>8600000US50003</td>\n",
       "      <td>50003</td>\n",
       "      <td>ZCTA5 50003</td>\n",
       "      <td>2700</td>\n",
       "      <td>924</td>\n",
       "      <td>1776</td>\n",
       "    </tr>\n",
       "    <tr>\n",
       "      <th>4</th>\n",
       "      <td>8600000US50005</td>\n",
       "      <td>50005</td>\n",
       "      <td>ZCTA5 50005</td>\n",
       "      <td>335</td>\n",
       "      <td>117</td>\n",
       "      <td>218</td>\n",
       "    </tr>\n",
       "  </tbody>\n",
       "</table>\n",
       "</div>"
      ],
      "text/plain": [
       "               Id    Id2    Geography  Estimate; Total:  Under 50K  Over 50K\n",
       "0     0400000US19     19         Iowa           1236409     579398    657011\n",
       "1  8600000US50001  50001  ZCTA5 50001               234         94       140\n",
       "2  8600000US50002  50002  ZCTA5 50002               629        322       307\n",
       "3  8600000US50003  50003  ZCTA5 50003              2700        924      1776\n",
       "4  8600000US50005  50005  ZCTA5 50005               335        117       218"
      ]
     },
     "execution_count": 36,
     "metadata": {},
     "output_type": "execute_result"
    }
   ],
   "source": [
    "IRS_data = pd.read_csv('HOUSEHOLD INCOME IN THE PAST 12 MONTHS (IN 2015 INFLATION-ADJUSTED DOLLARS).csv')\n",
    "IRS_data.head()"
   ]
  },
  {
   "cell_type": "code",
   "execution_count": 37,
   "metadata": {
    "collapsed": false
   },
   "outputs": [
    {
     "data": {
      "text/html": [
       "<div>\n",
       "<table border=\"1\" class=\"dataframe\">\n",
       "  <thead>\n",
       "    <tr style=\"text-align: right;\">\n",
       "      <th></th>\n",
       "      <th>Id</th>\n",
       "      <th>Id2</th>\n",
       "      <th>Geography</th>\n",
       "      <th>Estimate; Total:</th>\n",
       "      <th>Under 50K</th>\n",
       "      <th>Over 50K</th>\n",
       "      <th>Zip Code &lt;lambda&gt;</th>\n",
       "    </tr>\n",
       "  </thead>\n",
       "  <tbody>\n",
       "    <tr>\n",
       "      <th>1</th>\n",
       "      <td>8600000US50001</td>\n",
       "      <td>50001</td>\n",
       "      <td>ZCTA5 50001</td>\n",
       "      <td>234</td>\n",
       "      <td>94</td>\n",
       "      <td>140</td>\n",
       "      <td>50001</td>\n",
       "    </tr>\n",
       "    <tr>\n",
       "      <th>2</th>\n",
       "      <td>8600000US50002</td>\n",
       "      <td>50002</td>\n",
       "      <td>ZCTA5 50002</td>\n",
       "      <td>629</td>\n",
       "      <td>322</td>\n",
       "      <td>307</td>\n",
       "      <td>50002</td>\n",
       "    </tr>\n",
       "    <tr>\n",
       "      <th>3</th>\n",
       "      <td>8600000US50003</td>\n",
       "      <td>50003</td>\n",
       "      <td>ZCTA5 50003</td>\n",
       "      <td>2700</td>\n",
       "      <td>924</td>\n",
       "      <td>1776</td>\n",
       "      <td>50003</td>\n",
       "    </tr>\n",
       "    <tr>\n",
       "      <th>4</th>\n",
       "      <td>8600000US50005</td>\n",
       "      <td>50005</td>\n",
       "      <td>ZCTA5 50005</td>\n",
       "      <td>335</td>\n",
       "      <td>117</td>\n",
       "      <td>218</td>\n",
       "      <td>50005</td>\n",
       "    </tr>\n",
       "    <tr>\n",
       "      <th>5</th>\n",
       "      <td>8600000US50006</td>\n",
       "      <td>50006</td>\n",
       "      <td>ZCTA5 50006</td>\n",
       "      <td>625</td>\n",
       "      <td>316</td>\n",
       "      <td>309</td>\n",
       "      <td>50006</td>\n",
       "    </tr>\n",
       "  </tbody>\n",
       "</table>\n",
       "</div>"
      ],
      "text/plain": [
       "               Id    Id2    Geography  Estimate; Total:  Under 50K  Over 50K  \\\n",
       "1  8600000US50001  50001  ZCTA5 50001               234         94       140   \n",
       "2  8600000US50002  50002  ZCTA5 50002               629        322       307   \n",
       "3  8600000US50003  50003  ZCTA5 50003              2700        924      1776   \n",
       "4  8600000US50005  50005  ZCTA5 50005               335        117       218   \n",
       "5  8600000US50006  50006  ZCTA5 50006               625        316       309   \n",
       "\n",
       "   Zip Code <lambda>  \n",
       "1              50001  \n",
       "2              50002  \n",
       "3              50003  \n",
       "4              50005  \n",
       "5              50006  "
      ]
     },
     "execution_count": 37,
     "metadata": {},
     "output_type": "execute_result"
    }
   ],
   "source": [
    "IRS_Data = IRS_data.drop(IRS_data.index[0])\n",
    "IRS_Data['Zip Code <lambda>']=IRS_Data['Id2']\n",
    "IRS_Data.drop('Id2', axis=1)\n",
    "IRS_Data.columns.values\n",
    "IRS_Data['Zip Code <lambda>'].astype(int)\n",
    "IRS_Data.head()"
   ]
  },
  {
   "cell_type": "code",
   "execution_count": 38,
   "metadata": {
    "collapsed": false
   },
   "outputs": [
    {
     "data": {
      "text/plain": [
       "Id                   object\n",
       "Id2                   int64\n",
       "Geography            object\n",
       "Estimate; Total:      int64\n",
       "Under 50K             int64\n",
       "Over 50K              int64\n",
       "Zip Code <lambda>     int64\n",
       "dtype: object"
      ]
     },
     "execution_count": 38,
     "metadata": {},
     "output_type": "execute_result"
    }
   ],
   "source": [
    "IRS_Data.dtypes"
   ]
  },
  {
   "cell_type": "markdown",
   "metadata": {},
   "source": [
    "-------------------------------------------------------------------------------------------------------------------------------"
   ]
  },
  {
   "cell_type": "code",
   "execution_count": 54,
   "metadata": {
    "collapsed": false,
    "scrolled": true
   },
   "outputs": [
    {
     "data": {
      "text/html": [
       "<div>\n",
       "<table border=\"1\" class=\"dataframe\">\n",
       "  <thead>\n",
       "    <tr style=\"text-align: right;\">\n",
       "      <th></th>\n",
       "      <th>Store Number</th>\n",
       "      <th>$ per liter mean</th>\n",
       "      <th>Margin sum</th>\n",
       "      <th>Margin mean</th>\n",
       "      <th>Sale (Dollars) sum</th>\n",
       "      <th>Sale (Dollars) mean</th>\n",
       "      <th>Volume Sold (Liters) sum</th>\n",
       "      <th>Volume Sold (Liters) mean</th>\n",
       "      <th>Zip Code &lt;lambda&gt;</th>\n",
       "    </tr>\n",
       "  </thead>\n",
       "  <tbody>\n",
       "    <tr>\n",
       "      <th>0</th>\n",
       "      <td>2106</td>\n",
       "      <td>17.969769</td>\n",
       "      <td>10174.68</td>\n",
       "      <td>80.751429</td>\n",
       "      <td>30478.75</td>\n",
       "      <td>241.894841</td>\n",
       "      <td>2116.25</td>\n",
       "      <td>16.795635</td>\n",
       "      <td>50613</td>\n",
       "    </tr>\n",
       "    <tr>\n",
       "      <th>1</th>\n",
       "      <td>2113</td>\n",
       "      <td>17.483024</td>\n",
       "      <td>693.49</td>\n",
       "      <td>18.742973</td>\n",
       "      <td>2065.90</td>\n",
       "      <td>55.835135</td>\n",
       "      <td>177.00</td>\n",
       "      <td>4.783784</td>\n",
       "      <td>50543</td>\n",
       "    </tr>\n",
       "    <tr>\n",
       "      <th>2</th>\n",
       "      <td>2130</td>\n",
       "      <td>17.452157</td>\n",
       "      <td>9288.29</td>\n",
       "      <td>79.387094</td>\n",
       "      <td>27856.11</td>\n",
       "      <td>238.086410</td>\n",
       "      <td>1556.90</td>\n",
       "      <td>13.306838</td>\n",
       "      <td>50703</td>\n",
       "    </tr>\n",
       "    <tr>\n",
       "      <th>3</th>\n",
       "      <td>2152</td>\n",
       "      <td>12.517597</td>\n",
       "      <td>461.44</td>\n",
       "      <td>15.381333</td>\n",
       "      <td>1376.43</td>\n",
       "      <td>45.881000</td>\n",
       "      <td>140.13</td>\n",
       "      <td>4.671000</td>\n",
       "      <td>50469</td>\n",
       "    </tr>\n",
       "    <tr>\n",
       "      <th>4</th>\n",
       "      <td>2178</td>\n",
       "      <td>15.101929</td>\n",
       "      <td>1868.76</td>\n",
       "      <td>32.220000</td>\n",
       "      <td>5588.50</td>\n",
       "      <td>96.353448</td>\n",
       "      <td>520.80</td>\n",
       "      <td>8.979310</td>\n",
       "      <td>52172</td>\n",
       "    </tr>\n",
       "  </tbody>\n",
       "</table>\n",
       "</div>"
      ],
      "text/plain": [
       "   Store Number  $ per liter mean  Margin sum  Margin mean  \\\n",
       "0          2106         17.969769    10174.68    80.751429   \n",
       "1          2113         17.483024      693.49    18.742973   \n",
       "2          2130         17.452157     9288.29    79.387094   \n",
       "3          2152         12.517597      461.44    15.381333   \n",
       "4          2178         15.101929     1868.76    32.220000   \n",
       "\n",
       "   Sale (Dollars) sum  Sale (Dollars) mean  Volume Sold (Liters) sum  \\\n",
       "0            30478.75           241.894841                   2116.25   \n",
       "1             2065.90            55.835135                    177.00   \n",
       "2            27856.11           238.086410                   1556.90   \n",
       "3             1376.43            45.881000                    140.13   \n",
       "4             5588.50            96.353448                    520.80   \n",
       "\n",
       "   Volume Sold (Liters) mean Zip Code <lambda>  \n",
       "0                  16.795635             50613  \n",
       "1                   4.783784             50543  \n",
       "2                  13.306838             50703  \n",
       "3                   4.671000             50469  \n",
       "4                   8.979310             52172  "
      ]
     },
     "execution_count": 54,
     "metadata": {},
     "output_type": "execute_result"
    }
   ],
   "source": [
    "QQ1_2016_store_sales = Q1_2016_store_sales\n",
    "QQ1_2016_store_sales = QQ1_2016_store_sales[Q1_2016_store_sales['Zip Code <lambda>'] != '712-2']\n",
    "QQ1_2016_store_sales['Zip Code <lambda>'].astype(int)\n",
    "QQ1_2016_store_sales.head()"
   ]
  },
  {
   "cell_type": "code",
   "execution_count": 55,
   "metadata": {
    "collapsed": false
   },
   "outputs": [
    {
     "name": "stderr",
     "output_type": "stream",
     "text": [
      "C:\\Users\\ali\\Anaconda2\\lib\\site-packages\\ipykernel\\__main__.py:1: SettingWithCopyWarning: \n",
      "A value is trying to be set on a copy of a slice from a DataFrame.\n",
      "Try using .loc[row_indexer,col_indexer] = value instead\n",
      "\n",
      "See the caveats in the documentation: http://pandas.pydata.org/pandas-docs/stable/indexing.html#indexing-view-versus-copy\n",
      "  if __name__ == '__main__':\n"
     ]
    },
    {
     "data": {
      "text/html": [
       "<div>\n",
       "<table border=\"1\" class=\"dataframe\">\n",
       "  <thead>\n",
       "    <tr style=\"text-align: right;\">\n",
       "      <th></th>\n",
       "      <th>Store Number</th>\n",
       "      <th>$ per liter mean</th>\n",
       "      <th>Margin sum</th>\n",
       "      <th>Margin mean</th>\n",
       "      <th>Sale (Dollars) sum</th>\n",
       "      <th>Sale (Dollars) mean</th>\n",
       "      <th>Volume Sold (Liters) sum</th>\n",
       "      <th>Volume Sold (Liters) mean</th>\n",
       "      <th>Zip Code &lt;lambda&gt;</th>\n",
       "      <th>Under 50K</th>\n",
       "    </tr>\n",
       "  </thead>\n",
       "  <tbody>\n",
       "    <tr>\n",
       "      <th>0</th>\n",
       "      <td>2106</td>\n",
       "      <td>17.969769</td>\n",
       "      <td>10174.68</td>\n",
       "      <td>80.751429</td>\n",
       "      <td>30478.75</td>\n",
       "      <td>241.894841</td>\n",
       "      <td>2116.25</td>\n",
       "      <td>16.795635</td>\n",
       "      <td>50613</td>\n",
       "      <td>0.0</td>\n",
       "    </tr>\n",
       "    <tr>\n",
       "      <th>1</th>\n",
       "      <td>2113</td>\n",
       "      <td>17.483024</td>\n",
       "      <td>693.49</td>\n",
       "      <td>18.742973</td>\n",
       "      <td>2065.90</td>\n",
       "      <td>55.835135</td>\n",
       "      <td>177.00</td>\n",
       "      <td>4.783784</td>\n",
       "      <td>50543</td>\n",
       "      <td>0.0</td>\n",
       "    </tr>\n",
       "    <tr>\n",
       "      <th>2</th>\n",
       "      <td>2130</td>\n",
       "      <td>17.452157</td>\n",
       "      <td>9288.29</td>\n",
       "      <td>79.387094</td>\n",
       "      <td>27856.11</td>\n",
       "      <td>238.086410</td>\n",
       "      <td>1556.90</td>\n",
       "      <td>13.306838</td>\n",
       "      <td>50703</td>\n",
       "      <td>0.0</td>\n",
       "    </tr>\n",
       "    <tr>\n",
       "      <th>3</th>\n",
       "      <td>2152</td>\n",
       "      <td>12.517597</td>\n",
       "      <td>461.44</td>\n",
       "      <td>15.381333</td>\n",
       "      <td>1376.43</td>\n",
       "      <td>45.881000</td>\n",
       "      <td>140.13</td>\n",
       "      <td>4.671000</td>\n",
       "      <td>50469</td>\n",
       "      <td>0.0</td>\n",
       "    </tr>\n",
       "    <tr>\n",
       "      <th>4</th>\n",
       "      <td>2178</td>\n",
       "      <td>15.101929</td>\n",
       "      <td>1868.76</td>\n",
       "      <td>32.220000</td>\n",
       "      <td>5588.50</td>\n",
       "      <td>96.353448</td>\n",
       "      <td>520.80</td>\n",
       "      <td>8.979310</td>\n",
       "      <td>52172</td>\n",
       "      <td>0.0</td>\n",
       "    </tr>\n",
       "  </tbody>\n",
       "</table>\n",
       "</div>"
      ],
      "text/plain": [
       "   Store Number  $ per liter mean  Margin sum  Margin mean  \\\n",
       "0          2106         17.969769    10174.68    80.751429   \n",
       "1          2113         17.483024      693.49    18.742973   \n",
       "2          2130         17.452157     9288.29    79.387094   \n",
       "3          2152         12.517597      461.44    15.381333   \n",
       "4          2178         15.101929     1868.76    32.220000   \n",
       "\n",
       "   Sale (Dollars) sum  Sale (Dollars) mean  Volume Sold (Liters) sum  \\\n",
       "0            30478.75           241.894841                   2116.25   \n",
       "1             2065.90            55.835135                    177.00   \n",
       "2            27856.11           238.086410                   1556.90   \n",
       "3             1376.43            45.881000                    140.13   \n",
       "4             5588.50            96.353448                    520.80   \n",
       "\n",
       "   Volume Sold (Liters) mean Zip Code <lambda>  Under 50K  \n",
       "0                  16.795635             50613        0.0  \n",
       "1                   4.783784             50543        0.0  \n",
       "2                  13.306838             50703        0.0  \n",
       "3                   4.671000             50469        0.0  \n",
       "4                   8.979310             52172        0.0  "
      ]
     },
     "execution_count": 55,
     "metadata": {},
     "output_type": "execute_result"
    }
   ],
   "source": [
    "QQ1_2016_store_sales['Under 50K'] = np.zeros(len(QQ1_2016_store_sales))\n",
    "QQ1_2016_store_sales.head()"
   ]
  },
  {
   "cell_type": "code",
   "execution_count": 56,
   "metadata": {
    "collapsed": false
   },
   "outputs": [
    {
     "name": "stderr",
     "output_type": "stream",
     "text": [
      "C:\\Users\\ali\\Anaconda2\\lib\\site-packages\\ipykernel\\__main__.py:3: SettingWithCopyWarning: \n",
      "A value is trying to be set on a copy of a slice from a DataFrame\n",
      "\n",
      "See the caveats in the documentation: http://pandas.pydata.org/pandas-docs/stable/indexing.html#indexing-view-versus-copy\n",
      "  app.launch_new_instance()\n"
     ]
    }
   ],
   "source": [
    "for i in range(QQ1_2016_store_sales.shape[0]):\n",
    "    zips = int(QQ1_2016_store_sales.iloc[i]['Zip Code <lambda>'])\n",
    "    QQ1_2016_store_sales.iloc[i]['Under 50K'] = IRS_Data[IRS_Data['Id2'] == zips]['Under 50K']"
   ]
  },
  {
   "cell_type": "code",
   "execution_count": 57,
   "metadata": {
    "collapsed": false
   },
   "outputs": [
    {
     "data": {
      "text/html": [
       "<div>\n",
       "<table border=\"1\" class=\"dataframe\">\n",
       "  <thead>\n",
       "    <tr style=\"text-align: right;\">\n",
       "      <th></th>\n",
       "      <th>Store Number</th>\n",
       "      <th>$ per liter mean</th>\n",
       "      <th>Margin sum</th>\n",
       "      <th>Margin mean</th>\n",
       "      <th>Sale (Dollars) sum</th>\n",
       "      <th>Sale (Dollars) mean</th>\n",
       "      <th>Volume Sold (Liters) sum</th>\n",
       "      <th>Volume Sold (Liters) mean</th>\n",
       "      <th>Zip Code &lt;lambda&gt;</th>\n",
       "      <th>Under 50K</th>\n",
       "    </tr>\n",
       "  </thead>\n",
       "  <tbody>\n",
       "    <tr>\n",
       "      <th>0</th>\n",
       "      <td>2106</td>\n",
       "      <td>17.969769</td>\n",
       "      <td>10174.68</td>\n",
       "      <td>80.751429</td>\n",
       "      <td>30478.75</td>\n",
       "      <td>241.894841</td>\n",
       "      <td>2116.25</td>\n",
       "      <td>16.795635</td>\n",
       "      <td>50613</td>\n",
       "      <td>0.0</td>\n",
       "    </tr>\n",
       "    <tr>\n",
       "      <th>1</th>\n",
       "      <td>2113</td>\n",
       "      <td>17.483024</td>\n",
       "      <td>693.49</td>\n",
       "      <td>18.742973</td>\n",
       "      <td>2065.90</td>\n",
       "      <td>55.835135</td>\n",
       "      <td>177.00</td>\n",
       "      <td>4.783784</td>\n",
       "      <td>50543</td>\n",
       "      <td>0.0</td>\n",
       "    </tr>\n",
       "    <tr>\n",
       "      <th>2</th>\n",
       "      <td>2130</td>\n",
       "      <td>17.452157</td>\n",
       "      <td>9288.29</td>\n",
       "      <td>79.387094</td>\n",
       "      <td>27856.11</td>\n",
       "      <td>238.086410</td>\n",
       "      <td>1556.90</td>\n",
       "      <td>13.306838</td>\n",
       "      <td>50703</td>\n",
       "      <td>0.0</td>\n",
       "    </tr>\n",
       "    <tr>\n",
       "      <th>3</th>\n",
       "      <td>2152</td>\n",
       "      <td>12.517597</td>\n",
       "      <td>461.44</td>\n",
       "      <td>15.381333</td>\n",
       "      <td>1376.43</td>\n",
       "      <td>45.881000</td>\n",
       "      <td>140.13</td>\n",
       "      <td>4.671000</td>\n",
       "      <td>50469</td>\n",
       "      <td>0.0</td>\n",
       "    </tr>\n",
       "    <tr>\n",
       "      <th>4</th>\n",
       "      <td>2178</td>\n",
       "      <td>15.101929</td>\n",
       "      <td>1868.76</td>\n",
       "      <td>32.220000</td>\n",
       "      <td>5588.50</td>\n",
       "      <td>96.353448</td>\n",
       "      <td>520.80</td>\n",
       "      <td>8.979310</td>\n",
       "      <td>52172</td>\n",
       "      <td>0.0</td>\n",
       "    </tr>\n",
       "  </tbody>\n",
       "</table>\n",
       "</div>"
      ],
      "text/plain": [
       "   Store Number  $ per liter mean  Margin sum  Margin mean  \\\n",
       "0          2106         17.969769    10174.68    80.751429   \n",
       "1          2113         17.483024      693.49    18.742973   \n",
       "2          2130         17.452157     9288.29    79.387094   \n",
       "3          2152         12.517597      461.44    15.381333   \n",
       "4          2178         15.101929     1868.76    32.220000   \n",
       "\n",
       "   Sale (Dollars) sum  Sale (Dollars) mean  Volume Sold (Liters) sum  \\\n",
       "0            30478.75           241.894841                   2116.25   \n",
       "1             2065.90            55.835135                    177.00   \n",
       "2            27856.11           238.086410                   1556.90   \n",
       "3             1376.43            45.881000                    140.13   \n",
       "4             5588.50            96.353448                    520.80   \n",
       "\n",
       "   Volume Sold (Liters) mean Zip Code <lambda>  Under 50K  \n",
       "0                  16.795635             50613        0.0  \n",
       "1                   4.783784             50543        0.0  \n",
       "2                  13.306838             50703        0.0  \n",
       "3                   4.671000             50469        0.0  \n",
       "4                   8.979310             52172        0.0  "
      ]
     },
     "execution_count": 57,
     "metadata": {},
     "output_type": "execute_result"
    }
   ],
   "source": [
    "QQ1_2016_store_sales.head()"
   ]
  },
  {
   "cell_type": "code",
   "execution_count": 58,
   "metadata": {
    "collapsed": false
   },
   "outputs": [
    {
     "ename": "KeyError",
     "evalue": "'Under 50K'",
     "output_type": "error",
     "traceback": [
      "\u001b[0;31m---------------------------------------------------------------------------\u001b[0m",
      "\u001b[0;31mKeyError\u001b[0m                                  Traceback (most recent call last)",
      "\u001b[0;32m<ipython-input-58-60c95d525423>\u001b[0m in \u001b[0;36m<module>\u001b[0;34m()\u001b[0m\n\u001b[0;32m----> 1\u001b[0;31m \u001b[0mQQ1_2016_store_sales\u001b[0m\u001b[1;33m[\u001b[0m\u001b[1;34m'Under 50K'\u001b[0m\u001b[1;33m]\u001b[0m \u001b[1;33m=\u001b[0m \u001b[0mQ1_2016_store_sales\u001b[0m\u001b[1;33m[\u001b[0m\u001b[1;34m'Under 50K'\u001b[0m\u001b[1;33m]\u001b[0m\u001b[1;33m.\u001b[0m\u001b[0mreplace\u001b[0m\u001b[1;33m(\u001b[0m\u001b[1;34m'[\\[\\]]'\u001b[0m\u001b[1;33m,\u001b[0m \u001b[1;34m\"\"\u001b[0m\u001b[1;33m)\u001b[0m\u001b[1;33m\u001b[0m\u001b[0m\n\u001b[0m\u001b[1;32m      2\u001b[0m \u001b[0mQQ1_2016_store_sales\u001b[0m\u001b[1;33m.\u001b[0m\u001b[0mhead\u001b[0m\u001b[1;33m(\u001b[0m\u001b[1;33m)\u001b[0m\u001b[1;33m\u001b[0m\u001b[0m\n",
      "\u001b[0;32mC:\\Users\\ali\\Anaconda2\\lib\\site-packages\\pandas\\core\\frame.pyc\u001b[0m in \u001b[0;36m__getitem__\u001b[0;34m(self, key)\u001b[0m\n\u001b[1;32m   1995\u001b[0m             \u001b[1;32mreturn\u001b[0m \u001b[0mself\u001b[0m\u001b[1;33m.\u001b[0m\u001b[0m_getitem_multilevel\u001b[0m\u001b[1;33m(\u001b[0m\u001b[0mkey\u001b[0m\u001b[1;33m)\u001b[0m\u001b[1;33m\u001b[0m\u001b[0m\n\u001b[1;32m   1996\u001b[0m         \u001b[1;32melse\u001b[0m\u001b[1;33m:\u001b[0m\u001b[1;33m\u001b[0m\u001b[0m\n\u001b[0;32m-> 1997\u001b[0;31m             \u001b[1;32mreturn\u001b[0m \u001b[0mself\u001b[0m\u001b[1;33m.\u001b[0m\u001b[0m_getitem_column\u001b[0m\u001b[1;33m(\u001b[0m\u001b[0mkey\u001b[0m\u001b[1;33m)\u001b[0m\u001b[1;33m\u001b[0m\u001b[0m\n\u001b[0m\u001b[1;32m   1998\u001b[0m \u001b[1;33m\u001b[0m\u001b[0m\n\u001b[1;32m   1999\u001b[0m     \u001b[1;32mdef\u001b[0m \u001b[0m_getitem_column\u001b[0m\u001b[1;33m(\u001b[0m\u001b[0mself\u001b[0m\u001b[1;33m,\u001b[0m \u001b[0mkey\u001b[0m\u001b[1;33m)\u001b[0m\u001b[1;33m:\u001b[0m\u001b[1;33m\u001b[0m\u001b[0m\n",
      "\u001b[0;32mC:\\Users\\ali\\Anaconda2\\lib\\site-packages\\pandas\\core\\frame.pyc\u001b[0m in \u001b[0;36m_getitem_column\u001b[0;34m(self, key)\u001b[0m\n\u001b[1;32m   2002\u001b[0m         \u001b[1;31m# get column\u001b[0m\u001b[1;33m\u001b[0m\u001b[1;33m\u001b[0m\u001b[0m\n\u001b[1;32m   2003\u001b[0m         \u001b[1;32mif\u001b[0m \u001b[0mself\u001b[0m\u001b[1;33m.\u001b[0m\u001b[0mcolumns\u001b[0m\u001b[1;33m.\u001b[0m\u001b[0mis_unique\u001b[0m\u001b[1;33m:\u001b[0m\u001b[1;33m\u001b[0m\u001b[0m\n\u001b[0;32m-> 2004\u001b[0;31m             \u001b[1;32mreturn\u001b[0m \u001b[0mself\u001b[0m\u001b[1;33m.\u001b[0m\u001b[0m_get_item_cache\u001b[0m\u001b[1;33m(\u001b[0m\u001b[0mkey\u001b[0m\u001b[1;33m)\u001b[0m\u001b[1;33m\u001b[0m\u001b[0m\n\u001b[0m\u001b[1;32m   2005\u001b[0m \u001b[1;33m\u001b[0m\u001b[0m\n\u001b[1;32m   2006\u001b[0m         \u001b[1;31m# duplicate columns & possible reduce dimensionality\u001b[0m\u001b[1;33m\u001b[0m\u001b[1;33m\u001b[0m\u001b[0m\n",
      "\u001b[0;32mC:\\Users\\ali\\Anaconda2\\lib\\site-packages\\pandas\\core\\generic.pyc\u001b[0m in \u001b[0;36m_get_item_cache\u001b[0;34m(self, item)\u001b[0m\n\u001b[1;32m   1348\u001b[0m         \u001b[0mres\u001b[0m \u001b[1;33m=\u001b[0m \u001b[0mcache\u001b[0m\u001b[1;33m.\u001b[0m\u001b[0mget\u001b[0m\u001b[1;33m(\u001b[0m\u001b[0mitem\u001b[0m\u001b[1;33m)\u001b[0m\u001b[1;33m\u001b[0m\u001b[0m\n\u001b[1;32m   1349\u001b[0m         \u001b[1;32mif\u001b[0m \u001b[0mres\u001b[0m \u001b[1;32mis\u001b[0m \u001b[0mNone\u001b[0m\u001b[1;33m:\u001b[0m\u001b[1;33m\u001b[0m\u001b[0m\n\u001b[0;32m-> 1350\u001b[0;31m             \u001b[0mvalues\u001b[0m \u001b[1;33m=\u001b[0m \u001b[0mself\u001b[0m\u001b[1;33m.\u001b[0m\u001b[0m_data\u001b[0m\u001b[1;33m.\u001b[0m\u001b[0mget\u001b[0m\u001b[1;33m(\u001b[0m\u001b[0mitem\u001b[0m\u001b[1;33m)\u001b[0m\u001b[1;33m\u001b[0m\u001b[0m\n\u001b[0m\u001b[1;32m   1351\u001b[0m             \u001b[0mres\u001b[0m \u001b[1;33m=\u001b[0m \u001b[0mself\u001b[0m\u001b[1;33m.\u001b[0m\u001b[0m_box_item_values\u001b[0m\u001b[1;33m(\u001b[0m\u001b[0mitem\u001b[0m\u001b[1;33m,\u001b[0m \u001b[0mvalues\u001b[0m\u001b[1;33m)\u001b[0m\u001b[1;33m\u001b[0m\u001b[0m\n\u001b[1;32m   1352\u001b[0m             \u001b[0mcache\u001b[0m\u001b[1;33m[\u001b[0m\u001b[0mitem\u001b[0m\u001b[1;33m]\u001b[0m \u001b[1;33m=\u001b[0m \u001b[0mres\u001b[0m\u001b[1;33m\u001b[0m\u001b[0m\n",
      "\u001b[0;32mC:\\Users\\ali\\Anaconda2\\lib\\site-packages\\pandas\\core\\internals.pyc\u001b[0m in \u001b[0;36mget\u001b[0;34m(self, item, fastpath)\u001b[0m\n\u001b[1;32m   3288\u001b[0m \u001b[1;33m\u001b[0m\u001b[0m\n\u001b[1;32m   3289\u001b[0m             \u001b[1;32mif\u001b[0m \u001b[1;32mnot\u001b[0m \u001b[0misnull\u001b[0m\u001b[1;33m(\u001b[0m\u001b[0mitem\u001b[0m\u001b[1;33m)\u001b[0m\u001b[1;33m:\u001b[0m\u001b[1;33m\u001b[0m\u001b[0m\n\u001b[0;32m-> 3290\u001b[0;31m                 \u001b[0mloc\u001b[0m \u001b[1;33m=\u001b[0m \u001b[0mself\u001b[0m\u001b[1;33m.\u001b[0m\u001b[0mitems\u001b[0m\u001b[1;33m.\u001b[0m\u001b[0mget_loc\u001b[0m\u001b[1;33m(\u001b[0m\u001b[0mitem\u001b[0m\u001b[1;33m)\u001b[0m\u001b[1;33m\u001b[0m\u001b[0m\n\u001b[0m\u001b[1;32m   3291\u001b[0m             \u001b[1;32melse\u001b[0m\u001b[1;33m:\u001b[0m\u001b[1;33m\u001b[0m\u001b[0m\n\u001b[1;32m   3292\u001b[0m                 \u001b[0mindexer\u001b[0m \u001b[1;33m=\u001b[0m \u001b[0mnp\u001b[0m\u001b[1;33m.\u001b[0m\u001b[0marange\u001b[0m\u001b[1;33m(\u001b[0m\u001b[0mlen\u001b[0m\u001b[1;33m(\u001b[0m\u001b[0mself\u001b[0m\u001b[1;33m.\u001b[0m\u001b[0mitems\u001b[0m\u001b[1;33m)\u001b[0m\u001b[1;33m)\u001b[0m\u001b[1;33m[\u001b[0m\u001b[0misnull\u001b[0m\u001b[1;33m(\u001b[0m\u001b[0mself\u001b[0m\u001b[1;33m.\u001b[0m\u001b[0mitems\u001b[0m\u001b[1;33m)\u001b[0m\u001b[1;33m]\u001b[0m\u001b[1;33m\u001b[0m\u001b[0m\n",
      "\u001b[0;32mC:\\Users\\ali\\Anaconda2\\lib\\site-packages\\pandas\\indexes\\base.pyc\u001b[0m in \u001b[0;36mget_loc\u001b[0;34m(self, key, method, tolerance)\u001b[0m\n\u001b[1;32m   1945\u001b[0m                 \u001b[1;32mreturn\u001b[0m \u001b[0mself\u001b[0m\u001b[1;33m.\u001b[0m\u001b[0m_engine\u001b[0m\u001b[1;33m.\u001b[0m\u001b[0mget_loc\u001b[0m\u001b[1;33m(\u001b[0m\u001b[0mkey\u001b[0m\u001b[1;33m)\u001b[0m\u001b[1;33m\u001b[0m\u001b[0m\n\u001b[1;32m   1946\u001b[0m             \u001b[1;32mexcept\u001b[0m \u001b[0mKeyError\u001b[0m\u001b[1;33m:\u001b[0m\u001b[1;33m\u001b[0m\u001b[0m\n\u001b[0;32m-> 1947\u001b[0;31m                 \u001b[1;32mreturn\u001b[0m \u001b[0mself\u001b[0m\u001b[1;33m.\u001b[0m\u001b[0m_engine\u001b[0m\u001b[1;33m.\u001b[0m\u001b[0mget_loc\u001b[0m\u001b[1;33m(\u001b[0m\u001b[0mself\u001b[0m\u001b[1;33m.\u001b[0m\u001b[0m_maybe_cast_indexer\u001b[0m\u001b[1;33m(\u001b[0m\u001b[0mkey\u001b[0m\u001b[1;33m)\u001b[0m\u001b[1;33m)\u001b[0m\u001b[1;33m\u001b[0m\u001b[0m\n\u001b[0m\u001b[1;32m   1948\u001b[0m \u001b[1;33m\u001b[0m\u001b[0m\n\u001b[1;32m   1949\u001b[0m         \u001b[0mindexer\u001b[0m \u001b[1;33m=\u001b[0m \u001b[0mself\u001b[0m\u001b[1;33m.\u001b[0m\u001b[0mget_indexer\u001b[0m\u001b[1;33m(\u001b[0m\u001b[1;33m[\u001b[0m\u001b[0mkey\u001b[0m\u001b[1;33m]\u001b[0m\u001b[1;33m,\u001b[0m \u001b[0mmethod\u001b[0m\u001b[1;33m=\u001b[0m\u001b[0mmethod\u001b[0m\u001b[1;33m,\u001b[0m \u001b[0mtolerance\u001b[0m\u001b[1;33m=\u001b[0m\u001b[0mtolerance\u001b[0m\u001b[1;33m)\u001b[0m\u001b[1;33m\u001b[0m\u001b[0m\n",
      "\u001b[0;32mpandas\\index.pyx\u001b[0m in \u001b[0;36mpandas.index.IndexEngine.get_loc (pandas\\index.c:4154)\u001b[0;34m()\u001b[0m\n",
      "\u001b[0;32mpandas\\index.pyx\u001b[0m in \u001b[0;36mpandas.index.IndexEngine.get_loc (pandas\\index.c:4018)\u001b[0;34m()\u001b[0m\n",
      "\u001b[0;32mpandas\\hashtable.pyx\u001b[0m in \u001b[0;36mpandas.hashtable.PyObjectHashTable.get_item (pandas\\hashtable.c:12368)\u001b[0;34m()\u001b[0m\n",
      "\u001b[0;32mpandas\\hashtable.pyx\u001b[0m in \u001b[0;36mpandas.hashtable.PyObjectHashTable.get_item (pandas\\hashtable.c:12322)\u001b[0;34m()\u001b[0m\n",
      "\u001b[0;31mKeyError\u001b[0m: 'Under 50K'"
     ]
    }
   ],
   "source": [
    "QQ1_2016_store_sales['Under 50K'] = Q1_2016_store_sales['Under 50K'].replace('[\\[\\]]', \"\")\n",
    "QQ1_2016_store_sales.head()"
   ]
  },
  {
   "cell_type": "code",
   "execution_count": null,
   "metadata": {
    "collapsed": false
   },
   "outputs": [],
   "source": [
    "A = []\n",
    "for i in range(Q1_2016_store_sales.shape[0]):\n",
    "    zips = int(Q1_2016_store_sales.iloc[i]['Zip Code <lambda>'])\n",
    "#     print zips\n",
    "    A.append(list(IRS_Data[IRS_Data['Id2'] == zips]['Under 50K'].values))\n",
    "# Q1_2016_store_sales['Under 50K'] = A\n",
    "Q1_2016_store_sales.head()"
   ]
  },
  {
   "cell_type": "code",
   "execution_count": null,
   "metadata": {
    "collapsed": false
   },
   "outputs": [],
   "source": [
    "# pd.merge(IRS_Data, Q1_2016_store_sales,on='Zip Code <lambda>', how='outer')"
   ]
  },
  {
   "cell_type": "code",
   "execution_count": null,
   "metadata": {
    "collapsed": false
   },
   "outputs": [],
   "source": [
    "# df_new = Q1_2016_store_sales.join(other=IRS_Data, on='Zip Code <lambda>', how='left')\n",
    "# df_new"
   ]
  },
  {
   "cell_type": "code",
   "execution_count": null,
   "metadata": {
    "collapsed": true
   },
   "outputs": [],
   "source": []
  },
  {
   "cell_type": "code",
   "execution_count": null,
   "metadata": {
    "collapsed": true
   },
   "outputs": [],
   "source": []
  }
 ],
 "metadata": {
  "anaconda-cloud": {},
  "kernelspec": {
   "display_name": "Python [default]",
   "language": "python",
   "name": "python2"
  },
  "language_info": {
   "codemirror_mode": {
    "name": "ipython",
    "version": 2
   },
   "file_extension": ".py",
   "mimetype": "text/x-python",
   "name": "python",
   "nbconvert_exporter": "python",
   "pygments_lexer": "ipython2",
   "version": "2.7.12"
  }
 },
 "nbformat": 4,
 "nbformat_minor": 1
}
