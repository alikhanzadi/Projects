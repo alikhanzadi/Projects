{
 "cells": [
  {
   "cell_type": "code",
   "execution_count": 1,
   "metadata": {
    "collapsed": false
   },
   "outputs": [
    {
     "name": "stderr",
     "output_type": "stream",
     "text": [
      "C:\\Users\\ali\\Anaconda2\\lib\\site-packages\\sklearn\\cross_validation.py:44: DeprecationWarning: This module was deprecated in version 0.18 in favor of the model_selection module into which all the refactored classes and functions are moved. Also note that the interface of the new CV iterators are different from that of this module. This module will be removed in 0.20.\n",
      "  \"This module will be removed in 0.20.\", DeprecationWarning)\n",
      "C:\\Users\\ali\\Anaconda2\\lib\\site-packages\\sklearn\\grid_search.py:43: DeprecationWarning: This module was deprecated in version 0.18 in favor of the model_selection module into which all the refactored classes and functions are moved. This module will be removed in 0.20.\n",
      "  DeprecationWarning)\n"
     ]
    }
   ],
   "source": [
    "import pandas as pd\n",
    "import numpy as np\n",
    "from sklearn.neighbors import KNeighborsClassifier\n",
    "from sklearn.grid_search import GridSearchCV\n",
    "from datetime import datetime, date, timedelta\n",
    "\n",
    "import tqdm\n",
    "import time"
   ]
  },
  {
   "cell_type": "code",
   "execution_count": 2,
   "metadata": {
    "collapsed": false
   },
   "outputs": [
    {
     "name": "stdout",
     "output_type": "stream",
     "text": [
      "(213451, 16)\n"
     ]
    }
   ],
   "source": [
    "data_df = pd.read_csv('./assets/Kaggle Raw Data/train_users_2.csv/train_users_2.csv')\n",
    "print data_df.shape"
   ]
  },
  {
   "cell_type": "code",
   "execution_count": 3,
   "metadata": {
    "collapsed": false
   },
   "outputs": [],
   "source": [
    "data_df.age.fillna(-1,inplace=True)\n",
    "\n",
    "data_df.drop('date_first_booking',axis=1,inplace=True)\n",
    "data_df.first_affiliate_tracked.fillna(-1,inplace=True)\n",
    "\n",
    "data_df['date_account_created'] = pd.to_datetime(data_df['date_account_created'])\n",
    "data_df['year_acc_created'] = data_df.date_account_created.dt.year\n",
    "data_df['month_acc_created'] = data_df.date_account_created.dt.month\n",
    "data_df['day_acc_created'] = data_df.date_account_created.dt.day\n",
    "data_df['dayofweek_acc_created'] = data_df.date_account_created.dt.dayofweek\n",
    "data_df['week_of_year_acc_created'] = data_df.date_account_created.dt.weekofyear\n",
    "\n",
    "tmstmp = data_df['timestamp_first_active'].astype(str)\n",
    "data_df['timestamp_first_active'] = tmstmp.apply(lambda x: datetime.strptime(x, \"%Y%m%d%H%M%S\"))\n",
    "data_df['year_1st_tmstmp'] = data_df.timestamp_first_active.dt.year\n",
    "data_df['month_1st_tmstmp'] = data_df.timestamp_first_active.dt.month\n",
    "data_df['day_1st_tmstmp'] = data_df.timestamp_first_active.dt.day\n",
    "data_df['hour_1st_tmstmp'] = data_df.timestamp_first_active.dt.hour\n",
    "data_df['dayofyear_1st_tmstmp'] = data_df.timestamp_first_active.dt.dayofweek\n",
    "data_df['week_of_year_1st_tmstmp'] = data_df.timestamp_first_active.dt.weekofyear\n",
    "\n",
    "data_df.drop(['date_account_created', 'timestamp_first_active'],axis=1,inplace=True)\n",
    "\n",
    "brow_cnt = zip(data_df['first_browser'].value_counts().index, data_df['first_browser'].value_counts().values)\n",
    "brow_other = [x[0] for x in brow_cnt if x[1]<150]\n",
    "data_df.first_browser = data_df.first_browser.apply(lambda x: 'Other' if x in brow_other else x)\n",
    "\n",
    "affprov_cnt = zip(data_df['affiliate_provider'].value_counts().index,\n",
    "                  data_df['affiliate_provider'].value_counts().values)\n",
    "affprov_other = [x[0] for x in affprov_cnt if x[1]<100]\n",
    "data_df.affiliate_provider = data_df.affiliate_provider.apply(lambda x: 'Other' if x in affprov_other else x)"
   ]
  },
  {
   "cell_type": "code",
   "execution_count": 4,
   "metadata": {
    "collapsed": true
   },
   "outputs": [],
   "source": [
    "age_group = []\n",
    "age_bckts = [21,25,28,32,37,45,55,65,75]\n",
    "for cell in data_df.age:\n",
    "    if cell< 0:\n",
    "        aggp = '-unknown-'\n",
    "    elif (cell < 15) or (cell > 1900):\n",
    "        if (cell< 15) or (cell>1998):#data is from 2014, minimum age for travel is assumed 15.\n",
    "            aggp = '28-32'\n",
    "        else:\n",
    "            cell == 2014 - cell\n",
    "    elif cell<=21:\n",
    "            aggp = '15-21'\n",
    "    elif cell>75:\n",
    "            aggp = '75+'\n",
    "    else:\n",
    "        for i, agbkt in enumerate(age_bckts):\n",
    "            if cell<=agbkt:\n",
    "                aggp = str(age_bckts[i-1])+'-'+str(agbkt)\n",
    "                break\n",
    "    age_group.append(aggp)\n",
    "data_df['age_bckts'] = age_group"
   ]
  },
  {
   "cell_type": "code",
   "execution_count": 5,
   "metadata": {
    "collapsed": false
   },
   "outputs": [],
   "source": [
    "y = data_df['country_destination']\n",
    "data_df.drop(['country_destination','id'],axis=1,inplace=True)"
   ]
  },
  {
   "cell_type": "code",
   "execution_count": 6,
   "metadata": {
    "collapsed": false
   },
   "outputs": [],
   "source": [
    "data_df.age = data_df.age.astype(int,copy=False)"
   ]
  },
  {
   "cell_type": "code",
   "execution_count": 7,
   "metadata": {
    "collapsed": false
   },
   "outputs": [],
   "source": [
    "X = pd.get_dummies(data_df, dummy_na=True)"
   ]
  },
  {
   "cell_type": "code",
   "execution_count": 8,
   "metadata": {
    "collapsed": false
   },
   "outputs": [
    {
     "name": "stdout",
     "output_type": "stream",
     "text": [
      "<class 'pandas.core.frame.DataFrame'>\n",
      "RangeIndex: 213451 entries, 0 to 213450\n",
      "Columns: 120 entries, age to age_bckts_nan\n",
      "dtypes: int32(1), int64(12), uint8(107)\n",
      "memory usage: 42.1 MB\n"
     ]
    }
   ],
   "source": [
    "X.info()"
   ]
  },
  {
   "cell_type": "code",
   "execution_count": 13,
   "metadata": {
    "collapsed": false,
    "scrolled": true
   },
   "outputs": [],
   "source": [
    "# for col in X.columns:\n",
    "# #     if X[col].dtype=='float64':\n",
    "# #         print col\n",
    "#     print col,X[col].dtype"
   ]
  },
  {
   "cell_type": "code",
   "execution_count": 9,
   "metadata": {
    "collapsed": false
   },
   "outputs": [
    {
     "name": "stdout",
     "output_type": "stream",
     "text": [
      "(213451, 120)\n",
      "(213451L,)\n"
     ]
    }
   ],
   "source": [
    "print X.shape\n",
    "print y.shape"
   ]
  },
  {
   "cell_type": "code",
   "execution_count": 10,
   "metadata": {
    "collapsed": false
   },
   "outputs": [],
   "source": [
    "from sklearn.cross_validation import train_test_split, KFold\n",
    "from sklearn.metrics import accuracy_score, precision_score, recall_score, confusion_matrix, classification_report\n",
    "\n",
    "X_train, X_test, y_train, y_test = train_test_split(X, y, test_size=0.3, random_state=42, stratify=y)\n",
    "\n",
    "def evaluate_model(model):\n",
    "    model.fit(X_train, y_train)\n",
    "    y_pred = model.predict(X_test)\n",
    "    \n",
    "    a = accuracy_score(y_test, y_pred)\n",
    "    \n",
    "    cm = confusion_matrix(y_test, y_pred)\n",
    "    cr = classification_report(y_test, y_pred)\n",
    "    \n",
    "    print 'cm: ','\\n',cm\n",
    "    print 'cr: ','\\n',cr\n",
    "    print a\n",
    "    return a\n",
    "\n",
    "all_models = {}"
   ]
  },
  {
   "cell_type": "markdown",
   "metadata": {},
   "source": [
    "## KNN"
   ]
  },
  {
   "cell_type": "code",
   "execution_count": 12,
   "metadata": {
    "collapsed": false
   },
   "outputs": [
    {
     "name": "stdout",
     "output_type": "stream",
     "text": [
      "cm:  \n",
      "[[    0     0     0     2     1     1     1   103     0     0    52     2]\n",
      " [    0     0     1     2     0     3     1   298     0     0   122     1]\n",
      " [    0     1     2     1     3     0     1   213     0     0    96     1]\n",
      " [    0     1     1     2     4     3     1   443     0     0   215     5]\n",
      " [    4     2     4     7    16     2     4  1009     0     0   449    10]\n",
      " [    0     1     2     4     8     3     1   466     0     0   205     7]\n",
      " [    2     1     3     6     7     1     4   597     1     1   225     3]\n",
      " [   18    45    26    69   155    46    53 30344     3     1  6481   122]\n",
      " [    0     1     0     0     1     0     1   150     0     0    75     1]\n",
      " [    0     0     0     1     0     0     0    47     0     0    16     1]\n",
      " [   15    41    25    62   140    32    31 12212     5     0  6042   108]\n",
      " [    2     7     6    10    15     2     9  2012     0     0   952    13]]\n",
      "cr:  \n",
      "             precision    recall  f1-score   support\n",
      "\n",
      "         AU       0.00      0.00      0.00       162\n",
      "         CA       0.00      0.00      0.00       428\n",
      "         DE       0.03      0.01      0.01       318\n",
      "         ES       0.01      0.00      0.00       675\n",
      "         FR       0.05      0.01      0.02      1507\n",
      "         GB       0.03      0.00      0.01       697\n",
      "         IT       0.04      0.00      0.01       851\n",
      "        NDF       0.63      0.81      0.71     37363\n",
      "         NL       0.00      0.00      0.00       229\n",
      "         PT       0.00      0.00      0.00        65\n",
      "         US       0.40      0.32      0.36     18713\n",
      "      other       0.05      0.00      0.01      3028\n",
      "\n",
      "avg / total       0.49      0.57      0.52     64036\n",
      "\n",
      "0.568836279593\n"
     ]
    }
   ],
   "source": [
    "a = evaluate_model(KNeighborsClassifier())"
   ]
  },
  {
   "cell_type": "markdown",
   "metadata": {},
   "source": [
    "#### GridSearch"
   ]
  },
  {
   "cell_type": "code",
   "execution_count": 31,
   "metadata": {
    "collapsed": false
   },
   "outputs": [],
   "source": [
    "params = {'n_neighbors': range(2,40)}\n",
    "gsknn = GridSearchCV(KNeighborsClassifier(),\n",
    "                     params, cv=KFold(len(y), n_folds=3, shuffle=True))"
   ]
  },
  {
   "cell_type": "code",
   "execution_count": 32,
   "metadata": {
    "collapsed": false
   },
   "outputs": [],
   "source": [
    "gsknn.fit(X, y)"
   ]
  },
  {
   "cell_type": "code",
   "execution_count": 30,
   "metadata": {
    "collapsed": false
   },
   "outputs": [],
   "source": [
    "gsknn.best_params_"
   ]
  },
  {
   "cell_type": "code",
   "execution_count": 29,
   "metadata": {
    "collapsed": false
   },
   "outputs": [],
   "source": [
    "gsknn.best_score_"
   ]
  },
  {
   "cell_type": "code",
   "execution_count": 27,
   "metadata": {
    "collapsed": false
   },
   "outputs": [],
   "source": [
    "evaluate_model(gsknn.best_estimator_)"
   ]
  },
  {
   "cell_type": "code",
   "execution_count": null,
   "metadata": {
    "collapsed": true
   },
   "outputs": [],
   "source": [
    "all_models['knn'] = {'model': gsknn.best_estimator_,\n",
    "                     'score': a}"
   ]
  },
  {
   "cell_type": "markdown",
   "metadata": {
    "collapsed": true
   },
   "source": [
    "#### Bagging"
   ]
  },
  {
   "cell_type": "code",
   "execution_count": 5,
   "metadata": {
    "collapsed": true
   },
   "outputs": [],
   "source": [
    "from sklearn.ensemble import BaggingClassifier\n",
    "baggingknn = BaggingClassifier(KNeighborsClassifier())"
   ]
  },
  {
   "cell_type": "code",
   "execution_count": 26,
   "metadata": {
    "collapsed": false
   },
   "outputs": [],
   "source": [
    "evaluate_model(baggingknn)"
   ]
  },
  {
   "cell_type": "code",
   "execution_count": 7,
   "metadata": {
    "collapsed": false
   },
   "outputs": [],
   "source": [
    "bagging_params = {'n_estimators': [10, 20],\n",
    "                  'max_samples': [0.7, 1.0],\n",
    "                  'max_features': [0.7, 1.0],\n",
    "                  'bootstrap_features': [True, False]}\n",
    "\n",
    "\n",
    "gsbaggingknn = GridSearchCV(baggingknn,\n",
    "                            bagging_params, n_jobs=-1,\n",
    "                            cv=KFold(len(y), n_folds=3, shuffle=True))"
   ]
  },
  {
   "cell_type": "code",
   "execution_count": 25,
   "metadata": {
    "collapsed": false
   },
   "outputs": [],
   "source": [
    "gsbaggingknn.fit(X, y)"
   ]
  },
  {
   "cell_type": "code",
   "execution_count": 24,
   "metadata": {
    "collapsed": false
   },
   "outputs": [],
   "source": [
    "gsbaggingknn.best_params_"
   ]
  },
  {
   "cell_type": "code",
   "execution_count": 23,
   "metadata": {
    "collapsed": false
   },
   "outputs": [],
   "source": [
    "all_models['gsbaggingknn'] = {'model': gsbaggingknn.best_estimator_,\n",
    "                              'score': evaluate_model(gsbaggingknn.best_estimator_)}"
   ]
  },
  {
   "cell_type": "markdown",
   "metadata": {},
   "source": [
    "##                                                         Decision Trees"
   ]
  },
  {
   "cell_type": "code",
   "execution_count": 22,
   "metadata": {
    "collapsed": false
   },
   "outputs": [],
   "source": [
    "from sklearn.tree import DecisionTreeClassifier\n",
    "\n",
    "dt = DecisionTreeClassifier()\n",
    "all_models['dt'] = {'model': dt,\n",
    "                    'score': evaluate_model(dt)}\n",
    "\n",
    "for i in tqdm.tqdm(range(1000)):\n",
    "    time.sleep(0.01)"
   ]
  },
  {
   "cell_type": "markdown",
   "metadata": {},
   "source": [
    "#### GridSearch"
   ]
  },
  {
   "cell_type": "code",
   "execution_count": 20,
   "metadata": {
    "collapsed": false
   },
   "outputs": [],
   "source": [
    "params = {'criterion': ['gini', 'entropy'],\n",
    "          'splitter': ['best', 'random'],\n",
    "          'max_depth': [None, 5, 10],\n",
    "          'min_samples_split': [2, 5],\n",
    "          'min_samples_leaf': [1, 2, 3]}\n",
    "\n",
    "gsdt = GridSearchCV(dt,\n",
    "                    params, n_jobs=-1,\n",
    "                    cv=KFold(len(y), n_folds=3, shuffle=True))\n",
    "\n",
    "gsdt.fit(X, y)\n",
    "print gsdt.best_params_\n",
    "print gsdt.best_score_\n",
    "\n",
    "all_models['gsdt'] = {'model': gsdt.best_estimator_,\n",
    "                      'score': evaluate_model(gsdt.best_estimator_)}"
   ]
  },
  {
   "cell_type": "markdown",
   "metadata": {
    "collapsed": true
   },
   "source": [
    "#### Bagging"
   ]
  },
  {
   "cell_type": "code",
   "execution_count": 21,
   "metadata": {
    "collapsed": false
   },
   "outputs": [],
   "source": [
    "gsbaggingdt = GridSearchCV(BaggingClassifier(gsdt.best_estimator_),\n",
    "                           bagging_params, n_jobs=-1,\n",
    "                           cv=KFold(len(y), n_folds=3, shuffle=True))\n",
    "\n",
    "gsbaggingdt.fit(X, y)\n",
    "\n",
    "print gsbaggingdt.best_params_\n",
    "print gsbaggingdt.best_score_\n",
    "\n",
    "all_models['gsbaggingdt'] = {'model': gsbaggingdt.best_estimator_,\n",
    "                             'score': evaluate_model(gsbaggingdt.best_estimator_)}"
   ]
  },
  {
   "cell_type": "markdown",
   "metadata": {},
   "source": [
    "## Support Vector Machines"
   ]
  },
  {
   "cell_type": "code",
   "execution_count": null,
   "metadata": {
    "collapsed": true
   },
   "outputs": [],
   "source": [
    "from sklearn.svm import SVC\n",
    "\n",
    "svm = SVC()\n",
    "all_models['svm'] = {'model': svm,\n",
    "                     'score': evaluate_model(svm)}\n"
   ]
  },
  {
   "cell_type": "markdown",
   "metadata": {},
   "source": [
    "#### GridSearch"
   ]
  },
  {
   "cell_type": "code",
   "execution_count": null,
   "metadata": {
    "collapsed": true
   },
   "outputs": [],
   "source": [
    "params = {'C': [0.01, 0.1, 1.0, 10.0, 30.0, 100.0],\n",
    "          'gamma': ['auto', 0.1, 1.0, 10.0],\n",
    "          'kernel': ['linear', 'rbf']}\n",
    "\n",
    "\n",
    "gssvm = GridSearchCV(svm,\n",
    "                    params, n_jobs=-1,\n",
    "                    cv=KFold(len(y), n_folds=3, shuffle=True))\n",
    "\n",
    "gssvm.fit(X, y)\n",
    "print gssvm.best_params_\n",
    "print gssvm.best_score_\n",
    "\n",
    "all_models['gssvm'] = {'model': gssvm.best_estimator_,\n",
    "                      'score': evaluate_model(gssvm.best_estimator_)}"
   ]
  },
  {
   "cell_type": "markdown",
   "metadata": {
    "collapsed": true
   },
   "source": [
    "#### Bagging"
   ]
  },
  {
   "cell_type": "code",
   "execution_count": null,
   "metadata": {
    "collapsed": true
   },
   "outputs": [],
   "source": [
    "gsbaggingsvm = GridSearchCV(BaggingClassifier(gssvm.best_estimator_),\n",
    "                           bagging_params, n_jobs=-1,\n",
    "                           cv=KFold(len(y), n_folds=3, shuffle=True))\n",
    "\n",
    "gsbaggingsvm.fit(X, y)\n",
    "\n",
    "print gsbaggingsvm.best_params_\n",
    "print gsbaggingsvm.best_score_\n",
    "\n",
    "all_models['gsbaggingsvm'] = {'model': gsbaggingsvm.best_estimator_,\n",
    "                             'score': evaluate_model(gsbaggingsvm.best_estimator_)}"
   ]
  },
  {
   "cell_type": "markdown",
   "metadata": {},
   "source": [
    "## Random Forest"
   ]
  },
  {
   "cell_type": "code",
   "execution_count": null,
   "metadata": {
    "collapsed": true
   },
   "outputs": [],
   "source": [
    "from sklearn.ensemble import RandomForestClassifier, ExtraTreesClassifier\n",
    "\n",
    "rf = RandomForestClassifier()\n",
    "all_models['rf'] = {'model': rf,\n",
    "                    'score': evaluate_model(rf)}\n"
   ]
  },
  {
   "cell_type": "code",
   "execution_count": null,
   "metadata": {
    "collapsed": true
   },
   "outputs": [],
   "source": [
    "gsrf = GridSearchCV(RandomForestClassifier(n_jobs=-1),\n",
    "                    params, n_jobs=-1,\n",
    "                    cv=KFold(len(y), n_folds=3, shuffle=True))"
   ]
  },
  {
   "cell_type": "markdown",
   "metadata": {},
   "source": [
    "## XGBoost"
   ]
  },
  {
   "cell_type": "code",
   "execution_count": 14,
   "metadata": {
    "collapsed": true
   },
   "outputs": [],
   "source": [
    "from xgboost.sklearn import XGBClassifier"
   ]
  },
  {
   "cell_type": "code",
   "execution_count": 15,
   "metadata": {
    "collapsed": true
   },
   "outputs": [],
   "source": [
    "params1 = {\n",
    "    'objective': 'binary:logistic',\n",
    "    'max_depth': 5,\n",
    "    'learning_rate': 0.25,\n",
    "    'silent': 1.0,\n",
    "    'n_estimators': 200\n",
    "}"
   ]
  },
  {
   "cell_type": "code",
   "execution_count": 16,
   "metadata": {
    "collapsed": false
   },
   "outputs": [],
   "source": [
    "xgbst1 = XGBClassifier(**params1).fit(X_train, y_train)"
   ]
  },
  {
   "cell_type": "code",
   "execution_count": 17,
   "metadata": {
    "collapsed": false
   },
   "outputs": [],
   "source": [
    "prediction_xgbst1 = xgbst1.predict(X_test)"
   ]
  },
  {
   "cell_type": "code",
   "execution_count": 18,
   "metadata": {
    "collapsed": false
   },
   "outputs": [
    {
     "name": "stdout",
     "output_type": "stream",
     "text": [
      "Predicted correctly: 40648/64036\n",
      "Error: 0.3652\n"
     ]
    }
   ],
   "source": [
    "correct = 0\n",
    "\n",
    "for i in range(len(prediction_xgbst1)):\n",
    "    if (y_test.iloc[i] == prediction_xgbst1[i]):\n",
    "        correct += 1\n",
    "        \n",
    "acc = accuracy_score(y_test, prediction_xgbst1)\n",
    "\n",
    "print('Predicted correctly: {0}/{1}'.format(correct, len(prediction_xgbst1)))\n",
    "print('Error: {0:.4f}'.format(1-acc))"
   ]
  },
  {
   "cell_type": "code",
   "execution_count": 19,
   "metadata": {
    "collapsed": false
   },
   "outputs": [
    {
     "name": "stderr",
     "output_type": "stream",
     "text": [
      "C:\\Users\\ali\\Anaconda2\\lib\\site-packages\\sklearn\\metrics\\classification.py:1113: UndefinedMetricWarning: Precision and F-score are ill-defined and being set to 0.0 in labels with no predicted samples.\n",
      "  'precision', 'predicted', average, warn_for)\n"
     ]
    },
    {
     "name": "stdout",
     "output_type": "stream",
     "text": [
      "cm:  \n",
      "[[    0     0     0     0     0     0     0    88     0     0    74     0]\n",
      " [    0     0     0     0     0     0     0   220     0     0   208     0]\n",
      " [    0     0     0     0     0     0     0   174     0     0   144     0]\n",
      " [    0     0     0     0     0     0     0   376     0     0   299     0]\n",
      " [    0     0     0     0     0     0     0   809     0     0   698     0]\n",
      " [    0     0     0     0     0     0     0   391     0     0   306     0]\n",
      " [    0     0     0     0     0     0     0   489     0     0   362     0]\n",
      " [    0     0     1     1     3     1     0 31714     0     0  5639     4]\n",
      " [    0     0     0     0     0     0     0   127     0     0   102     0]\n",
      " [    0     0     0     0     0     0     0    36     0     0    29     0]\n",
      " [    0     1     0     0     7     1     0  9769     0     0  8931     4]\n",
      " [    0     0     0     1     0     0     0  1682     0     0  1342     3]]\n",
      "cr:  \n",
      "             precision    recall  f1-score   support\n",
      "\n",
      "         AU       0.00      0.00      0.00       162\n",
      "         CA       0.00      0.00      0.00       428\n",
      "         DE       0.00      0.00      0.00       318\n",
      "         ES       0.00      0.00      0.00       675\n",
      "         FR       0.00      0.00      0.00      1507\n",
      "         GB       0.00      0.00      0.00       697\n",
      "         IT       0.00      0.00      0.00       851\n",
      "        NDF       0.69      0.85      0.76     37363\n",
      "         NL       0.00      0.00      0.00       229\n",
      "         PT       0.00      0.00      0.00        65\n",
      "         US       0.49      0.48      0.48     18713\n",
      "      other       0.27      0.00      0.00      3028\n",
      "\n",
      "avg / total       0.56      0.63      0.59     64036\n",
      "\n",
      "0.634767943032\n"
     ]
    }
   ],
   "source": [
    "all_models['xgbst1'] = {'model': xgbst1,\n",
    "                    'score': evaluate_model(xgbst1)}"
   ]
  },
  {
   "cell_type": "code",
   "execution_count": null,
   "metadata": {
    "collapsed": true
   },
   "outputs": [],
   "source": []
  },
  {
   "cell_type": "code",
   "execution_count": 22,
   "metadata": {
    "collapsed": false
   },
   "outputs": [],
   "source": [
    "params2 = {\n",
    "    'objective': 'binary:logistic',\n",
    "    'max_depth': 5,\n",
    "    'learning_rate': 0.05,\n",
    "    'silent': 1.0,\n",
    "    'n_estimators': 750,\n",
    "    'subsample': 0.7,\n",
    "    'colsample_bytree':0.7,\n",
    "    'reg_alpha':0,\n",
    "    'reg_lambda':1.\n",
    "}"
   ]
  },
  {
   "cell_type": "code",
   "execution_count": 23,
   "metadata": {
    "collapsed": false
   },
   "outputs": [],
   "source": [
    "xgbst2 = XGBClassifier( **params2).fit(X_train, y_train)"
   ]
  },
  {
   "cell_type": "code",
   "execution_count": 24,
   "metadata": {
    "collapsed": true
   },
   "outputs": [],
   "source": [
    "prediction_xgbst2 = xgbst2.predict(X_test)"
   ]
  },
  {
   "cell_type": "code",
   "execution_count": 25,
   "metadata": {
    "collapsed": false
   },
   "outputs": [
    {
     "name": "stdout",
     "output_type": "stream",
     "text": [
      "Predicted correctly: 13847/20955\n",
      "Error: 0.3392\n"
     ]
    }
   ],
   "source": [
    "correct = 0\n",
    "\n",
    "for i in range(len(prediction_xgbst2)):\n",
    "    if (y_test.iloc[i] == prediction_xgbst2[i]):\n",
    "        correct += 1\n",
    "        \n",
    "acc = accuracy_score(y_test, prediction_xgbst2)\n",
    "\n",
    "print('Predicted correctly: {0}/{1}'.format(correct, len(prediction_xgbst2)))\n",
    "print('Error: {0:.4f}'.format(1-acc))"
   ]
  },
  {
   "cell_type": "code",
   "execution_count": 26,
   "metadata": {
    "collapsed": false
   },
   "outputs": [
    {
     "name": "stdout",
     "output_type": "stream",
     "text": [
      "0.660796945836\n"
     ]
    }
   ],
   "source": [
    "all_models['xgbst1'] = {'model': xgbst2,\n",
    "                    'score': evaluate_model(xgbst2)}"
   ]
  },
  {
   "cell_type": "code",
   "execution_count": null,
   "metadata": {
    "collapsed": true
   },
   "outputs": [],
   "source": []
  }
 ],
 "metadata": {
  "anaconda-cloud": {},
  "kernelspec": {
   "display_name": "Python [default]",
   "language": "python",
   "name": "python2"
  },
  "language_info": {
   "codemirror_mode": {
    "name": "ipython",
    "version": 2
   },
   "file_extension": ".py",
   "mimetype": "text/x-python",
   "name": "python",
   "nbconvert_exporter": "python",
   "pygments_lexer": "ipython2",
   "version": "2.7.12"
  }
 },
 "nbformat": 4,
 "nbformat_minor": 1
}
