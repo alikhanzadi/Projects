{
 "cells": [
  {
   "cell_type": "code",
   "execution_count": 1,
   "metadata": {
    "collapsed": true
   },
   "outputs": [],
   "source": [
    "import pandas as pd\n",
    "import numpy as np\n",
    "\n",
    "from datetime import datetime, date, timedelta\n",
    "\n",
    "pd.set_option('display.max_columns', 500)\n",
    "# pd.set_option('display.max_rows', 150)"
   ]
  },
  {
   "cell_type": "markdown",
   "metadata": {},
   "source": [
    "* ** id**: user id\n",
    "* ** date_account_created**: the date of account creation\n",
    "* ** timestamp_first_active**: timestamp of the first activity, note that it can be earlier than date_account_created or date_first_booking because a user can search before signing up\n",
    "* ** date_first_booking**: date of first booking\n",
    "* ** signup_flow**: the page a user came to signup up from\n",
    "* ** language**: international language preference\n",
    "* ** affiliate_channel**: what kind of paid marketing\n",
    "* ** affiliate_provider**: where the marketing is e.g. google, craigslist, other\n",
    "* ** first_affiliate_tracked**: whats the first marketing the user interacted with before the signing up\n",
    "* ** country_destination**: this is the target variable you are to predict"
   ]
  },
  {
   "cell_type": "markdown",
   "metadata": {},
   "source": [
    "-----------------------------------------------------\n",
    "## Coutnry info data"
   ]
  },
  {
   "cell_type": "code",
   "execution_count": 2,
   "metadata": {
    "collapsed": false
   },
   "outputs": [
    {
     "data": {
      "text/html": [
       "<div>\n",
       "<table border=\"1\" class=\"dataframe\">\n",
       "  <thead>\n",
       "    <tr style=\"text-align: right;\">\n",
       "      <th></th>\n",
       "      <th>country_destination</th>\n",
       "      <th>lat_destination</th>\n",
       "      <th>lng_destination</th>\n",
       "      <th>distance_km</th>\n",
       "      <th>destination_km2</th>\n",
       "      <th>destination_language</th>\n",
       "      <th>language_levenshtein_distance</th>\n",
       "      <th>population_M</th>\n",
       "      <th>prc_young</th>\n",
       "      <th>avg_age</th>\n",
       "    </tr>\n",
       "  </thead>\n",
       "  <tbody>\n",
       "    <tr>\n",
       "      <th>0</th>\n",
       "      <td>AU</td>\n",
       "      <td>-26.853388</td>\n",
       "      <td>133.275160</td>\n",
       "      <td>15297.7440</td>\n",
       "      <td>7741220.0</td>\n",
       "      <td>eng</td>\n",
       "      <td>0.00</td>\n",
       "      <td>23.923</td>\n",
       "      <td>55.99</td>\n",
       "      <td>42.53</td>\n",
       "    </tr>\n",
       "    <tr>\n",
       "      <th>1</th>\n",
       "      <td>CA</td>\n",
       "      <td>62.393303</td>\n",
       "      <td>-96.818146</td>\n",
       "      <td>2828.1333</td>\n",
       "      <td>9984670.0</td>\n",
       "      <td>eng</td>\n",
       "      <td>0.00</td>\n",
       "      <td>35.871</td>\n",
       "      <td>54.30</td>\n",
       "      <td>42.92</td>\n",
       "    </tr>\n",
       "    <tr>\n",
       "      <th>2</th>\n",
       "      <td>DE</td>\n",
       "      <td>51.165707</td>\n",
       "      <td>10.452764</td>\n",
       "      <td>7879.5680</td>\n",
       "      <td>357022.0</td>\n",
       "      <td>deu</td>\n",
       "      <td>72.61</td>\n",
       "      <td>82.562</td>\n",
       "      <td>47.42</td>\n",
       "      <td>44.46</td>\n",
       "    </tr>\n",
       "    <tr>\n",
       "      <th>3</th>\n",
       "      <td>ES</td>\n",
       "      <td>39.896027</td>\n",
       "      <td>-2.487694</td>\n",
       "      <td>7730.7240</td>\n",
       "      <td>505370.0</td>\n",
       "      <td>spa</td>\n",
       "      <td>92.25</td>\n",
       "      <td>47.203</td>\n",
       "      <td>52.50</td>\n",
       "      <td>42.08</td>\n",
       "    </tr>\n",
       "    <tr>\n",
       "      <th>4</th>\n",
       "      <td>FR</td>\n",
       "      <td>46.232193</td>\n",
       "      <td>2.209667</td>\n",
       "      <td>7682.9450</td>\n",
       "      <td>643801.0</td>\n",
       "      <td>fra</td>\n",
       "      <td>92.06</td>\n",
       "      <td>64.983</td>\n",
       "      <td>48.96</td>\n",
       "      <td>46.21</td>\n",
       "    </tr>\n",
       "    <tr>\n",
       "      <th>5</th>\n",
       "      <td>GB</td>\n",
       "      <td>54.633220</td>\n",
       "      <td>-3.432277</td>\n",
       "      <td>6883.6590</td>\n",
       "      <td>243610.0</td>\n",
       "      <td>eng</td>\n",
       "      <td>0.00</td>\n",
       "      <td>63.840</td>\n",
       "      <td>52.02</td>\n",
       "      <td>45.84</td>\n",
       "    </tr>\n",
       "    <tr>\n",
       "      <th>6</th>\n",
       "      <td>IT</td>\n",
       "      <td>41.873990</td>\n",
       "      <td>12.564167</td>\n",
       "      <td>8636.6310</td>\n",
       "      <td>301340.0</td>\n",
       "      <td>ita</td>\n",
       "      <td>89.40</td>\n",
       "      <td>61.145</td>\n",
       "      <td>46.53</td>\n",
       "      <td>40.13</td>\n",
       "    </tr>\n",
       "    <tr>\n",
       "      <th>7</th>\n",
       "      <td>NL</td>\n",
       "      <td>52.133057</td>\n",
       "      <td>5.295250</td>\n",
       "      <td>7524.3203</td>\n",
       "      <td>41543.0</td>\n",
       "      <td>nld</td>\n",
       "      <td>63.22</td>\n",
       "      <td>16.848</td>\n",
       "      <td>47.89</td>\n",
       "      <td>40.08</td>\n",
       "    </tr>\n",
       "    <tr>\n",
       "      <th>8</th>\n",
       "      <td>PT</td>\n",
       "      <td>39.553444</td>\n",
       "      <td>-7.839319</td>\n",
       "      <td>7355.2534</td>\n",
       "      <td>92090.0</td>\n",
       "      <td>por</td>\n",
       "      <td>95.45</td>\n",
       "      <td>10.609</td>\n",
       "      <td>51.61</td>\n",
       "      <td>42.16</td>\n",
       "    </tr>\n",
       "    <tr>\n",
       "      <th>9</th>\n",
       "      <td>US</td>\n",
       "      <td>36.966427</td>\n",
       "      <td>-95.844030</td>\n",
       "      <td>0.0000</td>\n",
       "      <td>9826675.0</td>\n",
       "      <td>eng</td>\n",
       "      <td>0.00</td>\n",
       "      <td>325.132</td>\n",
       "      <td>53.92</td>\n",
       "      <td>43.83</td>\n",
       "    </tr>\n",
       "  </tbody>\n",
       "</table>\n",
       "</div>"
      ],
      "text/plain": [
       "  country_destination  lat_destination  lng_destination  distance_km  \\\n",
       "0                  AU       -26.853388       133.275160   15297.7440   \n",
       "1                  CA        62.393303       -96.818146    2828.1333   \n",
       "2                  DE        51.165707        10.452764    7879.5680   \n",
       "3                  ES        39.896027        -2.487694    7730.7240   \n",
       "4                  FR        46.232193         2.209667    7682.9450   \n",
       "5                  GB        54.633220        -3.432277    6883.6590   \n",
       "6                  IT        41.873990        12.564167    8636.6310   \n",
       "7                  NL        52.133057         5.295250    7524.3203   \n",
       "8                  PT        39.553444        -7.839319    7355.2534   \n",
       "9                  US        36.966427       -95.844030       0.0000   \n",
       "\n",
       "   destination_km2 destination_language   language_levenshtein_distance  \\\n",
       "0        7741220.0                   eng                           0.00   \n",
       "1        9984670.0                   eng                           0.00   \n",
       "2         357022.0                   deu                          72.61   \n",
       "3         505370.0                   spa                          92.25   \n",
       "4         643801.0                   fra                          92.06   \n",
       "5         243610.0                   eng                           0.00   \n",
       "6         301340.0                   ita                          89.40   \n",
       "7          41543.0                   nld                          63.22   \n",
       "8          92090.0                   por                          95.45   \n",
       "9        9826675.0                   eng                           0.00   \n",
       "\n",
       "   population_M  prc_young  avg_age  \n",
       "0        23.923      55.99    42.53  \n",
       "1        35.871      54.30    42.92  \n",
       "2        82.562      47.42    44.46  \n",
       "3        47.203      52.50    42.08  \n",
       "4        64.983      48.96    46.21  \n",
       "5        63.840      52.02    45.84  \n",
       "6        61.145      46.53    40.13  \n",
       "7        16.848      47.89    40.08  \n",
       "8        10.609      51.61    42.16  \n",
       "9       325.132      53.92    43.83  "
      ]
     },
     "execution_count": 2,
     "metadata": {},
     "output_type": "execute_result"
    }
   ],
   "source": [
    "countries_final_df = pd.read_pickle('./countries_age.pkl')\n",
    "countries_final_df"
   ]
  },
  {
   "cell_type": "markdown",
   "metadata": {},
   "source": [
    "-----------------------------------------------------\n",
    "## Train"
   ]
  },
  {
   "cell_type": "code",
   "execution_count": 3,
   "metadata": {
    "collapsed": false
   },
   "outputs": [
    {
     "name": "stdout",
     "output_type": "stream",
     "text": [
      "(213451, 16)\n",
      "<class 'pandas.core.frame.DataFrame'>\n",
      "RangeIndex: 213451 entries, 0 to 213450\n",
      "Data columns (total 16 columns):\n",
      "id                         213451 non-null object\n",
      "date_account_created       213451 non-null object\n",
      "timestamp_first_active     213451 non-null int64\n",
      "date_first_booking         88908 non-null object\n",
      "gender                     213451 non-null object\n",
      "age                        125461 non-null float64\n",
      "signup_method              213451 non-null object\n",
      "signup_flow                213451 non-null int64\n",
      "language                   213451 non-null object\n",
      "affiliate_channel          213451 non-null object\n",
      "affiliate_provider         213451 non-null object\n",
      "first_affiliate_tracked    207386 non-null object\n",
      "signup_app                 213451 non-null object\n",
      "first_device_type          213451 non-null object\n",
      "first_browser              213451 non-null object\n",
      "country_destination        213451 non-null object\n",
      "dtypes: float64(1), int64(2), object(13)\n",
      "memory usage: 26.1+ MB\n"
     ]
    }
   ],
   "source": [
    "_train_data_df = pd.read_csv('./assets/train_users_2.csv/train_users_2.csv')\n",
    "print _train_data_df.shape\n",
    "_train_data_df.info()"
   ]
  },
  {
   "cell_type": "markdown",
   "metadata": {},
   "source": [
    "---------------------------------"
   ]
  },
  {
   "cell_type": "code",
   "execution_count": 4,
   "metadata": {
    "collapsed": false
   },
   "outputs": [
    {
     "name": "stdout",
     "output_type": "stream",
     "text": [
      "(213451, 16)\n"
     ]
    },
    {
     "data": {
      "text/html": [
       "<div>\n",
       "<table border=\"1\" class=\"dataframe\">\n",
       "  <thead>\n",
       "    <tr style=\"text-align: right;\">\n",
       "      <th></th>\n",
       "      <th>id</th>\n",
       "      <th>date_account_created</th>\n",
       "      <th>timestamp_first_active</th>\n",
       "      <th>date_first_booking</th>\n",
       "      <th>gender</th>\n",
       "      <th>age</th>\n",
       "      <th>signup_method</th>\n",
       "      <th>signup_flow</th>\n",
       "      <th>language</th>\n",
       "      <th>affiliate_channel</th>\n",
       "      <th>affiliate_provider</th>\n",
       "      <th>first_affiliate_tracked</th>\n",
       "      <th>signup_app</th>\n",
       "      <th>first_device_type</th>\n",
       "      <th>first_browser</th>\n",
       "      <th>country_destination</th>\n",
       "    </tr>\n",
       "  </thead>\n",
       "  <tbody>\n",
       "    <tr>\n",
       "      <th>0</th>\n",
       "      <td>gxn3p5htnn</td>\n",
       "      <td>2010-06-28</td>\n",
       "      <td>20090319043255</td>\n",
       "      <td>NaN</td>\n",
       "      <td>-unknown-</td>\n",
       "      <td>NaN</td>\n",
       "      <td>facebook</td>\n",
       "      <td>0</td>\n",
       "      <td>en</td>\n",
       "      <td>direct</td>\n",
       "      <td>direct</td>\n",
       "      <td>untracked</td>\n",
       "      <td>Web</td>\n",
       "      <td>Mac Desktop</td>\n",
       "      <td>Chrome</td>\n",
       "      <td>NDF</td>\n",
       "    </tr>\n",
       "    <tr>\n",
       "      <th>1</th>\n",
       "      <td>820tgsjxq7</td>\n",
       "      <td>2011-05-25</td>\n",
       "      <td>20090523174809</td>\n",
       "      <td>NaN</td>\n",
       "      <td>MALE</td>\n",
       "      <td>38.0</td>\n",
       "      <td>facebook</td>\n",
       "      <td>0</td>\n",
       "      <td>en</td>\n",
       "      <td>seo</td>\n",
       "      <td>google</td>\n",
       "      <td>untracked</td>\n",
       "      <td>Web</td>\n",
       "      <td>Mac Desktop</td>\n",
       "      <td>Chrome</td>\n",
       "      <td>NDF</td>\n",
       "    </tr>\n",
       "    <tr>\n",
       "      <th>2</th>\n",
       "      <td>4ft3gnwmtx</td>\n",
       "      <td>2010-09-28</td>\n",
       "      <td>20090609231247</td>\n",
       "      <td>2010-08-02</td>\n",
       "      <td>FEMALE</td>\n",
       "      <td>56.0</td>\n",
       "      <td>basic</td>\n",
       "      <td>3</td>\n",
       "      <td>en</td>\n",
       "      <td>direct</td>\n",
       "      <td>direct</td>\n",
       "      <td>untracked</td>\n",
       "      <td>Web</td>\n",
       "      <td>Windows Desktop</td>\n",
       "      <td>IE</td>\n",
       "      <td>US</td>\n",
       "    </tr>\n",
       "    <tr>\n",
       "      <th>3</th>\n",
       "      <td>bjjt8pjhuk</td>\n",
       "      <td>2011-12-05</td>\n",
       "      <td>20091031060129</td>\n",
       "      <td>2012-09-08</td>\n",
       "      <td>FEMALE</td>\n",
       "      <td>42.0</td>\n",
       "      <td>facebook</td>\n",
       "      <td>0</td>\n",
       "      <td>en</td>\n",
       "      <td>direct</td>\n",
       "      <td>direct</td>\n",
       "      <td>untracked</td>\n",
       "      <td>Web</td>\n",
       "      <td>Mac Desktop</td>\n",
       "      <td>Firefox</td>\n",
       "      <td>other</td>\n",
       "    </tr>\n",
       "    <tr>\n",
       "      <th>4</th>\n",
       "      <td>87mebub9p4</td>\n",
       "      <td>2010-09-14</td>\n",
       "      <td>20091208061105</td>\n",
       "      <td>2010-02-18</td>\n",
       "      <td>-unknown-</td>\n",
       "      <td>41.0</td>\n",
       "      <td>basic</td>\n",
       "      <td>0</td>\n",
       "      <td>en</td>\n",
       "      <td>direct</td>\n",
       "      <td>direct</td>\n",
       "      <td>untracked</td>\n",
       "      <td>Web</td>\n",
       "      <td>Mac Desktop</td>\n",
       "      <td>Chrome</td>\n",
       "      <td>US</td>\n",
       "    </tr>\n",
       "  </tbody>\n",
       "</table>\n",
       "</div>"
      ],
      "text/plain": [
       "           id date_account_created  timestamp_first_active date_first_booking  \\\n",
       "0  gxn3p5htnn           2010-06-28          20090319043255                NaN   \n",
       "1  820tgsjxq7           2011-05-25          20090523174809                NaN   \n",
       "2  4ft3gnwmtx           2010-09-28          20090609231247         2010-08-02   \n",
       "3  bjjt8pjhuk           2011-12-05          20091031060129         2012-09-08   \n",
       "4  87mebub9p4           2010-09-14          20091208061105         2010-02-18   \n",
       "\n",
       "      gender   age signup_method  signup_flow language affiliate_channel  \\\n",
       "0  -unknown-   NaN      facebook            0       en            direct   \n",
       "1       MALE  38.0      facebook            0       en               seo   \n",
       "2     FEMALE  56.0         basic            3       en            direct   \n",
       "3     FEMALE  42.0      facebook            0       en            direct   \n",
       "4  -unknown-  41.0         basic            0       en            direct   \n",
       "\n",
       "  affiliate_provider first_affiliate_tracked signup_app first_device_type  \\\n",
       "0             direct               untracked        Web       Mac Desktop   \n",
       "1             google               untracked        Web       Mac Desktop   \n",
       "2             direct               untracked        Web   Windows Desktop   \n",
       "3             direct               untracked        Web       Mac Desktop   \n",
       "4             direct               untracked        Web       Mac Desktop   \n",
       "\n",
       "  first_browser country_destination  \n",
       "0        Chrome                 NDF  \n",
       "1        Chrome                 NDF  \n",
       "2            IE                  US  \n",
       "3       Firefox               other  \n",
       "4        Chrome                  US  "
      ]
     },
     "execution_count": 4,
     "metadata": {},
     "output_type": "execute_result"
    }
   ],
   "source": [
    "train_data_df = _train_data_df.copy()\n",
    "print train_data_df.shape\n",
    "train_data_df.head()"
   ]
  },
  {
   "cell_type": "code",
   "execution_count": null,
   "metadata": {
    "collapsed": false
   },
   "outputs": [],
   "source": [
    "# train_data_df.country_destination.value_counts()\n",
    "# train_data_df[train_data_df.country_destination == 'NDF'].count()#.info()"
   ]
  },
  {
   "cell_type": "code",
   "execution_count": 10,
   "metadata": {
    "collapsed": false,
    "scrolled": false
   },
   "outputs": [
    {
     "data": {
      "text/html": [
       "<div>\n",
       "<table border=\"1\" class=\"dataframe\">\n",
       "  <thead>\n",
       "    <tr style=\"text-align: right;\">\n",
       "      <th></th>\n",
       "      <th>id</th>\n",
       "      <th>date_account_created</th>\n",
       "      <th>timestamp_first_active</th>\n",
       "      <th>date_first_booking</th>\n",
       "      <th>gender</th>\n",
       "      <th>age</th>\n",
       "      <th>signup_method</th>\n",
       "      <th>signup_flow</th>\n",
       "      <th>language</th>\n",
       "      <th>affiliate_channel</th>\n",
       "      <th>affiliate_provider</th>\n",
       "      <th>first_affiliate_tracked</th>\n",
       "      <th>signup_app</th>\n",
       "      <th>first_device_type</th>\n",
       "      <th>first_browser</th>\n",
       "      <th>country_destination</th>\n",
       "      <th>year_acc_created</th>\n",
       "      <th>month_acc_created</th>\n",
       "      <th>day_acc_created</th>\n",
       "      <th>dayofweek_acc_created</th>\n",
       "      <th>week_of_year_acc_created</th>\n",
       "      <th>year_1st_tmstmp</th>\n",
       "      <th>month_1st_tmstmp</th>\n",
       "      <th>day_1st_tmstmp</th>\n",
       "      <th>hour_1st_tmstmp</th>\n",
       "      <th>dayofyear_1st_tmstmp</th>\n",
       "      <th>week_of_year_1st_tmstmp</th>\n",
       "      <th>year_1st_booking</th>\n",
       "      <th>month_1st_booking</th>\n",
       "      <th>day_1st_booking</th>\n",
       "      <th>dayofweek_1st_booking</th>\n",
       "      <th>week_of_year_booking</th>\n",
       "      <th>daydf_accrtd_1bk</th>\n",
       "      <th>daydf_1tmstmp_accrtd</th>\n",
       "      <th>daydf_1tmstmp_1bk</th>\n",
       "    </tr>\n",
       "  </thead>\n",
       "  <tbody>\n",
       "    <tr>\n",
       "      <th>0</th>\n",
       "      <td>gxn3p5htnn</td>\n",
       "      <td>2010-06-28</td>\n",
       "      <td>2009-03-19 04:32:55</td>\n",
       "      <td>NaT</td>\n",
       "      <td>-unknown-</td>\n",
       "      <td>NaN</td>\n",
       "      <td>facebook</td>\n",
       "      <td>0</td>\n",
       "      <td>en</td>\n",
       "      <td>direct</td>\n",
       "      <td>direct</td>\n",
       "      <td>untracked</td>\n",
       "      <td>Web</td>\n",
       "      <td>Mac Desktop</td>\n",
       "      <td>Chrome</td>\n",
       "      <td>NDF</td>\n",
       "      <td>2010</td>\n",
       "      <td>6</td>\n",
       "      <td>28</td>\n",
       "      <td>0</td>\n",
       "      <td>26</td>\n",
       "      <td>2009</td>\n",
       "      <td>3</td>\n",
       "      <td>19</td>\n",
       "      <td>4</td>\n",
       "      <td>3</td>\n",
       "      <td>12</td>\n",
       "      <td>NaN</td>\n",
       "      <td>NaN</td>\n",
       "      <td>NaN</td>\n",
       "      <td>NaN</td>\n",
       "      <td>NaN</td>\n",
       "      <td>NaT</td>\n",
       "      <td>-466 days +04:32:55</td>\n",
       "      <td>NaT</td>\n",
       "    </tr>\n",
       "    <tr>\n",
       "      <th>1</th>\n",
       "      <td>820tgsjxq7</td>\n",
       "      <td>2011-05-25</td>\n",
       "      <td>2009-05-23 17:48:09</td>\n",
       "      <td>NaT</td>\n",
       "      <td>MALE</td>\n",
       "      <td>38.0</td>\n",
       "      <td>facebook</td>\n",
       "      <td>0</td>\n",
       "      <td>en</td>\n",
       "      <td>seo</td>\n",
       "      <td>google</td>\n",
       "      <td>untracked</td>\n",
       "      <td>Web</td>\n",
       "      <td>Mac Desktop</td>\n",
       "      <td>Chrome</td>\n",
       "      <td>NDF</td>\n",
       "      <td>2011</td>\n",
       "      <td>5</td>\n",
       "      <td>25</td>\n",
       "      <td>2</td>\n",
       "      <td>21</td>\n",
       "      <td>2009</td>\n",
       "      <td>5</td>\n",
       "      <td>23</td>\n",
       "      <td>17</td>\n",
       "      <td>5</td>\n",
       "      <td>21</td>\n",
       "      <td>NaN</td>\n",
       "      <td>NaN</td>\n",
       "      <td>NaN</td>\n",
       "      <td>NaN</td>\n",
       "      <td>NaN</td>\n",
       "      <td>NaT</td>\n",
       "      <td>-732 days +17:48:09</td>\n",
       "      <td>NaT</td>\n",
       "    </tr>\n",
       "  </tbody>\n",
       "</table>\n",
       "</div>"
      ],
      "text/plain": [
       "           id date_account_created timestamp_first_active date_first_booking  \\\n",
       "0  gxn3p5htnn           2010-06-28    2009-03-19 04:32:55                NaT   \n",
       "1  820tgsjxq7           2011-05-25    2009-05-23 17:48:09                NaT   \n",
       "\n",
       "      gender   age signup_method  signup_flow language affiliate_channel  \\\n",
       "0  -unknown-   NaN      facebook            0       en            direct   \n",
       "1       MALE  38.0      facebook            0       en               seo   \n",
       "\n",
       "  affiliate_provider first_affiliate_tracked signup_app first_device_type  \\\n",
       "0             direct               untracked        Web       Mac Desktop   \n",
       "1             google               untracked        Web       Mac Desktop   \n",
       "\n",
       "  first_browser country_destination  year_acc_created  month_acc_created  \\\n",
       "0        Chrome                 NDF              2010                  6   \n",
       "1        Chrome                 NDF              2011                  5   \n",
       "\n",
       "   day_acc_created  dayofweek_acc_created  week_of_year_acc_created  \\\n",
       "0               28                      0                        26   \n",
       "1               25                      2                        21   \n",
       "\n",
       "   year_1st_tmstmp  month_1st_tmstmp  day_1st_tmstmp  hour_1st_tmstmp  \\\n",
       "0             2009                 3              19                4   \n",
       "1             2009                 5              23               17   \n",
       "\n",
       "   dayofyear_1st_tmstmp  week_of_year_1st_tmstmp  year_1st_booking  \\\n",
       "0                     3                       12               NaN   \n",
       "1                     5                       21               NaN   \n",
       "\n",
       "   month_1st_booking  day_1st_booking  dayofweek_1st_booking  \\\n",
       "0                NaN              NaN                    NaN   \n",
       "1                NaN              NaN                    NaN   \n",
       "\n",
       "   week_of_year_booking  daydf_accrtd_1bk  daydf_1tmstmp_accrtd  \\\n",
       "0                   NaN               NaT   -466 days +04:32:55   \n",
       "1                   NaN               NaT   -732 days +17:48:09   \n",
       "\n",
       "   daydf_1tmstmp_1bk  \n",
       "0                NaT  \n",
       "1                NaT  "
      ]
     },
     "execution_count": 10,
     "metadata": {},
     "output_type": "execute_result"
    }
   ],
   "source": [
    "train_data_df.head(2)"
   ]
  },
  {
   "cell_type": "code",
   "execution_count": 11,
   "metadata": {
    "collapsed": false
   },
   "outputs": [
    {
     "data": {
      "text/plain": [
       "Index([u'gender', u'age', u'signup_method', u'signup_flow', u'language',\n",
       "       u'affiliate_channel', u'affiliate_provider', u'first_affiliate_tracked',\n",
       "       u'signup_app', u'first_device_type', u'first_browser'],\n",
       "      dtype='object')"
      ]
     },
     "execution_count": 11,
     "metadata": {},
     "output_type": "execute_result"
    }
   ],
   "source": [
    "columns = train_data_df.columns\n",
    "columns[4:15]"
   ]
  },
  {
   "cell_type": "code",
   "execution_count": 12,
   "metadata": {
    "collapsed": false,
    "scrolled": true
   },
   "outputs": [
    {
     "name": "stdout",
     "output_type": "stream",
     "text": [
      "gender total unique values:\n",
      "4\n",
      "gender unique values and count\n",
      "-unknown-    95688\n",
      "FEMALE       63041\n",
      "MALE         54440\n",
      "OTHER          282\n",
      "Name: gender, dtype: int64\n",
      "----------------------------------------------------------\n",
      "age total unique values:\n",
      "128\n",
      "age unique values and count\n",
      "30.0      6124\n",
      "31.0      6016\n",
      "29.0      5963\n",
      "28.0      5939\n",
      "32.0      5855\n",
      "27.0      5738\n",
      "33.0      5527\n",
      "26.0      5044\n",
      "34.0      5029\n",
      "35.0      4860\n",
      "25.0      4459\n",
      "36.0      4083\n",
      "37.0      3694\n",
      "38.0      3384\n",
      "24.0      3220\n",
      "39.0      2998\n",
      "40.0      2766\n",
      "41.0      2538\n",
      "23.0      2462\n",
      "42.0      2243\n",
      "45.0      2149\n",
      "44.0      2137\n",
      "43.0      2056\n",
      "46.0      1875\n",
      "22.0      1702\n",
      "47.0      1646\n",
      "48.0      1469\n",
      "50.0      1387\n",
      "51.0      1337\n",
      "49.0      1331\n",
      "          ... \n",
      "94.0        12\n",
      "97.0        10\n",
      "15.0         8\n",
      "2.0          7\n",
      "113.0        4\n",
      "4.0          3\n",
      "1932.0       3\n",
      "1949.0       3\n",
      "1931.0       3\n",
      "1947.0       2\n",
      "1936.0       2\n",
      "1.0          2\n",
      "1929.0       2\n",
      "1928.0       2\n",
      "111.0        2\n",
      "1924.0       2\n",
      "2008.0       1\n",
      "112.0        1\n",
      "132.0        1\n",
      "150.0        1\n",
      "1925.0       1\n",
      "1995.0       1\n",
      "1935.0       1\n",
      "1953.0       1\n",
      "1952.0       1\n",
      "1926.0       1\n",
      "1927.0       1\n",
      "1942.0       1\n",
      "1938.0       1\n",
      "1933.0       1\n",
      "Name: age, dtype: int64\n",
      "----------------------------------------------------------\n",
      "signup_method total unique values:\n",
      "3\n",
      "signup_method unique values and count\n",
      "basic       152897\n",
      "facebook     60008\n",
      "google         546\n",
      "Name: signup_method, dtype: int64\n",
      "----------------------------------------------------------\n",
      "signup_flow total unique values:\n",
      "17\n",
      "signup_flow unique values and count\n",
      "0     164739\n",
      "25     14659\n",
      "12      9329\n",
      "3       8822\n",
      "2       6881\n",
      "24      4328\n",
      "23      2835\n",
      "1       1047\n",
      "6        301\n",
      "8        240\n",
      "21       196\n",
      "5         36\n",
      "20        14\n",
      "16        11\n",
      "15        10\n",
      "10         2\n",
      "4          1\n",
      "Name: signup_flow, dtype: int64\n",
      "----------------------------------------------------------\n",
      "language total unique values:\n",
      "25\n",
      "language unique values and count\n",
      "en    206314\n",
      "zh      1632\n",
      "fr      1172\n",
      "es       915\n",
      "ko       747\n",
      "de       732\n",
      "it       514\n",
      "ru       389\n",
      "pt       240\n",
      "ja       225\n",
      "sv       122\n",
      "nl        97\n",
      "tr        64\n",
      "da        58\n",
      "pl        54\n",
      "cs        32\n",
      "no        30\n",
      "el        24\n",
      "th        24\n",
      "id        22\n",
      "hu        18\n",
      "fi        14\n",
      "is         5\n",
      "ca         5\n",
      "hr         2\n",
      "Name: language, dtype: int64\n",
      "----------------------------------------------------------\n",
      "affiliate_channel total unique values:\n",
      "8\n",
      "affiliate_channel unique values and count\n",
      "direct           137727\n",
      "sem-brand         26045\n",
      "sem-non-brand     18844\n",
      "other              8961\n",
      "seo                8663\n",
      "api                8167\n",
      "content            3948\n",
      "remarketing        1096\n",
      "Name: affiliate_channel, dtype: int64\n",
      "----------------------------------------------------------\n",
      "affiliate_provider total unique values:\n",
      "18\n",
      "affiliate_provider unique values and count\n",
      "direct                 137426\n",
      "google                  51693\n",
      "other                   12549\n",
      "craigslist               3471\n",
      "bing                     2328\n",
      "facebook                 2273\n",
      "vast                      829\n",
      "padmapper                 768\n",
      "facebook-open-graph       545\n",
      "yahoo                     496\n",
      "gsp                       453\n",
      "meetup                    347\n",
      "email-marketing           166\n",
      "naver                      52\n",
      "baidu                      29\n",
      "yandex                     17\n",
      "wayn                        8\n",
      "daum                        1\n",
      "Name: affiliate_provider, dtype: int64\n",
      "----------------------------------------------------------\n",
      "first_affiliate_tracked total unique values:\n",
      "8\n",
      "first_affiliate_tracked unique values and count\n",
      "untracked        109232\n",
      "linked            46287\n",
      "omg               43982\n",
      "tracked-other      6156\n",
      "product            1556\n",
      "marketing           139\n",
      "local ops            34\n",
      "Name: first_affiliate_tracked, dtype: int64\n",
      "----------------------------------------------------------\n",
      "signup_app total unique values:\n",
      "4\n",
      "signup_app unique values and count\n",
      "Web        182717\n",
      "iOS         19019\n",
      "Moweb        6261\n",
      "Android      5454\n",
      "Name: signup_app, dtype: int64\n",
      "----------------------------------------------------------\n",
      "first_device_type total unique values:\n",
      "9\n",
      "first_device_type unique values and count\n",
      "Mac Desktop           89600\n",
      "Windows Desktop       72716\n",
      "iPhone                20759\n",
      "iPad                  14339\n",
      "Other/Unknown         10667\n",
      "Android Phone          2803\n",
      "Android Tablet         1292\n",
      "Desktop (Other)        1199\n",
      "SmartPhone (Other)       76\n",
      "Name: first_device_type, dtype: int64\n",
      "----------------------------------------------------------\n",
      "first_browser total unique values:\n",
      "52\n",
      "first_browser unique values and count\n",
      "Chrome                  63845\n",
      "Safari                  45169\n",
      "Firefox                 33655\n",
      "-unknown-               27266\n",
      "IE                      21068\n",
      "Mobile Safari           19274\n",
      "Chrome Mobile            1270\n",
      "Android Browser           851\n",
      "AOL Explorer              245\n",
      "Opera                     188\n",
      "Silk                      124\n",
      "Chromium                   73\n",
      "BlackBerry Browser         53\n",
      "Maxthon                    46\n",
      "IE Mobile                  36\n",
      "Apple Mail                 36\n",
      "Sogou Explorer             33\n",
      "Mobile Firefox             30\n",
      "SiteKiosk                  24\n",
      "RockMelt                   24\n",
      "Iron                       17\n",
      "IceWeasel                  13\n",
      "Pale Moon                  12\n",
      "Yandex.Browser             11\n",
      "SeaMonkey                  11\n",
      "CometBird                  11\n",
      "Camino                      9\n",
      "TenFourFox                  8\n",
      "wOSBrowser                  6\n",
      "CoolNovo                    6\n",
      "Avant Browser               4\n",
      "Opera Mini                  4\n",
      "Mozilla                     3\n",
      "Comodo Dragon               2\n",
      "Flock                       2\n",
      "Opera Mobile                2\n",
      "SlimBrowser                 2\n",
      "OmniWeb                     2\n",
      "Crazy Browser               2\n",
      "TheWorld Browser            2\n",
      "PS Vita browser             1\n",
      "Googlebot                   1\n",
      "IceDragon                   1\n",
      "Stainless                   1\n",
      "Conkeror                    1\n",
      "Outlook 2007                1\n",
      "Palm Pre web browser        1\n",
      "Kindle Browser              1\n",
      "Epic                        1\n",
      "Google Earth                1\n",
      "Arora                       1\n",
      "NetNewsWire                 1\n",
      "Name: first_browser, dtype: int64\n",
      "----------------------------------------------------------\n"
     ]
    }
   ],
   "source": [
    "for col in columns[4:15]:\n",
    "    print col, 'total unique values:'\n",
    "    print len(train_data_df[col].unique())\n",
    "    print col, \"unique values and count\"\n",
    "    print train_data_df[col].value_counts()\n",
    "    print '----------------------------------------------------------'"
   ]
  },
  {
   "cell_type": "code",
   "execution_count": 31,
   "metadata": {
    "collapsed": false,
    "scrolled": true
   },
   "outputs": [
    {
     "data": {
      "text/plain": [
       "untracked        115297\n",
       "linked            46287\n",
       "omg               43982\n",
       "tracked-other      6156\n",
       "product            1556\n",
       "marketing           139\n",
       "local ops            34\n",
       "Name: first_affiliate_tracked, dtype: int64"
      ]
     },
     "execution_count": 31,
     "metadata": {},
     "output_type": "execute_result"
    }
   ],
   "source": [
    "train_data_df.first_affiliate_tracked.value_counts(dropna=False)"
   ]
  },
  {
   "cell_type": "code",
   "execution_count": 30,
   "metadata": {
    "collapsed": false
   },
   "outputs": [],
   "source": [
    "train_data_df.first_affiliate_tracked.fillna('untracked',inplace=True)"
   ]
  },
  {
   "cell_type": "code",
   "execution_count": null,
   "metadata": {
    "collapsed": false
   },
   "outputs": [],
   "source": [
    "# dict(zip(*np.unique(train_data_df['first_browser'],return_counts=True)))\n",
    "# zip(*np.unique(d,return_counts=True))"
   ]
  },
  {
   "cell_type": "code",
   "execution_count": null,
   "metadata": {
    "collapsed": false
   },
   "outputs": [],
   "source": [
    "# train_data_df['affiliate_provider'].mask()"
   ]
  },
  {
   "cell_type": "code",
   "execution_count": null,
   "metadata": {
    "collapsed": true
   },
   "outputs": [],
   "source": [
    "# def change_to_other(cell, _list):\n",
    "#     if cell in _list:\n",
    "#         cell = 'Other'"
   ]
  },
  {
   "cell_type": "markdown",
   "metadata": {},
   "source": [
    "### Fixing date columns"
   ]
  },
  {
   "cell_type": "code",
   "execution_count": 5,
   "metadata": {
    "collapsed": false
   },
   "outputs": [
    {
     "data": {
      "text/plain": [
       "id                              0\n",
       "date_account_created            0\n",
       "timestamp_first_active          0\n",
       "date_first_booking         124543\n",
       "gender                          0\n",
       "age                         87990\n",
       "signup_method                   0\n",
       "signup_flow                     0\n",
       "language                        0\n",
       "affiliate_channel               0\n",
       "affiliate_provider              0\n",
       "first_affiliate_tracked      6065\n",
       "signup_app                      0\n",
       "first_device_type               0\n",
       "first_browser                   0\n",
       "country_destination             0\n",
       "dtype: int64"
      ]
     },
     "execution_count": 5,
     "metadata": {},
     "output_type": "execute_result"
    }
   ],
   "source": [
    "train_data_df.isnull().sum()"
   ]
  },
  {
   "cell_type": "code",
   "execution_count": 6,
   "metadata": {
    "collapsed": false
   },
   "outputs": [
    {
     "name": "stdout",
     "output_type": "stream",
     "text": [
      "<type 'str'>\n",
      "<type 'numpy.int64'>\n",
      "<type 'str'>\n"
     ]
    }
   ],
   "source": [
    "print type(train_data_df['date_account_created'][0])\n",
    "print type(train_data_df['timestamp_first_active'][0])\n",
    "print type(train_data_df['date_first_booking'][2])"
   ]
  },
  {
   "cell_type": "code",
   "execution_count": 7,
   "metadata": {
    "collapsed": false
   },
   "outputs": [
    {
     "name": "stdout",
     "output_type": "stream",
     "text": [
      "2010-06-28\n",
      "20090319043255\n",
      "2010-08-02\n"
     ]
    }
   ],
   "source": [
    "print train_data_df['date_account_created'][0]\n",
    "print train_data_df['timestamp_first_active'][0]\n",
    "print train_data_df['date_first_booking'][2]"
   ]
  },
  {
   "cell_type": "code",
   "execution_count": 8,
   "metadata": {
    "collapsed": false
   },
   "outputs": [],
   "source": [
    "train_data_df['date_account_created'] = pd.to_datetime(train_data_df['date_account_created'])\n",
    "train_data_df['year_acc_created'] = train_data_df.date_account_created.dt.year\n",
    "train_data_df['month_acc_created'] = train_data_df.date_account_created.dt.month\n",
    "train_data_df['day_acc_created'] = train_data_df.date_account_created.dt.day\n",
    "train_data_df['dayofweek_acc_created'] = train_data_df.date_account_created.dt.dayofweek\n",
    "train_data_df['week_of_year_acc_created'] = train_data_df.date_account_created.dt.weekofyear\n",
    "\n",
    "tmstmp = train_data_df['timestamp_first_active'].astype(str)\n",
    "train_data_df['timestamp_first_active'] = tmstmp.apply(lambda x: datetime.strptime(x, \"%Y%m%d%H%M%S\"))\n",
    "train_data_df['year_1st_tmstmp'] = train_data_df.timestamp_first_active.dt.year\n",
    "train_data_df['month_1st_tmstmp'] = train_data_df.timestamp_first_active.dt.month\n",
    "train_data_df['day_1st_tmstmp'] = train_data_df.timestamp_first_active.dt.day\n",
    "train_data_df['hour_1st_tmstmp'] = train_data_df.timestamp_first_active.dt.hour\n",
    "train_data_df['dayofyear_1st_tmstmp'] = train_data_df.timestamp_first_active.dt.dayofweek\n",
    "train_data_df['week_of_year_1st_tmstmp'] = train_data_df.timestamp_first_active.dt.weekofyear\n",
    "\n",
    "train_data_df['date_first_booking'] = pd.to_datetime(train_data_df['date_first_booking'])\n",
    "train_data_df['year_1st_booking'] = train_data_df.date_first_booking.dt.year\n",
    "train_data_df['month_1st_booking'] = train_data_df.date_first_booking.dt.month\n",
    "train_data_df['day_1st_booking'] = train_data_df.date_first_booking.dt.day\n",
    "train_data_df['dayofweek_1st_booking'] = train_data_df.date_first_booking.dt.dayofweek\n",
    "train_data_df['week_of_year_booking'] = train_data_df.date_first_booking.dt.weekofyear\n",
    "\n",
    "train_data_df['daydf_accrtd_1bk'] = (train_data_df.date_account_created - train_data_df.date_first_booking)#/86400.00\n",
    "train_data_df['daydf_1tmstmp_accrtd'] = (train_data_df.timestamp_first_active - train_data_df.date_account_created)#/86400.00\n",
    "train_data_df['daydf_1tmstmp_1bk'] = (train_data_df.timestamp_first_active - train_data_df.date_first_booking)#/86400.00"
   ]
  },
  {
   "cell_type": "code",
   "execution_count": 36,
   "metadata": {
    "collapsed": true
   },
   "outputs": [],
   "source": [
    "train_data_df.drop(['date_account_created', 'timestamp_first_active', 'date_first_booking'],axis=1,inplace=True)"
   ]
  },
  {
   "cell_type": "code",
   "execution_count": 9,
   "metadata": {
    "collapsed": false
   },
   "outputs": [
    {
     "name": "stdout",
     "output_type": "stream",
     "text": [
      "<class 'pandas.core.frame.DataFrame'>\n",
      "RangeIndex: 213451 entries, 0 to 213450\n",
      "Data columns (total 35 columns):\n",
      "id                          213451 non-null object\n",
      "date_account_created        213451 non-null datetime64[ns]\n",
      "timestamp_first_active      213451 non-null datetime64[ns]\n",
      "date_first_booking          88908 non-null datetime64[ns]\n",
      "gender                      213451 non-null object\n",
      "age                         125461 non-null float64\n",
      "signup_method               213451 non-null object\n",
      "signup_flow                 213451 non-null int64\n",
      "language                    213451 non-null object\n",
      "affiliate_channel           213451 non-null object\n",
      "affiliate_provider          213451 non-null object\n",
      "first_affiliate_tracked     207386 non-null object\n",
      "signup_app                  213451 non-null object\n",
      "first_device_type           213451 non-null object\n",
      "first_browser               213451 non-null object\n",
      "country_destination         213451 non-null object\n",
      "year_acc_created            213451 non-null int64\n",
      "month_acc_created           213451 non-null int64\n",
      "day_acc_created             213451 non-null int64\n",
      "dayofweek_acc_created       213451 non-null int64\n",
      "week_of_year_acc_created    213451 non-null int64\n",
      "year_1st_tmstmp             213451 non-null int64\n",
      "month_1st_tmstmp            213451 non-null int64\n",
      "day_1st_tmstmp              213451 non-null int64\n",
      "hour_1st_tmstmp             213451 non-null int64\n",
      "dayofyear_1st_tmstmp        213451 non-null int64\n",
      "week_of_year_1st_tmstmp     213451 non-null int64\n",
      "year_1st_booking            88908 non-null float64\n",
      "month_1st_booking           88908 non-null float64\n",
      "day_1st_booking             88908 non-null float64\n",
      "dayofweek_1st_booking       88908 non-null float64\n",
      "week_of_year_booking        88908 non-null float64\n",
      "daydf_accrtd_1bk            88908 non-null timedelta64[ns]\n",
      "daydf_1tmstmp_accrtd        213451 non-null timedelta64[ns]\n",
      "daydf_1tmstmp_1bk           88908 non-null timedelta64[ns]\n",
      "dtypes: datetime64[ns](3), float64(6), int64(12), object(11), timedelta64[ns](3)\n",
      "memory usage: 57.0+ MB\n"
     ]
    }
   ],
   "source": [
    "train_data_df.info()"
   ]
  },
  {
   "cell_type": "markdown",
   "metadata": {},
   "source": [
    "------------------"
   ]
  },
  {
   "cell_type": "markdown",
   "metadata": {},
   "source": [
    "### Cleaning age column and creating age buckets"
   ]
  },
  {
   "cell_type": "code",
   "execution_count": 19,
   "metadata": {
    "collapsed": false
   },
   "outputs": [],
   "source": [
    "train_data_df.age.fillna(-1,inplace=True)\n",
    "age_group = []\n",
    "age_bckts = [21,25,28,32,37,45,55,65,75]\n",
    "for cell in train_data_df.age:\n",
    "#     print cell\n",
    "    if cell< 0:\n",
    "        aggp = '-unknown-'\n",
    "#         age_group.append(aggp)\n",
    "    elif (cell < 15) or (cell > 1900):\n",
    "        if (cell< 15) or (cell>1998):#data is from 2014, minimum age for travel is assumed 15.\n",
    "            aggp = 'Mistake'\n",
    "#             print aggp\n",
    "#             age_group.append(aggp)\n",
    "#             break\n",
    "        else:\n",
    "            cell == 2014 - cell\n",
    "    elif cell<=21:\n",
    "            aggp = '15-21'\n",
    "    elif cell>75:\n",
    "            aggp = '75+'\n",
    "    else:\n",
    "        for i, agbkt in enumerate(age_bckts):\n",
    "            if cell<=agbkt:\n",
    "                aggp = str(age_bckts[i-1])+'-'+str(agbkt)\n",
    "                break\n",
    "    age_group.append(aggp)\n",
    "train_data_df['age_bckts'] = age_group\n",
    "# CC = [22,36,76,54,44,21,11,2,-1,-2,1923,2012,88,23]"
   ]
  },
  {
   "cell_type": "code",
   "execution_count": 20,
   "metadata": {
    "collapsed": false,
    "scrolled": false
   },
   "outputs": [
    {
     "data": {
      "text/plain": [
       "array(['-unknown-', '37-45', '55-65', '45-55', '32-37', '28-32', '25-28',\n",
       "       '15-21', '21-25', '65-75', 'Mistake', '75+'], dtype=object)"
      ]
     },
     "execution_count": 20,
     "metadata": {},
     "output_type": "execute_result"
    }
   ],
   "source": [
    "train_data_df.age_bckts.unique()"
   ]
  },
  {
   "cell_type": "markdown",
   "metadata": {},
   "source": [
    "### Reducing number of features of some columns"
   ]
  },
  {
   "cell_type": "markdown",
   "metadata": {},
   "source": [
    "#### Browser"
   ]
  },
  {
   "cell_type": "code",
   "execution_count": 22,
   "metadata": {
    "collapsed": false
   },
   "outputs": [],
   "source": [
    "brow_cnt = zip(train_data_df['first_browser'].value_counts().index, train_data_df['first_browser'].value_counts().values)\n",
    "brow_other = [x[0] for x in brow_cnt if x[1]<150]\n",
    "train_data_df.first_browser = train_data_df.first_browser.apply(lambda x: 'Other' if x in brow_other else x)"
   ]
  },
  {
   "cell_type": "code",
   "execution_count": 23,
   "metadata": {
    "collapsed": true
   },
   "outputs": [
    {
     "data": {
      "text/plain": [
       "array(['Chrome', 'IE', 'Firefox', 'Safari', '-unknown-', 'Mobile Safari',\n",
       "       'Chrome Mobile', 'Other', 'Android Browser', 'AOL Explorer', 'Opera'], dtype=object)"
      ]
     },
     "execution_count": 23,
     "metadata": {},
     "output_type": "execute_result"
    }
   ],
   "source": [
    "train_data_df.first_browser.unique()"
   ]
  },
  {
   "cell_type": "markdown",
   "metadata": {},
   "source": [
    "#### Affiliate provider "
   ]
  },
  {
   "cell_type": "code",
   "execution_count": null,
   "metadata": {
    "collapsed": false
   },
   "outputs": [],
   "source": [
    "# df_tt['n_null'] = np.array([sum(r == -1) for r in df_tt.values])\n",
    "# df_tt"
   ]
  },
  {
   "cell_type": "code",
   "execution_count": 24,
   "metadata": {
    "collapsed": false
   },
   "outputs": [],
   "source": [
    "affprov_cnt = zip(train_data_df['affiliate_provider'].value_counts().index,\n",
    "                  train_data_df['affiliate_provider'].value_counts().values)\n",
    "affprov_other = [x[0] for x in affprov_cnt if x[1]<100]\n",
    "train_data_df.affiliate_provider = train_data_df.affiliate_provider.apply(lambda x: 'Other' if x in affprov_other else x)"
   ]
  },
  {
   "cell_type": "code",
   "execution_count": 25,
   "metadata": {
    "collapsed": false,
    "scrolled": true
   },
   "outputs": [
    {
     "data": {
      "text/plain": [
       "array(['direct', 'google', 'other', 'craigslist', 'facebook', 'vast',\n",
       "       'bing', 'meetup', 'facebook-open-graph', 'email-marketing', 'yahoo',\n",
       "       'padmapper', 'gsp', 'Other'], dtype=object)"
      ]
     },
     "execution_count": 25,
     "metadata": {},
     "output_type": "execute_result"
    }
   ],
   "source": [
    "train_data_df.affiliate_provider.unique()"
   ]
  },
  {
   "cell_type": "code",
   "execution_count": 32,
   "metadata": {
    "collapsed": false
   },
   "outputs": [
    {
     "name": "stdout",
     "output_type": "stream",
     "text": [
      "(78814, 45)\n",
      "<class 'pandas.core.frame.DataFrame'>\n",
      "Int64Index: 78814 entries, 0 to 78813\n",
      "Data columns (total 45 columns):\n",
      "id                               78814 non-null object\n",
      "date_account_created             78814 non-null datetime64[ns]\n",
      "timestamp_first_active           78814 non-null datetime64[ns]\n",
      "date_first_booking               78814 non-null datetime64[ns]\n",
      "gender                           78814 non-null object\n",
      "age                              78814 non-null float64\n",
      "signup_method                    78814 non-null object\n",
      "signup_flow                      78814 non-null int64\n",
      "language                         78814 non-null object\n",
      "affiliate_channel                78814 non-null object\n",
      "affiliate_provider               78814 non-null object\n",
      "first_affiliate_tracked          78814 non-null object\n",
      "signup_app                       78814 non-null object\n",
      "first_device_type                78814 non-null object\n",
      "first_browser                    78814 non-null object\n",
      "country_destination              78814 non-null object\n",
      "year_acc_created                 78814 non-null int64\n",
      "month_acc_created                78814 non-null int64\n",
      "day_acc_created                  78814 non-null int64\n",
      "dayofweek_acc_created            78814 non-null int64\n",
      "week_of_year_acc_created         78814 non-null int64\n",
      "year_1st_tmstmp                  78814 non-null int64\n",
      "month_1st_tmstmp                 78814 non-null int64\n",
      "day_1st_tmstmp                   78814 non-null int64\n",
      "hour_1st_tmstmp                  78814 non-null int64\n",
      "dayofyear_1st_tmstmp             78814 non-null int64\n",
      "week_of_year_1st_tmstmp          78814 non-null int64\n",
      "year_1st_booking                 78814 non-null float64\n",
      "month_1st_booking                78814 non-null float64\n",
      "day_1st_booking                  78814 non-null float64\n",
      "dayofweek_1st_booking            78814 non-null float64\n",
      "week_of_year_booking             78814 non-null float64\n",
      "daydf_accrtd_1bk                 78814 non-null timedelta64[ns]\n",
      "daydf_1tmstmp_accrtd             78814 non-null timedelta64[ns]\n",
      "daydf_1tmstmp_1bk                78814 non-null timedelta64[ns]\n",
      "age_bckts                        78814 non-null object\n",
      "lat_destination                  78814 non-null float64\n",
      "lng_destination                  78814 non-null float64\n",
      "distance_km                      78814 non-null float64\n",
      "destination_km2                  78814 non-null float64\n",
      "destination_language             78814 non-null object\n",
      "language_levenshtein_distance    78814 non-null float64\n",
      "population_M                     78814 non-null float64\n",
      "prc_young                        78814 non-null float64\n",
      "avg_age                          78814 non-null float64\n",
      "dtypes: datetime64[ns](3), float64(14), int64(12), object(13), timedelta64[ns](3)\n",
      "memory usage: 27.7+ MB\n"
     ]
    }
   ],
   "source": [
    "airbnb_data = pd.merge(train_data_df,countries_final_df,on='country_destination')\n",
    "print airbnb_data.shape\n",
    "airbnb_data.info()"
   ]
  },
  {
   "cell_type": "code",
   "execution_count": 33,
   "metadata": {
    "collapsed": true
   },
   "outputs": [],
   "source": [
    "airbnb_data.to_csv('airbnb_data')"
   ]
  },
  {
   "cell_type": "markdown",
   "metadata": {},
   "source": [
    "## Modelling"
   ]
  },
  {
   "cell_type": "code",
   "execution_count": null,
   "metadata": {
    "collapsed": true
   },
   "outputs": [],
   "source": [
    "# train_data_df = train_data_df.fillna(-1)  #Inputing this kind of missing value with -1 (missing values in train and test)\n",
    "# train_data_df = train_data_df.replace('-unknown-', -1) #-unknown is another way of missing value, then = -1."
   ]
  },
  {
   "cell_type": "code",
   "execution_count": 34,
   "metadata": {
    "collapsed": false
   },
   "outputs": [],
   "source": [
    "y = airbnb_data['country_destination']\n",
    "airbnb_data.drop('country_destination',axis=1,inplace=True)\n",
    "# users = train_data_df['id']\n",
    "# train_data_df.drop('id',axis=1,inplace=True)"
   ]
  },
  {
   "cell_type": "code",
   "execution_count": 37,
   "metadata": {
    "collapsed": false,
    "scrolled": true
   },
   "outputs": [
    {
     "name": "stdout",
     "output_type": "stream",
     "text": [
      "<class 'pandas.core.frame.DataFrame'>\n",
      "Int64Index: 78814 entries, 0 to 78813\n",
      "Data columns (total 44 columns):\n",
      "id                               78814 non-null object\n",
      "date_account_created             78814 non-null datetime64[ns]\n",
      "timestamp_first_active           78814 non-null datetime64[ns]\n",
      "date_first_booking               78814 non-null datetime64[ns]\n",
      "gender                           78814 non-null object\n",
      "age                              78814 non-null float64\n",
      "signup_method                    78814 non-null object\n",
      "signup_flow                      78814 non-null int64\n",
      "language                         78814 non-null object\n",
      "affiliate_channel                78814 non-null object\n",
      "affiliate_provider               78814 non-null object\n",
      "first_affiliate_tracked          78814 non-null object\n",
      "signup_app                       78814 non-null object\n",
      "first_device_type                78814 non-null object\n",
      "first_browser                    78814 non-null object\n",
      "year_acc_created                 78814 non-null int64\n",
      "month_acc_created                78814 non-null int64\n",
      "day_acc_created                  78814 non-null int64\n",
      "dayofweek_acc_created            78814 non-null int64\n",
      "week_of_year_acc_created         78814 non-null int64\n",
      "year_1st_tmstmp                  78814 non-null int64\n",
      "month_1st_tmstmp                 78814 non-null int64\n",
      "day_1st_tmstmp                   78814 non-null int64\n",
      "hour_1st_tmstmp                  78814 non-null int64\n",
      "dayofyear_1st_tmstmp             78814 non-null int64\n",
      "week_of_year_1st_tmstmp          78814 non-null int64\n",
      "year_1st_booking                 78814 non-null float64\n",
      "month_1st_booking                78814 non-null float64\n",
      "day_1st_booking                  78814 non-null float64\n",
      "dayofweek_1st_booking            78814 non-null float64\n",
      "week_of_year_booking             78814 non-null float64\n",
      "daydf_accrtd_1bk                 78814 non-null timedelta64[ns]\n",
      "daydf_1tmstmp_accrtd             78814 non-null timedelta64[ns]\n",
      "daydf_1tmstmp_1bk                78814 non-null timedelta64[ns]\n",
      "age_bckts                        78814 non-null object\n",
      "lat_destination                  78814 non-null float64\n",
      "lng_destination                  78814 non-null float64\n",
      "distance_km                      78814 non-null float64\n",
      "destination_km2                  78814 non-null float64\n",
      "destination_language             78814 non-null object\n",
      "language_levenshtein_distance    78814 non-null float64\n",
      "population_M                     78814 non-null float64\n",
      "prc_young                        78814 non-null float64\n",
      "avg_age                          78814 non-null float64\n",
      "dtypes: datetime64[ns](3), float64(14), int64(12), object(12), timedelta64[ns](3)\n",
      "memory usage: 27.1+ MB\n"
     ]
    }
   ],
   "source": [
    "X = airbnb_data.copy()\n",
    "X.info()"
   ]
  },
  {
   "cell_type": "code",
   "execution_count": 42,
   "metadata": {
    "collapsed": false
   },
   "outputs": [],
   "source": [
    "# _X = X.dtypes.index\n",
    "_x = [col for col in X.columns if X[col].dtype=='O']\n",
    "_X = X[_x]"
   ]
  },
  {
   "cell_type": "code",
   "execution_count": 43,
   "metadata": {
    "collapsed": false
   },
   "outputs": [
    {
     "ename": "MemoryError",
     "evalue": "",
     "output_type": "error",
     "traceback": [
      "\u001b[0;31m---------------------------------------------------------------------------\u001b[0m",
      "\u001b[0;31mMemoryError\u001b[0m                               Traceback (most recent call last)",
      "\u001b[0;32m<ipython-input-43-bc6d9f7f9a8a>\u001b[0m in \u001b[0;36m<module>\u001b[0;34m()\u001b[0m\n\u001b[0;32m----> 1\u001b[0;31m \u001b[0mX\u001b[0m \u001b[1;33m=\u001b[0m \u001b[0mpd\u001b[0m\u001b[1;33m.\u001b[0m\u001b[0mget_dummies\u001b[0m\u001b[1;33m(\u001b[0m\u001b[0m_X\u001b[0m\u001b[1;33m,\u001b[0m\u001b[0mdummy_na\u001b[0m\u001b[1;33m=\u001b[0m\u001b[0mTrue\u001b[0m\u001b[1;33m)\u001b[0m\u001b[1;33m\u001b[0m\u001b[0m\n\u001b[0m",
      "\u001b[0;32mC:\\Users\\ali\\Anaconda2\\lib\\site-packages\\pandas\\core\\reshape.pyc\u001b[0m in \u001b[0;36mget_dummies\u001b[0;34m(data, prefix, prefix_sep, dummy_na, columns, sparse, drop_first)\u001b[0m\n\u001b[1;32m   1091\u001b[0m             dummy = _get_dummies_1d(data[col], prefix=pre, prefix_sep=sep,\n\u001b[1;32m   1092\u001b[0m                                     \u001b[0mdummy_na\u001b[0m\u001b[1;33m=\u001b[0m\u001b[0mdummy_na\u001b[0m\u001b[1;33m,\u001b[0m \u001b[0msparse\u001b[0m\u001b[1;33m=\u001b[0m\u001b[0msparse\u001b[0m\u001b[1;33m,\u001b[0m\u001b[1;33m\u001b[0m\u001b[0m\n\u001b[0;32m-> 1093\u001b[0;31m                                     drop_first=drop_first)\n\u001b[0m\u001b[1;32m   1094\u001b[0m             \u001b[0mwith_dummies\u001b[0m\u001b[1;33m.\u001b[0m\u001b[0mappend\u001b[0m\u001b[1;33m(\u001b[0m\u001b[0mdummy\u001b[0m\u001b[1;33m)\u001b[0m\u001b[1;33m\u001b[0m\u001b[0m\n\u001b[1;32m   1095\u001b[0m         \u001b[0mresult\u001b[0m \u001b[1;33m=\u001b[0m \u001b[0mconcat\u001b[0m\u001b[1;33m(\u001b[0m\u001b[0mwith_dummies\u001b[0m\u001b[1;33m,\u001b[0m \u001b[0maxis\u001b[0m\u001b[1;33m=\u001b[0m\u001b[1;36m1\u001b[0m\u001b[1;33m)\u001b[0m\u001b[1;33m\u001b[0m\u001b[0m\n",
      "\u001b[0;32mC:\\Users\\ali\\Anaconda2\\lib\\site-packages\\pandas\\core\\reshape.pyc\u001b[0m in \u001b[0;36m_get_dummies_1d\u001b[0;34m(data, prefix, prefix_sep, dummy_na, sparse, drop_first)\u001b[0m\n\u001b[1;32m   1164\u001b[0m \u001b[1;33m\u001b[0m\u001b[0m\n\u001b[1;32m   1165\u001b[0m     \u001b[1;32melse\u001b[0m\u001b[1;33m:\u001b[0m\u001b[1;33m\u001b[0m\u001b[0m\n\u001b[0;32m-> 1166\u001b[0;31m         \u001b[0mdummy_mat\u001b[0m \u001b[1;33m=\u001b[0m \u001b[0mnp\u001b[0m\u001b[1;33m.\u001b[0m\u001b[0meye\u001b[0m\u001b[1;33m(\u001b[0m\u001b[0mnumber_of_cols\u001b[0m\u001b[1;33m)\u001b[0m\u001b[1;33m.\u001b[0m\u001b[0mtake\u001b[0m\u001b[1;33m(\u001b[0m\u001b[0mcodes\u001b[0m\u001b[1;33m,\u001b[0m \u001b[0maxis\u001b[0m\u001b[1;33m=\u001b[0m\u001b[1;36m0\u001b[0m\u001b[1;33m)\u001b[0m\u001b[1;33m\u001b[0m\u001b[0m\n\u001b[0m\u001b[1;32m   1167\u001b[0m \u001b[1;33m\u001b[0m\u001b[0m\n\u001b[1;32m   1168\u001b[0m         \u001b[1;32mif\u001b[0m \u001b[1;32mnot\u001b[0m \u001b[0mdummy_na\u001b[0m\u001b[1;33m:\u001b[0m\u001b[1;33m\u001b[0m\u001b[0m\n",
      "\u001b[0;32mC:\\Users\\ali\\Anaconda2\\lib\\site-packages\\numpy\\lib\\twodim_base.pyc\u001b[0m in \u001b[0;36meye\u001b[0;34m(N, M, k, dtype)\u001b[0m\n\u001b[1;32m    231\u001b[0m     \u001b[1;32mif\u001b[0m \u001b[0mM\u001b[0m \u001b[1;32mis\u001b[0m \u001b[0mNone\u001b[0m\u001b[1;33m:\u001b[0m\u001b[1;33m\u001b[0m\u001b[0m\n\u001b[1;32m    232\u001b[0m         \u001b[0mM\u001b[0m \u001b[1;33m=\u001b[0m \u001b[0mN\u001b[0m\u001b[1;33m\u001b[0m\u001b[0m\n\u001b[0;32m--> 233\u001b[0;31m     \u001b[0mm\u001b[0m \u001b[1;33m=\u001b[0m \u001b[0mzeros\u001b[0m\u001b[1;33m(\u001b[0m\u001b[1;33m(\u001b[0m\u001b[0mN\u001b[0m\u001b[1;33m,\u001b[0m \u001b[0mM\u001b[0m\u001b[1;33m)\u001b[0m\u001b[1;33m,\u001b[0m \u001b[0mdtype\u001b[0m\u001b[1;33m=\u001b[0m\u001b[0mdtype\u001b[0m\u001b[1;33m)\u001b[0m\u001b[1;33m\u001b[0m\u001b[0m\n\u001b[0m\u001b[1;32m    234\u001b[0m     \u001b[1;32mif\u001b[0m \u001b[0mk\u001b[0m \u001b[1;33m>=\u001b[0m \u001b[0mM\u001b[0m\u001b[1;33m:\u001b[0m\u001b[1;33m\u001b[0m\u001b[0m\n\u001b[1;32m    235\u001b[0m         \u001b[1;32mreturn\u001b[0m \u001b[0mm\u001b[0m\u001b[1;33m\u001b[0m\u001b[0m\n",
      "\u001b[0;31mMemoryError\u001b[0m: "
     ]
    }
   ],
   "source": [
    "X = pd.get_dummies(_X,dummy_na=True)"
   ]
  },
  {
   "cell_type": "code",
   "execution_count": null,
   "metadata": {
    "collapsed": false,
    "scrolled": true
   },
   "outputs": [],
   "source": [
    "_X_.head()"
   ]
  },
  {
   "cell_type": "code",
   "execution_count": null,
   "metadata": {
    "collapsed": false
   },
   "outputs": [],
   "source": [
    "_X_.shape"
   ]
  },
  {
   "cell_type": "code",
   "execution_count": null,
   "metadata": {
    "collapsed": true
   },
   "outputs": [],
   "source": [
    "np.array(_X_.columns)"
   ]
  },
  {
   "cell_type": "markdown",
   "metadata": {},
   "source": [
    "### Model"
   ]
  },
  {
   "cell_type": "code",
   "execution_count": null,
   "metadata": {
    "collapsed": true
   },
   "outputs": [],
   "source": [
    "from sklearn.datasets import load_svmlight_files\n",
    "from sklearn.metrics import accuracy_score\n",
    "from xgboost.sklearn import XGBClassifier"
   ]
  },
  {
   "cell_type": "code",
   "execution_count": null,
   "metadata": {
    "collapsed": true
   },
   "outputs": [],
   "source": [
    "params = {\n",
    "    'objective': 'binary:logistic',\n",
    "    'max_depth': 5,\n",
    "    'learning_rate': 0.25,\n",
    "    'silent': 1.0,\n",
    "    'n_estimators': 50\n",
    "}"
   ]
  },
  {
   "cell_type": "code",
   "execution_count": null,
   "metadata": {
    "collapsed": false
   },
   "outputs": [],
   "source": [
    "bst = XGBClassifier(**params).fit(_X_, y)"
   ]
  },
  {
   "cell_type": "code",
   "execution_count": null,
   "metadata": {
    "collapsed": true
   },
   "outputs": [],
   "source": [
    "def get_xgb_imp(xgb, feat_names):\n",
    "    from numpy import array\n",
    "    imp_vals = xgb.booster().get_fscore()\n",
    "    imp_dict = {feat_names[i]:float(imp_vals.get('f'+str(i),0.)) for i in range(len(feat_names))}\n",
    "    total = array(imp_dict.values()).sum()\n",
    "    return {k:v/total for k,v in imp_dict.items()}"
   ]
  },
  {
   "cell_type": "code",
   "execution_count": null,
   "metadata": {
    "collapsed": false,
    "scrolled": true
   },
   "outputs": [],
   "source": [
    "d = bst.booster().get_fscore()"
   ]
  },
  {
   "cell_type": "code",
   "execution_count": null,
   "metadata": {
    "collapsed": false
   },
   "outputs": [],
   "source": [
    "xgb_feat_importance = pd.DataFrame(d, index=index)\n",
    "xgb_feat_importance"
   ]
  },
  {
   "cell_type": "code",
   "execution_count": null,
   "metadata": {
    "collapsed": false
   },
   "outputs": [],
   "source": [
    "d"
   ]
  },
  {
   "cell_type": "code",
   "execution_count": null,
   "metadata": {
    "collapsed": true
   },
   "outputs": [],
   "source": [
    "d"
   ]
  }
 ],
 "metadata": {
  "anaconda-cloud": {},
  "kernelspec": {
   "display_name": "Python [default]",
   "language": "python",
   "name": "python2"
  },
  "language_info": {
   "codemirror_mode": {
    "name": "ipython",
    "version": 2
   },
   "file_extension": ".py",
   "mimetype": "text/x-python",
   "name": "python",
   "nbconvert_exporter": "python",
   "pygments_lexer": "ipython2",
   "version": "2.7.12"
  }
 },
 "nbformat": 4,
 "nbformat_minor": 1
}
