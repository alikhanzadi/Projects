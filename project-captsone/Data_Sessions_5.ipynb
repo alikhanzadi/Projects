{
 "cells": [
  {
   "cell_type": "code",
   "execution_count": 1,
   "metadata": {
    "collapsed": false
   },
   "outputs": [
    {
     "ename": "NameError",
     "evalue": "name 'pd' is not defined",
     "output_type": "error",
     "traceback": [
      "\u001b[0;31m---------------------------------------------------------------------------\u001b[0m",
      "\u001b[0;31mNameError\u001b[0m                                 Traceback (most recent call last)",
      "\u001b[0;32m<ipython-input-1-399e607fccf3>\u001b[0m in \u001b[0;36m<module>\u001b[0;34m()\u001b[0m\n\u001b[0;32m----> 1\u001b[0;31m \u001b[0mpd\u001b[0m\u001b[1;33m.\u001b[0m\u001b[0mset_option\u001b[0m\u001b[1;33m(\u001b[0m\u001b[1;34m'display.max_rows'\u001b[0m\u001b[1;33m,\u001b[0m \u001b[1;36m500\u001b[0m\u001b[1;33m)\u001b[0m\u001b[1;33m\u001b[0m\u001b[0m\n\u001b[0m",
      "\u001b[0;31mNameError\u001b[0m: name 'pd' is not defined"
     ]
    }
   ],
   "source": [
    "pd.set_option('display.max_rows', 500)"
   ]
  },
  {
   "cell_type": "code",
   "execution_count": 1,
   "metadata": {
    "collapsed": true
   },
   "outputs": [],
   "source": [
    "import pandas as pd\n",
    "import numpy as np\n",
    "import matplotlib.pyplot as pdlt\n",
    "import seaborn as sns\n",
    "%matplotlib inline"
   ]
  },
  {
   "cell_type": "code",
   "execution_count": 2,
   "metadata": {
    "collapsed": true
   },
   "outputs": [],
   "source": [
    "from sklearn.preprocessing import LabelEncoder"
   ]
  },
  {
   "cell_type": "markdown",
   "metadata": {},
   "source": [
    "## Reading the data"
   ]
  },
  {
   "cell_type": "code",
   "execution_count": 3,
   "metadata": {
    "collapsed": false
   },
   "outputs": [],
   "source": [
    "train_data_df = pd.read_csv('./assets/train_users_2.csv/train_users_2.csv')"
   ]
  },
  {
   "cell_type": "code",
   "execution_count": 4,
   "metadata": {
    "collapsed": false
   },
   "outputs": [
    {
     "name": "stdout",
     "output_type": "stream",
     "text": [
      "(213451, 16)\n"
     ]
    },
    {
     "data": {
      "text/plain": [
       "Index([u'id', u'date_account_created', u'timestamp_first_active',\n",
       "       u'date_first_booking', u'gender', u'age', u'signup_method',\n",
       "       u'signup_flow', u'language', u'affiliate_channel',\n",
       "       u'affiliate_provider', u'first_affiliate_tracked', u'signup_app',\n",
       "       u'first_device_type', u'first_browser', u'country_destination'],\n",
       "      dtype='object')"
      ]
     },
     "execution_count": 4,
     "metadata": {},
     "output_type": "execute_result"
    }
   ],
   "source": [
    "print train_data_df.shape\n",
    "train_data_df.columns"
   ]
  },
  {
   "cell_type": "code",
   "execution_count": 5,
   "metadata": {
    "collapsed": false
   },
   "outputs": [],
   "source": [
    "train_data_df['date_account_created'] = pd.to_datetime(train_data_df['date_account_created'])\n",
    "train_data_df['year_acc_created'] = train_data_df.date_account_created.dt.year\n",
    "train_data_df['month_acc_created'] = train_data_df.date_account_created.dt.month\n",
    "train_data_df['day_acc_created'] = train_data_df.date_account_created.dt.day\n",
    "train_data_df['dayofyear_acc_created'] = train_data_df.date_account_created.dt.dayofyear"
   ]
  },
  {
   "cell_type": "code",
   "execution_count": 6,
   "metadata": {
    "collapsed": false,
    "scrolled": true
   },
   "outputs": [
    {
     "data": {
      "text/plain": [
       "(213451, 20)"
      ]
     },
     "execution_count": 6,
     "metadata": {},
     "output_type": "execute_result"
    }
   ],
   "source": [
    "_train_data_df = train_data_df.copy()#[train_data_df['year_acc_created'] == 2014]\n",
    "# _2014_train_data_df = _2014_train_data_df[_2014_train_data_df['country_destination'] != 'NDF']\n",
    "_train_data_df.shape"
   ]
  },
  {
   "cell_type": "code",
   "execution_count": 7,
   "metadata": {
    "collapsed": false,
    "scrolled": true
   },
   "outputs": [],
   "source": [
    "# train_data_df#.iloc[:,7:]#[train_data_df.columns[[(7:)]]]"
   ]
  },
  {
   "cell_type": "markdown",
   "metadata": {},
   "source": [
    "*  ----------------------------------------------------------------- *\n",
    "** In the sessions dataset, the data only dates back to 1/1/2014, while the users dataset dates back to 2010. **"
   ]
  },
  {
   "cell_type": "code",
   "execution_count": 8,
   "metadata": {
    "collapsed": false
   },
   "outputs": [],
   "source": [
    "sessions_df = pd.read_csv('./assets/sessions.csv/sessions.csv')"
   ]
  },
  {
   "cell_type": "code",
   "execution_count": 9,
   "metadata": {
    "collapsed": false
   },
   "outputs": [
    {
     "data": {
      "text/plain": [
       "(10567737, 6)"
      ]
     },
     "execution_count": 9,
     "metadata": {},
     "output_type": "execute_result"
    }
   ],
   "source": [
    "sessions_df.shape"
   ]
  },
  {
   "cell_type": "code",
   "execution_count": 10,
   "metadata": {
    "collapsed": false
   },
   "outputs": [],
   "source": [
    "sessions_df.action = sessions_df.action.fillna('NAN')\n",
    "sessions_df.action_type = sessions_df.action_type.fillna('NAN')\n",
    "sessions_df.action_detail = sessions_df.action_detail.fillna('NAN')\n",
    "sessions_df.device_type = sessions_df.device_type.fillna('NAN')"
   ]
  },
  {
   "cell_type": "code",
   "execution_count": 11,
   "metadata": {
    "collapsed": false
   },
   "outputs": [
    {
     "data": {
      "text/plain": [
       "user_id           34496\n",
       "action                0\n",
       "action_type           0\n",
       "action_detail         0\n",
       "device_type           0\n",
       "secs_elapsed     136031\n",
       "dtype: int64"
      ]
     },
     "execution_count": 11,
     "metadata": {},
     "output_type": "execute_result"
    }
   ],
   "source": [
    "sessions_df.isnull().sum()"
   ]
  },
  {
   "cell_type": "markdown",
   "metadata": {},
   "source": [
    "_____________________\n",
    "## **Merging** "
   ]
  },
  {
   "cell_type": "code",
   "execution_count": 12,
   "metadata": {
    "collapsed": false
   },
   "outputs": [
    {
     "name": "stdout",
     "output_type": "stream",
     "text": [
      "213451\n",
      "135484\n"
     ]
    }
   ],
   "source": [
    "sessions_df_temp = sessions_df.copy()\n",
    "sessions_df_temp.set_index('user_id',drop=False, inplace=True)\n",
    "users = _train_data_df['id']\n",
    "sess_users = sessions_df['user_id'].unique()\n",
    "print len(users)\n",
    "print len(sess_users)"
   ]
  },
  {
   "cell_type": "code",
   "execution_count": 13,
   "metadata": {
    "collapsed": false
   },
   "outputs": [
    {
     "data": {
      "text/plain": [
       "73815"
      ]
     },
     "execution_count": 13,
     "metadata": {},
     "output_type": "execute_result"
    }
   ],
   "source": [
    "sessions_id = list(set(users).intersection(sess_users))\n",
    "_sessions_df = sessions_df_temp.loc[sessions_id]\n",
    "len(sessions_id)"
   ]
  },
  {
   "cell_type": "markdown",
   "metadata": {},
   "source": [
    "#### Examining Null values"
   ]
  },
  {
   "cell_type": "code",
   "execution_count": 14,
   "metadata": {
    "collapsed": false
   },
   "outputs": [
    {
     "name": "stdout",
     "output_type": "stream",
     "text": [
      "(5537957, 6)\n",
      "user_id              0\n",
      "action               0\n",
      "action_type          0\n",
      "action_detail        0\n",
      "device_type          0\n",
      "secs_elapsed     73815\n",
      "dtype: int64\n"
     ]
    },
    {
     "data": {
      "text/html": [
       "<div>\n",
       "<table border=\"1\" class=\"dataframe\">\n",
       "  <thead>\n",
       "    <tr style=\"text-align: right;\">\n",
       "      <th></th>\n",
       "      <th>user_id</th>\n",
       "      <th>action</th>\n",
       "      <th>action_type</th>\n",
       "      <th>action_detail</th>\n",
       "      <th>device_type</th>\n",
       "      <th>secs_elapsed</th>\n",
       "    </tr>\n",
       "    <tr>\n",
       "      <th>user_id</th>\n",
       "      <th></th>\n",
       "      <th></th>\n",
       "      <th></th>\n",
       "      <th></th>\n",
       "      <th></th>\n",
       "      <th></th>\n",
       "    </tr>\n",
       "  </thead>\n",
       "  <tbody>\n",
       "    <tr>\n",
       "      <th>ey7zd06giy</th>\n",
       "      <td>ey7zd06giy</td>\n",
       "      <td>search_results</td>\n",
       "      <td>click</td>\n",
       "      <td>view_search_results</td>\n",
       "      <td>Mac Desktop</td>\n",
       "      <td>5770.0</td>\n",
       "    </tr>\n",
       "  </tbody>\n",
       "</table>\n",
       "</div>"
      ],
      "text/plain": [
       "               user_id          action action_type        action_detail  \\\n",
       "user_id                                                                   \n",
       "ey7zd06giy  ey7zd06giy  search_results       click  view_search_results   \n",
       "\n",
       "            device_type  secs_elapsed  \n",
       "user_id                                \n",
       "ey7zd06giy  Mac Desktop        5770.0  "
      ]
     },
     "execution_count": 14,
     "metadata": {},
     "output_type": "execute_result"
    }
   ],
   "source": [
    "# _2014_sessions_df.secs_elapsed.fillna('NAN', inplace=True)\n",
    "print _sessions_df.shape\n",
    "print _sessions_df.isnull().sum()\n",
    "_sessions_df.head(1)"
   ]
  },
  {
   "cell_type": "code",
   "execution_count": 16,
   "metadata": {
    "collapsed": true
   },
   "outputs": [
    {
     "name": "stdout",
     "output_type": "stream",
     "text": [
      "73815\n",
      "\n",
      "action unique values:  63\n",
      "create          41016\n",
      "NAN             11363\n",
      "authenticate    10980\n",
      "active           5444\n",
      "callback         2038\n",
      "Name: action, dtype: int64\n",
      "\n",
      "action type unique values:  9\n",
      "submit              51516\n",
      "message_post        11363\n",
      "-unknown-            5928\n",
      "partner_callback     2038\n",
      "view                 1008\n",
      "Name: action_type, dtype: int64\n",
      "\n",
      "action detail unique values:  57\n",
      "create_user     32337\n",
      "message_post    11363\n",
      "login           10439\n",
      "signup           8570\n",
      "-unknown-        5928\n",
      "Name: action_detail, dtype: int64\n"
     ]
    }
   ],
   "source": [
    "s_temp = _sessions_df[_sessions_df.secs_elapsed.isnull()]\n",
    "print s_temp.user_id.unique().size\n",
    "print '\\n', 'action unique values: ', s_temp.action.unique().size\n",
    "print s_temp.action.value_counts().head(5)\n",
    "print '\\n', 'action type unique values: ', s_temp.action_type.unique().size\n",
    "print s_temp.action_type.value_counts().head(5)\n",
    "print '\\n', 'action detail unique values: ', s_temp.action_detail.unique().size\n",
    "print s_temp.action_detail.value_counts().head(5)"
   ]
  },
  {
   "cell_type": "markdown",
   "metadata": {},
   "source": [
    "It appears that each user in the dataset has one missing value in the secs elapsed column."
   ]
  },
  {
   "cell_type": "markdown",
   "metadata": {},
   "source": [
    "------------------\n",
    "### Examining elemnts of each column"
   ]
  },
  {
   "cell_type": "code",
   "execution_count": 17,
   "metadata": {
    "collapsed": false
   },
   "outputs": [
    {
     "name": "stdout",
     "output_type": "stream",
     "text": [
      "332\n",
      "10\n",
      "129\n",
      "14\n"
     ]
    }
   ],
   "source": [
    "print (len(_sessions_df.action.unique()))\n",
    "print (len(_sessions_df.action_type.unique()))\n",
    "print (len(_sessions_df.action_detail.unique()))\n",
    "print (len(_sessions_df.device_type.unique()))\n",
    "# run corr"
   ]
  },
  {
   "cell_type": "code",
   "execution_count": 15,
   "metadata": {
    "collapsed": true
   },
   "outputs": [],
   "source": [
    "def percentile_col(col):\n",
    "    percentile = []\n",
    "    pt = 0\n",
    "    for i in range(len(col)):\n",
    "        value = col[i]\n",
    "        s = col.sum()\n",
    "        percent = round(100.0*value/s,3)\n",
    "        pt += percent\n",
    "        percentile.append(round(pt,3))\n",
    "    return percentile"
   ]
  },
  {
   "cell_type": "markdown",
   "metadata": {},
   "source": [
    "#### Action column"
   ]
  },
  {
   "cell_type": "code",
   "execution_count": 16,
   "metadata": {
    "collapsed": false,
    "scrolled": true
   },
   "outputs": [
    {
     "name": "stdout",
     "output_type": "stream",
     "text": [
      "36\n"
     ]
    },
    {
     "data": {
      "text/html": [
       "<div>\n",
       "<table border=\"1\" class=\"dataframe\">\n",
       "  <thead>\n",
       "    <tr style=\"text-align: right;\">\n",
       "      <th></th>\n",
       "      <th>sum</th>\n",
       "      <th>mean</th>\n",
       "      <th>std</th>\n",
       "      <th>count</th>\n",
       "      <th>percentile</th>\n",
       "    </tr>\n",
       "    <tr>\n",
       "      <th>action</th>\n",
       "      <th></th>\n",
       "      <th></th>\n",
       "      <th></th>\n",
       "      <th></th>\n",
       "      <th></th>\n",
       "    </tr>\n",
       "  </thead>\n",
       "  <tbody>\n",
       "    <tr>\n",
       "      <th>show</th>\n",
       "      <td>2.096122e+10</td>\n",
       "      <td>16101.507637</td>\n",
       "      <td>86117.448392</td>\n",
       "      <td>1301817</td>\n",
       "      <td>18.753</td>\n",
       "    </tr>\n",
       "    <tr>\n",
       "      <th>index</th>\n",
       "      <td>1.386731e+10</td>\n",
       "      <td>29949.495131</td>\n",
       "      <td>107082.122210</td>\n",
       "      <td>463023</td>\n",
       "      <td>31.160</td>\n",
       "    </tr>\n",
       "    <tr>\n",
       "      <th>update</th>\n",
       "      <td>8.672156e+09</td>\n",
       "      <td>42077.213376</td>\n",
       "      <td>105926.230779</td>\n",
       "      <td>206101</td>\n",
       "      <td>38.919</td>\n",
       "    </tr>\n",
       "    <tr>\n",
       "      <th>search_results</th>\n",
       "      <td>8.004420e+09</td>\n",
       "      <td>19072.627886</td>\n",
       "      <td>65922.630950</td>\n",
       "      <td>419681</td>\n",
       "      <td>46.080</td>\n",
       "    </tr>\n",
       "    <tr>\n",
       "      <th>confirm_email</th>\n",
       "      <td>7.011423e+09</td>\n",
       "      <td>203253.231331</td>\n",
       "      <td>344920.690688</td>\n",
       "      <td>34496</td>\n",
       "      <td>52.353</td>\n",
       "    </tr>\n",
       "  </tbody>\n",
       "</table>\n",
       "</div>"
      ],
      "text/plain": [
       "                         sum           mean            std    count  \\\n",
       "action                                                                \n",
       "show            2.096122e+10   16101.507637   86117.448392  1301817   \n",
       "index           1.386731e+10   29949.495131  107082.122210   463023   \n",
       "update          8.672156e+09   42077.213376  105926.230779   206101   \n",
       "search_results  8.004420e+09   19072.627886   65922.630950   419681   \n",
       "confirm_email   7.011423e+09  203253.231331  344920.690688    34496   \n",
       "\n",
       "                percentile  \n",
       "action                      \n",
       "show                18.753  \n",
       "index               31.160  \n",
       "update              38.919  \n",
       "search_results      46.080  \n",
       "confirm_email       52.353  "
      ]
     },
     "execution_count": 16,
     "metadata": {},
     "output_type": "execute_result"
    }
   ],
   "source": [
    "actions_gb_ = _sessions_df.groupby('action')['secs_elapsed'].agg([np.sum,np.mean,np.std,'count']).sort_values('sum',ascending=False)\n",
    "actions_gb_['percentile'] = percentile_col(actions_gb_['sum'])\n",
    "actions_gb = actions_gb_[actions_gb_.percentile < 90]\n",
    "print len(actions_gb)\n",
    "actions_gb.head()"
   ]
  },
  {
   "cell_type": "markdown",
   "metadata": {},
   "source": [
    "#### Action details column"
   ]
  },
  {
   "cell_type": "code",
   "execution_count": 17,
   "metadata": {
    "collapsed": false,
    "scrolled": true
   },
   "outputs": [
    {
     "name": "stdout",
     "output_type": "stream",
     "text": [
      "21\n"
     ]
    },
    {
     "data": {
      "text/html": [
       "<div>\n",
       "<table border=\"1\" class=\"dataframe\">\n",
       "  <thead>\n",
       "    <tr style=\"text-align: right;\">\n",
       "      <th></th>\n",
       "      <th>sum</th>\n",
       "      <th>mean</th>\n",
       "      <th>std</th>\n",
       "      <th>count</th>\n",
       "      <th>percentile</th>\n",
       "    </tr>\n",
       "    <tr>\n",
       "      <th>action_detail</th>\n",
       "      <th></th>\n",
       "      <th></th>\n",
       "      <th></th>\n",
       "      <th></th>\n",
       "      <th></th>\n",
       "    </tr>\n",
       "  </thead>\n",
       "  <tbody>\n",
       "    <tr>\n",
       "      <th>view_search_results</th>\n",
       "      <td>2.039027e+10</td>\n",
       "      <td>22340.116143</td>\n",
       "      <td>74216.526999</td>\n",
       "      <td>912720</td>\n",
       "      <td>18.243</td>\n",
       "    </tr>\n",
       "    <tr>\n",
       "      <th>p3</th>\n",
       "      <td>1.535947e+10</td>\n",
       "      <td>25175.826417</td>\n",
       "      <td>106962.305495</td>\n",
       "      <td>610088</td>\n",
       "      <td>31.985</td>\n",
       "    </tr>\n",
       "    <tr>\n",
       "      <th>-unknown-</th>\n",
       "      <td>1.497179e+10</td>\n",
       "      <td>26789.151406</td>\n",
       "      <td>109450.176045</td>\n",
       "      <td>558875</td>\n",
       "      <td>45.380</td>\n",
       "    </tr>\n",
       "    <tr>\n",
       "      <th>confirm_email_link</th>\n",
       "      <td>7.011309e+09</td>\n",
       "      <td>204036.574106</td>\n",
       "      <td>345357.193465</td>\n",
       "      <td>34363</td>\n",
       "      <td>51.653</td>\n",
       "    </tr>\n",
       "    <tr>\n",
       "      <th>message_post</th>\n",
       "      <td>5.502601e+09</td>\n",
       "      <td>124481.964370</td>\n",
       "      <td>227046.425258</td>\n",
       "      <td>44204</td>\n",
       "      <td>56.576</td>\n",
       "    </tr>\n",
       "  </tbody>\n",
       "</table>\n",
       "</div>"
      ],
      "text/plain": [
       "                              sum           mean            std   count  \\\n",
       "action_detail                                                             \n",
       "view_search_results  2.039027e+10   22340.116143   74216.526999  912720   \n",
       "p3                   1.535947e+10   25175.826417  106962.305495  610088   \n",
       "-unknown-            1.497179e+10   26789.151406  109450.176045  558875   \n",
       "confirm_email_link   7.011309e+09  204036.574106  345357.193465   34363   \n",
       "message_post         5.502601e+09  124481.964370  227046.425258   44204   \n",
       "\n",
       "                     percentile  \n",
       "action_detail                    \n",
       "view_search_results      18.243  \n",
       "p3                       31.985  \n",
       "-unknown-                45.380  \n",
       "confirm_email_link       51.653  \n",
       "message_post             56.576  "
      ]
     },
     "execution_count": 17,
     "metadata": {},
     "output_type": "execute_result"
    }
   ],
   "source": [
    "action_details_gb_ = _sessions_df.groupby('action_detail')['secs_elapsed'].agg([np.sum,np.mean,np.std,'count']).sort_values('sum',ascending=False)\n",
    "action_details_gb_['percentile'] = percentile_col(action_details_gb_['sum'])\n",
    "action_details_gb = action_details_gb_[action_details_gb_.percentile < 90]\n",
    "print len(action_details_gb)\n",
    "action_details_gb.head()"
   ]
  },
  {
   "cell_type": "markdown",
   "metadata": {},
   "source": [
    "#### Action type column"
   ]
  },
  {
   "cell_type": "code",
   "execution_count": 18,
   "metadata": {
    "collapsed": false,
    "scrolled": true
   },
   "outputs": [
    {
     "name": "stdout",
     "output_type": "stream",
     "text": [
      "10\n"
     ]
    },
    {
     "data": {
      "text/html": [
       "<div>\n",
       "<table border=\"1\" class=\"dataframe\">\n",
       "  <thead>\n",
       "    <tr style=\"text-align: right;\">\n",
       "      <th></th>\n",
       "      <th>sum</th>\n",
       "      <th>mean</th>\n",
       "      <th>std</th>\n",
       "      <th>count</th>\n",
       "      <th>percentile</th>\n",
       "    </tr>\n",
       "    <tr>\n",
       "      <th>action_type</th>\n",
       "      <th></th>\n",
       "      <th></th>\n",
       "      <th></th>\n",
       "      <th></th>\n",
       "      <th></th>\n",
       "    </tr>\n",
       "  </thead>\n",
       "  <tbody>\n",
       "    <tr>\n",
       "      <th>view</th>\n",
       "      <td>4.182430e+10</td>\n",
       "      <td>25063.775145</td>\n",
       "      <td>104179.141921</td>\n",
       "      <td>1668715</td>\n",
       "      <td>37.419</td>\n",
       "    </tr>\n",
       "    <tr>\n",
       "      <th>click</th>\n",
       "      <td>2.252086e+10</td>\n",
       "      <td>21168.545085</td>\n",
       "      <td>91474.964107</td>\n",
       "      <td>1063883</td>\n",
       "      <td>57.568</td>\n",
       "    </tr>\n",
       "    <tr>\n",
       "      <th>-unknown-</th>\n",
       "      <td>1.497179e+10</td>\n",
       "      <td>26789.151406</td>\n",
       "      <td>109450.176045</td>\n",
       "      <td>558875</td>\n",
       "      <td>70.963</td>\n",
       "    </tr>\n",
       "    <tr>\n",
       "      <th>submit</th>\n",
       "      <td>1.402564e+10</td>\n",
       "      <td>45857.157016</td>\n",
       "      <td>128889.943337</td>\n",
       "      <td>305855</td>\n",
       "      <td>83.511</td>\n",
       "    </tr>\n",
       "    <tr>\n",
       "      <th>data</th>\n",
       "      <td>7.232136e+09</td>\n",
       "      <td>6087.057228</td>\n",
       "      <td>37501.457041</td>\n",
       "      <td>1188117</td>\n",
       "      <td>89.981</td>\n",
       "    </tr>\n",
       "    <tr>\n",
       "      <th>message_post</th>\n",
       "      <td>5.502601e+09</td>\n",
       "      <td>124481.964370</td>\n",
       "      <td>227046.425258</td>\n",
       "      <td>44204</td>\n",
       "      <td>94.904</td>\n",
       "    </tr>\n",
       "    <tr>\n",
       "      <th>NAN</th>\n",
       "      <td>4.851193e+09</td>\n",
       "      <td>7837.880310</td>\n",
       "      <td>66258.207860</td>\n",
       "      <td>618942</td>\n",
       "      <td>99.244</td>\n",
       "    </tr>\n",
       "    <tr>\n",
       "      <th>booking_request</th>\n",
       "      <td>7.050266e+08</td>\n",
       "      <td>66625.081837</td>\n",
       "      <td>164211.211725</td>\n",
       "      <td>10582</td>\n",
       "      <td>99.875</td>\n",
       "    </tr>\n",
       "    <tr>\n",
       "      <th>partner_callback</th>\n",
       "      <td>1.396080e+08</td>\n",
       "      <td>28107.103282</td>\n",
       "      <td>65561.431825</td>\n",
       "      <td>4967</td>\n",
       "      <td>100.000</td>\n",
       "    </tr>\n",
       "    <tr>\n",
       "      <th>booking_response</th>\n",
       "      <td>1.081170e+05</td>\n",
       "      <td>54058.500000</td>\n",
       "      <td>24258.712342</td>\n",
       "      <td>2</td>\n",
       "      <td>100.000</td>\n",
       "    </tr>\n",
       "  </tbody>\n",
       "</table>\n",
       "</div>"
      ],
      "text/plain": [
       "                           sum           mean            std    count  \\\n",
       "action_type                                                             \n",
       "view              4.182430e+10   25063.775145  104179.141921  1668715   \n",
       "click             2.252086e+10   21168.545085   91474.964107  1063883   \n",
       "-unknown-         1.497179e+10   26789.151406  109450.176045   558875   \n",
       "submit            1.402564e+10   45857.157016  128889.943337   305855   \n",
       "data              7.232136e+09    6087.057228   37501.457041  1188117   \n",
       "message_post      5.502601e+09  124481.964370  227046.425258    44204   \n",
       "NAN               4.851193e+09    7837.880310   66258.207860   618942   \n",
       "booking_request   7.050266e+08   66625.081837  164211.211725    10582   \n",
       "partner_callback  1.396080e+08   28107.103282   65561.431825     4967   \n",
       "booking_response  1.081170e+05   54058.500000   24258.712342        2   \n",
       "\n",
       "                  percentile  \n",
       "action_type                   \n",
       "view                  37.419  \n",
       "click                 57.568  \n",
       "-unknown-             70.963  \n",
       "submit                83.511  \n",
       "data                  89.981  \n",
       "message_post          94.904  \n",
       "NAN                   99.244  \n",
       "booking_request       99.875  \n",
       "partner_callback     100.000  \n",
       "booking_response     100.000  "
      ]
     },
     "execution_count": 18,
     "metadata": {},
     "output_type": "execute_result"
    }
   ],
   "source": [
    "action_types_gb = _sessions_df.groupby('action_type')['secs_elapsed'].agg([np.sum,np.mean,np.std,'count']).sort_values('sum',ascending=False)\n",
    "action_types_gb['percentile'] = percentile_col(action_types_gb['sum'])\n",
    "action_types_gb = action_types_gb#[actions_type_gb_.percentile < 95]\n",
    "print len(action_types_gb)\n",
    "action_types_gb#.head()"
   ]
  },
  {
   "cell_type": "markdown",
   "metadata": {},
   "source": [
    "#### Device column"
   ]
  },
  {
   "cell_type": "code",
   "execution_count": 19,
   "metadata": {
    "collapsed": false,
    "scrolled": true
   },
   "outputs": [
    {
     "name": "stdout",
     "output_type": "stream",
     "text": [
      "6\n"
     ]
    },
    {
     "data": {
      "text/html": [
       "<div>\n",
       "<table border=\"1\" class=\"dataframe\">\n",
       "  <thead>\n",
       "    <tr style=\"text-align: right;\">\n",
       "      <th></th>\n",
       "      <th>sum</th>\n",
       "      <th>mean</th>\n",
       "      <th>std</th>\n",
       "      <th>count</th>\n",
       "      <th>percentile</th>\n",
       "    </tr>\n",
       "    <tr>\n",
       "      <th>device_type</th>\n",
       "      <th></th>\n",
       "      <th></th>\n",
       "      <th></th>\n",
       "      <th></th>\n",
       "      <th></th>\n",
       "    </tr>\n",
       "  </thead>\n",
       "  <tbody>\n",
       "    <tr>\n",
       "      <th>Mac Desktop</th>\n",
       "      <td>4.297800e+10</td>\n",
       "      <td>20241.954126</td>\n",
       "      <td>90168.452303</td>\n",
       "      <td>2123214</td>\n",
       "      <td>38.451</td>\n",
       "    </tr>\n",
       "    <tr>\n",
       "      <th>Windows Desktop</th>\n",
       "      <td>3.501361e+10</td>\n",
       "      <td>22886.192443</td>\n",
       "      <td>98631.068275</td>\n",
       "      <td>1529901</td>\n",
       "      <td>69.777</td>\n",
       "    </tr>\n",
       "    <tr>\n",
       "      <th>iPhone</th>\n",
       "      <td>1.447585e+10</td>\n",
       "      <td>18602.955034</td>\n",
       "      <td>94215.619467</td>\n",
       "      <td>778148</td>\n",
       "      <td>82.728</td>\n",
       "    </tr>\n",
       "    <tr>\n",
       "      <th>iPad Tablet</th>\n",
       "      <td>8.119515e+09</td>\n",
       "      <td>21380.422578</td>\n",
       "      <td>89728.556061</td>\n",
       "      <td>379764</td>\n",
       "      <td>89.992</td>\n",
       "    </tr>\n",
       "    <tr>\n",
       "      <th>Android App Unknown Phone/Tablet</th>\n",
       "      <td>3.514827e+09</td>\n",
       "      <td>13290.682978</td>\n",
       "      <td>68551.947303</td>\n",
       "      <td>264458</td>\n",
       "      <td>93.137</td>\n",
       "    </tr>\n",
       "    <tr>\n",
       "      <th>Android Phone</th>\n",
       "      <td>2.905329e+09</td>\n",
       "      <td>13978.074862</td>\n",
       "      <td>81083.495896</td>\n",
       "      <td>207849</td>\n",
       "      <td>95.736</td>\n",
       "    </tr>\n",
       "  </tbody>\n",
       "</table>\n",
       "</div>"
      ],
      "text/plain": [
       "                                           sum          mean           std  \\\n",
       "device_type                                                                  \n",
       "Mac Desktop                       4.297800e+10  20241.954126  90168.452303   \n",
       "Windows Desktop                   3.501361e+10  22886.192443  98631.068275   \n",
       "iPhone                            1.447585e+10  18602.955034  94215.619467   \n",
       "iPad Tablet                       8.119515e+09  21380.422578  89728.556061   \n",
       "Android App Unknown Phone/Tablet  3.514827e+09  13290.682978  68551.947303   \n",
       "Android Phone                     2.905329e+09  13978.074862  81083.495896   \n",
       "\n",
       "                                    count  percentile  \n",
       "device_type                                            \n",
       "Mac Desktop                       2123214      38.451  \n",
       "Windows Desktop                   1529901      69.777  \n",
       "iPhone                             778148      82.728  \n",
       "iPad Tablet                        379764      89.992  \n",
       "Android App Unknown Phone/Tablet   264458      93.137  \n",
       "Android Phone                      207849      95.736  "
      ]
     },
     "execution_count": 19,
     "metadata": {},
     "output_type": "execute_result"
    }
   ],
   "source": [
    "device_type_gb_ = _sessions_df.groupby('device_type')['secs_elapsed'].agg([np.sum,np.mean,np.std,'count']).sort_values('sum',ascending=False)\n",
    "device_type_gb_['percentile'] = percentile_col(device_type_gb_['sum'])\n",
    "device_type_gb = device_type_gb_[device_type_gb_.percentile < 96]\n",
    "print len(device_type_gb)\n",
    "device_type_gb"
   ]
  },
  {
   "cell_type": "markdown",
   "metadata": {},
   "source": [
    "#### Filtering out rows"
   ]
  },
  {
   "cell_type": "code",
   "execution_count": 20,
   "metadata": {
    "collapsed": false
   },
   "outputs": [],
   "source": [
    "actions = actions_gb.index\n",
    "action_types = action_types_gb.index\n",
    "action_details = action_details_gb.index\n",
    "device_types = device_type_gb.index"
   ]
  },
  {
   "cell_type": "code",
   "execution_count": 21,
   "metadata": {
    "collapsed": false
   },
   "outputs": [
    {
     "data": {
      "text/plain": [
       "(4067691, 6)"
      ]
     },
     "execution_count": 21,
     "metadata": {},
     "output_type": "execute_result"
    }
   ],
   "source": [
    "__sessions_df = _sessions_df[_sessions_df.action.isin(actions)]\n",
    "__sessions_df = __sessions_df[__sessions_df.action_detail.isin(action_details)]\n",
    "__sessions_df.shape"
   ]
  },
  {
   "cell_type": "code",
   "execution_count": 22,
   "metadata": {
    "collapsed": false
   },
   "outputs": [
    {
     "name": "stdout",
     "output_type": "stream",
     "text": [
      "485\n",
      "74\n"
     ]
    }
   ],
   "source": [
    "print len(_sessions_df.action.unique()) + len(_sessions_df.action_type.unique()) + len(_sessions_df.action_detail.unique()) + len(_sessions_df.device_type.unique())\n",
    "print len(__sessions_df.action.unique()) + len(__sessions_df.action_type.unique()) + len(__sessions_df.action_detail.unique()) + len(__sessions_df.device_type.unique())"
   ]
  },
  {
   "cell_type": "code",
   "execution_count": 23,
   "metadata": {
    "collapsed": false
   },
   "outputs": [
    {
     "data": {
      "text/html": [
       "<div>\n",
       "<table border=\"1\" class=\"dataframe\">\n",
       "  <thead>\n",
       "    <tr style=\"text-align: right;\">\n",
       "      <th></th>\n",
       "      <th>user_id</th>\n",
       "      <th>action</th>\n",
       "      <th>action_type</th>\n",
       "      <th>action_detail</th>\n",
       "      <th>device_type</th>\n",
       "      <th>secs_elapsed</th>\n",
       "    </tr>\n",
       "  </thead>\n",
       "  <tbody>\n",
       "    <tr>\n",
       "      <th>0</th>\n",
       "      <td>ey7zd06giy</td>\n",
       "      <td>search_results</td>\n",
       "      <td>click</td>\n",
       "      <td>view_search_results</td>\n",
       "      <td>Mac Desktop</td>\n",
       "      <td>5770.0</td>\n",
       "    </tr>\n",
       "  </tbody>\n",
       "</table>\n",
       "</div>"
      ],
      "text/plain": [
       "      user_id          action action_type        action_detail  device_type  \\\n",
       "0  ey7zd06giy  search_results       click  view_search_results  Mac Desktop   \n",
       "\n",
       "   secs_elapsed  \n",
       "0        5770.0  "
      ]
     },
     "execution_count": 23,
     "metadata": {},
     "output_type": "execute_result"
    }
   ],
   "source": [
    "__sessions_df.reset_index(drop=True,inplace=True)\n",
    "__sessions_df.head(1)"
   ]
  },
  {
   "cell_type": "code",
   "execution_count": 24,
   "metadata": {
    "collapsed": true
   },
   "outputs": [],
   "source": [
    "from sklearn.feature_extraction import DictVectorizer\n",
    " \n",
    "def encode_onehot(df, cols):\n",
    "    \"\"\"\n",
    "    One-hot encoding is applied to columns specified in a pandas DataFrame.\n",
    "    \n",
    "    Modified from: https://gist.github.com/kljensen/5452382\n",
    "    \n",
    "    Details:\n",
    "    \n",
    "    http://en.wikipedia.org/wiki/One-hot\n",
    "    http://scikit-learn.org/stable/modules/generated/sklearn.preprocessing.OneHotEncoder.html\n",
    "    \n",
    "    @param df pandas DataFrame\n",
    "    @param cols a list of columns to encode\n",
    "    @return a DataFrame with one-hot encoding\n",
    "    \"\"\"\n",
    "    vec = DictVectorizer()\n",
    "    \n",
    "    vec_data = pd.DataFrame(vec.fit_transform(df[cols].to_dict(outtype='records')).toarray())\n",
    "    vec_data.columns = vec.get_feature_names()\n",
    "    vec_data.index = df.index\n",
    "    \n",
    "    df = df.drop(cols, axis=1)\n",
    "    df = df.join(vec_data)\n",
    "    return df"
   ]
  },
  {
   "cell_type": "code",
   "execution_count": 25,
   "metadata": {
    "collapsed": false
   },
   "outputs": [
    {
     "name": "stderr",
     "output_type": "stream",
     "text": [
      "C:\\Users\\ali\\Anaconda2\\lib\\site-packages\\ipykernel\\__main__.py:20: FutureWarning: the 'outtype' keyword is deprecated, use 'orient' instead\n"
     ]
    },
    {
     "name": "stdout",
     "output_type": "stream",
     "text": [
      "(4067691, 76)\n",
      "sessions data set with dummies:\n"
     ]
    },
    {
     "data": {
      "text/html": [
       "<div>\n",
       "<table border=\"1\" class=\"dataframe\">\n",
       "  <thead>\n",
       "    <tr style=\"text-align: right;\">\n",
       "      <th></th>\n",
       "      <th>user_id</th>\n",
       "      <th>secs_elapsed</th>\n",
       "      <th>action=12</th>\n",
       "      <th>action=NAN</th>\n",
       "      <th>action=active</th>\n",
       "      <th>action=ajax_get_referrals_amt</th>\n",
       "      <th>action=ajax_image_upload</th>\n",
       "      <th>action=ajax_lwlb_contact</th>\n",
       "      <th>action=ajax_refresh_subtotal</th>\n",
       "      <th>action=authenticate</th>\n",
       "      <th>...</th>\n",
       "      <th>device_type=Chromebook</th>\n",
       "      <th>device_type=Linux Desktop</th>\n",
       "      <th>device_type=Mac Desktop</th>\n",
       "      <th>device_type=Opera Phone</th>\n",
       "      <th>device_type=Tablet</th>\n",
       "      <th>device_type=Windows Desktop</th>\n",
       "      <th>device_type=Windows Phone</th>\n",
       "      <th>device_type=iPad Tablet</th>\n",
       "      <th>device_type=iPhone</th>\n",
       "      <th>device_type=iPodtouch</th>\n",
       "    </tr>\n",
       "  </thead>\n",
       "  <tbody>\n",
       "    <tr>\n",
       "      <th>0</th>\n",
       "      <td>ey7zd06giy</td>\n",
       "      <td>5770.0</td>\n",
       "      <td>0.0</td>\n",
       "      <td>0.0</td>\n",
       "      <td>0.0</td>\n",
       "      <td>0.0</td>\n",
       "      <td>0.0</td>\n",
       "      <td>0.0</td>\n",
       "      <td>0.0</td>\n",
       "      <td>0.0</td>\n",
       "      <td>...</td>\n",
       "      <td>0.0</td>\n",
       "      <td>0.0</td>\n",
       "      <td>1.0</td>\n",
       "      <td>0.0</td>\n",
       "      <td>0.0</td>\n",
       "      <td>0.0</td>\n",
       "      <td>0.0</td>\n",
       "      <td>0.0</td>\n",
       "      <td>0.0</td>\n",
       "      <td>0.0</td>\n",
       "    </tr>\n",
       "    <tr>\n",
       "      <th>1</th>\n",
       "      <td>ey7zd06giy</td>\n",
       "      <td>496.0</td>\n",
       "      <td>0.0</td>\n",
       "      <td>0.0</td>\n",
       "      <td>0.0</td>\n",
       "      <td>0.0</td>\n",
       "      <td>0.0</td>\n",
       "      <td>0.0</td>\n",
       "      <td>1.0</td>\n",
       "      <td>0.0</td>\n",
       "      <td>...</td>\n",
       "      <td>0.0</td>\n",
       "      <td>0.0</td>\n",
       "      <td>1.0</td>\n",
       "      <td>0.0</td>\n",
       "      <td>0.0</td>\n",
       "      <td>0.0</td>\n",
       "      <td>0.0</td>\n",
       "      <td>0.0</td>\n",
       "      <td>0.0</td>\n",
       "      <td>0.0</td>\n",
       "    </tr>\n",
       "  </tbody>\n",
       "</table>\n",
       "<p>2 rows × 76 columns</p>\n",
       "</div>"
      ],
      "text/plain": [
       "      user_id  secs_elapsed  action=12  action=NAN  action=active  \\\n",
       "0  ey7zd06giy        5770.0        0.0         0.0            0.0   \n",
       "1  ey7zd06giy         496.0        0.0         0.0            0.0   \n",
       "\n",
       "   action=ajax_get_referrals_amt  action=ajax_image_upload  \\\n",
       "0                            0.0                       0.0   \n",
       "1                            0.0                       0.0   \n",
       "\n",
       "   action=ajax_lwlb_contact  action=ajax_refresh_subtotal  \\\n",
       "0                       0.0                           0.0   \n",
       "1                       0.0                           1.0   \n",
       "\n",
       "   action=authenticate          ...            device_type=Chromebook  \\\n",
       "0                  0.0          ...                               0.0   \n",
       "1                  0.0          ...                               0.0   \n",
       "\n",
       "   device_type=Linux Desktop  device_type=Mac Desktop  \\\n",
       "0                        0.0                      1.0   \n",
       "1                        0.0                      1.0   \n",
       "\n",
       "   device_type=Opera Phone  device_type=Tablet  device_type=Windows Desktop  \\\n",
       "0                      0.0                 0.0                          0.0   \n",
       "1                      0.0                 0.0                          0.0   \n",
       "\n",
       "   device_type=Windows Phone  device_type=iPad Tablet  device_type=iPhone  \\\n",
       "0                        0.0                      0.0                 0.0   \n",
       "1                        0.0                      0.0                 0.0   \n",
       "\n",
       "   device_type=iPodtouch  \n",
       "0                    0.0  \n",
       "1                    0.0  \n",
       "\n",
       "[2 rows x 76 columns]"
      ]
     },
     "execution_count": 25,
     "metadata": {},
     "output_type": "execute_result"
    }
   ],
   "source": [
    "sessions_df = encode_onehot(__sessions_df,['action','action_type','action_detail','device_type'])\n",
    "print sessions_df.shape\n",
    "print 'sessions data set with dummies:'\n",
    "sessions_df.head(2)"
   ]
  },
  {
   "cell_type": "code",
   "execution_count": 26,
   "metadata": {
    "collapsed": false
   },
   "outputs": [],
   "source": [
    "act = sessions_df.columns[2:-14]\n",
    "X = sessions_df[act]"
   ]
  },
  {
   "cell_type": "code",
   "execution_count": 2,
   "metadata": {
    "collapsed": true
   },
   "outputs": [],
   "source": [
    "from sklearn.decomposition import PCA \n",
    "from sklearn.preprocessing import StandardScaler"
   ]
  },
  {
   "cell_type": "code",
   "execution_count": 33,
   "metadata": {
    "collapsed": false
   },
   "outputs": [],
   "source": [
    "scaler = StandardScaler()\n",
    "X_scaled = scaler.fit_transform(X)"
   ]
  },
  {
   "cell_type": "code",
   "execution_count": 34,
   "metadata": {
    "collapsed": false
   },
   "outputs": [],
   "source": [
    "np.save('./x_scaled.npy',X_scaled)"
   ]
  },
  {
   "cell_type": "code",
   "execution_count": 31,
   "metadata": {
    "collapsed": false
   },
   "outputs": [
    {
     "data": {
      "text/plain": [
       "numpy.ndarray"
      ]
     },
     "execution_count": 31,
     "metadata": {},
     "output_type": "execute_result"
    }
   ],
   "source": [
    "type(X_scaled)"
   ]
  },
  {
   "cell_type": "code",
   "execution_count": 3,
   "metadata": {
    "collapsed": true
   },
   "outputs": [],
   "source": [
    "X_scaled = np.load('./x_scaled.npy')"
   ]
  },
  {
   "cell_type": "code",
   "execution_count": 4,
   "metadata": {
    "collapsed": false
   },
   "outputs": [],
   "source": [
    "pca = PCA()\n"
   ]
  },
  {
   "cell_type": "code",
   "execution_count": 5,
   "metadata": {
    "collapsed": false
   },
   "outputs": [],
   "source": [
    "# pca_data = pca.fit_transform(X_scaled)"
   ]
  },
  {
   "cell_type": "code",
   "execution_count": 11,
   "metadata": {
    "collapsed": false
   },
   "outputs": [
    {
     "data": {
      "text/plain": [
       "array([ 0.05916112,  0.05686092,  0.05231066,  0.0507281 ,  0.04808652,\n",
       "        0.04337903,  0.03680158,  0.03509411,  0.03386958,  0.03382426])"
      ]
     },
     "execution_count": 11,
     "metadata": {},
     "output_type": "execute_result"
    }
   ],
   "source": [
    "ratio = pca.explained_variance_ratio_\n",
    "ratio[:10]"
   ]
  },
  {
   "cell_type": "markdown",
   "metadata": {},
   "source": [
    "* ______________________________________________________________ **"
   ]
  },
  {
   "cell_type": "markdown",
   "metadata": {},
   "source": [
    "* How many actions (actions, action types and action details) is involved per user? \n",
    "* What are the top actions (actions, action types and action details) among users? Does it have any value for our calculations?\n",
    "* What are the most time consuming actions (actions and action types, action details)"
   ]
  },
  {
   "cell_type": "markdown",
   "metadata": {},
   "source": [
    "* How much time does a user spend on each session? (mean, std, sum)"
   ]
  },
  {
   "cell_type": "code",
   "execution_count": null,
   "metadata": {
    "collapsed": false,
    "scrolled": true
   },
   "outputs": [],
   "source": [
    "_2014_sessions_df.groupby(['user_id']).size().sort_values(ascending=False)"
   ]
  },
  {
   "cell_type": "code",
   "execution_count": null,
   "metadata": {
    "collapsed": false
   },
   "outputs": [],
   "source": [
    "id_stat =_2014_sessions_df.groupby(['user_id'])['secs_elapsed'].agg(['sum','mean','std', 'count'])"
   ]
  },
  {
   "cell_type": "code",
   "execution_count": null,
   "metadata": {
    "collapsed": false,
    "scrolled": true
   },
   "outputs": [],
   "source": [
    "id_stat.sort_values('count',ascending=False)"
   ]
  },
  {
   "cell_type": "code",
   "execution_count": null,
   "metadata": {
    "collapsed": false
   },
   "outputs": [],
   "source": [
    "action_details_df = pd.pivot_table(nonNDF_sessions_df_, values=['secs_elapsed'],\\\n",
    "                                          index=['action', 'action_detail'],aggfunc=[sum, np.mean,len],margins=True)\n",
    "print action_details_df.shape\n",
    "action_details_df.head()"
   ]
  },
  {
   "cell_type": "code",
   "execution_count": null,
   "metadata": {
    "collapsed": true
   },
   "outputs": [],
   "source": [
    "Tit_pivot_age_sex_effect = pd.pivot_table(Titanic_df, values=['survived'],columns=['sex'],\\\n",
    "                                          index=['age group'],aggfunc=[sum,len],margins=True)\n",
    "Tit_pivot_age_sex_effect['Female Survival Ratio %'] = ((Tit_pivot_age_sex_effect['sum'])\\\n",
    "                                                     ['survived'])['female']*100/((Tit_pivot_age_sex_effect['len'])\\\n",
    "                                                                                  ['survived'])['female']\n",
    "Tit_pivot_age_sex_effect['Male Survival Ratio %'] = ((Tit_pivot_age_sex_effect['sum'])\\\n",
    "                                                     ['survived'])['male']*100/((Tit_pivot_age_sex_effect['len'])\\\n",
    "                                                                                  ['survived'])['male']\n",
    "Tit_pivot_age_sex_effect['Age Group Survival Ratio %'] = ((Tit_pivot_age_sex_effect['sum'])\\\n",
    "                                                     ['survived'])['All']*100/((Tit_pivot_age_sex_effect['len'])\\\n",
    "                                                                                  ['survived'])['All']\n",
    "Tit_pivot_age_sex_effect"
   ]
  }
 ],
 "metadata": {
  "anaconda-cloud": {},
  "kernelspec": {
   "display_name": "Python [default]",
   "language": "python",
   "name": "python2"
  },
  "language_info": {
   "codemirror_mode": {
    "name": "ipython",
    "version": 2
   },
   "file_extension": ".py",
   "mimetype": "text/x-python",
   "name": "python",
   "nbconvert_exporter": "python",
   "pygments_lexer": "ipython2",
   "version": "2.7.12"
  }
 },
 "nbformat": 4,
 "nbformat_minor": 1
}
