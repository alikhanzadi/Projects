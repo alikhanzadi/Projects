{
 "cells": [
  {
   "cell_type": "code",
   "execution_count": 1,
   "metadata": {
    "collapsed": true
   },
   "outputs": [],
   "source": [
    "import pandas as pd\n",
    "import numpy as np"
   ]
  },
  {
   "cell_type": "markdown",
   "metadata": {},
   "source": [
    "-----------------------------------------------------\n",
    "## Age gender buckets"
   ]
  },
  {
   "cell_type": "code",
   "execution_count": 2,
   "metadata": {
    "collapsed": false,
    "scrolled": true
   },
   "outputs": [
    {
     "name": "stdout",
     "output_type": "stream",
     "text": [
      "(420, 5)\n"
     ]
    },
    {
     "data": {
      "text/html": [
       "<div>\n",
       "<table border=\"1\" class=\"dataframe\">\n",
       "  <thead>\n",
       "    <tr style=\"text-align: right;\">\n",
       "      <th></th>\n",
       "      <th>age_bucket</th>\n",
       "      <th>country_destination</th>\n",
       "      <th>gender</th>\n",
       "      <th>population_in_thousands</th>\n",
       "      <th>year</th>\n",
       "    </tr>\n",
       "  </thead>\n",
       "  <tbody>\n",
       "    <tr>\n",
       "      <th>0</th>\n",
       "      <td>100+</td>\n",
       "      <td>AU</td>\n",
       "      <td>male</td>\n",
       "      <td>1.0</td>\n",
       "      <td>2015.0</td>\n",
       "    </tr>\n",
       "  </tbody>\n",
       "</table>\n",
       "</div>"
      ],
      "text/plain": [
       "  age_bucket country_destination gender  population_in_thousands    year\n",
       "0       100+                  AU   male                      1.0  2015.0"
      ]
     },
     "execution_count": 2,
     "metadata": {},
     "output_type": "execute_result"
    }
   ],
   "source": [
    "age_gender_df = pd.read_csv('./assets/age_gender_bkts.csv/age_gender_bkts.csv')\n",
    "print age_gender_df.shape\n",
    "age_gender_df.head(1)"
   ]
  },
  {
   "cell_type": "code",
   "execution_count": 3,
   "metadata": {
    "collapsed": false
   },
   "outputs": [
    {
     "data": {
      "text/html": [
       "<div>\n",
       "<table border=\"1\" class=\"dataframe\">\n",
       "  <thead>\n",
       "    <tr>\n",
       "      <th></th>\n",
       "      <th colspan=\"10\" halign=\"left\">population_in_thousands</th>\n",
       "    </tr>\n",
       "    <tr>\n",
       "      <th>country_destination</th>\n",
       "      <th>AU</th>\n",
       "      <th>CA</th>\n",
       "      <th>DE</th>\n",
       "      <th>ES</th>\n",
       "      <th>FR</th>\n",
       "      <th>GB</th>\n",
       "      <th>IT</th>\n",
       "      <th>NL</th>\n",
       "      <th>PT</th>\n",
       "      <th>US</th>\n",
       "    </tr>\n",
       "    <tr>\n",
       "      <th>age_bucket</th>\n",
       "      <th></th>\n",
       "      <th></th>\n",
       "      <th></th>\n",
       "      <th></th>\n",
       "      <th></th>\n",
       "      <th></th>\n",
       "      <th></th>\n",
       "      <th></th>\n",
       "      <th></th>\n",
       "      <th></th>\n",
       "    </tr>\n",
       "  </thead>\n",
       "  <tbody>\n",
       "    <tr>\n",
       "      <th>0-4</th>\n",
       "      <td>1605.0</td>\n",
       "      <td>2036.0</td>\n",
       "      <td>3524.0</td>\n",
       "      <td>2470.0</td>\n",
       "      <td>3973.0</td>\n",
       "      <td>3869.0</td>\n",
       "      <td>2851.0</td>\n",
       "      <td>900.0</td>\n",
       "      <td>464.0</td>\n",
       "      <td>21094.0</td>\n",
       "    </tr>\n",
       "    <tr>\n",
       "      <th>10-14</th>\n",
       "      <td>1450.0</td>\n",
       "      <td>1912.0</td>\n",
       "      <td>3692.0</td>\n",
       "      <td>2313.0</td>\n",
       "      <td>3879.0</td>\n",
       "      <td>3461.0</td>\n",
       "      <td>2856.0</td>\n",
       "      <td>1010.0</td>\n",
       "      <td>554.0</td>\n",
       "      <td>21117.0</td>\n",
       "    </tr>\n",
       "    <tr>\n",
       "      <th>100+</th>\n",
       "      <td>5.0</td>\n",
       "      <td>8.0</td>\n",
       "      <td>17.0</td>\n",
       "      <td>12.0</td>\n",
       "      <td>22.0</td>\n",
       "      <td>16.0</td>\n",
       "      <td>18.0</td>\n",
       "      <td>2.0</td>\n",
       "      <td>1.0</td>\n",
       "      <td>74.0</td>\n",
       "    </tr>\n",
       "    <tr>\n",
       "      <th>15-19</th>\n",
       "      <td>1505.0</td>\n",
       "      <td>2063.0</td>\n",
       "      <td>4050.0</td>\n",
       "      <td>2114.0</td>\n",
       "      <td>3932.0</td>\n",
       "      <td>3647.0</td>\n",
       "      <td>2904.0</td>\n",
       "      <td>994.0</td>\n",
       "      <td>543.0</td>\n",
       "      <td>21595.0</td>\n",
       "    </tr>\n",
       "    <tr>\n",
       "      <th>20-24</th>\n",
       "      <td>1607.0</td>\n",
       "      <td>2362.0</td>\n",
       "      <td>4427.0</td>\n",
       "      <td>2281.0</td>\n",
       "      <td>3987.0</td>\n",
       "      <td>4018.0</td>\n",
       "      <td>3115.0</td>\n",
       "      <td>1031.0</td>\n",
       "      <td>560.0</td>\n",
       "      <td>22695.0</td>\n",
       "    </tr>\n",
       "    <tr>\n",
       "      <th>25-29</th>\n",
       "      <td>1746.0</td>\n",
       "      <td>2493.0</td>\n",
       "      <td>5088.0</td>\n",
       "      <td>2627.0</td>\n",
       "      <td>4122.0</td>\n",
       "      <td>4335.0</td>\n",
       "      <td>3283.0</td>\n",
       "      <td>1023.0</td>\n",
       "      <td>608.0</td>\n",
       "      <td>22396.0</td>\n",
       "    </tr>\n",
       "    <tr>\n",
       "      <th>30-34</th>\n",
       "      <td>1746.0</td>\n",
       "      <td>2502.0</td>\n",
       "      <td>5198.0</td>\n",
       "      <td>3394.0</td>\n",
       "      <td>4081.0</td>\n",
       "      <td>4302.0</td>\n",
       "      <td>3605.0</td>\n",
       "      <td>1000.0</td>\n",
       "      <td>733.0</td>\n",
       "      <td>21847.0</td>\n",
       "    </tr>\n",
       "    <tr>\n",
       "      <th>35-39</th>\n",
       "      <td>1598.0</td>\n",
       "      <td>2381.0</td>\n",
       "      <td>4850.0</td>\n",
       "      <td>4083.0</td>\n",
       "      <td>3698.0</td>\n",
       "      <td>3943.0</td>\n",
       "      <td>4207.0</td>\n",
       "      <td>980.0</td>\n",
       "      <td>833.0</td>\n",
       "      <td>20681.0</td>\n",
       "    </tr>\n",
       "    <tr>\n",
       "      <th>40-44</th>\n",
       "      <td>1658.0</td>\n",
       "      <td>2348.0</td>\n",
       "      <td>5192.0</td>\n",
       "      <td>3976.0</td>\n",
       "      <td>4443.0</td>\n",
       "      <td>4248.0</td>\n",
       "      <td>4839.0</td>\n",
       "      <td>1165.0</td>\n",
       "      <td>834.0</td>\n",
       "      <td>20467.0</td>\n",
       "    </tr>\n",
       "    <tr>\n",
       "      <th>45-49</th>\n",
       "      <td>1571.0</td>\n",
       "      <td>2449.0</td>\n",
       "      <td>6882.0</td>\n",
       "      <td>3761.0</td>\n",
       "      <td>4414.0</td>\n",
       "      <td>4650.0</td>\n",
       "      <td>4956.0</td>\n",
       "      <td>1287.0</td>\n",
       "      <td>781.0</td>\n",
       "      <td>21113.0</td>\n",
       "    </tr>\n",
       "    <tr>\n",
       "      <th>5-9</th>\n",
       "      <td>1529.0</td>\n",
       "      <td>1971.0</td>\n",
       "      <td>3471.0</td>\n",
       "      <td>2542.0</td>\n",
       "      <td>3906.0</td>\n",
       "      <td>3920.0</td>\n",
       "      <td>2868.0</td>\n",
       "      <td>923.0</td>\n",
       "      <td>514.0</td>\n",
       "      <td>20833.0</td>\n",
       "    </tr>\n",
       "    <tr>\n",
       "      <th>50-54</th>\n",
       "      <td>1576.0</td>\n",
       "      <td>2791.0</td>\n",
       "      <td>7127.0</td>\n",
       "      <td>3460.0</td>\n",
       "      <td>4357.0</td>\n",
       "      <td>4526.0</td>\n",
       "      <td>4695.0</td>\n",
       "      <td>1282.0</td>\n",
       "      <td>775.0</td>\n",
       "      <td>22426.0</td>\n",
       "    </tr>\n",
       "    <tr>\n",
       "      <th>55-59</th>\n",
       "      <td>1453.0</td>\n",
       "      <td>2592.0</td>\n",
       "      <td>5979.0</td>\n",
       "      <td>3010.0</td>\n",
       "      <td>4064.0</td>\n",
       "      <td>3916.0</td>\n",
       "      <td>4045.0</td>\n",
       "      <td>1161.0</td>\n",
       "      <td>709.0</td>\n",
       "      <td>21953.0</td>\n",
       "    </tr>\n",
       "    <tr>\n",
       "      <th>60-64</th>\n",
       "      <td>1296.0</td>\n",
       "      <td>2236.0</td>\n",
       "      <td>5374.0</td>\n",
       "      <td>2551.0</td>\n",
       "      <td>3956.0</td>\n",
       "      <td>3468.0</td>\n",
       "      <td>3629.0</td>\n",
       "      <td>1047.0</td>\n",
       "      <td>649.0</td>\n",
       "      <td>19221.0</td>\n",
       "    </tr>\n",
       "    <tr>\n",
       "      <th>65-69</th>\n",
       "      <td>1166.0</td>\n",
       "      <td>1887.0</td>\n",
       "      <td>4137.0</td>\n",
       "      <td>2370.0</td>\n",
       "      <td>3765.0</td>\n",
       "      <td>3593.0</td>\n",
       "      <td>3609.0</td>\n",
       "      <td>1045.0</td>\n",
       "      <td>580.0</td>\n",
       "      <td>16044.0</td>\n",
       "    </tr>\n",
       "    <tr>\n",
       "      <th>70-74</th>\n",
       "      <td>853.0</td>\n",
       "      <td>1365.0</td>\n",
       "      <td>4461.0</td>\n",
       "      <td>1920.0</td>\n",
       "      <td>2420.0</td>\n",
       "      <td>2695.0</td>\n",
       "      <td>2905.0</td>\n",
       "      <td>726.0</td>\n",
       "      <td>484.0</td>\n",
       "      <td>11457.0</td>\n",
       "    </tr>\n",
       "    <tr>\n",
       "      <th>75-79</th>\n",
       "      <td>636.0</td>\n",
       "      <td>976.0</td>\n",
       "      <td>4353.0</td>\n",
       "      <td>1594.0</td>\n",
       "      <td>2141.0</td>\n",
       "      <td>2144.0</td>\n",
       "      <td>2725.0</td>\n",
       "      <td>541.0</td>\n",
       "      <td>421.0</td>\n",
       "      <td>8173.0</td>\n",
       "    </tr>\n",
       "    <tr>\n",
       "      <th>80-84</th>\n",
       "      <td>451.0</td>\n",
       "      <td>740.0</td>\n",
       "      <td>2502.0</td>\n",
       "      <td>1402.0</td>\n",
       "      <td>1849.0</td>\n",
       "      <td>1557.0</td>\n",
       "      <td>2039.0</td>\n",
       "      <td>389.0</td>\n",
       "      <td>316.0</td>\n",
       "      <td>5836.0</td>\n",
       "    </tr>\n",
       "    <tr>\n",
       "      <th>85-89</th>\n",
       "      <td>297.0</td>\n",
       "      <td>483.0</td>\n",
       "      <td>1505.0</td>\n",
       "      <td>869.0</td>\n",
       "      <td>1243.0</td>\n",
       "      <td>967.0</td>\n",
       "      <td>1295.0</td>\n",
       "      <td>229.0</td>\n",
       "      <td>174.0</td>\n",
       "      <td>3900.0</td>\n",
       "    </tr>\n",
       "    <tr>\n",
       "      <th>90-94</th>\n",
       "      <td>141.0</td>\n",
       "      <td>221.0</td>\n",
       "      <td>645.0</td>\n",
       "      <td>368.0</td>\n",
       "      <td>629.0</td>\n",
       "      <td>455.0</td>\n",
       "      <td>600.0</td>\n",
       "      <td>94.0</td>\n",
       "      <td>64.0</td>\n",
       "      <td>1734.0</td>\n",
       "    </tr>\n",
       "    <tr>\n",
       "      <th>95-99</th>\n",
       "      <td>34.0</td>\n",
       "      <td>55.0</td>\n",
       "      <td>88.0</td>\n",
       "      <td>86.0</td>\n",
       "      <td>102.0</td>\n",
       "      <td>110.0</td>\n",
       "      <td>101.0</td>\n",
       "      <td>19.0</td>\n",
       "      <td>12.0</td>\n",
       "      <td>476.0</td>\n",
       "    </tr>\n",
       "  </tbody>\n",
       "</table>\n",
       "</div>"
      ],
      "text/plain": [
       "                    population_in_thousands                                  \\\n",
       "country_destination                      AU      CA      DE      ES      FR   \n",
       "age_bucket                                                                    \n",
       "0-4                                  1605.0  2036.0  3524.0  2470.0  3973.0   \n",
       "10-14                                1450.0  1912.0  3692.0  2313.0  3879.0   \n",
       "100+                                    5.0     8.0    17.0    12.0    22.0   \n",
       "15-19                                1505.0  2063.0  4050.0  2114.0  3932.0   \n",
       "20-24                                1607.0  2362.0  4427.0  2281.0  3987.0   \n",
       "25-29                                1746.0  2493.0  5088.0  2627.0  4122.0   \n",
       "30-34                                1746.0  2502.0  5198.0  3394.0  4081.0   \n",
       "35-39                                1598.0  2381.0  4850.0  4083.0  3698.0   \n",
       "40-44                                1658.0  2348.0  5192.0  3976.0  4443.0   \n",
       "45-49                                1571.0  2449.0  6882.0  3761.0  4414.0   \n",
       "5-9                                  1529.0  1971.0  3471.0  2542.0  3906.0   \n",
       "50-54                                1576.0  2791.0  7127.0  3460.0  4357.0   \n",
       "55-59                                1453.0  2592.0  5979.0  3010.0  4064.0   \n",
       "60-64                                1296.0  2236.0  5374.0  2551.0  3956.0   \n",
       "65-69                                1166.0  1887.0  4137.0  2370.0  3765.0   \n",
       "70-74                                 853.0  1365.0  4461.0  1920.0  2420.0   \n",
       "75-79                                 636.0   976.0  4353.0  1594.0  2141.0   \n",
       "80-84                                 451.0   740.0  2502.0  1402.0  1849.0   \n",
       "85-89                                 297.0   483.0  1505.0   869.0  1243.0   \n",
       "90-94                                 141.0   221.0   645.0   368.0   629.0   \n",
       "95-99                                  34.0    55.0    88.0    86.0   102.0   \n",
       "\n",
       "                                                             \n",
       "country_destination      GB      IT      NL     PT       US  \n",
       "age_bucket                                                   \n",
       "0-4                  3869.0  2851.0   900.0  464.0  21094.0  \n",
       "10-14                3461.0  2856.0  1010.0  554.0  21117.0  \n",
       "100+                   16.0    18.0     2.0    1.0     74.0  \n",
       "15-19                3647.0  2904.0   994.0  543.0  21595.0  \n",
       "20-24                4018.0  3115.0  1031.0  560.0  22695.0  \n",
       "25-29                4335.0  3283.0  1023.0  608.0  22396.0  \n",
       "30-34                4302.0  3605.0  1000.0  733.0  21847.0  \n",
       "35-39                3943.0  4207.0   980.0  833.0  20681.0  \n",
       "40-44                4248.0  4839.0  1165.0  834.0  20467.0  \n",
       "45-49                4650.0  4956.0  1287.0  781.0  21113.0  \n",
       "5-9                  3920.0  2868.0   923.0  514.0  20833.0  \n",
       "50-54                4526.0  4695.0  1282.0  775.0  22426.0  \n",
       "55-59                3916.0  4045.0  1161.0  709.0  21953.0  \n",
       "60-64                3468.0  3629.0  1047.0  649.0  19221.0  \n",
       "65-69                3593.0  3609.0  1045.0  580.0  16044.0  \n",
       "70-74                2695.0  2905.0   726.0  484.0  11457.0  \n",
       "75-79                2144.0  2725.0   541.0  421.0   8173.0  \n",
       "80-84                1557.0  2039.0   389.0  316.0   5836.0  \n",
       "85-89                 967.0  1295.0   229.0  174.0   3900.0  \n",
       "90-94                 455.0   600.0    94.0   64.0   1734.0  \n",
       "95-99                 110.0   101.0    19.0   12.0    476.0  "
      ]
     },
     "execution_count": 3,
     "metadata": {},
     "output_type": "execute_result"
    }
   ],
   "source": [
    "pd.pivot_table(age_gender_df,index=['age_bucket'],\\\n",
    "               columns=['country_destination'],values=['population_in_thousands'], aggfunc='sum')"
   ]
  },
  {
   "cell_type": "code",
   "execution_count": 21,
   "metadata": {
    "collapsed": false
   },
   "outputs": [
    {
     "data": {
      "text/plain": [
       "country_destination\n",
       "AU     23923.0\n",
       "CA     35871.0\n",
       "DE     82562.0\n",
       "ES     47203.0\n",
       "FR     64983.0\n",
       "GB     63840.0\n",
       "IT     61145.0\n",
       "NL     16848.0\n",
       "PT     10609.0\n",
       "US    325132.0\n",
       "Name: population_in_thousands, dtype: float64"
      ]
     },
     "execution_count": 21,
     "metadata": {},
     "output_type": "execute_result"
    }
   ],
   "source": [
    "age_gender_df.groupby('country_destination')['population_in_thousands'].agg('sum').head(50)"
   ]
  },
  {
   "cell_type": "code",
   "execution_count": 7,
   "metadata": {
    "collapsed": false,
    "scrolled": true
   },
   "outputs": [
    {
     "data": {
      "text/html": [
       "<div>\n",
       "<table border=\"1\" class=\"dataframe\">\n",
       "  <thead>\n",
       "    <tr style=\"text-align: right;\">\n",
       "      <th></th>\n",
       "      <th>population_in_thousands</th>\n",
       "      <th>year</th>\n",
       "    </tr>\n",
       "  </thead>\n",
       "  <tbody>\n",
       "    <tr>\n",
       "      <th>count</th>\n",
       "      <td>420.000000</td>\n",
       "      <td>420.0</td>\n",
       "    </tr>\n",
       "    <tr>\n",
       "      <th>mean</th>\n",
       "      <td>1743.133333</td>\n",
       "      <td>2015.0</td>\n",
       "    </tr>\n",
       "    <tr>\n",
       "      <th>std</th>\n",
       "      <td>2509.843202</td>\n",
       "      <td>0.0</td>\n",
       "    </tr>\n",
       "    <tr>\n",
       "      <th>min</th>\n",
       "      <td>0.000000</td>\n",
       "      <td>2015.0</td>\n",
       "    </tr>\n",
       "    <tr>\n",
       "      <th>25%</th>\n",
       "      <td>396.500000</td>\n",
       "      <td>2015.0</td>\n",
       "    </tr>\n",
       "    <tr>\n",
       "      <th>50%</th>\n",
       "      <td>1090.500000</td>\n",
       "      <td>2015.0</td>\n",
       "    </tr>\n",
       "    <tr>\n",
       "      <th>75%</th>\n",
       "      <td>1968.000000</td>\n",
       "      <td>2015.0</td>\n",
       "    </tr>\n",
       "    <tr>\n",
       "      <th>max</th>\n",
       "      <td>11601.000000</td>\n",
       "      <td>2015.0</td>\n",
       "    </tr>\n",
       "  </tbody>\n",
       "</table>\n",
       "</div>"
      ],
      "text/plain": [
       "       population_in_thousands    year\n",
       "count               420.000000   420.0\n",
       "mean               1743.133333  2015.0\n",
       "std                2509.843202     0.0\n",
       "min                   0.000000  2015.0\n",
       "25%                 396.500000  2015.0\n",
       "50%                1090.500000  2015.0\n",
       "75%                1968.000000  2015.0\n",
       "max               11601.000000  2015.0"
      ]
     },
     "execution_count": 7,
     "metadata": {},
     "output_type": "execute_result"
    }
   ],
   "source": [
    "age_gender_df.describe()"
   ]
  },
  {
   "cell_type": "code",
   "execution_count": 23,
   "metadata": {
    "collapsed": false
   },
   "outputs": [
    {
     "name": "stdout",
     "output_type": "stream",
     "text": [
      "<class 'pandas.core.frame.DataFrame'>\n",
      "RangeIndex: 420 entries, 0 to 419\n",
      "Data columns (total 5 columns):\n",
      "age_bucket                 420 non-null object\n",
      "country_destination        420 non-null object\n",
      "gender                     420 non-null object\n",
      "population_in_thousands    420 non-null float64\n",
      "year                       420 non-null float64\n",
      "dtypes: float64(2), object(3)\n",
      "memory usage: 16.5+ KB\n"
     ]
    }
   ],
   "source": [
    "age_gender_df.info()"
   ]
  },
  {
   "cell_type": "markdown",
   "metadata": {},
   "source": [
    "Population_in_thousands column refer to the population of the entire country (divided into age and gender buckets)."
   ]
  },
  {
   "cell_type": "code",
   "execution_count": 19,
   "metadata": {
    "collapsed": false,
    "scrolled": true
   },
   "outputs": [
    {
     "data": {
      "text/plain": [
       "array(['100+', '95-99', '90-94', '85-89', '80-84', '75-79', '70-74',\n",
       "       '65-69', '60-64', '55-59', '50-54', '45-49', '40-44', '35-39',\n",
       "       '30-34', '25-29', '20-24', '15-19', '10-14', '5-9', '0-4'], dtype=object)"
      ]
     },
     "execution_count": 19,
     "metadata": {},
     "output_type": "execute_result"
    }
   ],
   "source": [
    "age_gender_df['age_bucket'].unique()"
   ]
  },
  {
   "cell_type": "code",
   "execution_count": 22,
   "metadata": {
    "collapsed": false
   },
   "outputs": [
    {
     "name": "stdout",
     "output_type": "stream",
     "text": [
      "10\n"
     ]
    },
    {
     "data": {
      "text/plain": [
       "array(['AU', 'CA', 'DE', 'ES', 'FR', 'GB', 'IT', 'NL', 'PT', 'US'], dtype=object)"
      ]
     },
     "execution_count": 22,
     "metadata": {},
     "output_type": "execute_result"
    }
   ],
   "source": [
    "print (len(age_gender_df['country_destination'].unique()))\n",
    "age_gender_df['country_destination'].unique()"
   ]
  },
  {
   "cell_type": "code",
   "execution_count": null,
   "metadata": {
    "collapsed": true
   },
   "outputs": [],
   "source": []
  },
  {
   "cell_type": "markdown",
   "metadata": {},
   "source": [
    "-----------------------------------------------------\n",
    "## Countries"
   ]
  },
  {
   "cell_type": "code",
   "execution_count": 25,
   "metadata": {
    "collapsed": false
   },
   "outputs": [
    {
     "name": "stdout",
     "output_type": "stream",
     "text": [
      "(10, 7)\n"
     ]
    },
    {
     "data": {
      "text/html": [
       "<div>\n",
       "<table border=\"1\" class=\"dataframe\">\n",
       "  <thead>\n",
       "    <tr style=\"text-align: right;\">\n",
       "      <th></th>\n",
       "      <th>country_destination</th>\n",
       "      <th>lat_destination</th>\n",
       "      <th>lng_destination</th>\n",
       "      <th>distance_km</th>\n",
       "      <th>destination_km2</th>\n",
       "      <th>destination_language</th>\n",
       "      <th>language_levenshtein_distance</th>\n",
       "    </tr>\n",
       "  </thead>\n",
       "  <tbody>\n",
       "    <tr>\n",
       "      <th>0</th>\n",
       "      <td>AU</td>\n",
       "      <td>-26.853388</td>\n",
       "      <td>133.275160</td>\n",
       "      <td>15297.7440</td>\n",
       "      <td>7741220.0</td>\n",
       "      <td>eng</td>\n",
       "      <td>0.00</td>\n",
       "    </tr>\n",
       "    <tr>\n",
       "      <th>1</th>\n",
       "      <td>CA</td>\n",
       "      <td>62.393303</td>\n",
       "      <td>-96.818146</td>\n",
       "      <td>2828.1333</td>\n",
       "      <td>9984670.0</td>\n",
       "      <td>eng</td>\n",
       "      <td>0.00</td>\n",
       "    </tr>\n",
       "    <tr>\n",
       "      <th>2</th>\n",
       "      <td>DE</td>\n",
       "      <td>51.165707</td>\n",
       "      <td>10.452764</td>\n",
       "      <td>7879.5680</td>\n",
       "      <td>357022.0</td>\n",
       "      <td>deu</td>\n",
       "      <td>72.61</td>\n",
       "    </tr>\n",
       "    <tr>\n",
       "      <th>3</th>\n",
       "      <td>ES</td>\n",
       "      <td>39.896027</td>\n",
       "      <td>-2.487694</td>\n",
       "      <td>7730.7240</td>\n",
       "      <td>505370.0</td>\n",
       "      <td>spa</td>\n",
       "      <td>92.25</td>\n",
       "    </tr>\n",
       "    <tr>\n",
       "      <th>4</th>\n",
       "      <td>FR</td>\n",
       "      <td>46.232193</td>\n",
       "      <td>2.209667</td>\n",
       "      <td>7682.9450</td>\n",
       "      <td>643801.0</td>\n",
       "      <td>fra</td>\n",
       "      <td>92.06</td>\n",
       "    </tr>\n",
       "  </tbody>\n",
       "</table>\n",
       "</div>"
      ],
      "text/plain": [
       "  country_destination  lat_destination  lng_destination  distance_km  \\\n",
       "0                  AU       -26.853388       133.275160   15297.7440   \n",
       "1                  CA        62.393303       -96.818146    2828.1333   \n",
       "2                  DE        51.165707        10.452764    7879.5680   \n",
       "3                  ES        39.896027        -2.487694    7730.7240   \n",
       "4                  FR        46.232193         2.209667    7682.9450   \n",
       "\n",
       "   destination_km2 destination_language   language_levenshtein_distance  \n",
       "0        7741220.0                   eng                           0.00  \n",
       "1        9984670.0                   eng                           0.00  \n",
       "2         357022.0                   deu                          72.61  \n",
       "3         505370.0                   spa                          92.25  \n",
       "4         643801.0                   fra                          92.06  "
      ]
     },
     "execution_count": 25,
     "metadata": {},
     "output_type": "execute_result"
    }
   ],
   "source": [
    "countries_df = pd.read_csv('./assets/countries.csv/countries.csv')\n",
    "print coutnries_df.shape\n",
    "coutnries_df.head()"
   ]
  },
  {
   "cell_type": "code",
   "execution_count": 26,
   "metadata": {
    "collapsed": false
   },
   "outputs": [
    {
     "name": "stdout",
     "output_type": "stream",
     "text": [
      "<class 'pandas.core.frame.DataFrame'>\n",
      "RangeIndex: 10 entries, 0 to 9\n",
      "Data columns (total 7 columns):\n",
      "country_destination              10 non-null object\n",
      "lat_destination                  10 non-null float64\n",
      "lng_destination                  10 non-null float64\n",
      "distance_km                      10 non-null float64\n",
      "destination_km2                  10 non-null float64\n",
      "destination_language             10 non-null object\n",
      "language_levenshtein_distance    10 non-null float64\n",
      "dtypes: float64(5), object(2)\n",
      "memory usage: 632.0+ bytes\n"
     ]
    }
   ],
   "source": [
    "countries_df.info()"
   ]
  },
  {
   "cell_type": "code",
   "execution_count": 27,
   "metadata": {
    "collapsed": false
   },
   "outputs": [
    {
     "data": {
      "text/html": [
       "<div>\n",
       "<table border=\"1\" class=\"dataframe\">\n",
       "  <thead>\n",
       "    <tr style=\"text-align: right;\">\n",
       "      <th></th>\n",
       "      <th>lat_destination</th>\n",
       "      <th>lng_destination</th>\n",
       "      <th>distance_km</th>\n",
       "      <th>destination_km2</th>\n",
       "      <th>language_levenshtein_distance</th>\n",
       "    </tr>\n",
       "  </thead>\n",
       "  <tbody>\n",
       "    <tr>\n",
       "      <th>count</th>\n",
       "      <td>10.000000</td>\n",
       "      <td>10.000000</td>\n",
       "      <td>10.000000</td>\n",
       "      <td>1.000000e+01</td>\n",
       "      <td>10.00000</td>\n",
       "    </tr>\n",
       "    <tr>\n",
       "      <th>mean</th>\n",
       "      <td>39.799398</td>\n",
       "      <td>-4.262446</td>\n",
       "      <td>7181.897800</td>\n",
       "      <td>2.973734e+06</td>\n",
       "      <td>50.49900</td>\n",
       "    </tr>\n",
       "    <tr>\n",
       "      <th>std</th>\n",
       "      <td>24.739112</td>\n",
       "      <td>63.700585</td>\n",
       "      <td>3941.141734</td>\n",
       "      <td>4.329619e+06</td>\n",
       "      <td>44.54169</td>\n",
       "    </tr>\n",
       "    <tr>\n",
       "      <th>min</th>\n",
       "      <td>-26.853388</td>\n",
       "      <td>-96.818146</td>\n",
       "      <td>0.000000</td>\n",
       "      <td>4.154300e+04</td>\n",
       "      <td>0.00000</td>\n",
       "    </tr>\n",
       "    <tr>\n",
       "      <th>25%</th>\n",
       "      <td>39.639090</td>\n",
       "      <td>-6.737559</td>\n",
       "      <td>7001.557600</td>\n",
       "      <td>2.580425e+05</td>\n",
       "      <td>0.00000</td>\n",
       "    </tr>\n",
       "    <tr>\n",
       "      <th>50%</th>\n",
       "      <td>44.053092</td>\n",
       "      <td>-0.139014</td>\n",
       "      <td>7603.632650</td>\n",
       "      <td>4.311960e+05</td>\n",
       "      <td>67.91500</td>\n",
       "    </tr>\n",
       "    <tr>\n",
       "      <th>75%</th>\n",
       "      <td>51.891219</td>\n",
       "      <td>9.163386</td>\n",
       "      <td>7842.357000</td>\n",
       "      <td>5.966865e+06</td>\n",
       "      <td>91.39500</td>\n",
       "    </tr>\n",
       "    <tr>\n",
       "      <th>max</th>\n",
       "      <td>62.393303</td>\n",
       "      <td>133.275160</td>\n",
       "      <td>15297.744000</td>\n",
       "      <td>9.984670e+06</td>\n",
       "      <td>95.45000</td>\n",
       "    </tr>\n",
       "  </tbody>\n",
       "</table>\n",
       "</div>"
      ],
      "text/plain": [
       "       lat_destination  lng_destination   distance_km  destination_km2  \\\n",
       "count        10.000000        10.000000     10.000000     1.000000e+01   \n",
       "mean         39.799398        -4.262446   7181.897800     2.973734e+06   \n",
       "std          24.739112        63.700585   3941.141734     4.329619e+06   \n",
       "min         -26.853388       -96.818146      0.000000     4.154300e+04   \n",
       "25%          39.639090        -6.737559   7001.557600     2.580425e+05   \n",
       "50%          44.053092        -0.139014   7603.632650     4.311960e+05   \n",
       "75%          51.891219         9.163386   7842.357000     5.966865e+06   \n",
       "max          62.393303       133.275160  15297.744000     9.984670e+06   \n",
       "\n",
       "       language_levenshtein_distance  \n",
       "count                       10.00000  \n",
       "mean                        50.49900  \n",
       "std                         44.54169  \n",
       "min                          0.00000  \n",
       "25%                          0.00000  \n",
       "50%                         67.91500  \n",
       "75%                         91.39500  \n",
       "max                         95.45000  "
      ]
     },
     "execution_count": 27,
     "metadata": {},
     "output_type": "execute_result"
    }
   ],
   "source": [
    "countries_df.describe()"
   ]
  },
  {
   "cell_type": "code",
   "execution_count": 30,
   "metadata": {
    "collapsed": false,
    "scrolled": true
   },
   "outputs": [
    {
     "name": "stdout",
     "output_type": "stream",
     "text": [
      "7\n"
     ]
    },
    {
     "data": {
      "text/plain": [
       "array(['eng', 'deu', 'spa', 'fra', 'ita', 'nld', 'por'], dtype=object)"
      ]
     },
     "execution_count": 30,
     "metadata": {},
     "output_type": "execute_result"
    }
   ],
   "source": [
    "print (len(countries_df['destination_language '].unique()))\n",
    "countries_df['destination_language '].unique()"
   ]
  },
  {
   "cell_type": "code",
   "execution_count": 31,
   "metadata": {
    "collapsed": false
   },
   "outputs": [
    {
     "name": "stdout",
     "output_type": "stream",
     "text": [
      "7\n"
     ]
    },
    {
     "data": {
      "text/plain": [
       "array([  0.  ,  72.61,  92.25,  92.06,  89.4 ,  63.22,  95.45])"
      ]
     },
     "execution_count": 31,
     "metadata": {},
     "output_type": "execute_result"
    }
   ],
   "source": [
    "print (len(countries_df['language_levenshtein_distance'].unique()))\n",
    "countries_df['language_levenshtein_distance'].unique()"
   ]
  }
 ],
 "metadata": {
  "anaconda-cloud": {},
  "kernelspec": {
   "display_name": "Python [default]",
   "language": "python",
   "name": "python2"
  },
  "language_info": {
   "codemirror_mode": {
    "name": "ipython",
    "version": 2
   },
   "file_extension": ".py",
   "mimetype": "text/x-python",
   "name": "python",
   "nbconvert_exporter": "python",
   "pygments_lexer": "ipython2",
   "version": "2.7.12"
  }
 },
 "nbformat": 4,
 "nbformat_minor": 1
}
