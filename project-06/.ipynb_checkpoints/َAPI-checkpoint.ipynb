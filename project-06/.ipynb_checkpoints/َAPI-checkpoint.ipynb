{
 "cells": [
  {
   "cell_type": "code",
   "execution_count": null,
   "metadata": {
    "collapsed": true
   },
   "outputs": [],
   "source": [
    "from requests import get\n",
    "from urllib import quote"
   ]
  },
  {
   "cell_type": "code",
   "execution_count": null,
   "metadata": {
    "collapsed": true
   },
   "outputs": [],
   "source": [
    "base_url = \"https://en.wikipedia.org/w/api.php\""
   ]
  },
  {
   "cell_type": "code",
   "execution_count": null,
   "metadata": {
    "collapsed": true
   },
   "outputs": [],
   "source": []
  },
  {
   "cell_type": "code",
   "execution_count": null,
   "metadata": {
    "collapsed": true
   },
   "outputs": [],
   "source": []
  },
  {
   "cell_type": "code",
   "execution_count": null,
   "metadata": {
    "collapsed": true
   },
   "outputs": [],
   "source": []
  },
  {
   "cell_type": "code",
   "execution_count": null,
   "metadata": {
    "collapsed": true
   },
   "outputs": [],
   "source": [
    "# The first will format a python dictionary into a query string to be \n",
    "# attached to an API.\n",
    "def create_query_param_string(params):\n",
    "    param_list = [key+'='+str(value) for key, value in params.items()]\n",
    "    return '?'+'&'.join(param_list)\n",
    "\n",
    "# The second will reformat a page string for the Wikipedia format where \n",
    "# all strings are lowercase with underscores instead of spaces.\n",
    "def wikipedia_page_format(page):\n",
    "    return page.lower().capitalize().replace(' ','_')\n",
    "\n",
    "# These helper functions help us parse JSON responses to discard metadata \n",
    "# corresponding to the response.\n",
    "def parse_pages_from_json(response_json):\n",
    "    return response_json['query']['pages']\n",
    "def parse_headings_from_json(response_json):\n",
    "    return response_json['mobileview']['sections']\n",
    "def parse_category_pages_from_json(response_json):\n",
    "    return response.json()['query']['categorymembers']\n",
    "\n",
    "# Get Pages for a Categoryح\n",
    "def wikipedia_get_cagegory(category):\n",
    "    params = { 'action' : 'query',\n",
    "               'format' : 'json',\n",
    "               'prop' : 'extracts',\n",
    "               'exlimit' : 'maxl'\n",
    "             }\n",
    "    \n",
    "    params['titles'] = 'Category:'+quote(category)\n",
    "    \n",
    "    query_param_string = create_query_param_string(params)\n",
    "\n",
    "    response = get(base_url+query_param_string)\n",
    "    \n",
    "    try:\n",
    "        return parse_pages_from_json(response.json())\n",
    "    except:\n",
    "        return response\n",
    "\n",
    "# Get Page Headings for a Page    \n",
    "    def wikipedia_get_page_headings(title):\n",
    "    params = { 'action' : 'mobileview',\n",
    "               'format' : 'json',\n",
    "               'prop' : 'sections',\n",
    "               'sections' : 'all'\n",
    "             }\n",
    "    \n",
    "    params['page'] = quote(title)\n",
    "    \n",
    "    query_param_string = create_query_param_string(params)\n",
    "    \n",
    "    response = get(base_url+query_param_string)\n",
    "    \n",
    "    try:\n",
    "        return response.json() #parse_headings_from_json(response.json())\n",
    "    except:\n",
    "        return response"
   ]
  },
  {
   "cell_type": "code",
   "execution_count": null,
   "metadata": {
    "collapsed": true
   },
   "outputs": [],
   "source": []
  }
 ],
 "metadata": {
  "kernelspec": {
   "display_name": "Python [default]",
   "language": "python",
   "name": "python2"
  },
  "language_info": {
   "codemirror_mode": {
    "name": "ipython",
    "version": 2
   },
   "file_extension": ".py",
   "mimetype": "text/x-python",
   "name": "python",
   "nbconvert_exporter": "python",
   "pygments_lexer": "ipython2",
   "version": "2.7.12"
  }
 },
 "nbformat": 4,
 "nbformat_minor": 1
}
