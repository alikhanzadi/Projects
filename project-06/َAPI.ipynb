{
 "cells": [
  {
   "cell_type": "code",
   "execution_count": null,
   "metadata": {
    "collapsed": true
   },
   "outputs": [],
   "source": [
    "from requests import get\n",
    "from urllib import quote"
   ]
  },
  {
   "cell_type": "code",
   "execution_count": null,
   "metadata": {
    "collapsed": true
   },
   "outputs": [],
   "source": [
    "base_url = \"https://en.wikipedia.org/w/api.php\""
   ]
  },
  {
   "cell_type": "code",
   "execution_count": 2,
   "metadata": {
    "collapsed": false
   },
   "outputs": [
    {
     "ename": "NameError",
     "evalue": "name 'wikipedia_get_cagegory' is not defined",
     "output_type": "error",
     "traceback": [
      "\u001b[0;31m---------------------------------------------------------------------------\u001b[0m",
      "\u001b[0;31mNameError\u001b[0m                                 Traceback (most recent call last)",
      "\u001b[0;32m<ipython-input-2-e344c04e7565>\u001b[0m in \u001b[0;36m<module>\u001b[0;34m()\u001b[0m\n\u001b[0;32m----> 1\u001b[0;31m \u001b[0mwikipedia_get_cagegory\u001b[0m\u001b[1;33m(\u001b[0m\u001b[1;34m'Lunch'\u001b[0m\u001b[1;33m)\u001b[0m\u001b[1;33m\u001b[0m\u001b[0m\n\u001b[0m",
      "\u001b[0;31mNameError\u001b[0m: name 'wikipedia_get_cagegory' is not defined"
     ]
    }
   ],
   "source": [
    "wikipedia_get_cagegory('Lunch')"
   ]
  },
  {
   "cell_type": "code",
   "execution_count": null,
   "metadata": {
    "collapsed": true
   },
   "outputs": [],
   "source": []
  },
  {
   "cell_type": "code",
   "execution_count": null,
   "metadata": {
    "collapsed": true
   },
   "outputs": [],
   "source": []
  },
  {
   "cell_type": "code",
   "execution_count": 3,
   "metadata": {
    "collapsed": false
   },
   "outputs": [
    {
     "ename": "IndentationError",
     "evalue": "expected an indented block (<ipython-input-3-e0169d01d5a5>, line 42)",
     "output_type": "error",
     "traceback": [
      "\u001b[0;36m  File \u001b[0;32m\"<ipython-input-3-e0169d01d5a5>\"\u001b[0;36m, line \u001b[0;32m42\u001b[0m\n\u001b[0;31m    params = { 'action' : 'mobileview',\u001b[0m\n\u001b[0m         ^\u001b[0m\n\u001b[0;31mIndentationError\u001b[0m\u001b[0;31m:\u001b[0m expected an indented block\n"
     ]
    }
   ],
   "source": [
    "# The first will format a python dictionary into a query string to be \n",
    "# attached to an API.\n",
    "def create_query_param_string(params):\n",
    "    param_list = [key+'='+str(value) for key, value in params.items()]\n",
    "    return '?'+'&'.join(param_list)\n",
    "\n",
    "# The second will reformat a page string for the Wikipedia format where \n",
    "# all strings are lowercase with underscores instead of spaces.\n",
    "def wikipedia_page_format(page):\n",
    "    return page.lower().capitalize().replace(' ','_')\n",
    "\n",
    "# These helper functions help us parse JSON responses to discard metadata \n",
    "# corresponding to the response.\n",
    "def parse_pages_from_json(response_json):\n",
    "    return response_json['query']['pages']\n",
    "def parse_headings_from_json(response_json):\n",
    "    return response_json['mobileview']['sections']\n",
    "def parse_category_pages_from_json(response_json):\n",
    "    return response.json()['query']['categorymembers']\n",
    "\n",
    "# Get Pages for a Categoryح\n",
    "def wikipedia_get_cagegory(category):\n",
    "    params = { 'action' : 'query',\n",
    "               'format' : 'json',\n",
    "               'prop' : 'extracts',\n",
    "               'exlimit' : 'maxl'\n",
    "             }\n",
    "    \n",
    "    params['titles'] = 'Category:'+quote(category)\n",
    "    \n",
    "    query_param_string = create_query_param_string(params)\n",
    "\n",
    "    response = get(base_url+query_param_string)\n",
    "    \n",
    "    try:\n",
    "        return parse_pages_from_json(response.json())\n",
    "    except:\n",
    "        return response\n",
    "\n",
    "# Get Page Headings for a Page    \n",
    "    def wikipedia_get_page_headings(title):\n",
    "    params = { 'action' : 'mobileview',\n",
    "               'format' : 'json',\n",
    "               'prop' : 'sections',\n",
    "               'sections' : 'all'\n",
    "             }\n",
    "    \n",
    "    params['page'] = quote(title)\n",
    "    \n",
    "    query_param_string = create_query_param_string(params)\n",
    "    \n",
    "    response = get(base_url+query_param_string)\n",
    "    \n",
    "    try:\n",
    "        return response.json() #parse_headings_from_json(response.json())\n",
    "    except:\n",
    "        return response"
   ]
  },
  {
   "cell_type": "code",
   "execution_count": null,
   "metadata": {
    "collapsed": true
   },
   "outputs": [],
   "source": []
  }
 ],
 "metadata": {
  "kernelspec": {
   "display_name": "Python [default]",
   "language": "python",
   "name": "python2"
  }
 },
 "nbformat": 4,
 "nbformat_minor": 1
}
