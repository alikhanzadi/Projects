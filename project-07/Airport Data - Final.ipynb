{
 "cells": [
  {
   "cell_type": "code",
   "execution_count": 1,
   "metadata": {
    "collapsed": true
   },
   "outputs": [],
   "source": [
    "import numpy as np\n",
    "import pandas as pd\n",
    "import re"
   ]
  },
  {
   "cell_type": "code",
   "execution_count": 2,
   "metadata": {
    "collapsed": true
   },
   "outputs": [],
   "source": [
    "Airports_file  = './assets/Airports.csv'\n",
    "Airports_facilities_file  = './assets/0-NfdcFacilities.xls.csv'\n",
    "Airports_runways_file = './assets/0-NfdcRunways.xls.csv'"
   ]
  },
  {
   "cell_type": "code",
   "execution_count": 3,
   "metadata": {
    "collapsed": false
   },
   "outputs": [
    {
     "name": "stderr",
     "output_type": "stream",
     "text": [
      "C:\\Users\\ali\\Anaconda2\\lib\\site-packages\\IPython\\core\\interactiveshell.py:2717: DtypeWarning: Columns (47,48,49) have mixed types. Specify dtype option on import or set low_memory=False.\n",
      "  interactivity=interactivity, compiler=compiler, result=result)\n"
     ]
    }
   ],
   "source": [
    "Airports_df = pd.read_csv(Airports_file)\n",
    "Airports_facilities_df = pd.read_csv(Airports_facilities_file)\n",
    "Airports_runways_df = pd.read_csv(Airports_runways_file)"
   ]
  },
  {
   "cell_type": "code",
   "execution_count": 4,
   "metadata": {
    "collapsed": false
   },
   "outputs": [
    {
     "data": {
      "text/html": [
       "<div>\n",
       "<table border=\"1\" class=\"dataframe\">\n",
       "  <thead>\n",
       "    <tr style=\"text-align: right;\">\n",
       "      <th></th>\n",
       "      <th>Key</th>\n",
       "      <th>LocID</th>\n",
       "      <th>AP_NAME</th>\n",
       "      <th>ALIAS</th>\n",
       "      <th>Facility Type</th>\n",
       "      <th>FAA REGION</th>\n",
       "      <th>COUNTY</th>\n",
       "      <th>CITY</th>\n",
       "      <th>STATE</th>\n",
       "      <th>AP Type</th>\n",
       "      <th>Latitude</th>\n",
       "      <th>Longitude</th>\n",
       "      <th>Boundary Data Available</th>\n",
       "    </tr>\n",
       "  </thead>\n",
       "  <tbody>\n",
       "    <tr>\n",
       "      <th>0</th>\n",
       "      <td>3443.0</td>\n",
       "      <td>STX</td>\n",
       "      <td>HENRY E ROHLSEN</td>\n",
       "      <td>Henry E Rohlsen Int'l Airport</td>\n",
       "      <td>Airport</td>\n",
       "      <td>ASO</td>\n",
       "      <td>-VIRGIN ISLANDS-</td>\n",
       "      <td>CHRISTIANSTED</td>\n",
       "      <td>VI</td>\n",
       "      <td>Public Use</td>\n",
       "      <td>17.701556</td>\n",
       "      <td>-64.801722</td>\n",
       "      <td>Yes</td>\n",
       "    </tr>\n",
       "  </tbody>\n",
       "</table>\n",
       "</div>"
      ],
      "text/plain": [
       "      Key LocID          AP_NAME                          ALIAS Facility Type  \\\n",
       "0  3443.0   STX  HENRY E ROHLSEN  Henry E Rohlsen Int'l Airport       Airport   \n",
       "\n",
       "  FAA REGION            COUNTY           CITY STATE     AP Type   Latitude  \\\n",
       "0        ASO  -VIRGIN ISLANDS-  CHRISTIANSTED    VI  Public Use  17.701556   \n",
       "\n",
       "   Longitude Boundary Data Available  \n",
       "0 -64.801722                     Yes  "
      ]
     },
     "execution_count": 4,
     "metadata": {},
     "output_type": "execute_result"
    }
   ],
   "source": [
    "Airports_df.head(1)"
   ]
  },
  {
   "cell_type": "code",
   "execution_count": 5,
   "metadata": {
    "collapsed": false
   },
   "outputs": [
    {
     "data": {
      "text/html": [
       "<div>\n",
       "<table border=\"1\" class=\"dataframe\">\n",
       "  <thead>\n",
       "    <tr style=\"text-align: right;\">\n",
       "      <th></th>\n",
       "      <th>﻿SiteNumber</th>\n",
       "      <th>Type</th>\n",
       "      <th>LocationID</th>\n",
       "      <th>EffectiveDate</th>\n",
       "      <th>Region</th>\n",
       "      <th>DistrictOffice</th>\n",
       "      <th>State</th>\n",
       "      <th>StateName</th>\n",
       "      <th>County</th>\n",
       "      <th>CountyState</th>\n",
       "      <th>...</th>\n",
       "      <th>AirportPositionSource</th>\n",
       "      <th>AirportPositionSourceDate</th>\n",
       "      <th>AirportElevationSource</th>\n",
       "      <th>AirportElevationSourceDate</th>\n",
       "      <th>ContractFuelAvailable</th>\n",
       "      <th>TransientStorage</th>\n",
       "      <th>OtherServices</th>\n",
       "      <th>WindIndicator</th>\n",
       "      <th>IcaoIdentifier</th>\n",
       "      <th>BeaconSchedule.1</th>\n",
       "    </tr>\n",
       "  </thead>\n",
       "  <tbody>\n",
       "    <tr>\n",
       "      <th>0</th>\n",
       "      <td>50009.*A</td>\n",
       "      <td>AIRPORT</td>\n",
       "      <td>'ADK</td>\n",
       "      <td>1/5/2017</td>\n",
       "      <td>AAL</td>\n",
       "      <td>NONE</td>\n",
       "      <td>AK</td>\n",
       "      <td>ALASKA</td>\n",
       "      <td>ALEUTIANS WEST</td>\n",
       "      <td>AK</td>\n",
       "      <td>...</td>\n",
       "      <td>3RD PARTY SURVEY</td>\n",
       "      <td>00:00.0</td>\n",
       "      <td>3RD PARTY SURVEY</td>\n",
       "      <td>00:00.0</td>\n",
       "      <td>NaN</td>\n",
       "      <td>HGR</td>\n",
       "      <td>CARGO</td>\n",
       "      <td>Y</td>\n",
       "      <td>PADK</td>\n",
       "      <td>SS-SR</td>\n",
       "    </tr>\n",
       "  </tbody>\n",
       "</table>\n",
       "<p>1 rows × 103 columns</p>\n",
       "</div>"
      ],
      "text/plain": [
       "  ﻿SiteNumber     Type LocationID EffectiveDate Region DistrictOffice State  \\\n",
       "0    50009.*A  AIRPORT       'ADK      1/5/2017    AAL           NONE    AK   \n",
       "\n",
       "  StateName          County CountyState       ...         \\\n",
       "0    ALASKA  ALEUTIANS WEST          AK       ...          \n",
       "\n",
       "  AirportPositionSource AirportPositionSourceDate AirportElevationSource  \\\n",
       "0      3RD PARTY SURVEY                   00:00.0       3RD PARTY SURVEY   \n",
       "\n",
       "  AirportElevationSourceDate ContractFuelAvailable TransientStorage  \\\n",
       "0                    00:00.0                   NaN              HGR   \n",
       "\n",
       "  OtherServices WindIndicator IcaoIdentifier BeaconSchedule.1  \n",
       "0         CARGO             Y           PADK            SS-SR  \n",
       "\n",
       "[1 rows x 103 columns]"
      ]
     },
     "execution_count": 5,
     "metadata": {},
     "output_type": "execute_result"
    }
   ],
   "source": [
    "Airports_facilities_df.head(1)"
   ]
  },
  {
   "cell_type": "code",
   "execution_count": 6,
   "metadata": {
    "collapsed": false
   },
   "outputs": [
    {
     "data": {
      "text/html": [
       "<div>\n",
       "<table border=\"1\" class=\"dataframe\">\n",
       "  <thead>\n",
       "    <tr style=\"text-align: right;\">\n",
       "      <th></th>\n",
       "      <th>﻿SiteNumber</th>\n",
       "      <th>State</th>\n",
       "      <th>RunwayID</th>\n",
       "      <th>RunwayLength</th>\n",
       "      <th>RunwayWidth</th>\n",
       "      <th>RunwaySurfaceTypeCondition</th>\n",
       "      <th>RunwaySurfaceTreatment</th>\n",
       "      <th>PavementClass</th>\n",
       "      <th>RunwayWeightBearingCapacitySW</th>\n",
       "      <th>RunwayWeightBearingCapacityDW</th>\n",
       "      <th>...</th>\n",
       "      <th>ReciprocalEndDisplacedThresholdPositionSource</th>\n",
       "      <th>ReciprocalEndDisplacedThresholdPositionSourceDate</th>\n",
       "      <th>ReciprocalEndDisplacedThresholdElevationSource</th>\n",
       "      <th>ReciprocalEndDisplacedThresholdElevationSourceDate</th>\n",
       "      <th>ReciprocalEndTouchdownZoneElevationSource</th>\n",
       "      <th>ReciprocalEndTouchdownZoneElevationSourceDate</th>\n",
       "      <th>ReciprocalEndTakeOffRunAvailableTORA</th>\n",
       "      <th>ReciprocalEndTakeOffDistanceAvailableTODA</th>\n",
       "      <th>ReciprocalEndAcltStopDistanceAvailableASDA</th>\n",
       "      <th>ReciprocalEndLandingDistanceAvailableLDA</th>\n",
       "    </tr>\n",
       "  </thead>\n",
       "  <tbody>\n",
       "    <tr>\n",
       "      <th>0</th>\n",
       "      <td>00103.*A</td>\n",
       "      <td>AL</td>\n",
       "      <td>'17/35</td>\n",
       "      <td>2900</td>\n",
       "      <td>80</td>\n",
       "      <td>ASPH-G</td>\n",
       "      <td>NaN</td>\n",
       "      <td>NaN</td>\n",
       "      <td>NaN</td>\n",
       "      <td>NaN</td>\n",
       "      <td>...</td>\n",
       "      <td>NaN</td>\n",
       "      <td>NaN</td>\n",
       "      <td>NaN</td>\n",
       "      <td>NaN</td>\n",
       "      <td>NaN</td>\n",
       "      <td>NaN</td>\n",
       "      <td>NaN</td>\n",
       "      <td>NaN</td>\n",
       "      <td>NaN</td>\n",
       "      <td>NaN</td>\n",
       "    </tr>\n",
       "  </tbody>\n",
       "</table>\n",
       "<p>1 rows × 115 columns</p>\n",
       "</div>"
      ],
      "text/plain": [
       "  ﻿SiteNumber State RunwayID  RunwayLength  RunwayWidth  \\\n",
       "0    00103.*A    AL   '17/35          2900           80   \n",
       "\n",
       "  RunwaySurfaceTypeCondition RunwaySurfaceTreatment PavementClass  \\\n",
       "0                     ASPH-G                    NaN           NaN   \n",
       "\n",
       "   RunwayWeightBearingCapacitySW  RunwayWeightBearingCapacityDW  \\\n",
       "0                            NaN                            NaN   \n",
       "\n",
       "                    ...                     \\\n",
       "0                   ...                      \n",
       "\n",
       "   ReciprocalEndDisplacedThresholdPositionSource  \\\n",
       "0                                            NaN   \n",
       "\n",
       "   ReciprocalEndDisplacedThresholdPositionSourceDate  \\\n",
       "0                                                NaN   \n",
       "\n",
       "  ReciprocalEndDisplacedThresholdElevationSource  \\\n",
       "0                                            NaN   \n",
       "\n",
       "  ReciprocalEndDisplacedThresholdElevationSourceDate  \\\n",
       "0                                                NaN   \n",
       "\n",
       "   ReciprocalEndTouchdownZoneElevationSource  \\\n",
       "0                                        NaN   \n",
       "\n",
       "  ReciprocalEndTouchdownZoneElevationSourceDate  \\\n",
       "0                                           NaN   \n",
       "\n",
       "  ReciprocalEndTakeOffRunAvailableTORA  \\\n",
       "0                                  NaN   \n",
       "\n",
       "  ReciprocalEndTakeOffDistanceAvailableTODA  \\\n",
       "0                                       NaN   \n",
       "\n",
       "  ReciprocalEndAcltStopDistanceAvailableASDA  \\\n",
       "0                                        NaN   \n",
       "\n",
       "  ReciprocalEndLandingDistanceAvailableLDA  \n",
       "0                                      NaN  \n",
       "\n",
       "[1 rows x 115 columns]"
      ]
     },
     "execution_count": 6,
     "metadata": {},
     "output_type": "execute_result"
    }
   ],
   "source": [
    "Airports_runways_df.head(1)"
   ]
  },
  {
   "cell_type": "code",
   "execution_count": 7,
   "metadata": {
    "collapsed": false
   },
   "outputs": [
    {
     "name": "stdout",
     "output_type": "stream",
     "text": [
      "(19554, 6) (23400, 6)\n"
     ]
    },
    {
     "name": "stderr",
     "output_type": "stream",
     "text": [
      "C:\\Users\\ali\\Anaconda2\\lib\\site-packages\\pandas\\core\\frame.py:2754: SettingWithCopyWarning: \n",
      "A value is trying to be set on a copy of a slice from a DataFrame\n",
      "\n",
      "See the caveats in the documentation: http://pandas.pydata.org/pandas-docs/stable/indexing.html#indexing-view-versus-copy\n",
      "  **kwargs)\n",
      "C:\\Users\\ali\\Anaconda2\\lib\\site-packages\\ipykernel\\__main__.py:6: FutureWarning: sort(columns=....) is deprecated, use sort_values(by=.....)\n",
      "C:\\Users\\ali\\Anaconda2\\lib\\site-packages\\ipykernel\\__main__.py:7: FutureWarning: sort(columns=....) is deprecated, use sort_values(by=.....)\n"
     ]
    }
   ],
   "source": [
    "airports_facilities_df = Airports_facilities_df[['﻿SiteNumber', 'Type', 'LocationID','Region','State','ARPElevation']]\n",
    "airports_runways_df = Airports_runways_df[['﻿SiteNumber', 'State', 'RunwayID', 'RunwayLength', 'RunwayWidth',\n",
    "       'RunwaySurfaceTypeCondition']]\n",
    "airports_facilities_df.rename(columns={'﻿SiteNumber':'SiteNumber'}, inplace=True)\n",
    "airports_runways_df.rename(columns={'﻿SiteNumber':'SiteNumber'}, inplace=True)\n",
    "airports_facilities_df.sort(columns='SiteNumber')\n",
    "airports_runways_df.sort(columns='SiteNumber')\n",
    "print airports_facilities_df.shape, airports_runways_df.shape"
   ]
  },
  {
   "cell_type": "code",
   "execution_count": 8,
   "metadata": {
    "collapsed": false
   },
   "outputs": [
    {
     "data": {
      "text/html": [
       "<div>\n",
       "<table border=\"1\" class=\"dataframe\">\n",
       "  <thead>\n",
       "    <tr style=\"text-align: right;\">\n",
       "      <th></th>\n",
       "      <th>SiteNumber</th>\n",
       "      <th>Type</th>\n",
       "      <th>LocationID</th>\n",
       "      <th>Region</th>\n",
       "      <th>State</th>\n",
       "      <th>ARPElevation</th>\n",
       "    </tr>\n",
       "  </thead>\n",
       "  <tbody>\n",
       "    <tr>\n",
       "      <th>0</th>\n",
       "      <td>50009.*A</td>\n",
       "      <td>AIRPORT</td>\n",
       "      <td>'ADK</td>\n",
       "      <td>AAL</td>\n",
       "      <td>AK</td>\n",
       "      <td>19</td>\n",
       "    </tr>\n",
       "    <tr>\n",
       "      <th>1</th>\n",
       "      <td>50016.1*A</td>\n",
       "      <td>AIRPORT</td>\n",
       "      <td>'AKK</td>\n",
       "      <td>AAL</td>\n",
       "      <td>AK</td>\n",
       "      <td>44</td>\n",
       "    </tr>\n",
       "  </tbody>\n",
       "</table>\n",
       "</div>"
      ],
      "text/plain": [
       "  SiteNumber     Type LocationID Region State  ARPElevation\n",
       "0   50009.*A  AIRPORT       'ADK    AAL    AK            19\n",
       "1  50016.1*A  AIRPORT       'AKK    AAL    AK            44"
      ]
     },
     "execution_count": 8,
     "metadata": {},
     "output_type": "execute_result"
    }
   ],
   "source": [
    "airports_facilities_df.head(2)"
   ]
  },
  {
   "cell_type": "code",
   "execution_count": 9,
   "metadata": {
    "collapsed": false
   },
   "outputs": [
    {
     "data": {
      "text/html": [
       "<div>\n",
       "<table border=\"1\" class=\"dataframe\">\n",
       "  <thead>\n",
       "    <tr style=\"text-align: right;\">\n",
       "      <th></th>\n",
       "      <th>SiteNumber</th>\n",
       "      <th>State</th>\n",
       "      <th>RunwayID</th>\n",
       "      <th>RunwayLength</th>\n",
       "      <th>RunwayWidth</th>\n",
       "      <th>RunwaySurfaceTypeCondition</th>\n",
       "    </tr>\n",
       "  </thead>\n",
       "  <tbody>\n",
       "    <tr>\n",
       "      <th>0</th>\n",
       "      <td>00103.*A</td>\n",
       "      <td>AL</td>\n",
       "      <td>'17/35</td>\n",
       "      <td>2900</td>\n",
       "      <td>80</td>\n",
       "      <td>ASPH-G</td>\n",
       "    </tr>\n",
       "    <tr>\n",
       "      <th>1</th>\n",
       "      <td>00106.*A</td>\n",
       "      <td>AL</td>\n",
       "      <td>'05/23</td>\n",
       "      <td>2644</td>\n",
       "      <td>112</td>\n",
       "      <td>TURF-G</td>\n",
       "    </tr>\n",
       "  </tbody>\n",
       "</table>\n",
       "</div>"
      ],
      "text/plain": [
       "  SiteNumber State RunwayID  RunwayLength  RunwayWidth  \\\n",
       "0   00103.*A    AL   '17/35          2900           80   \n",
       "1   00106.*A    AL   '05/23          2644          112   \n",
       "\n",
       "  RunwaySurfaceTypeCondition  \n",
       "0                     ASPH-G  \n",
       "1                     TURF-G  "
      ]
     },
     "execution_count": 9,
     "metadata": {},
     "output_type": "execute_result"
    }
   ],
   "source": [
    "airports_runways_df.head(2)"
   ]
  },
  {
   "cell_type": "code",
   "execution_count": 17,
   "metadata": {
    "collapsed": false,
    "scrolled": true
   },
   "outputs": [
    {
     "data": {
      "text/html": [
       "<div>\n",
       "<table border=\"1\" class=\"dataframe\">\n",
       "  <thead>\n",
       "    <tr style=\"text-align: right;\">\n",
       "      <th></th>\n",
       "      <th>SiteNumber</th>\n",
       "      <th>State_x</th>\n",
       "      <th>RunwayID</th>\n",
       "      <th>RunwayLength</th>\n",
       "      <th>RunwayWidth</th>\n",
       "      <th>RunwaySurfaceTypeCondition</th>\n",
       "      <th>Type</th>\n",
       "      <th>LocationID</th>\n",
       "      <th>Region</th>\n",
       "      <th>State_y</th>\n",
       "      <th>ARPElevation</th>\n",
       "    </tr>\n",
       "  </thead>\n",
       "  <tbody>\n",
       "    <tr>\n",
       "      <th>0</th>\n",
       "      <td>00103.*A</td>\n",
       "      <td>AL</td>\n",
       "      <td>'17/35</td>\n",
       "      <td>2900</td>\n",
       "      <td>80</td>\n",
       "      <td>ASPH-G</td>\n",
       "      <td>AIRPORT</td>\n",
       "      <td>'0J0</td>\n",
       "      <td>ASO</td>\n",
       "      <td>AL</td>\n",
       "      <td>469</td>\n",
       "    </tr>\n",
       "    <tr>\n",
       "      <th>1</th>\n",
       "      <td>00106.*A</td>\n",
       "      <td>AL</td>\n",
       "      <td>'05/23</td>\n",
       "      <td>2644</td>\n",
       "      <td>112</td>\n",
       "      <td>TURF-G</td>\n",
       "      <td>AIRPORT</td>\n",
       "      <td>'2A8</td>\n",
       "      <td>ASO</td>\n",
       "      <td>AL</td>\n",
       "      <td>786</td>\n",
       "    </tr>\n",
       "    <tr>\n",
       "      <th>2</th>\n",
       "      <td>00108.*A</td>\n",
       "      <td>AL</td>\n",
       "      <td>'01/19</td>\n",
       "      <td>2002</td>\n",
       "      <td>60</td>\n",
       "      <td>TURF-G</td>\n",
       "      <td>AIRPORT</td>\n",
       "      <td>'AL03</td>\n",
       "      <td>ASO</td>\n",
       "      <td>AL</td>\n",
       "      <td>369</td>\n",
       "    </tr>\n",
       "    <tr>\n",
       "      <th>3</th>\n",
       "      <td>00108.*A</td>\n",
       "      <td>AL</td>\n",
       "      <td>'07/25</td>\n",
       "      <td>1104</td>\n",
       "      <td>60</td>\n",
       "      <td>TURF-G</td>\n",
       "      <td>AIRPORT</td>\n",
       "      <td>'AL03</td>\n",
       "      <td>ASO</td>\n",
       "      <td>AL</td>\n",
       "      <td>369</td>\n",
       "    </tr>\n",
       "    <tr>\n",
       "      <th>4</th>\n",
       "      <td>00110.*A</td>\n",
       "      <td>AL</td>\n",
       "      <td>'16/34</td>\n",
       "      <td>5000</td>\n",
       "      <td>75</td>\n",
       "      <td>ASPH-G</td>\n",
       "      <td>AIRPORT</td>\n",
       "      <td>'EET</td>\n",
       "      <td>ASO</td>\n",
       "      <td>AL</td>\n",
       "      <td>585</td>\n",
       "    </tr>\n",
       "  </tbody>\n",
       "</table>\n",
       "</div>"
      ],
      "text/plain": [
       "  SiteNumber State_x RunwayID  RunwayLength  RunwayWidth  \\\n",
       "0   00103.*A      AL   '17/35          2900           80   \n",
       "1   00106.*A      AL   '05/23          2644          112   \n",
       "2   00108.*A      AL   '01/19          2002           60   \n",
       "3   00108.*A      AL   '07/25          1104           60   \n",
       "4   00110.*A      AL   '16/34          5000           75   \n",
       "\n",
       "  RunwaySurfaceTypeCondition     Type LocationID Region State_y  ARPElevation  \n",
       "0                     ASPH-G  AIRPORT       '0J0    ASO      AL           469  \n",
       "1                     TURF-G  AIRPORT       '2A8    ASO      AL           786  \n",
       "2                     TURF-G  AIRPORT      'AL03    ASO      AL           369  \n",
       "3                     TURF-G  AIRPORT      'AL03    ASO      AL           369  \n",
       "4                     ASPH-G  AIRPORT       'EET    ASO      AL           585  "
      ]
     },
     "execution_count": 17,
     "metadata": {},
     "output_type": "execute_result"
    }
   ],
   "source": [
    "airports_runway_elev_df_ = airports_runways_df.merge(airports_facilities_df,how='left', on='SiteNumber')\n",
    "airports_runway_elev_df_.to_csv('airports_runway_elev_df_.csv', sep=',')\n",
    "airports_runway_elev_df_.head()"
   ]
  },
  {
   "cell_type": "code",
   "execution_count": 18,
   "metadata": {
    "collapsed": false,
    "scrolled": true
   },
   "outputs": [
    {
     "data": {
      "text/html": [
       "<div>\n",
       "<table border=\"1\" class=\"dataframe\">\n",
       "  <thead>\n",
       "    <tr style=\"text-align: right;\">\n",
       "      <th></th>\n",
       "      <th>LocationID</th>\n",
       "      <th>ARPElevation</th>\n",
       "      <th>Runway_ct</th>\n",
       "    </tr>\n",
       "  </thead>\n",
       "  <tbody>\n",
       "    <tr>\n",
       "      <th>0</th>\n",
       "      <td>0J0</td>\n",
       "      <td>469</td>\n",
       "      <td>1</td>\n",
       "    </tr>\n",
       "    <tr>\n",
       "      <th>1</th>\n",
       "      <td>2A8</td>\n",
       "      <td>786</td>\n",
       "      <td>1</td>\n",
       "    </tr>\n",
       "  </tbody>\n",
       "</table>\n",
       "</div>"
      ],
      "text/plain": [
       "  LocationID  ARPElevation  Runway_ct\n",
       "0        0J0           469          1\n",
       "1        2A8           786          1"
      ]
     },
     "execution_count": 18,
     "metadata": {},
     "output_type": "execute_result"
    }
   ],
   "source": [
    "airports_runway_elev_df_ = airports_runways_df.merge(airports_facilities_df,how='left', on='SiteNumber')\n",
    "airports_runway_elev_df_ = airports_runway_elev_df_.drop(['State_x', 'State_y','SiteNumber','RunwayID', \n",
    "                                                      'RunwaySurfaceTypeCondition','RunwayLength',\n",
    "                                                     'RunwayWidth','Type','Region'],  axis=1)\n",
    "airports_runway_elev_df_['Runway_ct'] = 1\n",
    "airports_runway_elev_df_.LocationID = airports_runway_elev_df_.LocationID.str.replace(\"'\", '')\n",
    "airports_runway_elev_df_.head(2)"
   ]
  },
  {
   "cell_type": "code",
   "execution_count": 19,
   "metadata": {
    "collapsed": false,
    "scrolled": true
   },
   "outputs": [
    {
     "data": {
      "text/html": [
       "<div>\n",
       "<table border=\"1\" class=\"dataframe\">\n",
       "  <thead>\n",
       "    <tr style=\"text-align: right;\">\n",
       "      <th></th>\n",
       "      <th>LocationID</th>\n",
       "      <th>ARPElevation</th>\n",
       "      <th>Runway_ct</th>\n",
       "    </tr>\n",
       "  </thead>\n",
       "  <tbody>\n",
       "    <tr>\n",
       "      <th>12563</th>\n",
       "      <td>GFK</td>\n",
       "      <td>844</td>\n",
       "      <td>16</td>\n",
       "    </tr>\n",
       "    <tr>\n",
       "      <th>15395</th>\n",
       "      <td>NDZ</td>\n",
       "      <td>177</td>\n",
       "      <td>14</td>\n",
       "    </tr>\n",
       "    <tr>\n",
       "      <th>13768</th>\n",
       "      <td>LA64</td>\n",
       "      <td>2</td>\n",
       "      <td>11</td>\n",
       "    </tr>\n",
       "    <tr>\n",
       "      <th>13494</th>\n",
       "      <td>JRA</td>\n",
       "      <td>7</td>\n",
       "      <td>10</td>\n",
       "    </tr>\n",
       "    <tr>\n",
       "      <th>17436</th>\n",
       "      <td>SLN</td>\n",
       "      <td>1288</td>\n",
       "      <td>10</td>\n",
       "    </tr>\n",
       "    <tr>\n",
       "      <th>16497</th>\n",
       "      <td>ORD</td>\n",
       "      <td>680</td>\n",
       "      <td>9</td>\n",
       "    </tr>\n",
       "    <tr>\n",
       "      <th>13838</th>\n",
       "      <td>LGB</td>\n",
       "      <td>60</td>\n",
       "      <td>9</td>\n",
       "    </tr>\n",
       "    <tr>\n",
       "      <th>17682</th>\n",
       "      <td>TA12</td>\n",
       "      <td>10</td>\n",
       "      <td>8</td>\n",
       "    </tr>\n",
       "    <tr>\n",
       "      <th>17594</th>\n",
       "      <td>SXS</td>\n",
       "      <td>400</td>\n",
       "      <td>8</td>\n",
       "    </tr>\n",
       "    <tr>\n",
       "      <th>1992</th>\n",
       "      <td>1LA9</td>\n",
       "      <td>0</td>\n",
       "      <td>8</td>\n",
       "    </tr>\n",
       "  </tbody>\n",
       "</table>\n",
       "</div>"
      ],
      "text/plain": [
       "      LocationID  ARPElevation  Runway_ct\n",
       "12563        GFK           844         16\n",
       "15395        NDZ           177         14\n",
       "13768       LA64             2         11\n",
       "13494        JRA             7         10\n",
       "17436        SLN          1288         10\n",
       "16497        ORD           680          9\n",
       "13838        LGB            60          9\n",
       "17682       TA12            10          8\n",
       "17594        SXS           400          8\n",
       "1992        1LA9             0          8"
      ]
     },
     "execution_count": 19,
     "metadata": {},
     "output_type": "execute_result"
    }
   ],
   "source": [
    "airports_runway_elev_df = airports_runway_elev_df_.groupby(['LocationID','ARPElevation'],\n",
    "                                                           as_index=False)['Runway_ct'].count()\n",
    "airports_runway_elev_df = airports_runway_elev_df.sort_values('Runway_ct',axis=0,ascending=False)\n",
    "airports_runway_elev_df.head(10)"
   ]
  },
  {
   "cell_type": "markdown",
   "metadata": {},
   "source": [
    "* **There are many aiports that despite being a local (very small) airports have many runways. This is because these runways are mostly gravel and not suitable for large planes. These airports will be eliminated when the actual analysis starts since there is no data on them with regards to operations and delays.**"
   ]
  },
  {
   "cell_type": "code",
   "execution_count": 13,
   "metadata": {
    "collapsed": false
   },
   "outputs": [
    {
     "data": {
      "text/html": [
       "<div>\n",
       "<table border=\"1\" class=\"dataframe\">\n",
       "  <thead>\n",
       "    <tr style=\"text-align: right;\">\n",
       "      <th></th>\n",
       "      <th>LocationID</th>\n",
       "      <th>ARPElevation</th>\n",
       "      <th>Runway_ct</th>\n",
       "    </tr>\n",
       "  </thead>\n",
       "  <tbody>\n",
       "    <tr>\n",
       "      <th>13812</th>\n",
       "      <td>LAX</td>\n",
       "      <td>127</td>\n",
       "      <td>4</td>\n",
       "    </tr>\n",
       "  </tbody>\n",
       "</table>\n",
       "</div>"
      ],
      "text/plain": [
       "      LocationID  ARPElevation  Runway_ct\n",
       "13812        LAX           127          4"
      ]
     },
     "execution_count": 13,
     "metadata": {},
     "output_type": "execute_result"
    }
   ],
   "source": [
    "airports_runway_elev_df[airports_runway_elev_df['LocationID'] == 'LAX']"
   ]
  },
  {
   "cell_type": "code",
   "execution_count": 14,
   "metadata": {
    "collapsed": false
   },
   "outputs": [
    {
     "data": {
      "text/plain": [
       "((19554, 3), (5167, 13))"
      ]
     },
     "execution_count": 14,
     "metadata": {},
     "output_type": "execute_result"
    }
   ],
   "source": [
    "airports_runway_elev_df.shape, Airports_df.shape"
   ]
  },
  {
   "cell_type": "code",
   "execution_count": 15,
   "metadata": {
    "collapsed": false
   },
   "outputs": [
    {
     "data": {
      "text/html": [
       "<div>\n",
       "<table border=\"1\" class=\"dataframe\">\n",
       "  <thead>\n",
       "    <tr style=\"text-align: right;\">\n",
       "      <th></th>\n",
       "      <th>Key</th>\n",
       "      <th>LocID</th>\n",
       "      <th>AP_NAME</th>\n",
       "      <th>ALIAS</th>\n",
       "      <th>Facility Type</th>\n",
       "      <th>FAA REGION</th>\n",
       "      <th>COUNTY</th>\n",
       "      <th>CITY</th>\n",
       "      <th>STATE</th>\n",
       "      <th>AP Type</th>\n",
       "      <th>Latitude</th>\n",
       "      <th>Longitude</th>\n",
       "      <th>Boundary Data Available</th>\n",
       "    </tr>\n",
       "  </thead>\n",
       "  <tbody>\n",
       "    <tr>\n",
       "      <th>0</th>\n",
       "      <td>3443.0</td>\n",
       "      <td>STX</td>\n",
       "      <td>HENRY E ROHLSEN</td>\n",
       "      <td>Henry E Rohlsen Int'l Airport</td>\n",
       "      <td>Airport</td>\n",
       "      <td>ASO</td>\n",
       "      <td>-VIRGIN ISLANDS-</td>\n",
       "      <td>CHRISTIANSTED</td>\n",
       "      <td>VI</td>\n",
       "      <td>Public Use</td>\n",
       "      <td>17.701556</td>\n",
       "      <td>-64.801722</td>\n",
       "      <td>Yes</td>\n",
       "    </tr>\n",
       "    <tr>\n",
       "      <th>1</th>\n",
       "      <td>5088.0</td>\n",
       "      <td>X64</td>\n",
       "      <td>PATILLAS</td>\n",
       "      <td>NaN</td>\n",
       "      <td>Airport</td>\n",
       "      <td>ASO</td>\n",
       "      <td>#NAME?</td>\n",
       "      <td>PATILLAS</td>\n",
       "      <td>PR</td>\n",
       "      <td>Public Use</td>\n",
       "      <td>17.982189</td>\n",
       "      <td>-66.019330</td>\n",
       "      <td>No</td>\n",
       "    </tr>\n",
       "    <tr>\n",
       "      <th>2</th>\n",
       "      <td>2886.0</td>\n",
       "      <td>PSE</td>\n",
       "      <td>MERCEDITA</td>\n",
       "      <td>Aeropuerto Mercedita</td>\n",
       "      <td>Airport</td>\n",
       "      <td>ASO</td>\n",
       "      <td>#NAME?</td>\n",
       "      <td>PONCE</td>\n",
       "      <td>PR</td>\n",
       "      <td>Public Use</td>\n",
       "      <td>18.008306</td>\n",
       "      <td>-66.563028</td>\n",
       "      <td>Yes</td>\n",
       "    </tr>\n",
       "    <tr>\n",
       "      <th>3</th>\n",
       "      <td>2879.0</td>\n",
       "      <td>VQS</td>\n",
       "      <td>ANTONIO RIVERA RODRIGUEZ</td>\n",
       "      <td>Aeropuerto Antonio Rivera Rodr�guez</td>\n",
       "      <td>Airport</td>\n",
       "      <td>ASO</td>\n",
       "      <td>#NAME?</td>\n",
       "      <td>ISLA DE VIEQUES</td>\n",
       "      <td>PR</td>\n",
       "      <td>Public Use</td>\n",
       "      <td>18.134811</td>\n",
       "      <td>-65.493617</td>\n",
       "      <td>Yes</td>\n",
       "    </tr>\n",
       "    <tr>\n",
       "      <th>4</th>\n",
       "      <td>2883.0</td>\n",
       "      <td>X63</td>\n",
       "      <td>HUMACAO</td>\n",
       "      <td>Aeropuerto Regional De Humacao</td>\n",
       "      <td>Airport</td>\n",
       "      <td>ASO</td>\n",
       "      <td>#NAME?</td>\n",
       "      <td>HUMACAO</td>\n",
       "      <td>PR</td>\n",
       "      <td>Public Use</td>\n",
       "      <td>18.138017</td>\n",
       "      <td>-65.800718</td>\n",
       "      <td>Yes</td>\n",
       "    </tr>\n",
       "  </tbody>\n",
       "</table>\n",
       "</div>"
      ],
      "text/plain": [
       "      Key LocID                   AP_NAME  \\\n",
       "0  3443.0   STX           HENRY E ROHLSEN   \n",
       "1  5088.0   X64                  PATILLAS   \n",
       "2  2886.0   PSE                 MERCEDITA   \n",
       "3  2879.0   VQS  ANTONIO RIVERA RODRIGUEZ   \n",
       "4  2883.0   X63                   HUMACAO   \n",
       "\n",
       "                                 ALIAS Facility Type FAA REGION  \\\n",
       "0        Henry E Rohlsen Int'l Airport       Airport        ASO   \n",
       "1                                  NaN       Airport        ASO   \n",
       "2                 Aeropuerto Mercedita       Airport        ASO   \n",
       "3  Aeropuerto Antonio Rivera Rodr�guez       Airport        ASO   \n",
       "4       Aeropuerto Regional De Humacao       Airport        ASO   \n",
       "\n",
       "             COUNTY             CITY STATE     AP Type   Latitude  Longitude  \\\n",
       "0  -VIRGIN ISLANDS-    CHRISTIANSTED    VI  Public Use  17.701556 -64.801722   \n",
       "1            #NAME?         PATILLAS    PR  Public Use  17.982189 -66.019330   \n",
       "2            #NAME?            PONCE    PR  Public Use  18.008306 -66.563028   \n",
       "3            #NAME?  ISLA DE VIEQUES    PR  Public Use  18.134811 -65.493617   \n",
       "4            #NAME?          HUMACAO    PR  Public Use  18.138017 -65.800718   \n",
       "\n",
       "  Boundary Data Available  \n",
       "0                     Yes  \n",
       "1                      No  \n",
       "2                     Yes  \n",
       "3                     Yes  \n",
       "4                     Yes  "
      ]
     },
     "execution_count": 15,
     "metadata": {},
     "output_type": "execute_result"
    }
   ],
   "source": [
    "Airports_df.head()"
   ]
  },
  {
   "cell_type": "code",
   "execution_count": 20,
   "metadata": {
    "collapsed": false
   },
   "outputs": [
    {
     "data": {
      "text/html": [
       "<div>\n",
       "<table border=\"1\" class=\"dataframe\">\n",
       "  <thead>\n",
       "    <tr style=\"text-align: right;\">\n",
       "      <th></th>\n",
       "      <th>LocID</th>\n",
       "      <th>ALIAS</th>\n",
       "      <th>Facility Type</th>\n",
       "      <th>FAA REGION</th>\n",
       "      <th>STATE</th>\n",
       "      <th>AP Type</th>\n",
       "      <th>Latitude</th>\n",
       "      <th>Longitude</th>\n",
       "      <th>ARPElevation</th>\n",
       "      <th>Runway_ct</th>\n",
       "    </tr>\n",
       "  </thead>\n",
       "  <tbody>\n",
       "    <tr>\n",
       "      <th>0</th>\n",
       "      <td>STX</td>\n",
       "      <td>Henry E Rohlsen Int'l Airport</td>\n",
       "      <td>Airport</td>\n",
       "      <td>ASO</td>\n",
       "      <td>VI</td>\n",
       "      <td>Public Use</td>\n",
       "      <td>17.701556</td>\n",
       "      <td>-64.801722</td>\n",
       "      <td>74.0</td>\n",
       "      <td>1.0</td>\n",
       "    </tr>\n",
       "    <tr>\n",
       "      <th>1</th>\n",
       "      <td>X64</td>\n",
       "      <td>NaN</td>\n",
       "      <td>Airport</td>\n",
       "      <td>ASO</td>\n",
       "      <td>PR</td>\n",
       "      <td>Public Use</td>\n",
       "      <td>17.982189</td>\n",
       "      <td>-66.019330</td>\n",
       "      <td>NaN</td>\n",
       "      <td>NaN</td>\n",
       "    </tr>\n",
       "    <tr>\n",
       "      <th>2</th>\n",
       "      <td>PSE</td>\n",
       "      <td>Aeropuerto Mercedita</td>\n",
       "      <td>Airport</td>\n",
       "      <td>ASO</td>\n",
       "      <td>PR</td>\n",
       "      <td>Public Use</td>\n",
       "      <td>18.008306</td>\n",
       "      <td>-66.563028</td>\n",
       "      <td>28.0</td>\n",
       "      <td>1.0</td>\n",
       "    </tr>\n",
       "    <tr>\n",
       "      <th>3</th>\n",
       "      <td>VQS</td>\n",
       "      <td>Aeropuerto Antonio Rivera Rodr�guez</td>\n",
       "      <td>Airport</td>\n",
       "      <td>ASO</td>\n",
       "      <td>PR</td>\n",
       "      <td>Public Use</td>\n",
       "      <td>18.134811</td>\n",
       "      <td>-65.493617</td>\n",
       "      <td>49.0</td>\n",
       "      <td>1.0</td>\n",
       "    </tr>\n",
       "    <tr>\n",
       "      <th>4</th>\n",
       "      <td>X63</td>\n",
       "      <td>Aeropuerto Regional De Humacao</td>\n",
       "      <td>Airport</td>\n",
       "      <td>ASO</td>\n",
       "      <td>PR</td>\n",
       "      <td>Public Use</td>\n",
       "      <td>18.138017</td>\n",
       "      <td>-65.800718</td>\n",
       "      <td>33.0</td>\n",
       "      <td>1.0</td>\n",
       "    </tr>\n",
       "  </tbody>\n",
       "</table>\n",
       "</div>"
      ],
      "text/plain": [
       "  LocID                                ALIAS Facility Type FAA REGION STATE  \\\n",
       "0   STX        Henry E Rohlsen Int'l Airport       Airport        ASO    VI   \n",
       "1   X64                                  NaN       Airport        ASO    PR   \n",
       "2   PSE                 Aeropuerto Mercedita       Airport        ASO    PR   \n",
       "3   VQS  Aeropuerto Antonio Rivera Rodr�guez       Airport        ASO    PR   \n",
       "4   X63       Aeropuerto Regional De Humacao       Airport        ASO    PR   \n",
       "\n",
       "      AP Type   Latitude  Longitude  ARPElevation  Runway_ct  \n",
       "0  Public Use  17.701556 -64.801722          74.0        1.0  \n",
       "1  Public Use  17.982189 -66.019330           NaN        NaN  \n",
       "2  Public Use  18.008306 -66.563028          28.0        1.0  \n",
       "3  Public Use  18.134811 -65.493617          49.0        1.0  \n",
       "4  Public Use  18.138017 -65.800718          33.0        1.0  "
      ]
     },
     "execution_count": 20,
     "metadata": {},
     "output_type": "execute_result"
    }
   ],
   "source": [
    "airports_df = Airports_df.merge(airports_runway_elev_df,\n",
    "                                         how='left', left_on='LocID',\n",
    "                                        right_on='LocationID')\n",
    "airports_df = airports_df.drop(['Key', 'AP_NAME','COUNTY', 'CITY', 'Boundary Data Available', 'LocationID'], axis=1)\n",
    "airports_df.head()"
   ]
  },
  {
   "cell_type": "code",
   "execution_count": 22,
   "metadata": {
    "collapsed": false
   },
   "outputs": [],
   "source": [
    "# airports_df.to_csv('Airports_final_df.csv', sep=',')"
   ]
  }
 ],
 "metadata": {
  "anaconda-cloud": {},
  "kernelspec": {
   "display_name": "Python [default]",
   "language": "python",
   "name": "python2"
  },
  "language_info": {
   "codemirror_mode": {
    "name": "ipython",
    "version": 2
   },
   "file_extension": ".py",
   "mimetype": "text/x-python",
   "name": "python",
   "nbconvert_exporter": "python",
   "pygments_lexer": "ipython2",
   "version": "2.7.12"
  }
 },
 "nbformat": 4,
 "nbformat_minor": 1
}
