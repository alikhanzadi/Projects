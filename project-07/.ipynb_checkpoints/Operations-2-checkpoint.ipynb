{
 "cells": [
  {
   "cell_type": "code",
   "execution_count": 1,
   "metadata": {
    "collapsed": true
   },
   "outputs": [],
   "source": [
    "import pandas as pd\n",
    "import numpy as np"
   ]
  },
  {
   "cell_type": "code",
   "execution_count": 2,
   "metadata": {
    "collapsed": false,
    "scrolled": false
   },
   "outputs": [
    {
     "name": "stdout",
     "output_type": "stream",
     "text": [
      "Airport_operations_df  : (841, 15)\n",
      "-----------------------------------------------------------\n",
      "Airport_operations_04_14_df  : (6623, 11)\n",
      "-----------------------------------------------------------\n",
      "Airport_passangers_04_14_df  : (1558, 21)\n",
      "-----------------------------------------------------------\n",
      "Airport_cargo_04_14_df  : (133, 22)\n"
     ]
    }
   ],
   "source": [
    "Airport_operations_04_14 = './assets/_ATADS - Airport Operations 2004-2015.csv'\n",
    "Airport_passangers_04_14 = './assets/_Passanger Boarding 2004-2014.csv'\n",
    "Airport_cargo_04_14 = './assets/_Cargo.csv'\n",
    "Airport_operations = './assets/Airport_operations.csv'\n",
    "\n",
    "Airport_operations_df = pd.read_csv(Airport_operations)\n",
    "Airport_operations_04_14_df = pd.read_csv(Airport_operations_04_14)\n",
    "Airport_passangers_04_14_df = pd.read_csv(Airport_passangers_04_14)\n",
    "Airport_cargo_04_14_df = pd.read_csv(Airport_cargo_04_14)\n",
    "\n",
    "\n",
    "print 'Airport_operations_df  :', Airport_operations_df.shape\n",
    "print '-----------------------------------------------------------'\n",
    "print 'Airport_operations_04_14_df  :', Airport_operations_04_14_df.shape\n",
    "print '-----------------------------------------------------------'\n",
    "print 'Airport_passangers_04_14_df  :', Airport_passangers_04_14_df.shape\n",
    "print '-----------------------------------------------------------'\n",
    "print 'Airport_cargo_04_14_df  :', Airport_cargo_04_14_df.shape"
   ]
  },
  {
   "cell_type": "markdown",
   "metadata": {},
   "source": [
    "-----------------------------------------------------------------------------------------------------------------------\n",
    "### *Airport Operations - Timing and Delays*"
   ]
  },
  {
   "cell_type": "code",
   "execution_count": 3,
   "metadata": {
    "collapsed": false
   },
   "outputs": [
    {
     "data": {
      "text/html": [
       "<div>\n",
       "<table border=\"1\" class=\"dataframe\">\n",
       "  <thead>\n",
       "    <tr style=\"text-align: right;\">\n",
       "      <th></th>\n",
       "      <th>airport</th>\n",
       "      <th>year</th>\n",
       "      <th>departures for metric computation</th>\n",
       "      <th>arrivals for metric computation</th>\n",
       "      <th>percent on-time gate departures</th>\n",
       "      <th>percent on-time airport departures</th>\n",
       "      <th>percent on-time gate arrivals</th>\n",
       "      <th>average_gate_departure_delay</th>\n",
       "      <th>average_taxi_out_time</th>\n",
       "      <th>average taxi out delay</th>\n",
       "      <th>average airport departure delay</th>\n",
       "      <th>average airborne delay</th>\n",
       "      <th>average taxi in delay</th>\n",
       "      <th>average block delay</th>\n",
       "      <th>average gate arrival delay</th>\n",
       "    </tr>\n",
       "  </thead>\n",
       "  <tbody>\n",
       "    <tr>\n",
       "      <th>0</th>\n",
       "      <td>ABQ</td>\n",
       "      <td>2004</td>\n",
       "      <td>53971</td>\n",
       "      <td>53818</td>\n",
       "      <td>0.8030</td>\n",
       "      <td>0.7809</td>\n",
       "      <td>0.7921</td>\n",
       "      <td>10.38</td>\n",
       "      <td>9.89</td>\n",
       "      <td>2.43</td>\n",
       "      <td>12.10</td>\n",
       "      <td>2.46</td>\n",
       "      <td>0.83</td>\n",
       "      <td>2.55</td>\n",
       "      <td>10.87</td>\n",
       "    </tr>\n",
       "    <tr>\n",
       "      <th>1</th>\n",
       "      <td>ABQ</td>\n",
       "      <td>2005</td>\n",
       "      <td>51829</td>\n",
       "      <td>51877</td>\n",
       "      <td>0.8140</td>\n",
       "      <td>0.7922</td>\n",
       "      <td>0.8001</td>\n",
       "      <td>9.60</td>\n",
       "      <td>9.79</td>\n",
       "      <td>2.29</td>\n",
       "      <td>11.20</td>\n",
       "      <td>2.26</td>\n",
       "      <td>0.89</td>\n",
       "      <td>2.34</td>\n",
       "      <td>10.24</td>\n",
       "    </tr>\n",
       "    <tr>\n",
       "      <th>2</th>\n",
       "      <td>ABQ</td>\n",
       "      <td>2006</td>\n",
       "      <td>49682</td>\n",
       "      <td>51199</td>\n",
       "      <td>0.7983</td>\n",
       "      <td>0.7756</td>\n",
       "      <td>0.7746</td>\n",
       "      <td>10.84</td>\n",
       "      <td>9.89</td>\n",
       "      <td>2.16</td>\n",
       "      <td>12.33</td>\n",
       "      <td>2.12</td>\n",
       "      <td>0.84</td>\n",
       "      <td>2.66</td>\n",
       "      <td>11.82</td>\n",
       "    </tr>\n",
       "    <tr>\n",
       "      <th>3</th>\n",
       "      <td>ABQ</td>\n",
       "      <td>2007</td>\n",
       "      <td>53255</td>\n",
       "      <td>53611</td>\n",
       "      <td>0.8005</td>\n",
       "      <td>0.7704</td>\n",
       "      <td>0.7647</td>\n",
       "      <td>11.29</td>\n",
       "      <td>10.34</td>\n",
       "      <td>2.40</td>\n",
       "      <td>12.95</td>\n",
       "      <td>2.19</td>\n",
       "      <td>1.29</td>\n",
       "      <td>3.06</td>\n",
       "      <td>12.71</td>\n",
       "    </tr>\n",
       "    <tr>\n",
       "      <th>4</th>\n",
       "      <td>ABQ</td>\n",
       "      <td>2008</td>\n",
       "      <td>49589</td>\n",
       "      <td>49512</td>\n",
       "      <td>0.8103</td>\n",
       "      <td>0.7844</td>\n",
       "      <td>0.7875</td>\n",
       "      <td>10.79</td>\n",
       "      <td>10.41</td>\n",
       "      <td>2.41</td>\n",
       "      <td>12.32</td>\n",
       "      <td>1.82</td>\n",
       "      <td>1.03</td>\n",
       "      <td>2.79</td>\n",
       "      <td>11.48</td>\n",
       "    </tr>\n",
       "  </tbody>\n",
       "</table>\n",
       "</div>"
      ],
      "text/plain": [
       "  airport  year  departures for metric computation  \\\n",
       "0     ABQ  2004                              53971   \n",
       "1     ABQ  2005                              51829   \n",
       "2     ABQ  2006                              49682   \n",
       "3     ABQ  2007                              53255   \n",
       "4     ABQ  2008                              49589   \n",
       "\n",
       "   arrivals for metric computation  percent on-time gate departures  \\\n",
       "0                            53818                           0.8030   \n",
       "1                            51877                           0.8140   \n",
       "2                            51199                           0.7983   \n",
       "3                            53611                           0.8005   \n",
       "4                            49512                           0.8103   \n",
       "\n",
       "   percent on-time airport departures  percent on-time gate arrivals  \\\n",
       "0                              0.7809                         0.7921   \n",
       "1                              0.7922                         0.8001   \n",
       "2                              0.7756                         0.7746   \n",
       "3                              0.7704                         0.7647   \n",
       "4                              0.7844                         0.7875   \n",
       "\n",
       "   average_gate_departure_delay  average_taxi_out_time  \\\n",
       "0                         10.38                   9.89   \n",
       "1                          9.60                   9.79   \n",
       "2                         10.84                   9.89   \n",
       "3                         11.29                  10.34   \n",
       "4                         10.79                  10.41   \n",
       "\n",
       "   average taxi out delay  average airport departure delay  \\\n",
       "0                    2.43                            12.10   \n",
       "1                    2.29                            11.20   \n",
       "2                    2.16                            12.33   \n",
       "3                    2.40                            12.95   \n",
       "4                    2.41                            12.32   \n",
       "\n",
       "   average airborne delay  average taxi in delay  average block delay  \\\n",
       "0                    2.46                   0.83                 2.55   \n",
       "1                    2.26                   0.89                 2.34   \n",
       "2                    2.12                   0.84                 2.66   \n",
       "3                    2.19                   1.29                 3.06   \n",
       "4                    1.82                   1.03                 2.79   \n",
       "\n",
       "   average gate arrival delay  \n",
       "0                       10.87  \n",
       "1                       10.24  \n",
       "2                       11.82  \n",
       "3                       12.71  \n",
       "4                       11.48  "
      ]
     },
     "execution_count": 3,
     "metadata": {},
     "output_type": "execute_result"
    }
   ],
   "source": [
    "Airport_operations_df.head()"
   ]
  },
  {
   "cell_type": "code",
   "execution_count": 9,
   "metadata": {
    "collapsed": false
   },
   "outputs": [
    {
     "data": {
      "text/plain": [
       "77"
      ]
     },
     "execution_count": 9,
     "metadata": {},
     "output_type": "execute_result"
    }
   ],
   "source": [
    "len(Airport_operations_df.airport.unique())"
   ]
  },
  {
   "cell_type": "markdown",
   "metadata": {},
   "source": [
    "-----------------------------------------------------------------------------------------------------------------------\n",
    "### *Airport Operations - Count of Operations*"
   ]
  },
  {
   "cell_type": "markdown",
   "metadata": {},
   "source": [
    "Columns to be used from this dataframe will be Facility, Calander Year, Total Operations."
   ]
  },
  {
   "cell_type": "code",
   "execution_count": 4,
   "metadata": {
    "collapsed": false
   },
   "outputs": [
    {
     "data": {
      "text/html": [
       "<div>\n",
       "<table border=\"1\" class=\"dataframe\">\n",
       "  <thead>\n",
       "    <tr style=\"text-align: right;\">\n",
       "      <th></th>\n",
       "      <th>Facility</th>\n",
       "      <th>Calendar Year</th>\n",
       "      <th>Itinerant Air Carrier</th>\n",
       "      <th>Itinerant Air Taxi</th>\n",
       "      <th>Itinerant General Aviation</th>\n",
       "      <th>Itinerant Military</th>\n",
       "      <th>Itinerant Total</th>\n",
       "      <th>Local Civil</th>\n",
       "      <th>Local Military</th>\n",
       "      <th>Local Total</th>\n",
       "      <th>Total Operations</th>\n",
       "    </tr>\n",
       "  </thead>\n",
       "  <tbody>\n",
       "    <tr>\n",
       "      <th>0</th>\n",
       "      <td>ABE</td>\n",
       "      <td>2004.0</td>\n",
       "      <td>20,870</td>\n",
       "      <td>19,058</td>\n",
       "      <td>56,624</td>\n",
       "      <td>2,275</td>\n",
       "      <td>98,827</td>\n",
       "      <td>32,851</td>\n",
       "      <td>1,420</td>\n",
       "      <td>34,271</td>\n",
       "      <td>133,098</td>\n",
       "    </tr>\n",
       "    <tr>\n",
       "      <th>1</th>\n",
       "      <td>ABE</td>\n",
       "      <td>2005.0</td>\n",
       "      <td>19,965</td>\n",
       "      <td>18,056</td>\n",
       "      <td>50,654</td>\n",
       "      <td>1,738</td>\n",
       "      <td>90,413</td>\n",
       "      <td>34,789</td>\n",
       "      <td>1,030</td>\n",
       "      <td>35,819</td>\n",
       "      <td>126,232</td>\n",
       "    </tr>\n",
       "    <tr>\n",
       "      <th>2</th>\n",
       "      <td>ABE</td>\n",
       "      <td>2006.0</td>\n",
       "      <td>17,613</td>\n",
       "      <td>18,367</td>\n",
       "      <td>45,735</td>\n",
       "      <td>1,447</td>\n",
       "      <td>83,162</td>\n",
       "      <td>37,727</td>\n",
       "      <td>884</td>\n",
       "      <td>38,611</td>\n",
       "      <td>121,773</td>\n",
       "    </tr>\n",
       "    <tr>\n",
       "      <th>3</th>\n",
       "      <td>ABE</td>\n",
       "      <td>2007.0</td>\n",
       "      <td>16,668</td>\n",
       "      <td>13,732</td>\n",
       "      <td>44,171</td>\n",
       "      <td>933</td>\n",
       "      <td>75,504</td>\n",
       "      <td>44,589</td>\n",
       "      <td>472</td>\n",
       "      <td>45,061</td>\n",
       "      <td>120,565</td>\n",
       "    </tr>\n",
       "    <tr>\n",
       "      <th>4</th>\n",
       "      <td>ABE</td>\n",
       "      <td>2008.0</td>\n",
       "      <td>11,773</td>\n",
       "      <td>15,102</td>\n",
       "      <td>39,911</td>\n",
       "      <td>873</td>\n",
       "      <td>67,659</td>\n",
       "      <td>49,663</td>\n",
       "      <td>936</td>\n",
       "      <td>50,599</td>\n",
       "      <td>118,258</td>\n",
       "    </tr>\n",
       "  </tbody>\n",
       "</table>\n",
       "</div>"
      ],
      "text/plain": [
       "  Facility  Calendar Year Itinerant Air Carrier Itinerant Air Taxi  \\\n",
       "0      ABE         2004.0                20,870             19,058   \n",
       "1      ABE         2005.0                19,965             18,056   \n",
       "2      ABE         2006.0                17,613             18,367   \n",
       "3      ABE         2007.0                16,668             13,732   \n",
       "4      ABE         2008.0                11,773             15,102   \n",
       "\n",
       "  Itinerant General Aviation Itinerant Military Itinerant Total Local Civil  \\\n",
       "0                     56,624              2,275          98,827      32,851   \n",
       "1                     50,654              1,738          90,413      34,789   \n",
       "2                     45,735              1,447          83,162      37,727   \n",
       "3                     44,171                933          75,504      44,589   \n",
       "4                     39,911                873          67,659      49,663   \n",
       "\n",
       "  Local Military Local Total Total Operations  \n",
       "0          1,420      34,271          133,098  \n",
       "1          1,030      35,819          126,232  \n",
       "2            884      38,611          121,773  \n",
       "3            472      45,061          120,565  \n",
       "4            936      50,599          118,258  "
      ]
     },
     "execution_count": 4,
     "metadata": {},
     "output_type": "execute_result"
    }
   ],
   "source": [
    "airport_operations_04_14_df = Airport_operations_04_14_df\n",
    "airport_operations_04_14_df.head()"
   ]
  },
  {
   "cell_type": "code",
   "execution_count": 5,
   "metadata": {
    "collapsed": false
   },
   "outputs": [
    {
     "data": {
      "text/html": [
       "<div>\n",
       "<table border=\"1\" class=\"dataframe\">\n",
       "  <thead>\n",
       "    <tr style=\"text-align: right;\">\n",
       "      <th></th>\n",
       "      <th>Facility</th>\n",
       "      <th>Calendar Year</th>\n",
       "      <th>Itinerant Air Carrier</th>\n",
       "      <th>Itinerant Air Taxi</th>\n",
       "      <th>Itinerant General Aviation</th>\n",
       "      <th>Itinerant Military</th>\n",
       "      <th>Itinerant Total</th>\n",
       "      <th>Local Civil</th>\n",
       "      <th>Local Military</th>\n",
       "      <th>Local Total</th>\n",
       "      <th>Total Operations</th>\n",
       "    </tr>\n",
       "  </thead>\n",
       "  <tbody>\n",
       "    <tr>\n",
       "      <th>6618</th>\n",
       "      <td>Total:</td>\n",
       "      <td>NaN</td>\n",
       "      <td>158,292,057</td>\n",
       "      <td>120,671,735</td>\n",
       "      <td>193,964,980</td>\n",
       "      <td>15,878,587</td>\n",
       "      <td>488,807,359</td>\n",
       "      <td>154,240,281</td>\n",
       "      <td>15,776,251</td>\n",
       "      <td>170,016,532</td>\n",
       "      <td>658,823,891</td>\n",
       "    </tr>\n",
       "    <tr>\n",
       "      <th>6619</th>\n",
       "      <td>NaN</td>\n",
       "      <td>NaN</td>\n",
       "      <td>NaN</td>\n",
       "      <td>NaN</td>\n",
       "      <td>NaN</td>\n",
       "      <td>NaN</td>\n",
       "      <td>NaN</td>\n",
       "      <td>NaN</td>\n",
       "      <td>NaN</td>\n",
       "      <td>NaN</td>\n",
       "      <td>NaN</td>\n",
       "    </tr>\n",
       "    <tr>\n",
       "      <th>6620</th>\n",
       "      <td>Report created on Tue Feb 14 13:05:59 EST 2017</td>\n",
       "      <td>NaN</td>\n",
       "      <td>NaN</td>\n",
       "      <td>NaN</td>\n",
       "      <td>NaN</td>\n",
       "      <td>NaN</td>\n",
       "      <td>NaN</td>\n",
       "      <td>NaN</td>\n",
       "      <td>NaN</td>\n",
       "      <td>NaN</td>\n",
       "      <td>NaN</td>\n",
       "    </tr>\n",
       "    <tr>\n",
       "      <th>6621</th>\n",
       "      <td>Sources: Air Traffic Activity System (ATADS)</td>\n",
       "      <td>NaN</td>\n",
       "      <td>NaN</td>\n",
       "      <td>NaN</td>\n",
       "      <td>NaN</td>\n",
       "      <td>NaN</td>\n",
       "      <td>NaN</td>\n",
       "      <td>NaN</td>\n",
       "      <td>NaN</td>\n",
       "      <td>NaN</td>\n",
       "      <td>NaN</td>\n",
       "    </tr>\n",
       "    <tr>\n",
       "      <th>6622</th>\n",
       "      <td>Show data notices.</td>\n",
       "      <td>NaN</td>\n",
       "      <td>NaN</td>\n",
       "      <td>NaN</td>\n",
       "      <td>NaN</td>\n",
       "      <td>NaN</td>\n",
       "      <td>NaN</td>\n",
       "      <td>NaN</td>\n",
       "      <td>NaN</td>\n",
       "      <td>NaN</td>\n",
       "      <td>NaN</td>\n",
       "    </tr>\n",
       "  </tbody>\n",
       "</table>\n",
       "</div>"
      ],
      "text/plain": [
       "                                            Facility  Calendar Year  \\\n",
       "6618                                          Total:            NaN   \n",
       "6619                                             NaN            NaN   \n",
       "6620  Report created on Tue Feb 14 13:05:59 EST 2017            NaN   \n",
       "6621    Sources: Air Traffic Activity System (ATADS)            NaN   \n",
       "6622                              Show data notices.            NaN   \n",
       "\n",
       "     Itinerant Air Carrier Itinerant Air Taxi Itinerant General Aviation  \\\n",
       "6618           158,292,057        120,671,735                193,964,980   \n",
       "6619                   NaN                NaN                        NaN   \n",
       "6620                   NaN                NaN                        NaN   \n",
       "6621                   NaN                NaN                        NaN   \n",
       "6622                   NaN                NaN                        NaN   \n",
       "\n",
       "     Itinerant Military Itinerant Total  Local Civil Local Military  \\\n",
       "6618         15,878,587     488,807,359  154,240,281     15,776,251   \n",
       "6619                NaN             NaN          NaN            NaN   \n",
       "6620                NaN             NaN          NaN            NaN   \n",
       "6621                NaN             NaN          NaN            NaN   \n",
       "6622                NaN             NaN          NaN            NaN   \n",
       "\n",
       "      Local Total Total Operations  \n",
       "6618  170,016,532      658,823,891  \n",
       "6619          NaN              NaN  \n",
       "6620          NaN              NaN  \n",
       "6621          NaN              NaN  \n",
       "6622          NaN              NaN  "
      ]
     },
     "execution_count": 5,
     "metadata": {},
     "output_type": "execute_result"
    }
   ],
   "source": [
    "airport_operations_04_14_df.tail(5)"
   ]
  },
  {
   "cell_type": "code",
   "execution_count": 6,
   "metadata": {
    "collapsed": false,
    "scrolled": true
   },
   "outputs": [
    {
     "name": "stdout",
     "output_type": "stream",
     "text": [
      "(6618, 11)\n"
     ]
    }
   ],
   "source": [
    "airport_operations_04_14_df = airport_operations_04_14_df.drop([6618,6619,6620,6621,6622])\n",
    "print airport_operations_04_14_df.shape"
   ]
  },
  {
   "cell_type": "code",
   "execution_count": 7,
   "metadata": {
    "collapsed": false,
    "scrolled": true
   },
   "outputs": [
    {
     "name": "stdout",
     "output_type": "stream",
     "text": [
      "(6092, 11)\n"
     ]
    }
   ],
   "source": [
    "for i, cell in enumerate(airport_operations_04_14_df.Facility):\n",
    "    if 'Sub-Total' in cell:\n",
    "        airport_operations_04_14_df = airport_operations_04_14_df.drop(i)\n",
    "print airport_operations_04_14_df.shape"
   ]
  },
  {
   "cell_type": "code",
   "execution_count": 8,
   "metadata": {
    "collapsed": false
   },
   "outputs": [
    {
     "data": {
      "text/plain": [
       "526"
      ]
     },
     "execution_count": 8,
     "metadata": {},
     "output_type": "execute_result"
    }
   ],
   "source": [
    "len(airport_operations_04_14_df.Facility.unique())"
   ]
  },
  {
   "cell_type": "markdown",
   "metadata": {},
   "source": [
    "-----------------------------------------------------------------------------------------------------------------------\n",
    "### *Airport Operations - Number of Passangers per Year*"
   ]
  },
  {
   "cell_type": "code",
   "execution_count": 11,
   "metadata": {
    "collapsed": false
   },
   "outputs": [
    {
     "data": {
      "text/plain": [
       "Index([u'Rank', u'RO', u'ST', u'Locid', u'City', u'Airport Name', u'S/L',\n",
       "       u'Hub', u'04-14 Percentage', u'Total Enplanements',\n",
       "       u'CY 14 Enplanements', u'CY 13 Enplanements', u'CY 12 Enplanements',\n",
       "       u'CY 11 Enplanements', u'CY 10 Enplanements', u'CY 09 Boardings',\n",
       "       u'CY 08 Boardings', u'CY2007 Enplanements', u'CY 2006 Enplanements',\n",
       "       u'CY 05 Enplanements', u'CY 04 Enplanements'],\n",
       "      dtype='object')"
      ]
     },
     "execution_count": 11,
     "metadata": {},
     "output_type": "execute_result"
    }
   ],
   "source": [
    "Airport_passangers_04_14_df.columns"
   ]
  },
  {
   "cell_type": "code",
   "execution_count": 12,
   "metadata": {
    "collapsed": false,
    "scrolled": true
   },
   "outputs": [
    {
     "name": "stdout",
     "output_type": "stream",
     "text": [
      "(1558, 12)\n"
     ]
    },
    {
     "data": {
      "text/html": [
       "<div>\n",
       "<table border=\"1\" class=\"dataframe\">\n",
       "  <thead>\n",
       "    <tr style=\"text-align: right;\">\n",
       "      <th></th>\n",
       "      <th>Locid</th>\n",
       "      <th>14_Psngr</th>\n",
       "      <th>13_Psngr</th>\n",
       "      <th>12_Psngr</th>\n",
       "      <th>11_Psngr</th>\n",
       "      <th>10_Psngr</th>\n",
       "      <th>09_Psngr</th>\n",
       "      <th>08_Psngr</th>\n",
       "      <th>07_Psngr</th>\n",
       "      <th>06_Psngr</th>\n",
       "      <th>05_Psngr</th>\n",
       "      <th>04_Psngr</th>\n",
       "    </tr>\n",
       "  </thead>\n",
       "  <tbody>\n",
       "    <tr>\n",
       "      <th>0</th>\n",
       "      <td>ATL</td>\n",
       "      <td>46,604,273</td>\n",
       "      <td>45,308,407</td>\n",
       "      <td>45,798,928</td>\n",
       "      <td>44414121.0</td>\n",
       "      <td>43130585.0</td>\n",
       "      <td>42280868.0</td>\n",
       "      <td>43761280.0</td>\n",
       "      <td>43236665.0</td>\n",
       "      <td>41352038.0</td>\n",
       "      <td>42402653.0</td>\n",
       "      <td>41123857.0</td>\n",
       "    </tr>\n",
       "    <tr>\n",
       "      <th>1</th>\n",
       "      <td>LAX</td>\n",
       "      <td>34,314,197</td>\n",
       "      <td>32425892</td>\n",
       "      <td>31326268</td>\n",
       "      <td>30528737.0</td>\n",
       "      <td>28857755.0</td>\n",
       "      <td>27439897.0</td>\n",
       "      <td>28861477.0</td>\n",
       "      <td>30113985.0</td>\n",
       "      <td>29357327.0</td>\n",
       "      <td>29372272.0</td>\n",
       "      <td>28925341.0</td>\n",
       "    </tr>\n",
       "    <tr>\n",
       "      <th>2</th>\n",
       "      <td>ORD</td>\n",
       "      <td>33,843,426</td>\n",
       "      <td>32317835</td>\n",
       "      <td>32171795</td>\n",
       "      <td>31892301.0</td>\n",
       "      <td>32171831.0</td>\n",
       "      <td>31135732.0</td>\n",
       "      <td>33683991.0</td>\n",
       "      <td>36521585.0</td>\n",
       "      <td>36825097.0</td>\n",
       "      <td>36720005.0</td>\n",
       "      <td>36100147.0</td>\n",
       "    </tr>\n",
       "    <tr>\n",
       "      <th>3</th>\n",
       "      <td>DFW</td>\n",
       "      <td>30,804,567</td>\n",
       "      <td>29038128</td>\n",
       "      <td>28022904</td>\n",
       "      <td>27518358.0</td>\n",
       "      <td>27100656.0</td>\n",
       "      <td>26663984.0</td>\n",
       "      <td>27219285.0</td>\n",
       "      <td>28482417.0</td>\n",
       "      <td>28627749.0</td>\n",
       "      <td>28079147.0</td>\n",
       "      <td>28063035.0</td>\n",
       "    </tr>\n",
       "    <tr>\n",
       "      <th>4</th>\n",
       "      <td>JFK</td>\n",
       "      <td>26,244,928</td>\n",
       "      <td>25036358</td>\n",
       "      <td>24520981</td>\n",
       "      <td>23664832.0</td>\n",
       "      <td>22934047.0</td>\n",
       "      <td>22710272.0</td>\n",
       "      <td>23620948.0</td>\n",
       "      <td>23401351.0</td>\n",
       "      <td>21071501.0</td>\n",
       "      <td>20260359.0</td>\n",
       "      <td>18586863.0</td>\n",
       "    </tr>\n",
       "  </tbody>\n",
       "</table>\n",
       "</div>"
      ],
      "text/plain": [
       "  Locid    14_Psngr    13_Psngr    12_Psngr    11_Psngr    10_Psngr  \\\n",
       "0   ATL  46,604,273  45,308,407  45,798,928  44414121.0  43130585.0   \n",
       "1   LAX  34,314,197    32425892    31326268  30528737.0  28857755.0   \n",
       "2   ORD  33,843,426    32317835    32171795  31892301.0  32171831.0   \n",
       "3   DFW  30,804,567    29038128    28022904  27518358.0  27100656.0   \n",
       "4   JFK  26,244,928    25036358    24520981  23664832.0  22934047.0   \n",
       "\n",
       "     09_Psngr    08_Psngr    07_Psngr    06_Psngr    05_Psngr    04_Psngr  \n",
       "0  42280868.0  43761280.0  43236665.0  41352038.0  42402653.0  41123857.0  \n",
       "1  27439897.0  28861477.0  30113985.0  29357327.0  29372272.0  28925341.0  \n",
       "2  31135732.0  33683991.0  36521585.0  36825097.0  36720005.0  36100147.0  \n",
       "3  26663984.0  27219285.0  28482417.0  28627749.0  28079147.0  28063035.0  \n",
       "4  22710272.0  23620948.0  23401351.0  21071501.0  20260359.0  18586863.0  "
      ]
     },
     "execution_count": 12,
     "metadata": {},
     "output_type": "execute_result"
    }
   ],
   "source": [
    "airport_passangers_04_14_temp_df = Airport_passangers_04_14_df.drop(['Rank', 'RO', 'ST', 'City', 'Airport Name', 'S/L',\\\n",
    "                                                                    'Hub', '04-14 Percentage', 'Total Enplanements'],axis=1)\n",
    "airport_passangers_04_14_temp_df.columns = ['Locid', '14_Psngr', '13_Psngr', '12_Psngr', '11_Psngr', '10_Psngr', '09_Psngr',\\\n",
    "                                        '08_Psngr', '07_Psngr', '06_Psngr', '05_Psngr', '04_Psngr']\n",
    "print airport_passangers_04_14_temp_df.shape\n",
    "airport_passangers_04_14_temp_df.head()"
   ]
  },
  {
   "cell_type": "code",
   "execution_count": 13,
   "metadata": {
    "collapsed": false
   },
   "outputs": [],
   "source": [
    "# non_numeric_columns = ['14_Psngr','13_Psngr','122_Psngr']\n",
    "# for col in non_numeric_columns:\n",
    "#     for cell in airport_passangers_04_14_temp_df[col]:\n",
    "#         print cell, type(cell)\n",
    "#         float(cell)\n"
   ]
  },
  {
   "cell_type": "code",
   "execution_count": 111,
   "metadata": {
    "collapsed": false
   },
   "outputs": [
    {
     "name": "stdout",
     "output_type": "stream",
     "text": [
      "14_Psngr    46,604,273\n",
      "13_Psngr    45,308,407\n",
      "Name: 0, dtype: object\n"
     ]
    },
    {
     "data": {
      "text/plain": [
       "[14_Psngr    46,604,273\n",
       " 13_Psngr    45,308,407\n",
       " Name: 0, dtype: object, 14_Psngr     34,314,197\n",
       " 13_Psngr       32425892\n",
       " 12_Psngr       31326268\n",
       " 11_Psngr    3.05287e+07\n",
       " 10_Psngr    2.88578e+07\n",
       " 09_Psngr    2.74399e+07\n",
       " 08_Psngr    2.88615e+07\n",
       " 07_Psngr     3.0114e+07\n",
       " 06_Psngr    2.93573e+07\n",
       " 05_Psngr    2.93723e+07\n",
       " 04_Psngr    2.89253e+07\n",
       " Name: 1, dtype: object]"
      ]
     },
     "execution_count": 111,
     "metadata": {},
     "output_type": "execute_result"
    }
   ],
   "source": [
    "c=[]\n",
    "a = airport_passangers_04_14_temp_df.ix[0][1:][0:2]\n",
    "print a\n",
    "e = airport_passangers_04_14_temp_df.ix[1][1:]\n",
    "c.append(a)\n",
    "c.append(e)\n",
    "c"
   ]
  },
  {
   "cell_type": "code",
   "execution_count": 89,
   "metadata": {
    "collapsed": false
   },
   "outputs": [
    {
     "data": {
      "text/plain": [
       "[[14_Psngr     46,604,273\n",
       "  13_Psngr     45,308,407\n",
       "  12_Psngr     45,798,928\n",
       "  11_Psngr    4.44141e+07\n",
       "  10_Psngr    4.31306e+07\n",
       "  09_Psngr    4.22809e+07\n",
       "  08_Psngr    4.37613e+07\n",
       "  07_Psngr    4.32367e+07\n",
       "  06_Psngr     4.1352e+07\n",
       "  05_Psngr    4.24027e+07\n",
       "  04_Psngr    4.11239e+07\n",
       "  Name: 0, dtype: object], [14_Psngr     34,314,197\n",
       "  13_Psngr       32425892\n",
       "  12_Psngr       31326268\n",
       "  11_Psngr    3.05287e+07\n",
       "  10_Psngr    2.88578e+07\n",
       "  09_Psngr    2.74399e+07\n",
       "  08_Psngr    2.88615e+07\n",
       "  07_Psngr     3.0114e+07\n",
       "  06_Psngr    2.93573e+07\n",
       "  05_Psngr    2.93723e+07\n",
       "  04_Psngr    2.89253e+07\n",
       "  Name: 1, dtype: object]]"
      ]
     },
     "execution_count": 89,
     "metadata": {},
     "output_type": "execute_result"
    }
   ],
   "source": [
    "c=[]\n",
    "a = [airport_passangers_04_14_temp_df.ix[0][1:]]\n",
    "e = [airport_passangers_04_14_temp_df.ix[1][1:]]\n",
    "c.append(a)\n",
    "c.append(e)\n",
    "c"
   ]
  },
  {
   "cell_type": "code",
   "execution_count": 88,
   "metadata": {
    "collapsed": false
   },
   "outputs": [
    {
     "data": {
      "text/plain": [
       "[array(['46,604,273', '45,308,407', '45,798,928', 44414121.0, 43130585.0,\n",
       "        42280868.0, 43761280.0, 43236665.0, 41352038.0, 42402653.0,\n",
       "        41123857.0], dtype=object),\n",
       " array(['34,314,197', '32425892', '31326268', 30528737.0, 28857755.0,\n",
       "        27439897.0, 28861477.0, 30113985.0, 29357327.0, 29372272.0,\n",
       "        28925341.0], dtype=object)]"
      ]
     },
     "execution_count": 88,
     "metadata": {},
     "output_type": "execute_result"
    }
   ],
   "source": [
    "c=[]\n",
    "a = airport_passangers_04_14_temp_df.ix[0][1:].values\n",
    "e = airport_passangers_04_14_temp_df.ix[1][1:].values\n",
    "c.append(a)\n",
    "c.append(e)\n",
    "c"
   ]
  },
  {
   "cell_type": "code",
   "execution_count": 87,
   "metadata": {
    "collapsed": false
   },
   "outputs": [
    {
     "data": {
      "text/plain": [
       "array([['46,604,273', '45,308,407', '45,798,928', 44414121.0, 43130585.0,\n",
       "        42280868.0, 43761280.0, 43236665.0, 41352038.0, 42402653.0,\n",
       "        41123857.0],\n",
       "       ['34,314,197', '32425892', '31326268', 30528737.0, 28857755.0,\n",
       "        27439897.0, 28861477.0, 30113985.0, 29357327.0, 29372272.0,\n",
       "        28925341.0]], dtype=object)"
      ]
     },
     "execution_count": 87,
     "metadata": {},
     "output_type": "execute_result"
    }
   ],
   "source": [
    "a = airport_passangers_04_14_temp_df.ix[0][1:]\n",
    "e = airport_passangers_04_14_temp_df.ix[1][1:]\n",
    "df = np.array([a,e])\n",
    "df"
   ]
  },
  {
   "cell_type": "code",
   "execution_count": 81,
   "metadata": {
    "collapsed": false
   },
   "outputs": [
    {
     "data": {
      "text/plain": [
       "array(['46,604,273', '45,308,407', '45,798,928', 44414121.0, 43130585.0,\n",
       "       42280868.0, 43761280.0, 43236665.0, 41352038.0, 42402653.0,\n",
       "       41123857.0, '34,314,197', '32425892', '31326268', 30528737.0,\n",
       "       28857755.0, 27439897.0, 28861477.0, 30113985.0, 29357327.0,\n",
       "       29372272.0, 28925341.0], dtype=object)"
      ]
     },
     "execution_count": 81,
     "metadata": {},
     "output_type": "execute_result"
    }
   ],
   "source": [
    "a = airport_passangers_04_14_temp_df.ix[0][1:]\n",
    "e = airport_passangers_04_14_temp_df.ix[1][1:]\n",
    "u = np.concatenate((a,e))\n",
    "u"
   ]
  },
  {
   "cell_type": "code",
   "execution_count": 85,
   "metadata": {
    "collapsed": false
   },
   "outputs": [
    {
     "name": "stdout",
     "output_type": "stream",
     "text": [
      "[14_Psngr     46,604,273\n",
      "13_Psngr     45,308,407\n",
      "12_Psngr     45,798,928\n",
      "11_Psngr    4.44141e+07\n",
      "10_Psngr    4.31306e+07\n",
      "09_Psngr    4.22809e+07\n",
      "08_Psngr    4.37613e+07\n",
      "07_Psngr    4.32367e+07\n",
      "06_Psngr     4.1352e+07\n",
      "05_Psngr    4.24027e+07\n",
      "04_Psngr    4.11239e+07\n",
      "Name: 0, dtype: object]\n"
     ]
    },
    {
     "data": {
      "text/plain": [
       "([[14_Psngr     46,604,273\n",
       "   13_Psngr     45,308,407\n",
       "   12_Psngr     45,798,928\n",
       "   11_Psngr    4.44141e+07\n",
       "   10_Psngr    4.31306e+07\n",
       "   09_Psngr    4.22809e+07\n",
       "   08_Psngr    4.37613e+07\n",
       "   07_Psngr    4.32367e+07\n",
       "   06_Psngr     4.1352e+07\n",
       "   05_Psngr    4.24027e+07\n",
       "   04_Psngr    4.11239e+07\n",
       "   Name: 0, dtype: object], [14_Psngr     34,314,197\n",
       "   13_Psngr       32425892\n",
       "   12_Psngr       31326268\n",
       "   11_Psngr    3.05287e+07\n",
       "   10_Psngr    2.88578e+07\n",
       "   09_Psngr    2.74399e+07\n",
       "   08_Psngr    2.88615e+07\n",
       "   07_Psngr     3.0114e+07\n",
       "   06_Psngr    2.93573e+07\n",
       "   05_Psngr    2.93723e+07\n",
       "   04_Psngr    2.89253e+07\n",
       "   Name: 1, dtype: object]],\n",
       " ['ATL',\n",
       "  'ATL',\n",
       "  'ATL',\n",
       "  'ATL',\n",
       "  'ATL',\n",
       "  'ATL',\n",
       "  'ATL',\n",
       "  'ATL',\n",
       "  'ATL',\n",
       "  'ATL',\n",
       "  'ATL',\n",
       "  'LAX',\n",
       "  'LAX',\n",
       "  'LAX',\n",
       "  'LAX',\n",
       "  'LAX',\n",
       "  'LAX',\n",
       "  'LAX',\n",
       "  'LAX',\n",
       "  'LAX',\n",
       "  'LAX',\n",
       "  'LAX'])"
      ]
     },
     "execution_count": 85,
     "metadata": {},
     "output_type": "execute_result"
    }
   ],
   "source": [
    "c = []\n",
    "d = []\n",
    "a = [airport_passangers_04_14_temp_df.ix[0][1:]]\n",
    "b = [airport_passangers_04_14_temp_df.ix[0][0]]\n",
    "print a\n",
    "bb = b*11\n",
    "c.append(a)\n",
    "d = bb\n",
    "e = [airport_passangers_04_14_temp_df.ix[1][1:]]\n",
    "f = [airport_passangers_04_14_temp_df.ix[1][0]]\n",
    "ff = f*11\n",
    "c.append(e)\n",
    "d += ff\n",
    "c, d\n",
    "# df_ = pd.DataFrame(index=index, columns=columns)"
   ]
  },
  {
   "cell_type": "code",
   "execution_count": 52,
   "metadata": {
    "collapsed": false,
    "scrolled": true
   },
   "outputs": [
    {
     "data": {
      "text/plain": [
       "[['ali', 'ali', 'ali', 'ali', 'ali', 'ali', 'ali', 'ali', 'ali', 'ali'],\n",
       " ['gholam',\n",
       "  'gholam',\n",
       "  'gholam',\n",
       "  'gholam',\n",
       "  'gholam',\n",
       "  'gholam',\n",
       "  'gholam',\n",
       "  'gholam',\n",
       "  'gholam',\n",
       "  'gholam']]"
      ]
     },
     "execution_count": 52,
     "metadata": {},
     "output_type": "execute_result"
    }
   ],
   "source": [
    "bb = [str('ali')]*10\n",
    "ccc = ['gholam']*10\n",
    "ee = []\n",
    "bb, ccc\n",
    "# ee = bb + ccc\n",
    "ee.append(bb)\n",
    "ee.append(ccc)\n",
    "ee"
   ]
  },
  {
   "cell_type": "markdown",
   "metadata": {},
   "source": [
    "-----------------------------------------------------------------------------------------------------------------------\n",
    "### *Airport Operations - Cargo Landed (lbs)*"
   ]
  },
  {
   "cell_type": "code",
   "execution_count": 19,
   "metadata": {
    "collapsed": false
   },
   "outputs": [
    {
     "data": {
      "text/plain": [
       "Index([u'Rank', u'FAA Region', u'ADO', u'ST', u'Locid', u'Airport Name',\n",
       "       u'City', u'Service Level', u'Hub', u'2004-2014 Percentage',\n",
       "       u'2004-2014 (lbs)', u'2014 (lbs)', u'2013 (lbs)', u'2012 (lbs)',\n",
       "       u'2011 (lbs)', u'2010 (lbs)', u'2009 (lbs)', u'2008 (lbs)',\n",
       "       u'2007 (lbs)', u'2006 (lbs)', u'2005 (lbs)', u'2004 (lbs)'],\n",
       "      dtype='object')"
      ]
     },
     "execution_count": 19,
     "metadata": {},
     "output_type": "execute_result"
    }
   ],
   "source": [
    "Airport_cargo_04_14_df.columns"
   ]
  },
  {
   "cell_type": "code",
   "execution_count": 17,
   "metadata": {
    "collapsed": true
   },
   "outputs": [],
   "source": [
    "airport_cargo_04_14_df = Airport_cargo_04_14_df"
   ]
  },
  {
   "cell_type": "code",
   "execution_count": null,
   "metadata": {
    "collapsed": false,
    "scrolled": true
   },
   "outputs": [],
   "source": [
    "airport_cargo_04_14_df = Airport_cargo_04_14_df[['FAA Region', 'ST', 'Locid', 'City', 'Airport Name', 'Hub',\\\n",
    "                                                '2004-2014 Percentage', '2004-2014 (lbs)']]\n",
    "airport_cargo_04_14_df.rename(columns={'2004-2014 Percentage':'04-14 perc. cargo'}, inplace=True)\n",
    "airport_cargo_04_14_df = airport_cargo_04_14_df.drop(132)\n",
    "print airport_cargo_04_14_df.shape\n",
    "airport_cargo_04_14_df#.head(1)"
   ]
  },
  {
   "cell_type": "code",
   "execution_count": 18,
   "metadata": {
    "collapsed": false
   },
   "outputs": [
    {
     "data": {
      "text/plain": [
       "133"
      ]
     },
     "execution_count": 18,
     "metadata": {},
     "output_type": "execute_result"
    }
   ],
   "source": [
    "len(airport_cargo_04_14_df.Locid.unique())"
   ]
  },
  {
   "cell_type": "code",
   "execution_count": null,
   "metadata": {
    "collapsed": true
   },
   "outputs": [],
   "source": []
  },
  {
   "cell_type": "code",
   "execution_count": null,
   "metadata": {
    "collapsed": true
   },
   "outputs": [],
   "source": []
  },
  {
   "cell_type": "markdown",
   "metadata": {},
   "source": [
    "-----------------------------------------------------------------------------------------------------------------------\n",
    "### *Airport Operations - Passanger and Cargo (lbs) Ranking*"
   ]
  },
  {
   "cell_type": "code",
   "execution_count": 31,
   "metadata": {
    "collapsed": false,
    "scrolled": false
   },
   "outputs": [
    {
     "name": "stdout",
     "output_type": "stream",
     "text": [
      "(1557, 8)\n"
     ]
    },
    {
     "data": {
      "text/html": [
       "<div>\n",
       "<table border=\"1\" class=\"dataframe\">\n",
       "  <thead>\n",
       "    <tr style=\"text-align: right;\">\n",
       "      <th></th>\n",
       "      <th>FAA Region</th>\n",
       "      <th>ST</th>\n",
       "      <th>Locid</th>\n",
       "      <th>City</th>\n",
       "      <th>Airport Name</th>\n",
       "      <th>Hub</th>\n",
       "      <th>04-14 perc. enplanements</th>\n",
       "      <th>Total Enplanements</th>\n",
       "    </tr>\n",
       "  </thead>\n",
       "  <tbody>\n",
       "    <tr>\n",
       "      <th>0</th>\n",
       "      <td>SO</td>\n",
       "      <td>GA</td>\n",
       "      <td>ATL</td>\n",
       "      <td>Atlanta</td>\n",
       "      <td>Hartsfield - Jackson Atlanta International</td>\n",
       "      <td>L</td>\n",
       "      <td>6%</td>\n",
       "      <td>479,413,675</td>\n",
       "    </tr>\n",
       "  </tbody>\n",
       "</table>\n",
       "</div>"
      ],
      "text/plain": [
       "  FAA Region  ST Locid     City                                Airport Name  \\\n",
       "0         SO  GA   ATL  Atlanta  Hartsfield - Jackson Atlanta International   \n",
       "\n",
       "  Hub 04-14 perc. enplanements Total Enplanements  \n",
       "0   L                       6%        479,413,675  "
      ]
     },
     "execution_count": 31,
     "metadata": {},
     "output_type": "execute_result"
    }
   ],
   "source": [
    "airport_passangers_ranking_df = Airport_passangers_04_14_df[['RO', 'ST','Locid','City','Airport Name',\\\n",
    "                                                           'Hub','04-14 Percentage','Total Enplanements']]\n",
    "airport_passangers_ranking_df.rename(columns={'RO':'FAA Region',\\\n",
    "                                            '04-14 Percentage':'04-14 perc. enplanements'}, inplace=True)\n",
    "airport_passangers_ranking_df = airport_passangers_ranking_df.drop(1557,axis=0)\n",
    "print airport_passangers_ranking_df.shape\n",
    "airport_passangers_ranking_df.head(1)"
   ]
  },
  {
   "cell_type": "code",
   "execution_count": 33,
   "metadata": {
    "collapsed": false
   },
   "outputs": [
    {
     "data": {
      "text/plain": [
       "1557"
      ]
     },
     "execution_count": 33,
     "metadata": {},
     "output_type": "execute_result"
    }
   ],
   "source": [
    "len(airport_passangers_04_14_df.Locid.unique())"
   ]
  }
 ],
 "metadata": {
  "anaconda-cloud": {},
  "kernelspec": {
   "display_name": "Python [default]",
   "language": "python",
   "name": "python2"
  },
  "language_info": {
   "codemirror_mode": {
    "name": "ipython",
    "version": 2
   },
   "file_extension": ".py",
   "mimetype": "text/x-python",
   "name": "python",
   "nbconvert_exporter": "python",
   "pygments_lexer": "ipython2",
   "version": "2.7.12"
  }
 },
 "nbformat": 4,
 "nbformat_minor": 1
}
